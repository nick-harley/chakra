{
 "cells": [
  {
   "cell_type": "code",
   "execution_count": null,
   "metadata": {},
   "outputs": [],
   "source": [
    "push!(LOAD_PATH,\".\")"
   ]
  },
  {
   "cell_type": "code",
   "execution_count": null,
   "metadata": {},
   "outputs": [],
   "source": [
    "using Typeside, Chakra, PitchADT, MidiPitch, ChakraImp, MVS"
   ]
  },
  {
   "cell_type": "code",
   "execution_count": null,
   "metadata": {},
   "outputs": [],
   "source": [
    "o1 = setAtt(delimit(),:pitch,NoteNumber(60))\n",
    "o2 = setAtt(delimit(),:pitch,NoteNumber(62))\n",
    "o3 = setAtt(delimit(),:pitch,NoteNumber(68))\n",
    "o4 = setAtt(delimit(),:pitch,NoteNumber(60))\n",
    "o5 = setAtt(delimit(),:pitch,NoteNumber(62))\n",
    "o6 = setAtt(delimit(),:pitch,NoteNumber(70))"
   ]
  },
  {
   "cell_type": "code",
   "execution_count": null,
   "metadata": {},
   "outputs": [],
   "source": [
    "s = [o1,o2,o3,o4,o5,o6]"
   ]
  },
  {
   "cell_type": "code",
   "execution_count": null,
   "metadata": {},
   "outputs": [],
   "source": [
    "v = AtomicViewpoint(Pitch,:pitch)\n",
    "vp_type(v)\n",
    "vp_apply(v,s)"
   ]
  },
  {
   "cell_type": "code",
   "execution_count": null,
   "metadata": {},
   "outputs": [],
   "source": [
    "v2 = LinkedViewpoint(v,DelayedViewpoint(v,1))\n",
    "#vp_type(v2)\n",
    "vp_apply(v2,s)"
   ]
  },
  {
   "cell_type": "code",
   "execution_count": null,
   "metadata": {},
   "outputs": [],
   "source": [
    "v3 = DerivedViewpoint(PitchInterval,v2,PitchADT.diff)\n",
    "vp_type(v3)\n",
    "vp_apply(v3,s)"
   ]
  },
  {
   "cell_type": "code",
   "execution_count": null,
   "metadata": {},
   "outputs": [],
   "source": [
    "v4 = DerivedViewpoint(Pitch,v3,x->PitchADT.shift(x,NoteNumber(40)))\n",
    "vp_type(v4)\n",
    "vp_apply(v4,s)"
   ]
  },
  {
   "cell_type": "code",
   "execution_count": null,
   "metadata": {},
   "outputs": [],
   "source": [
    "seq_delay(s,1)"
   ]
  },
  {
   "cell_type": "code",
   "execution_count": null,
   "metadata": {},
   "outputs": [],
   "source": [
    "MVS.vp_map(v3,s)"
   ]
  }
 ],
 "metadata": {
  "kernelspec": {
   "display_name": "Julia 1.6.2",
   "language": "julia",
   "name": "julia-1.6"
  },
  "language_info": {
   "file_extension": ".jl",
   "mimetype": "application/julia",
   "name": "julia",
   "version": "1.6.2"
  }
 },
 "nbformat": 4,
 "nbformat_minor": 4
}
