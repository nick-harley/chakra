{
 "cells": [
  {
   "cell_type": "code",
   "execution_count": 1,
   "metadata": {},
   "outputs": [
    {
     "data": {
      "text/plain": [
       "4-element Vector{String}:\n",
       " \"@\"\n",
       " \"@v#.#\"\n",
       " \"@stdlib\"\n",
       " \".\""
      ]
     },
     "execution_count": 1,
     "metadata": {},
     "output_type": "execute_result"
    }
   ],
   "source": [
    "push!(LOAD_PATH,\".\")"
   ]
  },
  {
   "cell_type": "markdown",
   "metadata": {},
   "source": [
    "# Import CHAKRA (and an implementation)"
   ]
  },
  {
   "cell_type": "code",
   "execution_count": 2,
   "metadata": {
    "scrolled": false
   },
   "outputs": [
    {
     "name": "stderr",
     "output_type": "stream",
     "text": [
      "WARNING: using Chakra.get in module Main conflicts with an existing identifier.\n"
     ]
    }
   ],
   "source": [
    "using Chakra, ChakraImp"
   ]
  },
  {
   "cell_type": "markdown",
   "metadata": {},
   "source": [
    "# Define an attribute type\n",
    "The following defines a type pc of pitch classes and associates it an attribute name \":pc\""
   ]
  },
  {
   "cell_type": "code",
   "execution_count": 3,
   "metadata": {},
   "outputs": [],
   "source": [
    "abstract type PC end\n",
    "struct pc <: PC\n",
    "    val::Char\n",
    "end\n",
    "Chakra.@associatedType(:pc,PC)"
   ]
  },
  {
   "cell_type": "markdown",
   "metadata": {},
   "source": [
    "# Represent choral\n",
    "The following represents the first 10 notes of a bach choral as a sequence of constituents with pitch class attributes."
   ]
  },
  {
   "cell_type": "code",
   "execution_count": 4,
   "metadata": {},
   "outputs": [
    {
     "data": {
      "text/plain": [
       "10-element Vector{ChakraImp.Obj}:\n",
       " ChakraImp.Obj(ChakraImp.Id[], Dict{Symbol, Any}(:pc => pc('A')))\n",
       " ChakraImp.Obj(ChakraImp.Id[], Dict{Symbol, Any}(:pc => pc('B')))\n",
       " ChakraImp.Obj(ChakraImp.Id[], Dict{Symbol, Any}(:pc => pc('A')))\n",
       " ChakraImp.Obj(ChakraImp.Id[], Dict{Symbol, Any}(:pc => pc('G')))\n",
       " ChakraImp.Obj(ChakraImp.Id[], Dict{Symbol, Any}(:pc => pc('G')))\n",
       " ChakraImp.Obj(ChakraImp.Id[], Dict{Symbol, Any}(:pc => pc('A')))\n",
       " ChakraImp.Obj(ChakraImp.Id[], Dict{Symbol, Any}(:pc => pc('B')))\n",
       " ChakraImp.Obj(ChakraImp.Id[], Dict{Symbol, Any}(:pc => pc('D')))\n",
       " ChakraImp.Obj(ChakraImp.Id[], Dict{Symbol, Any}(:pc => pc('G')))\n",
       " ChakraImp.Obj(ChakraImp.Id[], Dict{Symbol, Any}(:pc => pc('G')))"
      ]
     },
     "execution_count": 4,
     "metadata": {},
     "output_type": "execute_result"
    }
   ],
   "source": [
    "e1 = set(delim(),:pc,pc('G'))\n",
    "e2 = set(delim(),:pc,pc('G'))\n",
    "e3 = set(delim(),:pc,pc('D'))\n",
    "e4 = set(delim(),:pc,pc('B'))\n",
    "e5 = set(delim(),:pc,pc('A'))\n",
    "e6 = set(delim(),:pc,pc('G'))\n",
    "e7 = set(delim(),:pc,pc('G'))\n",
    "e8 = set(delim(),:pc,pc('A'))\n",
    "e9 = set(delim(),:pc,pc('B'))\n",
    "e10 = set(delim(),:pc,pc('A'))\n",
    "choral = [e10,e9,e8,e7,e6,e5,e4,e3,e2,e1]"
   ]
  },
  {
   "cell_type": "markdown",
   "metadata": {},
   "source": [
    "# Define viewpoint\n",
    "The following defines an atomic viewpoint which projects out the pitch class of the last constituent of a sequence"
   ]
  },
  {
   "cell_type": "code",
   "execution_count": 5,
   "metadata": {},
   "outputs": [
    {
     "data": {
      "text/plain": [
       "AtomicViewpoint{PC}(pc, :pc)"
      ]
     },
     "execution_count": 5,
     "metadata": {},
     "output_type": "execute_result"
    }
   ],
   "source": [
    "using Viewpoints\n",
    "v = AtomicViewpoint(pc,:pc)"
   ]
  },
  {
   "cell_type": "markdown",
   "metadata": {},
   "source": [
    "### vp_type gives the type of values of the viewpoint:"
   ]
  },
  {
   "cell_type": "code",
   "execution_count": 6,
   "metadata": {},
   "outputs": [
    {
     "data": {
      "text/plain": [
       "PC"
      ]
     },
     "execution_count": 6,
     "metadata": {},
     "output_type": "execute_result"
    }
   ],
   "source": [
    "vp_type(v)"
   ]
  },
  {
   "cell_type": "markdown",
   "metadata": {},
   "source": [
    "### apply the viewpoint to a sequence as follows:"
   ]
  },
  {
   "cell_type": "code",
   "execution_count": 7,
   "metadata": {},
   "outputs": [
    {
     "data": {
      "text/plain": [
       "pc('A')"
      ]
     },
     "execution_count": 7,
     "metadata": {},
     "output_type": "execute_result"
    }
   ],
   "source": [
    "v(choral)"
   ]
  },
  {
   "cell_type": "markdown",
   "metadata": {},
   "source": [
    "### vp_map turns a sequence of constituents in to a sequence of viewpoint values:"
   ]
  },
  {
   "cell_type": "code",
   "execution_count": 8,
   "metadata": {},
   "outputs": [
    {
     "data": {
      "text/plain": [
       "10-element Vector{pc}:\n",
       " pc('A')\n",
       " pc('B')\n",
       " pc('A')\n",
       " pc('G')\n",
       " pc('G')\n",
       " pc('A')\n",
       " pc('B')\n",
       " pc('D')\n",
       " pc('G')\n",
       " pc('G')"
      ]
     },
     "execution_count": 8,
     "metadata": {},
     "output_type": "execute_result"
    }
   ],
   "source": [
    "vp_map(v,choral)"
   ]
  },
  {
   "cell_type": "markdown",
   "metadata": {},
   "source": [
    "### Viewpoints can be delayed, linked and derived by composition with arbitrary functions:"
   ]
  },
  {
   "cell_type": "code",
   "execution_count": 9,
   "metadata": {},
   "outputs": [
    {
     "data": {
      "text/plain": [
       "9-element Vector{Tuple{pc, pc}}:\n",
       " (pc('B'), pc('A'))\n",
       " (pc('A'), pc('B'))\n",
       " (pc('G'), pc('A'))\n",
       " (pc('G'), pc('G'))\n",
       " (pc('A'), pc('G'))\n",
       " (pc('B'), pc('A'))\n",
       " (pc('D'), pc('B'))\n",
       " (pc('G'), pc('D'))\n",
       " (pc('G'), pc('G'))"
      ]
     },
     "execution_count": 9,
     "metadata": {},
     "output_type": "execute_result"
    }
   ],
   "source": [
    "v2 = LinkedViewpoint(DelayedViewpoint(v,1),v)\n",
    "vp_map(v2,choral)"
   ]
  },
  {
   "cell_type": "markdown",
   "metadata": {},
   "source": [
    "# Create Model \n",
    "The following creates an HGramModel of the choral using the pitch class viewpoint. "
   ]
  },
  {
   "cell_type": "code",
   "execution_count": 10,
   "metadata": {},
   "outputs": [
    {
     "data": {
      "text/plain": [
       "HGramModel{pc, 5}(Dict{Vector{pc}, Int64}([pc('B'), pc('A'), pc('G'), pc('G'), pc('A')] => 1, [pc('G'), pc('A')] => 1, [pc('G'), pc('G'), pc('A'), pc('B'), pc('D')] => 1, [pc('A'), pc('B'), pc('A')] => 1, [pc('G')] => 4, [pc('G'), pc('A'), pc('B'), pc('D')] => 1, [pc('B'), pc('D'), pc('G'), pc('G')] => 1, [pc('G'), pc('A'), pc('B'), pc('D'), pc('G')] => 1, [pc('A'), pc('G')] => 1, [pc('G'), pc('G'), pc('A')] => 1…), Set(pc[pc('D'), pc('B'), pc('G'), pc('A')]))"
      ]
     },
     "execution_count": 10,
     "metadata": {},
     "output_type": "execute_result"
    }
   ],
   "source": [
    "using Models\n",
    "m = HGramModel{pc,5}(vp_map(v,choral))"
   ]
  },
  {
   "cell_type": "markdown",
   "metadata": {},
   "source": [
    "### The model elements is a set containing the pitch classes encountered: "
   ]
  },
  {
   "cell_type": "code",
   "execution_count": 11,
   "metadata": {},
   "outputs": [
    {
     "data": {
      "text/plain": [
       "Set{pc} with 4 elements:\n",
       "  pc('D')\n",
       "  pc('B')\n",
       "  pc('G')\n",
       "  pc('A')"
      ]
     },
     "execution_count": 11,
     "metadata": {},
     "output_type": "execute_result"
    }
   ],
   "source": [
    "m.elems"
   ]
  },
  {
   "cell_type": "markdown",
   "metadata": {},
   "source": [
    "### The model database maps sequences to their number of occurences:"
   ]
  },
  {
   "cell_type": "code",
   "execution_count": 12,
   "metadata": {},
   "outputs": [
    {
     "data": {
      "text/plain": [
       "Dict{Vector{pc}, Int64} with 32 entries:\n",
       "  [pc('B'), pc('A'), pc('G'), pc('G'), pc('A')] => 1\n",
       "  [pc('G'), pc('A')]                            => 1\n",
       "  [pc('G'), pc('G'), pc('A'), pc('B'), pc('D')] => 1\n",
       "  [pc('A'), pc('B'), pc('A')]                   => 1\n",
       "  [pc('G')]                                     => 4\n",
       "  [pc('G'), pc('A'), pc('B'), pc('D')]          => 1\n",
       "  [pc('B'), pc('D'), pc('G'), pc('G')]          => 1\n",
       "  [pc('G'), pc('A'), pc('B'), pc('D'), pc('G')] => 1\n",
       "  [pc('A'), pc('G')]                            => 1\n",
       "  [pc('G'), pc('G'), pc('A')]                   => 1\n",
       "  [pc('G'), pc('G'), pc('A'), pc('B')]          => 1\n",
       "  [pc('A'), pc('B')]                            => 2\n",
       "  [pc('A'), pc('B'), pc('D'), pc('G'), pc('G')] => 1\n",
       "  [pc('B'), pc('A'), pc('G'), pc('G')]          => 1\n",
       "  [pc('A'), pc('B'), pc('D')]                   => 1\n",
       "  [pc('D'), pc('G'), pc('G')]                   => 1\n",
       "  [pc('G'), pc('A'), pc('B')]                   => 1\n",
       "  [pc('B'), pc('D')]                            => 1\n",
       "  [pc('B'), pc('D'), pc('G')]                   => 1\n",
       "  [pc('B')]                                     => 2\n",
       "  [pc('D'), pc('G')]                            => 1\n",
       "  [pc('A'), pc('G'), pc('G')]                   => 1\n",
       "  [pc('A'), pc('G'), pc('G'), pc('A')]          => 1\n",
       "  [pc('A')]                                     => 3\n",
       "  [pc('A'), pc('B'), pc('A'), pc('G')]          => 1\n",
       "  ⋮                                             => ⋮"
      ]
     },
     "execution_count": 12,
     "metadata": {},
     "output_type": "execute_result"
    }
   ],
   "source": [
    "m.db"
   ]
  },
  {
   "cell_type": "markdown",
   "metadata": {},
   "source": [
    "# Maximum likelihood\n",
    "The function ml computes the maximum likelihood of an element occuring in a given contexts from the model."
   ]
  },
  {
   "cell_type": "code",
   "execution_count": 13,
   "metadata": {},
   "outputs": [
    {
     "data": {
      "text/plain": [
       "0.4"
      ]
     },
     "execution_count": 13,
     "metadata": {},
     "output_type": "execute_result"
    }
   ],
   "source": [
    "ml(pc('G'),m,m.elems)"
   ]
  },
  {
   "cell_type": "code",
   "execution_count": 14,
   "metadata": {},
   "outputs": [
    {
     "data": {
      "text/plain": [
       "0.0"
      ]
     },
     "execution_count": 14,
     "metadata": {},
     "output_type": "execute_result"
    }
   ],
   "source": [
    "ml(pc('E'),m,m.elems)"
   ]
  },
  {
   "cell_type": "code",
   "execution_count": 15,
   "metadata": {},
   "outputs": [
    {
     "data": {
      "text/plain": [
       "0.5"
      ]
     },
     "execution_count": 15,
     "metadata": {},
     "output_type": "execute_result"
    }
   ],
   "source": [
    "ml(pc('G'),[pc('G')],m,m.elems)"
   ]
  },
  {
   "cell_type": "code",
   "execution_count": 16,
   "metadata": {},
   "outputs": [
    {
     "data": {
      "text/plain": [
       "0.0"
      ]
     },
     "execution_count": 16,
     "metadata": {},
     "output_type": "execute_result"
    }
   ],
   "source": [
    "ml(pc('D'),[pc('B'),pc('A')],m,m.elems)"
   ]
  },
  {
   "cell_type": "markdown",
   "metadata": {},
   "source": [
    "# Smoothed Prediction\n",
    "\n",
    "The ppm function gives the probability of the symbol in a context from a given model and alphabet. The first two arguments specify the type of blending (backoff or interpolated) and the escape method (A, B, C, D or AX). \n",
    "\n",
    "## Backoff Smoothing"
   ]
  },
  {
   "cell_type": "code",
   "execution_count": 17,
   "metadata": {},
   "outputs": [
    {
     "data": {
      "text/plain": [
       "0.25"
      ]
     },
     "execution_count": 17,
     "metadata": {},
     "output_type": "execute_result"
    }
   ],
   "source": [
    "ppm(Backoff(),A(),pc('G'),[pc('G')],m,m.elems)"
   ]
  },
  {
   "cell_type": "code",
   "execution_count": 18,
   "metadata": {},
   "outputs": [
    {
     "data": {
      "text/plain": [
       "0.25"
      ]
     },
     "execution_count": 18,
     "metadata": {},
     "output_type": "execute_result"
    }
   ],
   "source": [
    "ppm(Backoff(),B(),pc('G'),[pc('G')],m,m.elems)"
   ]
  },
  {
   "cell_type": "code",
   "execution_count": 19,
   "metadata": {},
   "outputs": [
    {
     "data": {
      "text/plain": [
       "0.25"
      ]
     },
     "execution_count": 19,
     "metadata": {},
     "output_type": "execute_result"
    }
   ],
   "source": [
    "ppm(Backoff(),C(),pc('G'),[pc('G')],m,m.elems)"
   ]
  },
  {
   "cell_type": "code",
   "execution_count": 20,
   "metadata": {},
   "outputs": [
    {
     "data": {
      "text/plain": [
       "0.375"
      ]
     },
     "execution_count": 20,
     "metadata": {},
     "output_type": "execute_result"
    }
   ],
   "source": [
    "ppm(Backoff(),D(),pc('G'),[pc('G')],m,m.elems)"
   ]
  },
  {
   "cell_type": "code",
   "execution_count": 21,
   "metadata": {},
   "outputs": [
    {
     "data": {
      "text/plain": [
       "0.16666666666666666"
      ]
     },
     "execution_count": 21,
     "metadata": {},
     "output_type": "execute_result"
    }
   ],
   "source": [
    "ppm(Backoff(),AX(),pc('G'),[pc('G')],m,m.elems)"
   ]
  },
  {
   "cell_type": "markdown",
   "metadata": {},
   "source": [
    "## Interpolated Smoothing"
   ]
  },
  {
   "cell_type": "code",
   "execution_count": 22,
   "metadata": {
    "scrolled": false
   },
   "outputs": [
    {
     "data": {
      "text/plain": [
       "0.44"
      ]
     },
     "execution_count": 22,
     "metadata": {},
     "output_type": "execute_result"
    }
   ],
   "source": [
    "ppm(Interpolated(),A(),pc('G'),[pc('G')],m,m.elems)"
   ]
  },
  {
   "cell_type": "code",
   "execution_count": 23,
   "metadata": {
    "scrolled": true
   },
   "outputs": [
    {
     "data": {
      "text/plain": [
       "0.6"
      ]
     },
     "execution_count": 23,
     "metadata": {},
     "output_type": "execute_result"
    }
   ],
   "source": [
    "ppm(Interpolated(),B(),pc('G'),[pc('G')],m,m.elems)"
   ]
  },
  {
   "cell_type": "code",
   "execution_count": 24,
   "metadata": {
    "scrolled": true
   },
   "outputs": [
    {
     "data": {
      "text/plain": [
       "0.039999999999999994"
      ]
     },
     "execution_count": 24,
     "metadata": {},
     "output_type": "execute_result"
    }
   ],
   "source": [
    "ppm(Interpolated(),C(),pc('E'),[pc('G')],m,m.elems)"
   ]
  },
  {
   "cell_type": "code",
   "execution_count": 25,
   "metadata": {
    "scrolled": true
   },
   "outputs": [
    {
     "data": {
      "text/plain": [
       "0.5333333333333333"
      ]
     },
     "execution_count": 25,
     "metadata": {},
     "output_type": "execute_result"
    }
   ],
   "source": [
    "ppm(Interpolated(),D(),pc('G'),[pc('G')],m,m.elems)"
   ]
  },
  {
   "cell_type": "code",
   "execution_count": 26,
   "metadata": {
    "scrolled": true
   },
   "outputs": [
    {
     "data": {
      "text/plain": [
       "0.44"
      ]
     },
     "execution_count": 26,
     "metadata": {},
     "output_type": "execute_result"
    }
   ],
   "source": [
    "ppm(Interpolated(),AX(),pc('G'),[pc('G')],m,m.elems)"
   ]
  },
  {
   "cell_type": "markdown",
   "metadata": {},
   "source": [
    "# Entropy\n",
    "A Predictor contains all information required to make predictions: smoothing method, escape method, HGram model and alphabet. "
   ]
  },
  {
   "cell_type": "code",
   "execution_count": 27,
   "metadata": {},
   "outputs": [
    {
     "data": {
      "text/plain": [
       "Predictor{pc}(Backoff(), A(), HGramModel{pc, 5}(Dict{Vector{pc}, Int64}([pc('B'), pc('A'), pc('G'), pc('G'), pc('A')] => 1, [pc('G'), pc('A')] => 1, [pc('G'), pc('G'), pc('A'), pc('B'), pc('D')] => 1, [pc('A'), pc('B'), pc('A')] => 1, [pc('G')] => 4, [pc('G'), pc('A'), pc('B'), pc('D')] => 1, [pc('B'), pc('D'), pc('G'), pc('G')] => 1, [pc('G'), pc('A'), pc('B'), pc('D'), pc('G')] => 1, [pc('A'), pc('G')] => 1, [pc('G'), pc('G'), pc('A')] => 1…), Set(pc[pc('D'), pc('B'), pc('G'), pc('A')])), Set(pc[pc('D'), pc('B'), pc('G'), pc('A')]))"
      ]
     },
     "execution_count": 27,
     "metadata": {},
     "output_type": "execute_result"
    }
   ],
   "source": [
    "p = Predictor(Backoff(),A(),m,m.elems)"
   ]
  },
  {
   "cell_type": "markdown",
   "metadata": {},
   "source": [
    "A distribution contains a predictor and a context sequence. A distribution can be applied to an argument to obtain the probability. "
   ]
  },
  {
   "cell_type": "code",
   "execution_count": 28,
   "metadata": {},
   "outputs": [
    {
     "data": {
      "text/plain": [
       "0.25"
      ]
     },
     "execution_count": 28,
     "metadata": {},
     "output_type": "execute_result"
    }
   ],
   "source": [
    "d = Distribution(p,[pc('G')])\n",
    "d(pc('G'))"
   ]
  },
  {
   "cell_type": "markdown",
   "metadata": {},
   "source": [
    "The information content of a symbol in a given context is calculated from a distribution. "
   ]
  },
  {
   "cell_type": "code",
   "execution_count": 29,
   "metadata": {},
   "outputs": [
    {
     "data": {
      "text/plain": [
       "2.0"
      ]
     },
     "execution_count": 29,
     "metadata": {},
     "output_type": "execute_result"
    }
   ],
   "source": [
    "information_content(pc('G'),d)"
   ]
  },
  {
   "cell_type": "markdown",
   "metadata": {},
   "source": [
    "The entropy of a distribution is calculated as follows:"
   ]
  },
  {
   "cell_type": "code",
   "execution_count": 30,
   "metadata": {},
   "outputs": [
    {
     "data": {
      "text/plain": [
       "1.3537027664653143"
      ]
     },
     "execution_count": 30,
     "metadata": {},
     "output_type": "execute_result"
    }
   ],
   "source": [
    "entropy(d)"
   ]
  },
  {
   "cell_type": "code",
   "execution_count": 31,
   "metadata": {},
   "outputs": [
    {
     "data": {
      "text/plain": [
       "2.0"
      ]
     },
     "execution_count": 31,
     "metadata": {},
     "output_type": "execute_result"
    }
   ],
   "source": [
    "entropy_max(d)"
   ]
  },
  {
   "cell_type": "code",
   "execution_count": 32,
   "metadata": {},
   "outputs": [
    {
     "data": {
      "text/plain": [
       "0.32314861676734286"
      ]
     },
     "execution_count": 32,
     "metadata": {},
     "output_type": "execute_result"
    }
   ],
   "source": [
    "redundancy(d)"
   ]
  },
  {
   "cell_type": "markdown",
   "metadata": {},
   "source": [
    "# NEXT\n",
    "- Check the maths is correct. Brackets!\n",
    "- Should entropy divide by alphabet length?\n",
    "- Combining predictors\n",
    "- Combining distributions with different predictors."
   ]
  }
 ],
 "metadata": {
  "kernelspec": {
   "display_name": "Julia 1.6.2",
   "language": "julia",
   "name": "julia-1.6"
  },
  "language_info": {
   "file_extension": ".jl",
   "mimetype": "application/julia",
   "name": "julia",
   "version": "1.6.2"
  }
 },
 "nbformat": 4,
 "nbformat_minor": 4
}
