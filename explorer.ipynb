{
 "cells": [
  {
   "cell_type": "code",
   "execution_count": 1,
   "metadata": {},
   "outputs": [
    {
     "data": {
      "text/plain": [
       "4-element Vector{String}:\n",
       " \"@\"\n",
       " \"@v#.#\"\n",
       " \"@stdlib\"\n",
       " \".\""
      ]
     },
     "execution_count": 1,
     "metadata": {},
     "output_type": "execute_result"
    }
   ],
   "source": [
    "push!(LOAD_PATH,\".\")"
   ]
  },
  {
   "cell_type": "code",
   "execution_count": 2,
   "metadata": {},
   "outputs": [
    {
     "name": "stderr",
     "output_type": "stream",
     "text": [
      "┌ Info: Precompiling Typeside [top-level]\n",
      "└ @ Base loading.jl:1342\n",
      "┌ Info: Precompiling PitchADT [top-level]\n",
      "└ @ Base loading.jl:1342\n"
     ]
    },
    {
     "name": "stdout",
     "output_type": "stream",
     "text": [
      "# 3 methods for generic function \"Typ\":\n",
      "[1] Typ(::Val{:pitch}) in PitchADT at /Users/nick/Dropbox/mvr/Typeside.jl:23\n",
      "[2] Typ(::Val{:pint}) in PitchADT at /Users/nick/Dropbox/mvr/Typeside.jl:23\n",
      "[3] Typ(::Val{n} where n) in Typeside at /Users/nick/Dropbox/mvr/Typeside.jl:13\n"
     ]
    }
   ],
   "source": [
    "using Typeside\n",
    "using PitchADT"
   ]
  },
  {
   "cell_type": "code",
   "execution_count": null,
   "metadata": {},
   "outputs": [],
   "source": []
  }
 ],
 "metadata": {
  "kernelspec": {
   "display_name": "Julia 1.6.2",
   "language": "julia",
   "name": "julia-1.6"
  },
  "language_info": {
   "file_extension": ".jl",
   "mimetype": "application/julia",
   "name": "julia",
   "version": "1.6.2"
  }
 },
 "nbformat": 4,
 "nbformat_minor": 4
}
