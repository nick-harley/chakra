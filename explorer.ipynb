{
 "cells": [
  {
   "cell_type": "code",
   "execution_count": 1,
   "metadata": {},
   "outputs": [
    {
     "data": {
      "text/plain": [
       "4-element Vector{String}:\n",
       " \"@\"\n",
       " \"@v#.#\"\n",
       " \"@stdlib\"\n",
       " \".\""
      ]
     },
     "execution_count": 1,
     "metadata": {},
     "output_type": "execute_result"
    }
   ],
   "source": [
    "push!(LOAD_PATH,\".\")"
   ]
  },
  {
   "cell_type": "code",
   "execution_count": 2,
   "metadata": {
    "scrolled": false
   },
   "outputs": [
    {
     "name": "stderr",
     "output_type": "stream",
     "text": [
      "WARNING: using Chakra.get in module Main conflicts with an existing identifier.\n",
      "┌ Info: Precompiling Models [top-level]\n",
      "└ @ Base loading.jl:1342\n"
     ]
    }
   ],
   "source": [
    "using Typeside, Chakra, PitchADT, MidiPitch, ChakraImp, Viewpoints, Models"
   ]
  },
  {
   "cell_type": "code",
   "execution_count": 3,
   "metadata": {},
   "outputs": [
    {
     "data": {
      "text/plain": [
       "ChakraImp.Obj(ChakraImp.Id[], Dict{Symbol, Any}(:pitch => NoteNumber(70)))"
      ]
     },
     "execution_count": 3,
     "metadata": {},
     "output_type": "execute_result"
    }
   ],
   "source": [
    "o1 = set(delim(),:pitch,NoteNumber(60))\n",
    "o2 = set(delim(),:pitch,NoteNumber(62))\n",
    "o3 = set(delim(),:pitch,NoteNumber(68))\n",
    "o4 = set(delim(),:pitch,NoteNumber(60))\n",
    "o5 = set(delim(),:pitch,NoteNumber(62))\n",
    "o6 = set(delim(),:pitch,NoteNumber(70))"
   ]
  },
  {
   "cell_type": "code",
   "execution_count": 4,
   "metadata": {},
   "outputs": [
    {
     "data": {
      "text/plain": [
       "6-element Vector{ChakraImp.Obj}:\n",
       " ChakraImp.Obj(ChakraImp.Id[], Dict{Symbol, Any}(:pitch => NoteNumber(60)))\n",
       " ChakraImp.Obj(ChakraImp.Id[], Dict{Symbol, Any}(:pitch => NoteNumber(62)))\n",
       " ChakraImp.Obj(ChakraImp.Id[], Dict{Symbol, Any}(:pitch => NoteNumber(68)))\n",
       " ChakraImp.Obj(ChakraImp.Id[], Dict{Symbol, Any}(:pitch => NoteNumber(60)))\n",
       " ChakraImp.Obj(ChakraImp.Id[], Dict{Symbol, Any}(:pitch => NoteNumber(62)))\n",
       " ChakraImp.Obj(ChakraImp.Id[], Dict{Symbol, Any}(:pitch => NoteNumber(70)))"
      ]
     },
     "execution_count": 4,
     "metadata": {},
     "output_type": "execute_result"
    }
   ],
   "source": [
    "s = [o1,o2,o3,o4,o5,o6]"
   ]
  },
  {
   "cell_type": "code",
   "execution_count": 5,
   "metadata": {},
   "outputs": [
    {
     "data": {
      "text/plain": [
       "NoteNumber(60)"
      ]
     },
     "execution_count": 5,
     "metadata": {},
     "output_type": "execute_result"
    }
   ],
   "source": [
    "v = AtomicViewpoint(Pitch,:pitch)\n",
    "vp_type(v)\n",
    "vp_apply(v,s)"
   ]
  },
  {
   "cell_type": "code",
   "execution_count": 6,
   "metadata": {},
   "outputs": [
    {
     "data": {
      "text/plain": [
       "(NoteNumber(60), NoteNumber(62))"
      ]
     },
     "execution_count": 6,
     "metadata": {},
     "output_type": "execute_result"
    }
   ],
   "source": [
    "v2 = LinkedViewpoint(v,DelayedViewpoint(v,1))\n",
    "#vp_type(v2)\n",
    "vp_apply(v2,s)"
   ]
  },
  {
   "cell_type": "code",
   "execution_count": 7,
   "metadata": {},
   "outputs": [
    {
     "data": {
      "text/plain": [
       "NoteInterval(2)"
      ]
     },
     "execution_count": 7,
     "metadata": {},
     "output_type": "execute_result"
    }
   ],
   "source": [
    "v3 = DerivedViewpoint(PitchInterval,v2,PitchADT.diff)\n",
    "vp_type(v3)\n",
    "vp_apply(v3,s)"
   ]
  },
  {
   "cell_type": "code",
   "execution_count": 8,
   "metadata": {},
   "outputs": [
    {
     "data": {
      "text/plain": [
       "NoteNumber(42)"
      ]
     },
     "execution_count": 8,
     "metadata": {},
     "output_type": "execute_result"
    }
   ],
   "source": [
    "v4 = DerivedViewpoint(Pitch,v3,x->PitchADT.shift(x,NoteNumber(40)))\n",
    "vp_type(v4)\n",
    "vp_apply(v4,s)"
   ]
  },
  {
   "cell_type": "code",
   "execution_count": 9,
   "metadata": {},
   "outputs": [
    {
     "data": {
      "text/plain": [
       "Models.NGramModel{NoteNumber, 3}(Dict{Vector{NoteNumber}, Int64}([NoteNumber(68), NoteNumber(60), NoteNumber(62)] => 1, [NoteNumber(62), NoteNumber(68), NoteNumber(60)] => 1, [NoteNumber(60), NoteNumber(62), NoteNumber(70)] => 1, [NoteNumber(60), NoteNumber(62), NoteNumber(68)] => 1), Set(NoteNumber[NoteNumber(60), NoteNumber(62), NoteNumber(70), NoteNumber(68)]))"
      ]
     },
     "execution_count": 9,
     "metadata": {},
     "output_type": "execute_result"
    }
   ],
   "source": [
    "m = Models.NGramModel{NoteNumber,3}(vp_map(v,s))"
   ]
  },
  {
   "cell_type": "code",
   "execution_count": 10,
   "metadata": {},
   "outputs": [
    {
     "data": {
      "text/plain": [
       "1.0"
      ]
     },
     "execution_count": 10,
     "metadata": {},
     "output_type": "execute_result"
    }
   ],
   "source": [
    "Models.ml(Models.NGram{NoteNumber,3}(NoteNumber(68),[NoteNumber(60),NoteNumber(62)]),m)"
   ]
  },
  {
   "cell_type": "code",
   "execution_count": 11,
   "metadata": {},
   "outputs": [
    {
     "data": {
      "text/plain": [
       "Set{NoteNumber} with 4 elements:\n",
       "  NoteNumber(60)\n",
       "  NoteNumber(62)\n",
       "  NoteNumber(70)\n",
       "  NoteNumber(68)"
      ]
     },
     "execution_count": 11,
     "metadata": {},
     "output_type": "execute_result"
    }
   ],
   "source": [
    "m.elems"
   ]
  },
  {
   "cell_type": "code",
   "execution_count": 12,
   "metadata": {},
   "outputs": [
    {
     "data": {
      "text/plain": [
       "Dict{Vector{NoteNumber}, Int64} with 4 entries:\n",
       "  [NoteNumber(68), NoteNumber(60), NoteNumber(62)] => 1\n",
       "  [NoteNumber(62), NoteNumber(68), NoteNumber(60)] => 1\n",
       "  [NoteNumber(60), NoteNumber(62), NoteNumber(70)] => 1\n",
       "  [NoteNumber(60), NoteNumber(62), NoteNumber(68)] => 1"
      ]
     },
     "execution_count": 12,
     "metadata": {},
     "output_type": "execute_result"
    }
   ],
   "source": [
    "m.db"
   ]
  },
  {
   "cell_type": "code",
   "execution_count": 13,
   "metadata": {},
   "outputs": [
    {
     "data": {
      "text/plain": [
       "Models.HGramModel{pc, 3}(Dict{Vector{pc}, Int64}([pc('G'), pc('A')] => 1, [pc('A'), pc('B'), pc('A')] => 1, [pc('G')] => 4, [pc('A'), pc('G')] => 1, [pc('G'), pc('G'), pc('A')] => 1, [pc('A'), pc('B')] => 2, [pc('A'), pc('B'), pc('D')] => 1, [pc('D'), pc('G'), pc('G')] => 1, [pc('G'), pc('A'), pc('B')] => 1, [pc('B'), pc('D')] => 1…), Set(pc[pc('D'), pc('B'), pc('G'), pc('A')]))"
      ]
     },
     "execution_count": 13,
     "metadata": {},
     "output_type": "execute_result"
    }
   ],
   "source": [
    "struct pc <: Pitch\n",
    "    val::Char\n",
    "end\n",
    "Typeside.@associatedType(:pc,pc)\n",
    "pcv = AtomicViewpoint(pc,:pc)\n",
    "e1 = set(delim(),:pc,pc('G'))\n",
    "e2 = set(delim(),:pc,pc('G'))\n",
    "e3 = set(delim(),:pc,pc('D'))\n",
    "e4 = set(delim(),:pc,pc('B'))\n",
    "e5 = set(delim(),:pc,pc('A'))\n",
    "e6 = set(delim(),:pc,pc('G'))\n",
    "e7 = set(delim(),:pc,pc('G'))\n",
    "e8 = set(delim(),:pc,pc('A'))\n",
    "e9 = set(delim(),:pc,pc('B'))\n",
    "e10 = set(delim(),:pc,pc('A'))\n",
    "choral = [e10,e9,e8,e7,e6,e5,e4,e3,e2,e1]\n",
    "choral_model = Models.HGramModel{pc,3}(vp_map(pcv,choral))"
   ]
  },
  {
   "cell_type": "code",
   "execution_count": 14,
   "metadata": {},
   "outputs": [
    {
     "data": {
      "text/plain": [
       "0.0"
      ]
     },
     "execution_count": 14,
     "metadata": {},
     "output_type": "execute_result"
    }
   ],
   "source": [
    "Models.ml(Models.NGram{pc,1}(pc('E'),pc[]),choral_model)"
   ]
  },
  {
   "cell_type": "code",
   "execution_count": 15,
   "metadata": {},
   "outputs": [
    {
     "data": {
      "text/plain": [
       "0.25"
      ]
     },
     "execution_count": 15,
     "metadata": {},
     "output_type": "execute_result"
    }
   ],
   "source": [
    "Models.ppm(Models.NGram{pc,2}(pc('A'),[pc('E')]),choral_model)"
   ]
  },
  {
   "cell_type": "code",
   "execution_count": null,
   "metadata": {},
   "outputs": [],
   "source": []
  }
 ],
 "metadata": {
  "kernelspec": {
   "display_name": "Julia 1.6.2",
   "language": "julia",
   "name": "julia-1.6"
  },
  "language_info": {
   "file_extension": ".jl",
   "mimetype": "application/julia",
   "name": "julia",
   "version": "1.6.2"
  }
 },
 "nbformat": 4,
 "nbformat_minor": 4
}
