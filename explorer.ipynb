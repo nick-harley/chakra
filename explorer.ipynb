{
 "cells": [
  {
   "cell_type": "code",
   "execution_count": 1,
   "metadata": {},
   "outputs": [
    {
     "name": "stderr",
     "output_type": "stream",
     "text": [
      "\u001b[32m\u001b[1m    Updating\u001b[22m\u001b[39m registry at `~/.julia/registries/General`\n",
      "\u001b[32m\u001b[1m   Resolving\u001b[22m\u001b[39m package versions...\n",
      "\u001b[32m\u001b[1m  No Changes\u001b[22m\u001b[39m to `~/.julia/environments/v1.6/Project.toml`\n",
      "\u001b[32m\u001b[1m  No Changes\u001b[22m\u001b[39m to `~/.julia/environments/v1.6/Manifest.toml`\n"
     ]
    }
   ],
   "source": [
    "push!(LOAD_PATH,\".\")\n",
    "using Pkg\n",
    "Pkg.add(\"DataStructures\")"
   ]
  },
  {
   "cell_type": "code",
   "execution_count": 2,
   "metadata": {
    "scrolled": false
   },
   "outputs": [
    {
     "name": "stderr",
     "output_type": "stream",
     "text": [
      "WARNING: using Chakra.get in module Main conflicts with an existing identifier.\n"
     ]
    }
   ],
   "source": [
    "using Typeside, Chakra, PitchADT, MidiPitch, ChakraImp, Viewpoints, ContextModels"
   ]
  },
  {
   "cell_type": "code",
   "execution_count": 3,
   "metadata": {},
   "outputs": [
    {
     "data": {
      "text/plain": [
       "ChakraImp.Obj(ChakraImp.Id[], Dict{Symbol, Any}(:pitch => NoteNumber(70)))"
      ]
     },
     "execution_count": 3,
     "metadata": {},
     "output_type": "execute_result"
    }
   ],
   "source": [
    "o1 = set(delim(),:pitch,NoteNumber(60))\n",
    "o2 = set(delim(),:pitch,NoteNumber(62))\n",
    "o3 = set(delim(),:pitch,NoteNumber(68))\n",
    "o4 = set(delim(),:pitch,NoteNumber(60))\n",
    "o5 = set(delim(),:pitch,NoteNumber(62))\n",
    "o6 = set(delim(),:pitch,NoteNumber(70))"
   ]
  },
  {
   "cell_type": "code",
   "execution_count": 4,
   "metadata": {},
   "outputs": [
    {
     "data": {
      "text/plain": [
       "6-element Vector{ChakraImp.Obj}:\n",
       " ChakraImp.Obj(ChakraImp.Id[], Dict{Symbol, Any}(:pitch => NoteNumber(60)))\n",
       " ChakraImp.Obj(ChakraImp.Id[], Dict{Symbol, Any}(:pitch => NoteNumber(62)))\n",
       " ChakraImp.Obj(ChakraImp.Id[], Dict{Symbol, Any}(:pitch => NoteNumber(68)))\n",
       " ChakraImp.Obj(ChakraImp.Id[], Dict{Symbol, Any}(:pitch => NoteNumber(60)))\n",
       " ChakraImp.Obj(ChakraImp.Id[], Dict{Symbol, Any}(:pitch => NoteNumber(62)))\n",
       " ChakraImp.Obj(ChakraImp.Id[], Dict{Symbol, Any}(:pitch => NoteNumber(70)))"
      ]
     },
     "execution_count": 4,
     "metadata": {},
     "output_type": "execute_result"
    }
   ],
   "source": [
    "s = [o1,o2,o3,o4,o5,o6]"
   ]
  },
  {
   "cell_type": "code",
   "execution_count": 5,
   "metadata": {},
   "outputs": [
    {
     "data": {
      "text/plain": [
       "NoteNumber(60)"
      ]
     },
     "execution_count": 5,
     "metadata": {},
     "output_type": "execute_result"
    }
   ],
   "source": [
    "v = AtomicViewpoint(Pitch,:pitch)\n",
    "vp_type(v)\n",
    "vp_apply(v,s)"
   ]
  },
  {
   "cell_type": "code",
   "execution_count": 6,
   "metadata": {},
   "outputs": [
    {
     "data": {
      "text/plain": [
       "(NoteNumber(60), NoteNumber(62))"
      ]
     },
     "execution_count": 6,
     "metadata": {},
     "output_type": "execute_result"
    }
   ],
   "source": [
    "v2 = LinkedViewpoint(v,DelayedViewpoint(v,1))\n",
    "#vp_type(v2)\n",
    "vp_apply(v2,s)"
   ]
  },
  {
   "cell_type": "code",
   "execution_count": 7,
   "metadata": {},
   "outputs": [
    {
     "data": {
      "text/plain": [
       "NoteInterval(2)"
      ]
     },
     "execution_count": 7,
     "metadata": {},
     "output_type": "execute_result"
    }
   ],
   "source": [
    "v3 = DerivedViewpoint(PitchInterval,v2,PitchADT.diff)\n",
    "vp_type(v3)\n",
    "vp_apply(v3,s)"
   ]
  },
  {
   "cell_type": "code",
   "execution_count": 8,
   "metadata": {},
   "outputs": [
    {
     "data": {
      "text/plain": [
       "NoteNumber(42)"
      ]
     },
     "execution_count": 8,
     "metadata": {},
     "output_type": "execute_result"
    }
   ],
   "source": [
    "v4 = DerivedViewpoint(Pitch,v3,x->PitchADT.shift(x,NoteNumber(40)))\n",
    "vp_type(v4)\n",
    "vp_apply(v4,s)"
   ]
  },
  {
   "cell_type": "code",
   "execution_count": 9,
   "metadata": {},
   "outputs": [],
   "source": [
    "Base.isequal(x::ChakraImp.Obj,y::ChakraImp.Obj) = isequal(x.particles,y.particles) && isequal(x.attributes,y.attributes)\n",
    "#Base.isequal(x::Vector{Chakra.Obj},y::Vector{Chakra.Obj}) = length(x) == length(y) && all(xy -> isequal(xy[1],xy[2]),zip(x,y))\n",
    "Base.:(==)(x::Chakra.Obj,y::Chakra.Obj) = isequal(x,y)"
   ]
  },
  {
   "cell_type": "code",
   "execution_count": 11,
   "metadata": {},
   "outputs": [
    {
     "name": "stdout",
     "output_type": "stream",
     "text": [
      "1\n",
      "2\n",
      "3\n",
      "4\n"
     ]
    },
    {
     "data": {
      "text/plain": [
       "Dict{Vector{NoteInterval}, Int64} with 13 entries:\n",
       "  [NoteInterval(6)]                                                     => 1\n",
       "  [NoteInterval(2), NoteInterval(-8)]                                   => 1\n",
       "  [NoteInterval(6), NoteInterval(2)]                                    => 1\n",
       "  [NoteInterval(2), NoteInterval(-8), NoteInterval(6)]                  => 1\n",
       "  [NoteInterval(2)]                                                     => 2\n",
       "  [NoteInterval(-8)]                                                    => 1\n",
       "  [NoteInterval(8), NoteInterval(2), NoteInterval(-8)]                  => 1\n",
       "  [NoteInterval(-8), NoteInterval(6), NoteInterval(2)]                  => 1\n",
       "  [NoteInterval(8)]                                                     => 1\n",
       "  [NoteInterval(2), NoteInterval(-8), NoteInterval(6), NoteInterval(2)] => 1\n",
       "  [NoteInterval(8), NoteInterval(2), NoteInterval(-8), NoteInterval(6)] => 1\n",
       "  [NoteInterval(8), NoteInterval(2)]                                    => 1\n",
       "  [NoteInterval(-8), NoteInterval(6)]                                   => 1"
      ]
     },
     "execution_count": 11,
     "metadata": {},
     "output_type": "execute_result"
    }
   ],
   "source": [
    "ContextModels.construct_model(s,v3,3)"
   ]
  },
  {
   "cell_type": "code",
   "execution_count": null,
   "metadata": {},
   "outputs": [],
   "source": []
  }
 ],
 "metadata": {
  "kernelspec": {
   "display_name": "Julia 1.6.2",
   "language": "julia",
   "name": "julia-1.6"
  },
  "language_info": {
   "file_extension": ".jl",
   "mimetype": "application/julia",
   "name": "julia",
   "version": "1.6.2"
  }
 },
 "nbformat": 4,
 "nbformat_minor": 4
}
