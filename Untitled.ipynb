{
 "cells": [
  {
   "cell_type": "code",
   "execution_count": 1,
   "metadata": {},
   "outputs": [
    {
     "data": {
      "text/plain": [
       "4-element Vector{String}:\n",
       " \"@\"\n",
       " \"@v#.#\"\n",
       " \"@stdlib\"\n",
       " \".\""
      ]
     },
     "execution_count": 1,
     "metadata": {},
     "output_type": "execute_result"
    }
   ],
   "source": [
    "push!(LOAD_PATH,\".\")"
   ]
  },
  {
   "cell_type": "code",
   "execution_count": 2,
   "metadata": {},
   "outputs": [],
   "source": [
    "using Chakra, Terms"
   ]
  },
  {
   "cell_type": "code",
   "execution_count": 3,
   "metadata": {},
   "outputs": [],
   "source": [
    "abstract type Prop end\n",
    "abstract type Proof end\n",
    "\n",
    "\n",
    "struct EQ <: Prop\n",
    "    left::Term\n",
    "    right::Term\n",
    "end\n",
    "\n",
    "struct REFL <: Proof\n",
    "    term::Term\n",
    "end\n",
    "\n",
    "\n",
    "abstract type ChakraProp <: Term end\n",
    "\n",
    "\n",
    "struct HasAtt{Id,a,T} <: ChakraProp\n",
    "    x::Id\n",
    "    att::Att{a,T}\n",
    "    value::T\n",
    "    function HasAtt(x::Id,a::Symbol,v::T) where {Id,T}\n",
    "        return new{Id,a,T}(x,Att(a),v)\n",
    "    end\n",
    "end\n",
    "\n",
    "struct HasPart{Id} <: ChakraProp\n",
    "    x::Id\n",
    "    y::Id\n",
    "    function HasPart(x::Id,y::Id) where Id\n",
    "        return new{Id}(x,y)\n",
    "    end\n",
    "end\n",
    "\n",
    "struct ChakraLift <: ChakraProp\n",
    "    prop::Prop\n",
    "end\n",
    "\n",
    "struct ChakraAnd <: ChakraProp \n",
    "    left::ChakraProp\n",
    "    right::ChakraProp\n",
    "end"
   ]
  },
  {
   "cell_type": "code",
   "execution_count": 9,
   "metadata": {},
   "outputs": [
    {
     "data": {
      "text/plain": [
       "Dict{Symbol, Int64} with 4 entries:\n",
       "  :a => 1\n",
       "  :b => 2\n",
       "  :d => 4\n",
       "  :c => 3"
      ]
     },
     "execution_count": 9,
     "metadata": {},
     "output_type": "execute_result"
    }
   ],
   "source": [
    "x = Dict{Symbol,Int}(:a=>1,:b=>2,:c=>3,:d=>4)"
   ]
  },
  {
   "cell_type": "code",
   "execution_count": 17,
   "metadata": {},
   "outputs": [
    {
     "data": {
      "text/plain": [
       "3-element Vector{Symbol}:\n",
       " :b\n",
       " :d\n",
       " :c"
      ]
     },
     "execution_count": 17,
     "metadata": {},
     "output_type": "execute_result"
    }
   ],
   "source": [
    "collect(keys(x))"
   ]
  },
  {
   "cell_type": "code",
   "execution_count": 13,
   "metadata": {},
   "outputs": [
    {
     "data": {
      "text/plain": [
       "Dict{Symbol, Int64} with 3 entries:\n",
       "  :b => 2\n",
       "  :d => 4\n",
       "  :c => 3"
      ]
     },
     "execution_count": 13,
     "metadata": {},
     "output_type": "execute_result"
    }
   ],
   "source": [
    "x"
   ]
  },
  {
   "cell_type": "code",
   "execution_count": null,
   "metadata": {},
   "outputs": [],
   "source": []
  }
 ],
 "metadata": {
  "kernelspec": {
   "display_name": "Julia 1.7.0",
   "language": "julia",
   "name": "julia-1.7"
  },
  "language_info": {
   "file_extension": ".jl",
   "mimetype": "application/julia",
   "name": "julia",
   "version": "1.7.3"
  }
 },
 "nbformat": 4,
 "nbformat_minor": 4
}
