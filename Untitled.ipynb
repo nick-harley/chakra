{
 "cells": [
  {
   "cell_type": "code",
   "execution_count": 1,
   "metadata": {},
   "outputs": [],
   "source": [
    "using CSV, DataFrames, Plots"
   ]
  },
  {
   "cell_type": "markdown",
   "metadata": {},
   "source": [
    "# Load Data"
   ]
  },
  {
   "cell_type": "code",
   "execution_count": 2,
   "metadata": {},
   "outputs": [
    {
     "data": {
      "text/html": [
       "<div class=\"data-frame\"><p>10 rows × 18 columns (omitted printing of 13 columns)</p><table class=\"data-frame\"><thead><tr><th></th><th>Spectrum 0 d real</th><th>Spectrum 0 d imag</th><th>Spectrum 0 w real</th><th>Spectrum 0 w imag</th><th>Spectrum 0 z real</th></tr><tr><th></th><th title=\"Float64\">Float64</th><th title=\"Float64\">Float64</th><th title=\"Float64\">Float64</th><th title=\"Float64\">Float64</th><th title=\"Float64\">Float64</th></tr></thead><tbody><tr><th>1</th><td>0.00608716</td><td>0.0180851</td><td>285.798</td><td>-31.6857</td><td>0.974249</td></tr><tr><th>2</th><td>0.00608716</td><td>-0.0180851</td><td>-285.798</td><td>-31.6857</td><td>0.974249</td></tr><tr><th>3</th><td>0.0253046</td><td>0.186834</td><td>304.746</td><td>-12.997</td><td>0.982011</td></tr><tr><th>4</th><td>0.0253046</td><td>-0.186834</td><td>-304.746</td><td>-12.997</td><td>0.982011</td></tr><tr><th>5</th><td>-0.000729847</td><td>-0.00116811</td><td>-357.872</td><td>39.4449</td><td>1.00363</td></tr><tr><th>6</th><td>-0.000729847</td><td>0.00116811</td><td>357.872</td><td>39.4449</td><td>1.00363</td></tr><tr><th>7</th><td>-0.0152214</td><td>-0.0519344</td><td>-338.94</td><td>20.7567</td><td>0.995957</td></tr><tr><th>8</th><td>-0.0152214</td><td>0.0519344</td><td>338.94</td><td>20.7567</td><td>0.995957</td></tr><tr><th>9</th><td>-0.0153295</td><td>-0.241991</td><td>-321.841</td><td>3.88263</td><td>0.988998</td></tr><tr><th>10</th><td>-0.0153295</td><td>0.241991</td><td>321.841</td><td>3.88263</td><td>0.988998</td></tr></tbody></table></div>"
      ],
      "text/latex": [
       "\\begin{tabular}{r|cccccc}\n",
       "\t& Spectrum 0 d real & Spectrum 0 d imag & Spectrum 0 w real & Spectrum 0 w imag & Spectrum 0 z real & \\\\\n",
       "\t\\hline\n",
       "\t& Float64 & Float64 & Float64 & Float64 & Float64 & \\\\\n",
       "\t\\hline\n",
       "\t1 & 0.00608716 & 0.0180851 & 285.798 & -31.6857 & 0.974249 & $\\dots$ \\\\\n",
       "\t2 & 0.00608716 & -0.0180851 & -285.798 & -31.6857 & 0.974249 & $\\dots$ \\\\\n",
       "\t3 & 0.0253046 & 0.186834 & 304.746 & -12.997 & 0.982011 & $\\dots$ \\\\\n",
       "\t4 & 0.0253046 & -0.186834 & -304.746 & -12.997 & 0.982011 & $\\dots$ \\\\\n",
       "\t5 & -0.000729847 & -0.00116811 & -357.872 & 39.4449 & 1.00363 & $\\dots$ \\\\\n",
       "\t6 & -0.000729847 & 0.00116811 & 357.872 & 39.4449 & 1.00363 & $\\dots$ \\\\\n",
       "\t7 & -0.0152214 & -0.0519344 & -338.94 & 20.7567 & 0.995957 & $\\dots$ \\\\\n",
       "\t8 & -0.0152214 & 0.0519344 & 338.94 & 20.7567 & 0.995957 & $\\dots$ \\\\\n",
       "\t9 & -0.0153295 & -0.241991 & -321.841 & 3.88263 & 0.988998 & $\\dots$ \\\\\n",
       "\t10 & -0.0153295 & 0.241991 & 321.841 & 3.88263 & 0.988998 & $\\dots$ \\\\\n",
       "\\end{tabular}\n"
      ],
      "text/plain": [
       "\u001b[1m10×18 DataFrame\u001b[0m\n",
       "\u001b[1m Row \u001b[0m│\u001b[1m Spectrum 0 d real \u001b[0m\u001b[1m Spectrum 0 d imag \u001b[0m\u001b[1m Spectrum 0 w real \u001b[0m\u001b[1m Spectrum 0 w i\u001b[0m ⋯\n",
       "\u001b[1m     \u001b[0m│\u001b[90m Float64           \u001b[0m\u001b[90m Float64           \u001b[0m\u001b[90m Float64           \u001b[0m\u001b[90m Float64       \u001b[0m ⋯\n",
       "─────┼──────────────────────────────────────────────────────────────────────────\n",
       "   1 │       0.00608716          0.0180851             285.798          -31.68 ⋯\n",
       "   2 │       0.00608716         -0.0180851            -285.798          -31.68\n",
       "   3 │       0.0253046           0.186834              304.746          -12.99\n",
       "   4 │       0.0253046          -0.186834             -304.746          -12.99\n",
       "   5 │      -0.000729847        -0.00116811           -357.872           39.44 ⋯\n",
       "   6 │      -0.000729847         0.00116811            357.872           39.44\n",
       "   7 │      -0.0152214          -0.0519344            -338.94            20.75\n",
       "   8 │      -0.0152214           0.0519344             338.94            20.75\n",
       "   9 │      -0.0153295          -0.241991             -321.841            3.88 ⋯\n",
       "  10 │      -0.0153295           0.241991              321.841            3.88\n",
       "\u001b[36m                                                              15 columns omitted\u001b[0m"
      ]
     },
     "execution_count": 2,
     "metadata": {},
     "output_type": "execute_result"
    }
   ],
   "source": [
    "csv_reader = CSV.File(\"/Users/nick/Downloads/spectrums_frequency_shift.csv\")\n",
    "df = DataFrame(csv_reader)"
   ]
  },
  {
   "cell_type": "markdown",
   "metadata": {},
   "source": [
    "# Parameters"
   ]
  },
  {
   "cell_type": "code",
   "execution_count": 3,
   "metadata": {},
   "outputs": [
    {
     "data": {
      "text/plain": [
       "5"
      ]
     },
     "execution_count": 3,
     "metadata": {},
     "output_type": "execute_result"
    }
   ],
   "source": [
    "tau = 2000 # sample rate\n",
    "N = 100 # window size (and step size)\n",
    "k = 10 # number of resonances\n",
    "R = 5 # number of conjugate resonance pairs"
   ]
  },
  {
   "cell_type": "markdown",
   "metadata": {},
   "source": [
    "# Slice Data"
   ]
  },
  {
   "cell_type": "code",
   "execution_count": 4,
   "metadata": {},
   "outputs": [
    {
     "data": {
      "text/html": [
       "<div class=\"data-frame\"><p>10 rows × 4 columns</p><table class=\"data-frame\"><thead><tr><th></th><th>Spectrum 0 d real</th><th>Spectrum 0 d imag</th><th>Spectrum 0 w real</th><th>Spectrum 0 w imag</th></tr><tr><th></th><th title=\"Float64\">Float64</th><th title=\"Float64\">Float64</th><th title=\"Float64\">Float64</th><th title=\"Float64\">Float64</th></tr></thead><tbody><tr><th>1</th><td>0.00608716</td><td>0.0180851</td><td>285.798</td><td>-31.6857</td></tr><tr><th>2</th><td>0.00608716</td><td>-0.0180851</td><td>-285.798</td><td>-31.6857</td></tr><tr><th>3</th><td>0.0253046</td><td>0.186834</td><td>304.746</td><td>-12.997</td></tr><tr><th>4</th><td>0.0253046</td><td>-0.186834</td><td>-304.746</td><td>-12.997</td></tr><tr><th>5</th><td>-0.000729847</td><td>-0.00116811</td><td>-357.872</td><td>39.4449</td></tr><tr><th>6</th><td>-0.000729847</td><td>0.00116811</td><td>357.872</td><td>39.4449</td></tr><tr><th>7</th><td>-0.0152214</td><td>-0.0519344</td><td>-338.94</td><td>20.7567</td></tr><tr><th>8</th><td>-0.0152214</td><td>0.0519344</td><td>338.94</td><td>20.7567</td></tr><tr><th>9</th><td>-0.0153295</td><td>-0.241991</td><td>-321.841</td><td>3.88263</td></tr><tr><th>10</th><td>-0.0153295</td><td>0.241991</td><td>321.841</td><td>3.88263</td></tr></tbody></table></div>"
      ],
      "text/latex": [
       "\\begin{tabular}{r|cccc}\n",
       "\t& Spectrum 0 d real & Spectrum 0 d imag & Spectrum 0 w real & Spectrum 0 w imag\\\\\n",
       "\t\\hline\n",
       "\t& Float64 & Float64 & Float64 & Float64\\\\\n",
       "\t\\hline\n",
       "\t1 & 0.00608716 & 0.0180851 & 285.798 & -31.6857 \\\\\n",
       "\t2 & 0.00608716 & -0.0180851 & -285.798 & -31.6857 \\\\\n",
       "\t3 & 0.0253046 & 0.186834 & 304.746 & -12.997 \\\\\n",
       "\t4 & 0.0253046 & -0.186834 & -304.746 & -12.997 \\\\\n",
       "\t5 & -0.000729847 & -0.00116811 & -357.872 & 39.4449 \\\\\n",
       "\t6 & -0.000729847 & 0.00116811 & 357.872 & 39.4449 \\\\\n",
       "\t7 & -0.0152214 & -0.0519344 & -338.94 & 20.7567 \\\\\n",
       "\t8 & -0.0152214 & 0.0519344 & 338.94 & 20.7567 \\\\\n",
       "\t9 & -0.0153295 & -0.241991 & -321.841 & 3.88263 \\\\\n",
       "\t10 & -0.0153295 & 0.241991 & 321.841 & 3.88263 \\\\\n",
       "\\end{tabular}\n"
      ],
      "text/plain": [
       "\u001b[1m10×4 DataFrame\u001b[0m\n",
       "\u001b[1m Row \u001b[0m│\u001b[1m Spectrum 0 d real \u001b[0m\u001b[1m Spectrum 0 d imag \u001b[0m\u001b[1m Spectrum 0 w real \u001b[0m\u001b[1m Spectrum 0 w i\u001b[0m ⋯\n",
       "\u001b[1m     \u001b[0m│\u001b[90m Float64           \u001b[0m\u001b[90m Float64           \u001b[0m\u001b[90m Float64           \u001b[0m\u001b[90m Float64       \u001b[0m ⋯\n",
       "─────┼──────────────────────────────────────────────────────────────────────────\n",
       "   1 │       0.00608716          0.0180851             285.798          -31.68 ⋯\n",
       "   2 │       0.00608716         -0.0180851            -285.798          -31.68\n",
       "   3 │       0.0253046           0.186834              304.746          -12.99\n",
       "   4 │       0.0253046          -0.186834             -304.746          -12.99\n",
       "   5 │      -0.000729847        -0.00116811           -357.872           39.44 ⋯\n",
       "   6 │      -0.000729847         0.00116811            357.872           39.44\n",
       "   7 │      -0.0152214          -0.0519344            -338.94            20.75\n",
       "   8 │      -0.0152214           0.0519344             338.94            20.75\n",
       "   9 │      -0.0153295          -0.241991             -321.841            3.88 ⋯\n",
       "  10 │      -0.0153295           0.241991              321.841            3.88\n",
       "\u001b[36m                                                                1 column omitted\u001b[0m"
      ]
     },
     "execution_count": 4,
     "metadata": {},
     "output_type": "execute_result"
    }
   ],
   "source": [
    "slice1 = df[:,1:4]"
   ]
  },
  {
   "cell_type": "code",
   "execution_count": 5,
   "metadata": {},
   "outputs": [
    {
     "data": {
      "text/html": [
       "<div class=\"data-frame\"><p>10 rows × 4 columns</p><table class=\"data-frame\"><thead><tr><th></th><th>Spectrum 1 d real</th><th>Spectrum 1 d imag</th><th>Spectrum 1 w real</th><th>Spectrum 1 w imag</th></tr><tr><th></th><th title=\"Float64\">Float64</th><th title=\"Float64\">Float64</th><th title=\"Float64\">Float64</th><th title=\"Float64\">Float64</th></tr></thead><tbody><tr><th>1</th><td>-0.0109143</td><td>-0.0137906</td><td>300.829</td><td>-31.8303</td></tr><tr><th>2</th><td>-0.0109143</td><td>0.0137906</td><td>-300.829</td><td>-31.8303</td></tr><tr><th>3</th><td>-0.089213</td><td>-0.159206</td><td>319.766</td><td>-13.128</td></tr><tr><th>4</th><td>-0.089213</td><td>0.159206</td><td>-319.766</td><td>-13.128</td></tr><tr><th>5</th><td>0.000542847</td><td>0.00140023</td><td>-374.087</td><td>38.3821</td></tr><tr><th>6</th><td>0.000542847</td><td>-0.00140023</td><td>374.087</td><td>38.3821</td></tr><tr><th>7</th><td>0.000408806</td><td>0.057129</td><td>-355.177</td><td>19.6551</td></tr><tr><th>8</th><td>0.000408806</td><td>-0.057129</td><td>355.177</td><td>19.6551</td></tr><tr><th>9</th><td>-0.0737192</td><td>0.236989</td><td>-338.103</td><td>2.74501</td></tr><tr><th>10</th><td>-0.0737192</td><td>-0.236989</td><td>338.103</td><td>2.74501</td></tr></tbody></table></div>"
      ],
      "text/latex": [
       "\\begin{tabular}{r|cccc}\n",
       "\t& Spectrum 1 d real & Spectrum 1 d imag & Spectrum 1 w real & Spectrum 1 w imag\\\\\n",
       "\t\\hline\n",
       "\t& Float64 & Float64 & Float64 & Float64\\\\\n",
       "\t\\hline\n",
       "\t1 & -0.0109143 & -0.0137906 & 300.829 & -31.8303 \\\\\n",
       "\t2 & -0.0109143 & 0.0137906 & -300.829 & -31.8303 \\\\\n",
       "\t3 & -0.089213 & -0.159206 & 319.766 & -13.128 \\\\\n",
       "\t4 & -0.089213 & 0.159206 & -319.766 & -13.128 \\\\\n",
       "\t5 & 0.000542847 & 0.00140023 & -374.087 & 38.3821 \\\\\n",
       "\t6 & 0.000542847 & -0.00140023 & 374.087 & 38.3821 \\\\\n",
       "\t7 & 0.000408806 & 0.057129 & -355.177 & 19.6551 \\\\\n",
       "\t8 & 0.000408806 & -0.057129 & 355.177 & 19.6551 \\\\\n",
       "\t9 & -0.0737192 & 0.236989 & -338.103 & 2.74501 \\\\\n",
       "\t10 & -0.0737192 & -0.236989 & 338.103 & 2.74501 \\\\\n",
       "\\end{tabular}\n"
      ],
      "text/plain": [
       "\u001b[1m10×4 DataFrame\u001b[0m\n",
       "\u001b[1m Row \u001b[0m│\u001b[1m Spectrum 1 d real \u001b[0m\u001b[1m Spectrum 1 d imag \u001b[0m\u001b[1m Spectrum 1 w real \u001b[0m\u001b[1m Spectrum 1 w i\u001b[0m ⋯\n",
       "\u001b[1m     \u001b[0m│\u001b[90m Float64           \u001b[0m\u001b[90m Float64           \u001b[0m\u001b[90m Float64           \u001b[0m\u001b[90m Float64       \u001b[0m ⋯\n",
       "─────┼──────────────────────────────────────────────────────────────────────────\n",
       "   1 │      -0.0109143          -0.0137906             300.829          -31.83 ⋯\n",
       "   2 │      -0.0109143           0.0137906            -300.829          -31.83\n",
       "   3 │      -0.089213           -0.159206              319.766          -13.12\n",
       "   4 │      -0.089213            0.159206             -319.766          -13.12\n",
       "   5 │       0.000542847         0.00140023           -374.087           38.38 ⋯\n",
       "   6 │       0.000542847        -0.00140023            374.087           38.38\n",
       "   7 │       0.000408806         0.057129             -355.177           19.65\n",
       "   8 │       0.000408806        -0.057129              355.177           19.65\n",
       "   9 │      -0.0737192           0.236989             -338.103            2.74 ⋯\n",
       "  10 │      -0.0737192          -0.236989              338.103            2.74\n",
       "\u001b[36m                                                                1 column omitted\u001b[0m"
      ]
     },
     "execution_count": 5,
     "metadata": {},
     "output_type": "execute_result"
    }
   ],
   "source": [
    "slice2 = df[:,7:10]"
   ]
  },
  {
   "cell_type": "code",
   "execution_count": 6,
   "metadata": {},
   "outputs": [
    {
     "data": {
      "text/html": [
       "<div class=\"data-frame\"><p>10 rows × 4 columns</p><table class=\"data-frame\"><thead><tr><th></th><th>Spectrum 2 d real</th><th>Spectrum 2 d imag</th><th>Spectrum 2 w real</th><th>Spectrum 2 w imag</th></tr><tr><th></th><th title=\"Float64\">Float64</th><th title=\"Float64\">Float64</th><th title=\"Float64\">Float64</th><th title=\"Float64\">Float64</th></tr></thead><tbody><tr><th>1</th><td>0.0178856</td><td>-0.00448141</td><td>316.632</td><td>-31.4179</td></tr><tr><th>2</th><td>0.0178856</td><td>0.00448141</td><td>-316.632</td><td>-31.4179</td></tr><tr><th>3</th><td>0.184435</td><td>-0.0198985</td><td>335.588</td><td>-12.7496</td></tr><tr><th>4</th><td>0.184435</td><td>0.0198985</td><td>-335.588</td><td>-12.7496</td></tr><tr><th>5</th><td>0.00101454</td><td>-0.00085518</td><td>-389.981</td><td>39.0949</td></tr><tr><th>6</th><td>0.00101454</td><td>0.00085518</td><td>389.981</td><td>39.0949</td></tr><tr><th>7</th><td>0.0496794</td><td>-0.0191145</td><td>-371.066</td><td>20.3845</td></tr><tr><th>8</th><td>0.0496794</td><td>0.0191145</td><td>371.066</td><td>20.3845</td></tr><tr><th>9</th><td>0.241936</td><td>-0.0212304</td><td>-353.983</td><td>3.49059</td></tr><tr><th>10</th><td>0.241936</td><td>0.0212304</td><td>353.983</td><td>3.49059</td></tr></tbody></table></div>"
      ],
      "text/latex": [
       "\\begin{tabular}{r|cccc}\n",
       "\t& Spectrum 2 d real & Spectrum 2 d imag & Spectrum 2 w real & Spectrum 2 w imag\\\\\n",
       "\t\\hline\n",
       "\t& Float64 & Float64 & Float64 & Float64\\\\\n",
       "\t\\hline\n",
       "\t1 & 0.0178856 & -0.00448141 & 316.632 & -31.4179 \\\\\n",
       "\t2 & 0.0178856 & 0.00448141 & -316.632 & -31.4179 \\\\\n",
       "\t3 & 0.184435 & -0.0198985 & 335.588 & -12.7496 \\\\\n",
       "\t4 & 0.184435 & 0.0198985 & -335.588 & -12.7496 \\\\\n",
       "\t5 & 0.00101454 & -0.00085518 & -389.981 & 39.0949 \\\\\n",
       "\t6 & 0.00101454 & 0.00085518 & 389.981 & 39.0949 \\\\\n",
       "\t7 & 0.0496794 & -0.0191145 & -371.066 & 20.3845 \\\\\n",
       "\t8 & 0.0496794 & 0.0191145 & 371.066 & 20.3845 \\\\\n",
       "\t9 & 0.241936 & -0.0212304 & -353.983 & 3.49059 \\\\\n",
       "\t10 & 0.241936 & 0.0212304 & 353.983 & 3.49059 \\\\\n",
       "\\end{tabular}\n"
      ],
      "text/plain": [
       "\u001b[1m10×4 DataFrame\u001b[0m\n",
       "\u001b[1m Row \u001b[0m│\u001b[1m Spectrum 2 d real \u001b[0m\u001b[1m Spectrum 2 d imag \u001b[0m\u001b[1m Spectrum 2 w real \u001b[0m\u001b[1m Spectrum 2 w i\u001b[0m ⋯\n",
       "\u001b[1m     \u001b[0m│\u001b[90m Float64           \u001b[0m\u001b[90m Float64           \u001b[0m\u001b[90m Float64           \u001b[0m\u001b[90m Float64       \u001b[0m ⋯\n",
       "─────┼──────────────────────────────────────────────────────────────────────────\n",
       "   1 │        0.0178856         -0.00448141            316.632          -31.41 ⋯\n",
       "   2 │        0.0178856          0.00448141           -316.632          -31.41\n",
       "   3 │        0.184435          -0.0198985             335.588          -12.74\n",
       "   4 │        0.184435           0.0198985            -335.588          -12.74\n",
       "   5 │        0.00101454        -0.00085518           -389.981           39.09 ⋯\n",
       "   6 │        0.00101454         0.00085518            389.981           39.09\n",
       "   7 │        0.0496794         -0.0191145            -371.066           20.38\n",
       "   8 │        0.0496794          0.0191145             371.066           20.38\n",
       "   9 │        0.241936          -0.0212304            -353.983            3.49 ⋯\n",
       "  10 │        0.241936           0.0212304             353.983            3.49\n",
       "\u001b[36m                                                                1 column omitted\u001b[0m"
      ]
     },
     "execution_count": 6,
     "metadata": {},
     "output_type": "execute_result"
    }
   ],
   "source": [
    "slice3 = df[:,13:16]"
   ]
  },
  {
   "cell_type": "markdown",
   "metadata": {},
   "source": [
    "# Helper functions"
   ]
  },
  {
   "cell_type": "code",
   "execution_count": 7,
   "metadata": {},
   "outputs": [
    {
     "data": {
      "text/plain": [
       "evalrespair (generic function with 2 methods)"
      ]
     },
     "execution_count": 7,
     "metadata": {},
     "output_type": "execute_result"
    }
   ],
   "source": [
    "Res = DataFrameRow\n",
    "Slice = DataFrame\n",
    "function getres(i::Int,slice::Slice)\n",
    "    slice[i,:]\n",
    "end\n",
    "function getd(res::Res)\n",
    "    res[1] + res[2]*im\n",
    "end\n",
    "function getw(res::Res)\n",
    "    res[3] + res[4]*im\n",
    "end\n",
    "function evalres(d::ComplexF64,w::ComplexF64,n::Int)\n",
    "    real(d*exp(im*w*n/tau))\n",
    "end\n",
    "function evalres(d::ComplexF64,w::ComplexF64)\n",
    "    [real(d*exp(im*w*n/tau)) for n in 1:N]\n",
    "end\n",
    "function evalres(res::Res,n::Int)\n",
    "    evalres(getd(res),getw(res),n)\n",
    "end\n",
    "function evalres(res::Res)\n",
    "    [evalres(res,n) for n in 1:N]\n",
    "end    \n",
    "function evalslice(slice::Slice,n::Int)\n",
    "    sum([evalres(getres(r,slice),n) for r in 1:k])\n",
    "end\n",
    "function evalslice(slice::Slice)\n",
    "    [evalslice(slice,n) for n in 1:N]\n",
    "end\n",
    "function plotres(res::Res)\n",
    "    plot([1:N...],evalres(res))\n",
    "end\n",
    "function plotres!(res::Res)\n",
    "    plot!([1:N...],evalres(res))\n",
    "end\n",
    "function plotslice(slice::Slice)\n",
    "    plot([1:N...],evalslice(slice))\n",
    "end\n",
    "function plotslice!(slice::Slice)\n",
    "    plot!([1:N...],evalslice(slice))\n",
    "end\n",
    "getrespair(i::Int,slice::Slice) = (getres(2*i,slice),getres(2*i-1,slice))\n",
    "evalrespair(respair::Tuple{Res,Res},n::Int) = evalres(respair[1],n)+evalres(respair[2],n)\n",
    "evalrespair(respair::Tuple{Res,Res}) = [evalrespair(respair,n) for n in 1:N]"
   ]
  },
  {
   "cell_type": "markdown",
   "metadata": {},
   "source": [
    "# Plot Slices\n",
    "Why don't they match up? "
   ]
  },
  {
   "cell_type": "code",
   "execution_count": 8,
   "metadata": {},
   "outputs": [
    {
     "data": {
      "image/svg+xml": [
       "<?xml version=\"1.0\" encoding=\"utf-8\"?>\n",
       "<svg xmlns=\"http://www.w3.org/2000/svg\" xmlns:xlink=\"http://www.w3.org/1999/xlink\" width=\"900\" height=\"200\" viewBox=\"0 0 3600 800\">\n",
       "<defs>\n",
       "  <clipPath id=\"clip870\">\n",
       "    <rect x=\"0\" y=\"0\" width=\"3600\" height=\"800\"/>\n",
       "  </clipPath>\n",
       "</defs>\n",
       "<path clip-path=\"url(#clip870)\" d=\"\n",
       "M0 800 L3600 800 L3600 0 L0 0  Z\n",
       "  \" fill=\"#ffffff\" fill-rule=\"evenodd\" fill-opacity=\"1\"/>\n",
       "<defs>\n",
       "  <clipPath id=\"clip871\">\n",
       "    <rect x=\"720\" y=\"0\" width=\"2521\" height=\"800\"/>\n",
       "  </clipPath>\n",
       "</defs>\n",
       "<path clip-path=\"url(#clip870)\" d=\"\n",
       "M205.936 717.488 L1152.76 717.488 L1152.76 47.2441 L205.936 47.2441  Z\n",
       "  \" fill=\"#ffffff\" fill-rule=\"evenodd\" fill-opacity=\"1\"/>\n",
       "<defs>\n",
       "  <clipPath id=\"clip872\">\n",
       "    <rect x=\"205\" y=\"47\" width=\"948\" height=\"671\"/>\n",
       "  </clipPath>\n",
       "</defs>\n",
       "<polyline clip-path=\"url(#clip872)\" style=\"stroke:#000000; stroke-linecap:butt; stroke-linejoin:round; stroke-width:2; stroke-opacity:0.1; fill:none\" points=\"\n",
       "  223.71,717.488 223.71,47.2441 \n",
       "  \"/>\n",
       "<polyline clip-path=\"url(#clip872)\" style=\"stroke:#000000; stroke-linecap:butt; stroke-linejoin:round; stroke-width:2; stroke-opacity:0.1; fill:none\" points=\"\n",
       "  449.273,717.488 449.273,47.2441 \n",
       "  \"/>\n",
       "<polyline clip-path=\"url(#clip872)\" style=\"stroke:#000000; stroke-linecap:butt; stroke-linejoin:round; stroke-width:2; stroke-opacity:0.1; fill:none\" points=\"\n",
       "  674.835,717.488 674.835,47.2441 \n",
       "  \"/>\n",
       "<polyline clip-path=\"url(#clip872)\" style=\"stroke:#000000; stroke-linecap:butt; stroke-linejoin:round; stroke-width:2; stroke-opacity:0.1; fill:none\" points=\"\n",
       "  900.397,717.488 900.397,47.2441 \n",
       "  \"/>\n",
       "<polyline clip-path=\"url(#clip872)\" style=\"stroke:#000000; stroke-linecap:butt; stroke-linejoin:round; stroke-width:2; stroke-opacity:0.1; fill:none\" points=\"\n",
       "  1125.96,717.488 1125.96,47.2441 \n",
       "  \"/>\n",
       "<polyline clip-path=\"url(#clip870)\" style=\"stroke:#000000; stroke-linecap:butt; stroke-linejoin:round; stroke-width:4; stroke-opacity:1; fill:none\" points=\"\n",
       "  205.936,717.488 1152.76,717.488 \n",
       "  \"/>\n",
       "<polyline clip-path=\"url(#clip870)\" style=\"stroke:#000000; stroke-linecap:butt; stroke-linejoin:round; stroke-width:4; stroke-opacity:1; fill:none\" points=\"\n",
       "  223.71,717.488 223.71,698.59 \n",
       "  \"/>\n",
       "<polyline clip-path=\"url(#clip870)\" style=\"stroke:#000000; stroke-linecap:butt; stroke-linejoin:round; stroke-width:4; stroke-opacity:1; fill:none\" points=\"\n",
       "  449.273,717.488 449.273,698.59 \n",
       "  \"/>\n",
       "<polyline clip-path=\"url(#clip870)\" style=\"stroke:#000000; stroke-linecap:butt; stroke-linejoin:round; stroke-width:4; stroke-opacity:1; fill:none\" points=\"\n",
       "  674.835,717.488 674.835,698.59 \n",
       "  \"/>\n",
       "<polyline clip-path=\"url(#clip870)\" style=\"stroke:#000000; stroke-linecap:butt; stroke-linejoin:round; stroke-width:4; stroke-opacity:1; fill:none\" points=\"\n",
       "  900.397,717.488 900.397,698.59 \n",
       "  \"/>\n",
       "<polyline clip-path=\"url(#clip870)\" style=\"stroke:#000000; stroke-linecap:butt; stroke-linejoin:round; stroke-width:4; stroke-opacity:1; fill:none\" points=\"\n",
       "  1125.96,717.488 1125.96,698.59 \n",
       "  \"/>\n",
       "<path clip-path=\"url(#clip870)\" d=\"M223.71 758.007 Q220.099 758.007 218.271 761.571 Q216.465 765.113 216.465 772.243 Q216.465 779.349 218.271 782.914 Q220.099 786.455 223.71 786.455 Q227.345 786.455 229.15 782.914 Q230.979 779.349 230.979 772.243 Q230.979 765.113 229.15 761.571 Q227.345 758.007 223.71 758.007 M223.71 754.303 Q229.52 754.303 232.576 758.909 Q235.655 763.493 235.655 772.243 Q235.655 780.969 232.576 785.576 Q229.52 790.159 223.71 790.159 Q217.9 790.159 214.821 785.576 Q211.766 780.969 211.766 772.243 Q211.766 763.493 214.821 758.909 Q217.9 754.303 223.71 754.303 Z\" fill=\"#000000\" fill-rule=\"evenodd\" fill-opacity=\"1\" /><path clip-path=\"url(#clip870)\" d=\"M428.543 785.553 L444.863 785.553 L444.863 789.488 L422.918 789.488 L422.918 785.553 Q425.581 782.798 430.164 778.168 Q434.77 773.516 435.951 772.173 Q438.196 769.65 439.076 767.914 Q439.979 766.155 439.979 764.465 Q439.979 761.71 438.034 759.974 Q436.113 758.238 433.011 758.238 Q430.812 758.238 428.358 759.002 Q425.928 759.766 423.15 761.317 L423.15 756.595 Q425.974 755.46 428.428 754.882 Q430.881 754.303 432.918 754.303 Q438.289 754.303 441.483 756.988 Q444.678 759.673 444.678 764.164 Q444.678 766.294 443.867 768.215 Q443.08 770.113 440.974 772.706 Q440.395 773.377 437.293 776.594 Q434.192 779.789 428.543 785.553 Z\" fill=\"#000000\" fill-rule=\"evenodd\" fill-opacity=\"1\" /><path clip-path=\"url(#clip870)\" d=\"M454.724 754.928 L473.08 754.928 L473.08 758.863 L459.006 758.863 L459.006 767.335 Q460.025 766.988 461.043 766.826 Q462.062 766.641 463.08 766.641 Q468.867 766.641 472.247 769.812 Q475.627 772.983 475.627 778.4 Q475.627 783.979 472.154 787.08 Q468.682 790.159 462.363 790.159 Q460.187 790.159 457.918 789.789 Q455.673 789.418 453.266 788.678 L453.266 783.979 Q455.349 785.113 457.571 785.668 Q459.793 786.224 462.27 786.224 Q466.275 786.224 468.613 784.118 Q470.951 782.011 470.951 778.4 Q470.951 774.789 468.613 772.682 Q466.275 770.576 462.27 770.576 Q460.395 770.576 458.52 770.993 Q456.668 771.409 454.724 772.289 L454.724 754.928 Z\" fill=\"#000000\" fill-rule=\"evenodd\" fill-opacity=\"1\" /><path clip-path=\"url(#clip870)\" d=\"M649.534 754.928 L667.89 754.928 L667.89 758.863 L653.816 758.863 L653.816 767.335 Q654.835 766.988 655.853 766.826 Q656.872 766.641 657.89 766.641 Q663.677 766.641 667.057 769.812 Q670.437 772.983 670.437 778.4 Q670.437 783.979 666.964 787.08 Q663.492 790.159 657.173 790.159 Q654.997 790.159 652.728 789.789 Q650.483 789.418 648.076 788.678 L648.076 783.979 Q650.159 785.113 652.381 785.668 Q654.603 786.224 657.08 786.224 Q661.085 786.224 663.423 784.118 Q665.761 782.011 665.761 778.4 Q665.761 774.789 663.423 772.682 Q661.085 770.576 657.08 770.576 Q655.205 770.576 653.33 770.993 Q651.478 771.409 649.534 772.289 L649.534 754.928 Z\" fill=\"#000000\" fill-rule=\"evenodd\" fill-opacity=\"1\" /><path clip-path=\"url(#clip870)\" d=\"M689.649 758.007 Q686.038 758.007 684.21 761.571 Q682.404 765.113 682.404 772.243 Q682.404 779.349 684.21 782.914 Q686.038 786.455 689.649 786.455 Q693.284 786.455 695.089 782.914 Q696.918 779.349 696.918 772.243 Q696.918 765.113 695.089 761.571 Q693.284 758.007 689.649 758.007 M689.649 754.303 Q695.46 754.303 698.515 758.909 Q701.594 763.493 701.594 772.243 Q701.594 780.969 698.515 785.576 Q695.46 790.159 689.649 790.159 Q683.839 790.159 680.761 785.576 Q677.705 780.969 677.705 772.243 Q677.705 763.493 680.761 758.909 Q683.839 754.303 689.649 754.303 Z\" fill=\"#000000\" fill-rule=\"evenodd\" fill-opacity=\"1\" /><path clip-path=\"url(#clip870)\" d=\"M874.251 754.928 L896.473 754.928 L896.473 756.919 L883.927 789.488 L879.043 789.488 L890.848 758.863 L874.251 758.863 L874.251 754.928 Z\" fill=\"#000000\" fill-rule=\"evenodd\" fill-opacity=\"1\" /><path clip-path=\"url(#clip870)\" d=\"M905.64 754.928 L923.996 754.928 L923.996 758.863 L909.922 758.863 L909.922 767.335 Q910.941 766.988 911.959 766.826 Q912.978 766.641 913.996 766.641 Q919.783 766.641 923.163 769.812 Q926.543 772.983 926.543 778.4 Q926.543 783.979 923.07 787.08 Q919.598 790.159 913.279 790.159 Q911.103 790.159 908.834 789.789 Q906.589 789.418 904.182 788.678 L904.182 783.979 Q906.265 785.113 908.487 785.668 Q910.709 786.224 913.186 786.224 Q917.191 786.224 919.529 784.118 Q921.867 782.011 921.867 778.4 Q921.867 774.789 919.529 772.682 Q917.191 770.576 913.186 770.576 Q911.311 770.576 909.436 770.993 Q907.584 771.409 905.64 772.289 L905.64 754.928 Z\" fill=\"#000000\" fill-rule=\"evenodd\" fill-opacity=\"1\" /><path clip-path=\"url(#clip870)\" d=\"M1085.57 785.553 L1093.2 785.553 L1093.2 759.187 L1084.89 760.854 L1084.89 756.595 L1093.16 754.928 L1097.83 754.928 L1097.83 785.553 L1105.47 785.553 L1105.47 789.488 L1085.57 789.488 L1085.57 785.553 Z\" fill=\"#000000\" fill-rule=\"evenodd\" fill-opacity=\"1\" /><path clip-path=\"url(#clip870)\" d=\"M1124.92 758.007 Q1121.31 758.007 1119.48 761.571 Q1117.67 765.113 1117.67 772.243 Q1117.67 779.349 1119.48 782.914 Q1121.31 786.455 1124.92 786.455 Q1128.55 786.455 1130.36 782.914 Q1132.19 779.349 1132.19 772.243 Q1132.19 765.113 1130.36 761.571 Q1128.55 758.007 1124.92 758.007 M1124.92 754.303 Q1130.73 754.303 1133.78 758.909 Q1136.86 763.493 1136.86 772.243 Q1136.86 780.969 1133.78 785.576 Q1130.73 790.159 1124.92 790.159 Q1119.11 790.159 1116.03 785.576 Q1112.97 780.969 1112.97 772.243 Q1112.97 763.493 1116.03 758.909 Q1119.11 754.303 1124.92 754.303 Z\" fill=\"#000000\" fill-rule=\"evenodd\" fill-opacity=\"1\" /><path clip-path=\"url(#clip870)\" d=\"M1155.08 758.007 Q1151.47 758.007 1149.64 761.571 Q1147.83 765.113 1147.83 772.243 Q1147.83 779.349 1149.64 782.914 Q1151.47 786.455 1155.08 786.455 Q1158.71 786.455 1160.52 782.914 Q1162.35 779.349 1162.35 772.243 Q1162.35 765.113 1160.52 761.571 Q1158.71 758.007 1155.08 758.007 M1155.08 754.303 Q1160.89 754.303 1163.95 758.909 Q1167.02 763.493 1167.02 772.243 Q1167.02 780.969 1163.95 785.576 Q1160.89 790.159 1155.08 790.159 Q1149.27 790.159 1146.19 785.576 Q1143.13 780.969 1143.13 772.243 Q1143.13 763.493 1146.19 758.909 Q1149.27 754.303 1155.08 754.303 Z\" fill=\"#000000\" fill-rule=\"evenodd\" fill-opacity=\"1\" /><polyline clip-path=\"url(#clip872)\" style=\"stroke:#000000; stroke-linecap:butt; stroke-linejoin:round; stroke-width:2; stroke-opacity:0.1; fill:none\" points=\"\n",
       "  205.936,698.513 1152.76,698.513 \n",
       "  \"/>\n",
       "<polyline clip-path=\"url(#clip872)\" style=\"stroke:#000000; stroke-linecap:butt; stroke-linejoin:round; stroke-width:2; stroke-opacity:0.1; fill:none\" points=\"\n",
       "  205.936,540.391 1152.76,540.391 \n",
       "  \"/>\n",
       "<polyline clip-path=\"url(#clip872)\" style=\"stroke:#000000; stroke-linecap:butt; stroke-linejoin:round; stroke-width:2; stroke-opacity:0.1; fill:none\" points=\"\n",
       "  205.936,382.269 1152.76,382.269 \n",
       "  \"/>\n",
       "<polyline clip-path=\"url(#clip872)\" style=\"stroke:#000000; stroke-linecap:butt; stroke-linejoin:round; stroke-width:2; stroke-opacity:0.1; fill:none\" points=\"\n",
       "  205.936,224.146 1152.76,224.146 \n",
       "  \"/>\n",
       "<polyline clip-path=\"url(#clip872)\" style=\"stroke:#000000; stroke-linecap:butt; stroke-linejoin:round; stroke-width:2; stroke-opacity:0.1; fill:none\" points=\"\n",
       "  205.936,66.0242 1152.76,66.0242 \n",
       "  \"/>\n",
       "<polyline clip-path=\"url(#clip870)\" style=\"stroke:#000000; stroke-linecap:butt; stroke-linejoin:round; stroke-width:4; stroke-opacity:1; fill:none\" points=\"\n",
       "  205.936,717.488 205.936,47.2441 \n",
       "  \"/>\n",
       "<polyline clip-path=\"url(#clip870)\" style=\"stroke:#000000; stroke-linecap:butt; stroke-linejoin:round; stroke-width:4; stroke-opacity:1; fill:none\" points=\"\n",
       "  205.936,698.513 224.834,698.513 \n",
       "  \"/>\n",
       "<polyline clip-path=\"url(#clip870)\" style=\"stroke:#000000; stroke-linecap:butt; stroke-linejoin:round; stroke-width:4; stroke-opacity:1; fill:none\" points=\"\n",
       "  205.936,540.391 224.834,540.391 \n",
       "  \"/>\n",
       "<polyline clip-path=\"url(#clip870)\" style=\"stroke:#000000; stroke-linecap:butt; stroke-linejoin:round; stroke-width:4; stroke-opacity:1; fill:none\" points=\"\n",
       "  205.936,382.269 224.834,382.269 \n",
       "  \"/>\n",
       "<polyline clip-path=\"url(#clip870)\" style=\"stroke:#000000; stroke-linecap:butt; stroke-linejoin:round; stroke-width:4; stroke-opacity:1; fill:none\" points=\"\n",
       "  205.936,224.146 224.834,224.146 \n",
       "  \"/>\n",
       "<polyline clip-path=\"url(#clip870)\" style=\"stroke:#000000; stroke-linecap:butt; stroke-linejoin:round; stroke-width:4; stroke-opacity:1; fill:none\" points=\"\n",
       "  205.936,66.0242 224.834,66.0242 \n",
       "  \"/>\n",
       "<path clip-path=\"url(#clip870)\" d=\"M44.9921 698.965 L74.6679 698.965 L74.6679 702.9 L44.9921 702.9 L44.9921 698.965 Z\" fill=\"#000000\" fill-rule=\"evenodd\" fill-opacity=\"1\" /><path clip-path=\"url(#clip870)\" d=\"M85.5706 711.858 L93.2095 711.858 L93.2095 685.492 L84.8993 687.159 L84.8993 682.9 L93.1632 681.233 L97.8391 681.233 L97.8391 711.858 L105.478 711.858 L105.478 715.793 L85.5706 715.793 L85.5706 711.858 Z\" fill=\"#000000\" fill-rule=\"evenodd\" fill-opacity=\"1\" /><path clip-path=\"url(#clip870)\" d=\"M114.922 709.914 L119.807 709.914 L119.807 715.793 L114.922 715.793 L114.922 709.914 Z\" fill=\"#000000\" fill-rule=\"evenodd\" fill-opacity=\"1\" /><path clip-path=\"url(#clip870)\" d=\"M139.992 684.312 Q136.381 684.312 134.552 687.877 Q132.746 691.418 132.746 698.548 Q132.746 705.654 134.552 709.219 Q136.381 712.761 139.992 712.761 Q143.626 712.761 145.431 709.219 Q147.26 705.654 147.26 698.548 Q147.26 691.418 145.431 687.877 Q143.626 684.312 139.992 684.312 M139.992 680.608 Q145.802 680.608 148.857 685.215 Q151.936 689.798 151.936 698.548 Q151.936 707.275 148.857 711.881 Q145.802 716.465 139.992 716.465 Q134.181 716.465 131.103 711.881 Q128.047 707.275 128.047 698.548 Q128.047 689.798 131.103 685.215 Q134.181 680.608 139.992 680.608 Z\" fill=\"#000000\" fill-rule=\"evenodd\" fill-opacity=\"1\" /><path clip-path=\"url(#clip870)\" d=\"M45.9875 540.842 L75.6633 540.842 L75.6633 544.778 L45.9875 544.778 L45.9875 540.842 Z\" fill=\"#000000\" fill-rule=\"evenodd\" fill-opacity=\"1\" /><path clip-path=\"url(#clip870)\" d=\"M95.7557 526.19 Q92.1447 526.19 90.316 529.754 Q88.5104 533.296 88.5104 540.426 Q88.5104 547.532 90.316 551.097 Q92.1447 554.639 95.7557 554.639 Q99.39 554.639 101.196 551.097 Q103.024 547.532 103.024 540.426 Q103.024 533.296 101.196 529.754 Q99.39 526.19 95.7557 526.19 M95.7557 522.486 Q101.566 522.486 104.621 527.092 Q107.7 531.676 107.7 540.426 Q107.7 549.152 104.621 553.759 Q101.566 558.342 95.7557 558.342 Q89.9456 558.342 86.8669 553.759 Q83.8114 549.152 83.8114 540.426 Q83.8114 531.676 86.8669 527.092 Q89.9456 522.486 95.7557 522.486 Z\" fill=\"#000000\" fill-rule=\"evenodd\" fill-opacity=\"1\" /><path clip-path=\"url(#clip870)\" d=\"M115.918 551.791 L120.802 551.791 L120.802 557.671 L115.918 557.671 L115.918 551.791 Z\" fill=\"#000000\" fill-rule=\"evenodd\" fill-opacity=\"1\" /><path clip-path=\"url(#clip870)\" d=\"M131.033 523.111 L149.39 523.111 L149.39 527.046 L135.316 527.046 L135.316 535.518 Q136.334 535.171 137.353 535.009 Q138.371 534.824 139.39 534.824 Q145.177 534.824 148.556 537.995 Q151.936 541.166 151.936 546.583 Q151.936 552.162 148.464 555.264 Q144.992 558.342 138.672 558.342 Q136.496 558.342 134.228 557.972 Q131.982 557.602 129.575 556.861 L129.575 552.162 Q131.658 553.296 133.881 553.852 Q136.103 554.407 138.58 554.407 Q142.584 554.407 144.922 552.301 Q147.26 550.194 147.26 546.583 Q147.26 542.972 144.922 540.866 Q142.584 538.759 138.58 538.759 Q136.705 538.759 134.83 539.176 Q132.978 539.592 131.033 540.472 L131.033 523.111 Z\" fill=\"#000000\" fill-rule=\"evenodd\" fill-opacity=\"1\" /><path clip-path=\"url(#clip870)\" d=\"M94.7604 368.067 Q91.1493 368.067 89.3206 371.632 Q87.515 375.174 87.515 382.303 Q87.515 389.41 89.3206 392.975 Q91.1493 396.516 94.7604 396.516 Q98.3946 396.516 100.2 392.975 Q102.029 389.41 102.029 382.303 Q102.029 375.174 100.2 371.632 Q98.3946 368.067 94.7604 368.067 M94.7604 364.364 Q100.571 364.364 103.626 368.97 Q106.705 373.553 106.705 382.303 Q106.705 391.03 103.626 395.637 Q100.571 400.22 94.7604 400.22 Q88.9502 400.22 85.8715 395.637 Q82.816 391.03 82.816 382.303 Q82.816 373.553 85.8715 368.97 Q88.9502 364.364 94.7604 364.364 Z\" fill=\"#000000\" fill-rule=\"evenodd\" fill-opacity=\"1\" /><path clip-path=\"url(#clip870)\" d=\"M114.922 393.669 L119.807 393.669 L119.807 399.549 L114.922 399.549 L114.922 393.669 Z\" fill=\"#000000\" fill-rule=\"evenodd\" fill-opacity=\"1\" /><path clip-path=\"url(#clip870)\" d=\"M139.992 368.067 Q136.381 368.067 134.552 371.632 Q132.746 375.174 132.746 382.303 Q132.746 389.41 134.552 392.975 Q136.381 396.516 139.992 396.516 Q143.626 396.516 145.431 392.975 Q147.26 389.41 147.26 382.303 Q147.26 375.174 145.431 371.632 Q143.626 368.067 139.992 368.067 M139.992 364.364 Q145.802 364.364 148.857 368.97 Q151.936 373.553 151.936 382.303 Q151.936 391.03 148.857 395.637 Q145.802 400.22 139.992 400.22 Q134.181 400.22 131.103 395.637 Q128.047 391.03 128.047 382.303 Q128.047 373.553 131.103 368.97 Q134.181 364.364 139.992 364.364 Z\" fill=\"#000000\" fill-rule=\"evenodd\" fill-opacity=\"1\" /><path clip-path=\"url(#clip870)\" d=\"M95.7557 209.945 Q92.1447 209.945 90.316 213.51 Q88.5104 217.052 88.5104 224.181 Q88.5104 231.288 90.316 234.852 Q92.1447 238.394 95.7557 238.394 Q99.39 238.394 101.196 234.852 Q103.024 231.288 103.024 224.181 Q103.024 217.052 101.196 213.51 Q99.39 209.945 95.7557 209.945 M95.7557 206.241 Q101.566 206.241 104.621 210.848 Q107.7 215.431 107.7 224.181 Q107.7 232.908 104.621 237.514 Q101.566 242.098 95.7557 242.098 Q89.9456 242.098 86.8669 237.514 Q83.8114 232.908 83.8114 224.181 Q83.8114 215.431 86.8669 210.848 Q89.9456 206.241 95.7557 206.241 Z\" fill=\"#000000\" fill-rule=\"evenodd\" fill-opacity=\"1\" /><path clip-path=\"url(#clip870)\" d=\"M115.918 235.547 L120.802 235.547 L120.802 241.426 L115.918 241.426 L115.918 235.547 Z\" fill=\"#000000\" fill-rule=\"evenodd\" fill-opacity=\"1\" /><path clip-path=\"url(#clip870)\" d=\"M131.033 206.866 L149.39 206.866 L149.39 210.802 L135.316 210.802 L135.316 219.274 Q136.334 218.927 137.353 218.765 Q138.371 218.579 139.39 218.579 Q145.177 218.579 148.556 221.751 Q151.936 224.922 151.936 230.339 Q151.936 235.917 148.464 239.019 Q144.992 242.098 138.672 242.098 Q136.496 242.098 134.228 241.727 Q131.982 241.357 129.575 240.616 L129.575 235.917 Q131.658 237.051 133.881 237.607 Q136.103 238.163 138.58 238.163 Q142.584 238.163 144.922 236.056 Q147.26 233.95 147.26 230.339 Q147.26 226.727 144.922 224.621 Q142.584 222.515 138.58 222.515 Q136.705 222.515 134.83 222.931 Q132.978 223.348 131.033 224.227 L131.033 206.866 Z\" fill=\"#000000\" fill-rule=\"evenodd\" fill-opacity=\"1\" /><path clip-path=\"url(#clip870)\" d=\"M85.5706 79.369 L93.2095 79.369 L93.2095 53.0034 L84.8993 54.6701 L84.8993 50.4108 L93.1632 48.7442 L97.8391 48.7442 L97.8391 79.369 L105.478 79.369 L105.478 83.3042 L85.5706 83.3042 L85.5706 79.369 Z\" fill=\"#000000\" fill-rule=\"evenodd\" fill-opacity=\"1\" /><path clip-path=\"url(#clip870)\" d=\"M114.922 77.4246 L119.807 77.4246 L119.807 83.3042 L114.922 83.3042 L114.922 77.4246 Z\" fill=\"#000000\" fill-rule=\"evenodd\" fill-opacity=\"1\" /><path clip-path=\"url(#clip870)\" d=\"M139.992 51.8229 Q136.381 51.8229 134.552 55.3877 Q132.746 58.9293 132.746 66.0589 Q132.746 73.1653 134.552 76.7301 Q136.381 80.2718 139.992 80.2718 Q143.626 80.2718 145.431 76.7301 Q147.26 73.1653 147.26 66.0589 Q147.26 58.9293 145.431 55.3877 Q143.626 51.8229 139.992 51.8229 M139.992 48.1192 Q145.802 48.1192 148.857 52.7256 Q151.936 57.3089 151.936 66.0589 Q151.936 74.7857 148.857 79.3922 Q145.802 83.9755 139.992 83.9755 Q134.181 83.9755 131.103 79.3922 Q128.047 74.7857 128.047 66.0589 Q128.047 57.3089 131.103 52.7256 Q134.181 48.1192 139.992 48.1192 Z\" fill=\"#000000\" fill-rule=\"evenodd\" fill-opacity=\"1\" /><polyline clip-path=\"url(#clip872)\" style=\"stroke:#009af9; stroke-linecap:butt; stroke-linejoin:round; stroke-width:4; stroke-opacity:1; fill:none\" points=\"\n",
       "  232.733,431.66 241.755,479.882 250.778,525.682 259.8,567.939 268.823,605.623 277.845,637.817 286.868,663.742 295.89,682.774 304.913,694.457 313.935,698.519 \n",
       "  322.958,694.87 331.98,683.613 341.003,665.031 350.025,639.588 359.048,607.912 368.07,570.779 377.093,529.099 386.115,483.885 395.138,436.238 404.16,387.31 \n",
       "  413.183,338.286 422.205,290.346 431.228,244.644 440.25,202.275 449.273,164.253 458.295,131.483 467.317,104.745 476.34,84.6686 485.362,71.7252 494.385,66.2133 \n",
       "  503.407,68.2532 512.43,77.7849 521.452,94.5698 530.475,118.197 539.497,148.095 548.52,183.542 557.542,223.689 566.565,267.577 575.587,314.161 584.61,362.333 \n",
       "  593.632,410.951 602.655,458.868 611.677,504.953 620.7,548.124 629.722,587.366 638.745,621.765 647.767,650.517 656.79,672.958 665.812,688.571 674.835,696.999 \n",
       "  683.857,698.058 692.88,691.733 701.902,678.183 710.925,657.736 719.947,630.879 728.97,598.246 737.992,560.607 747.015,518.843 756.037,473.93 765.06,426.915 \n",
       "  774.082,378.889 783.105,330.966 792.127,284.253 801.15,239.828 810.172,198.712 819.195,161.847 828.217,130.075 837.239,104.119 846.262,84.5675 855.284,71.858 \n",
       "  864.307,66.2717 873.329,67.9256 882.352,76.7705 891.374,92.5932 900.397,115.021 909.419,143.533 918.442,177.47 927.464,216.05 936.487,258.389 945.509,303.52 \n",
       "  954.532,350.414 963.554,398.006 972.577,445.216 981.599,490.977 990.622,534.258 999.644,574.085 1008.67,609.566 1017.69,639.908 1026.71,664.436 1035.73,682.609 \n",
       "  1044.76,694.029 1053.78,698.45 1062.8,695.783 1071.82,686.101 1080.85,669.63 1089.87,646.75 1098.89,617.981 1107.91,583.974 1116.94,545.496 1125.96,503.408 \n",
       "  \n",
       "  \"/>\n",
       "<path clip-path=\"url(#clip870)\" d=\"\n",
       "M708.765 173.266 L1121.2 173.266 L1121.2 69.5856 L708.765 69.5856  Z\n",
       "  \" fill=\"#ffffff\" fill-rule=\"evenodd\" fill-opacity=\"1\"/>\n",
       "<polyline clip-path=\"url(#clip870)\" style=\"stroke:#000000; stroke-linecap:butt; stroke-linejoin:round; stroke-width:4; stroke-opacity:1; fill:none\" points=\"\n",
       "  708.765,173.266 1121.2,173.266 1121.2,69.5856 708.765,69.5856 708.765,173.266 \n",
       "  \"/>\n",
       "<polyline clip-path=\"url(#clip870)\" style=\"stroke:#009af9; stroke-linecap:butt; stroke-linejoin:round; stroke-width:4; stroke-opacity:1; fill:none\" points=\"\n",
       "  744.765,121.426 960.765,121.426 \n",
       "  \"/>\n",
       "<path clip-path=\"url(#clip870)\" d=\"M1010.61 141.113 Q1008.8 145.743 1007.09 147.155 Q1005.38 148.567 1002.51 148.567 L999.103 148.567 L999.103 145.002 L1001.6 145.002 Q1003.36 145.002 1004.33 144.168 Q1005.31 143.335 1006.49 140.233 L1007.25 138.289 L996.765 112.78 L1001.28 112.78 L1009.38 133.057 L1017.48 112.78 L1022 112.78 L1010.61 141.113 Z\" fill=\"#000000\" fill-rule=\"evenodd\" fill-opacity=\"1\" /><path clip-path=\"url(#clip870)\" d=\"M1029.29 134.77 L1036.93 134.77 L1036.93 108.405 L1028.62 110.071 L1028.62 105.812 L1036.88 104.146 L1041.56 104.146 L1041.56 134.77 L1049.2 134.77 L1049.2 138.706 L1029.29 138.706 L1029.29 134.77 Z\" fill=\"#000000\" fill-rule=\"evenodd\" fill-opacity=\"1\" /><path clip-path=\"url(#clip870)\" d=\"\n",
       "M1405.94 717.488 L2352.76 717.488 L2352.76 47.2441 L1405.94 47.2441  Z\n",
       "  \" fill=\"#ffffff\" fill-rule=\"evenodd\" fill-opacity=\"1\"/>\n",
       "<defs>\n",
       "  <clipPath id=\"clip873\">\n",
       "    <rect x=\"1405\" y=\"47\" width=\"948\" height=\"671\"/>\n",
       "  </clipPath>\n",
       "</defs>\n",
       "<polyline clip-path=\"url(#clip873)\" style=\"stroke:#000000; stroke-linecap:butt; stroke-linejoin:round; stroke-width:2; stroke-opacity:0.1; fill:none\" points=\"\n",
       "  1423.71,717.488 1423.71,47.2441 \n",
       "  \"/>\n",
       "<polyline clip-path=\"url(#clip873)\" style=\"stroke:#000000; stroke-linecap:butt; stroke-linejoin:round; stroke-width:2; stroke-opacity:0.1; fill:none\" points=\"\n",
       "  1649.27,717.488 1649.27,47.2441 \n",
       "  \"/>\n",
       "<polyline clip-path=\"url(#clip873)\" style=\"stroke:#000000; stroke-linecap:butt; stroke-linejoin:round; stroke-width:2; stroke-opacity:0.1; fill:none\" points=\"\n",
       "  1874.83,717.488 1874.83,47.2441 \n",
       "  \"/>\n",
       "<polyline clip-path=\"url(#clip873)\" style=\"stroke:#000000; stroke-linecap:butt; stroke-linejoin:round; stroke-width:2; stroke-opacity:0.1; fill:none\" points=\"\n",
       "  2100.4,717.488 2100.4,47.2441 \n",
       "  \"/>\n",
       "<polyline clip-path=\"url(#clip873)\" style=\"stroke:#000000; stroke-linecap:butt; stroke-linejoin:round; stroke-width:2; stroke-opacity:0.1; fill:none\" points=\"\n",
       "  2325.96,717.488 2325.96,47.2441 \n",
       "  \"/>\n",
       "<polyline clip-path=\"url(#clip870)\" style=\"stroke:#000000; stroke-linecap:butt; stroke-linejoin:round; stroke-width:4; stroke-opacity:1; fill:none\" points=\"\n",
       "  1405.94,717.488 2352.76,717.488 \n",
       "  \"/>\n",
       "<polyline clip-path=\"url(#clip870)\" style=\"stroke:#000000; stroke-linecap:butt; stroke-linejoin:round; stroke-width:4; stroke-opacity:1; fill:none\" points=\"\n",
       "  1423.71,717.488 1423.71,698.59 \n",
       "  \"/>\n",
       "<polyline clip-path=\"url(#clip870)\" style=\"stroke:#000000; stroke-linecap:butt; stroke-linejoin:round; stroke-width:4; stroke-opacity:1; fill:none\" points=\"\n",
       "  1649.27,717.488 1649.27,698.59 \n",
       "  \"/>\n",
       "<polyline clip-path=\"url(#clip870)\" style=\"stroke:#000000; stroke-linecap:butt; stroke-linejoin:round; stroke-width:4; stroke-opacity:1; fill:none\" points=\"\n",
       "  1874.83,717.488 1874.83,698.59 \n",
       "  \"/>\n",
       "<polyline clip-path=\"url(#clip870)\" style=\"stroke:#000000; stroke-linecap:butt; stroke-linejoin:round; stroke-width:4; stroke-opacity:1; fill:none\" points=\"\n",
       "  2100.4,717.488 2100.4,698.59 \n",
       "  \"/>\n",
       "<polyline clip-path=\"url(#clip870)\" style=\"stroke:#000000; stroke-linecap:butt; stroke-linejoin:round; stroke-width:4; stroke-opacity:1; fill:none\" points=\"\n",
       "  2325.96,717.488 2325.96,698.59 \n",
       "  \"/>\n",
       "<path clip-path=\"url(#clip870)\" d=\"M1423.71 758.007 Q1420.1 758.007 1418.27 761.571 Q1416.46 765.113 1416.46 772.243 Q1416.46 779.349 1418.27 782.914 Q1420.1 786.455 1423.71 786.455 Q1427.34 786.455 1429.15 782.914 Q1430.98 779.349 1430.98 772.243 Q1430.98 765.113 1429.15 761.571 Q1427.34 758.007 1423.71 758.007 M1423.71 754.303 Q1429.52 754.303 1432.58 758.909 Q1435.65 763.493 1435.65 772.243 Q1435.65 780.969 1432.58 785.576 Q1429.52 790.159 1423.71 790.159 Q1417.9 790.159 1414.82 785.576 Q1411.77 780.969 1411.77 772.243 Q1411.77 763.493 1414.82 758.909 Q1417.9 754.303 1423.71 754.303 Z\" fill=\"#000000\" fill-rule=\"evenodd\" fill-opacity=\"1\" /><path clip-path=\"url(#clip870)\" d=\"M1628.54 785.553 L1644.86 785.553 L1644.86 789.488 L1622.92 789.488 L1622.92 785.553 Q1625.58 782.798 1630.16 778.168 Q1634.77 773.516 1635.95 772.173 Q1638.2 769.65 1639.08 767.914 Q1639.98 766.155 1639.98 764.465 Q1639.98 761.71 1638.03 759.974 Q1636.11 758.238 1633.01 758.238 Q1630.81 758.238 1628.36 759.002 Q1625.93 759.766 1623.15 761.317 L1623.15 756.595 Q1625.97 755.46 1628.43 754.882 Q1630.88 754.303 1632.92 754.303 Q1638.29 754.303 1641.48 756.988 Q1644.68 759.673 1644.68 764.164 Q1644.68 766.294 1643.87 768.215 Q1643.08 770.113 1640.97 772.706 Q1640.4 773.377 1637.29 776.594 Q1634.19 779.789 1628.54 785.553 Z\" fill=\"#000000\" fill-rule=\"evenodd\" fill-opacity=\"1\" /><path clip-path=\"url(#clip870)\" d=\"M1654.72 754.928 L1673.08 754.928 L1673.08 758.863 L1659.01 758.863 L1659.01 767.335 Q1660.02 766.988 1661.04 766.826 Q1662.06 766.641 1663.08 766.641 Q1668.87 766.641 1672.25 769.812 Q1675.63 772.983 1675.63 778.4 Q1675.63 783.979 1672.15 787.08 Q1668.68 790.159 1662.36 790.159 Q1660.19 790.159 1657.92 789.789 Q1655.67 789.418 1653.27 788.678 L1653.27 783.979 Q1655.35 785.113 1657.57 785.668 Q1659.79 786.224 1662.27 786.224 Q1666.27 786.224 1668.61 784.118 Q1670.95 782.011 1670.95 778.4 Q1670.95 774.789 1668.61 772.682 Q1666.27 770.576 1662.27 770.576 Q1660.4 770.576 1658.52 770.993 Q1656.67 771.409 1654.72 772.289 L1654.72 754.928 Z\" fill=\"#000000\" fill-rule=\"evenodd\" fill-opacity=\"1\" /><path clip-path=\"url(#clip870)\" d=\"M1849.53 754.928 L1867.89 754.928 L1867.89 758.863 L1853.82 758.863 L1853.82 767.335 Q1854.83 766.988 1855.85 766.826 Q1856.87 766.641 1857.89 766.641 Q1863.68 766.641 1867.06 769.812 Q1870.44 772.983 1870.44 778.4 Q1870.44 783.979 1866.96 787.08 Q1863.49 790.159 1857.17 790.159 Q1855 790.159 1852.73 789.789 Q1850.48 789.418 1848.08 788.678 L1848.08 783.979 Q1850.16 785.113 1852.38 785.668 Q1854.6 786.224 1857.08 786.224 Q1861.08 786.224 1863.42 784.118 Q1865.76 782.011 1865.76 778.4 Q1865.76 774.789 1863.42 772.682 Q1861.08 770.576 1857.08 770.576 Q1855.21 770.576 1853.33 770.993 Q1851.48 771.409 1849.53 772.289 L1849.53 754.928 Z\" fill=\"#000000\" fill-rule=\"evenodd\" fill-opacity=\"1\" /><path clip-path=\"url(#clip870)\" d=\"M1889.65 758.007 Q1886.04 758.007 1884.21 761.571 Q1882.4 765.113 1882.4 772.243 Q1882.4 779.349 1884.21 782.914 Q1886.04 786.455 1889.65 786.455 Q1893.28 786.455 1895.09 782.914 Q1896.92 779.349 1896.92 772.243 Q1896.92 765.113 1895.09 761.571 Q1893.28 758.007 1889.65 758.007 M1889.65 754.303 Q1895.46 754.303 1898.52 758.909 Q1901.59 763.493 1901.59 772.243 Q1901.59 780.969 1898.52 785.576 Q1895.46 790.159 1889.65 790.159 Q1883.84 790.159 1880.76 785.576 Q1877.71 780.969 1877.71 772.243 Q1877.71 763.493 1880.76 758.909 Q1883.84 754.303 1889.65 754.303 Z\" fill=\"#000000\" fill-rule=\"evenodd\" fill-opacity=\"1\" /><path clip-path=\"url(#clip870)\" d=\"M2074.25 754.928 L2096.47 754.928 L2096.47 756.919 L2083.93 789.488 L2079.04 789.488 L2090.85 758.863 L2074.25 758.863 L2074.25 754.928 Z\" fill=\"#000000\" fill-rule=\"evenodd\" fill-opacity=\"1\" /><path clip-path=\"url(#clip870)\" d=\"M2105.64 754.928 L2124 754.928 L2124 758.863 L2109.92 758.863 L2109.92 767.335 Q2110.94 766.988 2111.96 766.826 Q2112.98 766.641 2114 766.641 Q2119.78 766.641 2123.16 769.812 Q2126.54 772.983 2126.54 778.4 Q2126.54 783.979 2123.07 787.08 Q2119.6 790.159 2113.28 790.159 Q2111.1 790.159 2108.83 789.789 Q2106.59 789.418 2104.18 788.678 L2104.18 783.979 Q2106.26 785.113 2108.49 785.668 Q2110.71 786.224 2113.19 786.224 Q2117.19 786.224 2119.53 784.118 Q2121.87 782.011 2121.87 778.4 Q2121.87 774.789 2119.53 772.682 Q2117.19 770.576 2113.19 770.576 Q2111.31 770.576 2109.44 770.993 Q2107.58 771.409 2105.64 772.289 L2105.64 754.928 Z\" fill=\"#000000\" fill-rule=\"evenodd\" fill-opacity=\"1\" /><path clip-path=\"url(#clip870)\" d=\"M2285.57 785.553 L2293.2 785.553 L2293.2 759.187 L2284.89 760.854 L2284.89 756.595 L2293.16 754.928 L2297.83 754.928 L2297.83 785.553 L2305.47 785.553 L2305.47 789.488 L2285.57 789.488 L2285.57 785.553 Z\" fill=\"#000000\" fill-rule=\"evenodd\" fill-opacity=\"1\" /><path clip-path=\"url(#clip870)\" d=\"M2324.92 758.007 Q2321.31 758.007 2319.48 761.571 Q2317.67 765.113 2317.67 772.243 Q2317.67 779.349 2319.48 782.914 Q2321.31 786.455 2324.92 786.455 Q2328.55 786.455 2330.36 782.914 Q2332.19 779.349 2332.19 772.243 Q2332.19 765.113 2330.36 761.571 Q2328.55 758.007 2324.92 758.007 M2324.92 754.303 Q2330.73 754.303 2333.78 758.909 Q2336.86 763.493 2336.86 772.243 Q2336.86 780.969 2333.78 785.576 Q2330.73 790.159 2324.92 790.159 Q2319.11 790.159 2316.03 785.576 Q2312.97 780.969 2312.97 772.243 Q2312.97 763.493 2316.03 758.909 Q2319.11 754.303 2324.92 754.303 Z\" fill=\"#000000\" fill-rule=\"evenodd\" fill-opacity=\"1\" /><path clip-path=\"url(#clip870)\" d=\"M2355.08 758.007 Q2351.47 758.007 2349.64 761.571 Q2347.83 765.113 2347.83 772.243 Q2347.83 779.349 2349.64 782.914 Q2351.47 786.455 2355.08 786.455 Q2358.71 786.455 2360.52 782.914 Q2362.35 779.349 2362.35 772.243 Q2362.35 765.113 2360.52 761.571 Q2358.71 758.007 2355.08 758.007 M2355.08 754.303 Q2360.89 754.303 2363.95 758.909 Q2367.02 763.493 2367.02 772.243 Q2367.02 780.969 2363.95 785.576 Q2360.89 790.159 2355.08 790.159 Q2349.27 790.159 2346.19 785.576 Q2343.13 780.969 2343.13 772.243 Q2343.13 763.493 2346.19 758.909 Q2349.27 754.303 2355.08 754.303 Z\" fill=\"#000000\" fill-rule=\"evenodd\" fill-opacity=\"1\" /><polyline clip-path=\"url(#clip873)\" style=\"stroke:#000000; stroke-linecap:butt; stroke-linejoin:round; stroke-width:2; stroke-opacity:0.1; fill:none\" points=\"\n",
       "  1405.94,699.37 2352.76,699.37 \n",
       "  \"/>\n",
       "<polyline clip-path=\"url(#clip873)\" style=\"stroke:#000000; stroke-linecap:butt; stroke-linejoin:round; stroke-width:2; stroke-opacity:0.1; fill:none\" points=\"\n",
       "  1405.94,540.878 2352.76,540.878 \n",
       "  \"/>\n",
       "<polyline clip-path=\"url(#clip873)\" style=\"stroke:#000000; stroke-linecap:butt; stroke-linejoin:round; stroke-width:2; stroke-opacity:0.1; fill:none\" points=\"\n",
       "  1405.94,382.386 2352.76,382.386 \n",
       "  \"/>\n",
       "<polyline clip-path=\"url(#clip873)\" style=\"stroke:#000000; stroke-linecap:butt; stroke-linejoin:round; stroke-width:2; stroke-opacity:0.1; fill:none\" points=\"\n",
       "  1405.94,223.894 2352.76,223.894 \n",
       "  \"/>\n",
       "<polyline clip-path=\"url(#clip873)\" style=\"stroke:#000000; stroke-linecap:butt; stroke-linejoin:round; stroke-width:2; stroke-opacity:0.1; fill:none\" points=\"\n",
       "  1405.94,65.4023 2352.76,65.4023 \n",
       "  \"/>\n",
       "<polyline clip-path=\"url(#clip870)\" style=\"stroke:#000000; stroke-linecap:butt; stroke-linejoin:round; stroke-width:4; stroke-opacity:1; fill:none\" points=\"\n",
       "  1405.94,717.488 1405.94,47.2441 \n",
       "  \"/>\n",
       "<polyline clip-path=\"url(#clip870)\" style=\"stroke:#000000; stroke-linecap:butt; stroke-linejoin:round; stroke-width:4; stroke-opacity:1; fill:none\" points=\"\n",
       "  1405.94,699.37 1424.83,699.37 \n",
       "  \"/>\n",
       "<polyline clip-path=\"url(#clip870)\" style=\"stroke:#000000; stroke-linecap:butt; stroke-linejoin:round; stroke-width:4; stroke-opacity:1; fill:none\" points=\"\n",
       "  1405.94,540.878 1424.83,540.878 \n",
       "  \"/>\n",
       "<polyline clip-path=\"url(#clip870)\" style=\"stroke:#000000; stroke-linecap:butt; stroke-linejoin:round; stroke-width:4; stroke-opacity:1; fill:none\" points=\"\n",
       "  1405.94,382.386 1424.83,382.386 \n",
       "  \"/>\n",
       "<polyline clip-path=\"url(#clip870)\" style=\"stroke:#000000; stroke-linecap:butt; stroke-linejoin:round; stroke-width:4; stroke-opacity:1; fill:none\" points=\"\n",
       "  1405.94,223.894 1424.83,223.894 \n",
       "  \"/>\n",
       "<polyline clip-path=\"url(#clip870)\" style=\"stroke:#000000; stroke-linecap:butt; stroke-linejoin:round; stroke-width:4; stroke-opacity:1; fill:none\" points=\"\n",
       "  1405.94,65.4023 1424.83,65.4023 \n",
       "  \"/>\n",
       "<path clip-path=\"url(#clip870)\" d=\"M1244.99 699.822 L1274.67 699.822 L1274.67 703.757 L1244.99 703.757 L1244.99 699.822 Z\" fill=\"#000000\" fill-rule=\"evenodd\" fill-opacity=\"1\" /><path clip-path=\"url(#clip870)\" d=\"M1285.57 712.715 L1293.21 712.715 L1293.21 686.35 L1284.9 688.016 L1284.9 683.757 L1293.16 682.09 L1297.84 682.09 L1297.84 712.715 L1305.48 712.715 L1305.48 716.65 L1285.57 716.65 L1285.57 712.715 Z\" fill=\"#000000\" fill-rule=\"evenodd\" fill-opacity=\"1\" /><path clip-path=\"url(#clip870)\" d=\"M1314.92 710.771 L1319.81 710.771 L1319.81 716.65 L1314.92 716.65 L1314.92 710.771 Z\" fill=\"#000000\" fill-rule=\"evenodd\" fill-opacity=\"1\" /><path clip-path=\"url(#clip870)\" d=\"M1339.99 685.169 Q1336.38 685.169 1334.55 688.734 Q1332.75 692.276 1332.75 699.405 Q1332.75 706.512 1334.55 710.076 Q1336.38 713.618 1339.99 713.618 Q1343.63 713.618 1345.43 710.076 Q1347.26 706.512 1347.26 699.405 Q1347.26 692.276 1345.43 688.734 Q1343.63 685.169 1339.99 685.169 M1339.99 681.465 Q1345.8 681.465 1348.86 686.072 Q1351.94 690.655 1351.94 699.405 Q1351.94 708.132 1348.86 712.738 Q1345.8 717.322 1339.99 717.322 Q1334.18 717.322 1331.1 712.738 Q1328.05 708.132 1328.05 699.405 Q1328.05 690.655 1331.1 686.072 Q1334.18 681.465 1339.99 681.465 Z\" fill=\"#000000\" fill-rule=\"evenodd\" fill-opacity=\"1\" /><path clip-path=\"url(#clip870)\" d=\"M1245.99 541.33 L1275.66 541.33 L1275.66 545.265 L1245.99 545.265 L1245.99 541.33 Z\" fill=\"#000000\" fill-rule=\"evenodd\" fill-opacity=\"1\" /><path clip-path=\"url(#clip870)\" d=\"M1295.76 526.677 Q1292.14 526.677 1290.32 530.242 Q1288.51 533.784 1288.51 540.913 Q1288.51 548.02 1290.32 551.584 Q1292.14 555.126 1295.76 555.126 Q1299.39 555.126 1301.2 551.584 Q1303.02 548.02 1303.02 540.913 Q1303.02 533.784 1301.2 530.242 Q1299.39 526.677 1295.76 526.677 M1295.76 522.973 Q1301.57 522.973 1304.62 527.58 Q1307.7 532.163 1307.7 540.913 Q1307.7 549.64 1304.62 554.246 Q1301.57 558.83 1295.76 558.83 Q1289.95 558.83 1286.87 554.246 Q1283.81 549.64 1283.81 540.913 Q1283.81 532.163 1286.87 527.58 Q1289.95 522.973 1295.76 522.973 Z\" fill=\"#000000\" fill-rule=\"evenodd\" fill-opacity=\"1\" /><path clip-path=\"url(#clip870)\" d=\"M1315.92 552.279 L1320.8 552.279 L1320.8 558.158 L1315.92 558.158 L1315.92 552.279 Z\" fill=\"#000000\" fill-rule=\"evenodd\" fill-opacity=\"1\" /><path clip-path=\"url(#clip870)\" d=\"M1331.03 523.598 L1349.39 523.598 L1349.39 527.534 L1335.32 527.534 L1335.32 536.006 Q1336.33 535.658 1337.35 535.496 Q1338.37 535.311 1339.39 535.311 Q1345.18 535.311 1348.56 538.483 Q1351.94 541.654 1351.94 547.07 Q1351.94 552.649 1348.46 555.751 Q1344.99 558.83 1338.67 558.83 Q1336.5 558.83 1334.23 558.459 Q1331.98 558.089 1329.58 557.348 L1329.58 552.649 Q1331.66 553.783 1333.88 554.339 Q1336.1 554.895 1338.58 554.895 Q1342.58 554.895 1344.92 552.788 Q1347.26 550.682 1347.26 547.07 Q1347.26 543.459 1344.92 541.353 Q1342.58 539.246 1338.58 539.246 Q1336.7 539.246 1334.83 539.663 Q1332.98 540.08 1331.03 540.959 L1331.03 523.598 Z\" fill=\"#000000\" fill-rule=\"evenodd\" fill-opacity=\"1\" /><path clip-path=\"url(#clip870)\" d=\"M1294.76 368.185 Q1291.15 368.185 1289.32 371.75 Q1287.52 375.291 1287.52 382.421 Q1287.52 389.528 1289.32 393.092 Q1291.15 396.634 1294.76 396.634 Q1298.39 396.634 1300.2 393.092 Q1302.03 389.528 1302.03 382.421 Q1302.03 375.291 1300.2 371.75 Q1298.39 368.185 1294.76 368.185 M1294.76 364.481 Q1300.57 364.481 1303.63 369.088 Q1306.7 373.671 1306.7 382.421 Q1306.7 391.148 1303.63 395.754 Q1300.57 400.338 1294.76 400.338 Q1288.95 400.338 1285.87 395.754 Q1282.82 391.148 1282.82 382.421 Q1282.82 373.671 1285.87 369.088 Q1288.95 364.481 1294.76 364.481 Z\" fill=\"#000000\" fill-rule=\"evenodd\" fill-opacity=\"1\" /><path clip-path=\"url(#clip870)\" d=\"M1314.92 393.787 L1319.81 393.787 L1319.81 399.666 L1314.92 399.666 L1314.92 393.787 Z\" fill=\"#000000\" fill-rule=\"evenodd\" fill-opacity=\"1\" /><path clip-path=\"url(#clip870)\" d=\"M1339.99 368.185 Q1336.38 368.185 1334.55 371.75 Q1332.75 375.291 1332.75 382.421 Q1332.75 389.528 1334.55 393.092 Q1336.38 396.634 1339.99 396.634 Q1343.63 396.634 1345.43 393.092 Q1347.26 389.528 1347.26 382.421 Q1347.26 375.291 1345.43 371.75 Q1343.63 368.185 1339.99 368.185 M1339.99 364.481 Q1345.8 364.481 1348.86 369.088 Q1351.94 373.671 1351.94 382.421 Q1351.94 391.148 1348.86 395.754 Q1345.8 400.338 1339.99 400.338 Q1334.18 400.338 1331.1 395.754 Q1328.05 391.148 1328.05 382.421 Q1328.05 373.671 1331.1 369.088 Q1334.18 364.481 1339.99 364.481 Z\" fill=\"#000000\" fill-rule=\"evenodd\" fill-opacity=\"1\" /><path clip-path=\"url(#clip870)\" d=\"M1295.76 209.693 Q1292.14 209.693 1290.32 213.258 Q1288.51 216.799 1288.51 223.929 Q1288.51 231.036 1290.32 234.6 Q1292.14 238.142 1295.76 238.142 Q1299.39 238.142 1301.2 234.6 Q1303.02 231.036 1303.02 223.929 Q1303.02 216.799 1301.2 213.258 Q1299.39 209.693 1295.76 209.693 M1295.76 205.989 Q1301.57 205.989 1304.62 210.596 Q1307.7 215.179 1307.7 223.929 Q1307.7 232.656 1304.62 237.262 Q1301.57 241.846 1295.76 241.846 Q1289.95 241.846 1286.87 237.262 Q1283.81 232.656 1283.81 223.929 Q1283.81 215.179 1286.87 210.596 Q1289.95 205.989 1295.76 205.989 Z\" fill=\"#000000\" fill-rule=\"evenodd\" fill-opacity=\"1\" /><path clip-path=\"url(#clip870)\" d=\"M1315.92 235.295 L1320.8 235.295 L1320.8 241.174 L1315.92 241.174 L1315.92 235.295 Z\" fill=\"#000000\" fill-rule=\"evenodd\" fill-opacity=\"1\" /><path clip-path=\"url(#clip870)\" d=\"M1331.03 206.614 L1349.39 206.614 L1349.39 210.55 L1335.32 210.55 L1335.32 219.022 Q1336.33 218.674 1337.35 218.512 Q1338.37 218.327 1339.39 218.327 Q1345.18 218.327 1348.56 221.499 Q1351.94 224.67 1351.94 230.086 Q1351.94 235.665 1348.46 238.767 Q1344.99 241.846 1338.67 241.846 Q1336.5 241.846 1334.23 241.475 Q1331.98 241.105 1329.58 240.364 L1329.58 235.665 Q1331.66 236.799 1333.88 237.355 Q1336.1 237.91 1338.58 237.91 Q1342.58 237.91 1344.92 235.804 Q1347.26 233.698 1347.26 230.086 Q1347.26 226.475 1344.92 224.369 Q1342.58 222.262 1338.58 222.262 Q1336.7 222.262 1334.83 222.679 Q1332.98 223.096 1331.03 223.975 L1331.03 206.614 Z\" fill=\"#000000\" fill-rule=\"evenodd\" fill-opacity=\"1\" /><path clip-path=\"url(#clip870)\" d=\"M1285.57 78.7472 L1293.21 78.7472 L1293.21 52.3816 L1284.9 54.0482 L1284.9 49.789 L1293.16 48.1223 L1297.84 48.1223 L1297.84 78.7472 L1305.48 78.7472 L1305.48 82.6823 L1285.57 82.6823 L1285.57 78.7472 Z\" fill=\"#000000\" fill-rule=\"evenodd\" fill-opacity=\"1\" /><path clip-path=\"url(#clip870)\" d=\"M1314.92 76.8028 L1319.81 76.8028 L1319.81 82.6823 L1314.92 82.6823 L1314.92 76.8028 Z\" fill=\"#000000\" fill-rule=\"evenodd\" fill-opacity=\"1\" /><path clip-path=\"url(#clip870)\" d=\"M1339.99 51.201 Q1336.38 51.201 1334.55 54.7658 Q1332.75 58.3075 1332.75 65.4371 Q1332.75 72.5435 1334.55 76.1083 Q1336.38 79.65 1339.99 79.65 Q1343.63 79.65 1345.43 76.1083 Q1347.26 72.5435 1347.26 65.4371 Q1347.26 58.3075 1345.43 54.7658 Q1343.63 51.201 1339.99 51.201 M1339.99 47.4974 Q1345.8 47.4974 1348.86 52.1038 Q1351.94 56.6871 1351.94 65.4371 Q1351.94 74.1639 1348.86 78.7703 Q1345.8 83.3536 1339.99 83.3536 Q1334.18 83.3536 1331.1 78.7703 Q1328.05 74.1639 1328.05 65.4371 Q1328.05 56.6871 1331.1 52.1038 Q1334.18 47.4974 1339.99 47.4974 Z\" fill=\"#000000\" fill-rule=\"evenodd\" fill-opacity=\"1\" /><polyline clip-path=\"url(#clip873)\" style=\"stroke:#009af9; stroke-linecap:butt; stroke-linejoin:round; stroke-width:4; stroke-opacity:1; fill:none\" points=\"\n",
       "  1432.73,441.717 1441.76,389.85 1450.78,337.803 1459.8,286.989 1468.82,238.781 1477.85,194.481 1486.87,155.28 1495.89,122.229 1504.91,96.2125 1513.94,77.9203 \n",
       "  1522.96,67.8341 1531.98,66.2133 1541,73.0888 1550.03,88.2635 1559.05,111.318 1568.07,141.622 1577.09,178.354 1586.12,220.521 1595.14,266.988 1604.16,316.508 \n",
       "  1613.18,367.754 1622.21,419.359 1631.23,469.948 1640.25,518.178 1649.27,562.769 1658.29,602.545 1667.32,636.458 1676.34,663.619 1685.36,683.32 1694.38,695.052 \n",
       "  1703.41,698.519 1712.43,693.642 1721.45,680.564 1730.47,659.644 1739.5,631.445 1748.52,596.722 1757.54,556.397 1766.56,511.538 1775.59,463.33 1784.61,413.04 \n",
       "  1793.63,361.989 1802.65,311.512 1811.68,262.927 1820.7,217.497 1829.72,176.401 1838.74,140.701 1847.77,111.316 1856.79,88.9984 1865.81,74.3138 1874.83,67.6289 \n",
       "  1883.86,69.102 1892.88,78.6794 1901.9,96.0978 1910.92,120.892 1919.95,152.409 1928.97,189.821 1937.99,232.154 1947.01,278.309 1956.04,327.091 1965.06,377.243 \n",
       "  1974.08,427.475 1983.1,476.5 1992.13,523.064 2001.15,565.982 2010.17,604.164 2019.19,636.647 2028.22,662.613 2037.24,681.415 2046.26,692.589 2055.28,695.869 \n",
       "  2064.31,691.188 2073.33,678.682 2082.35,658.686 2091.37,631.721 2100.4,598.487 2109.42,559.836 2118.44,516.758 2127.46,470.347 2136.49,421.781 2145.51,372.287 \n",
       "  2154.53,323.112 2163.55,275.489 2172.58,230.609 2181.6,189.591 2190.62,153.452 2199.64,123.084 2208.67,99.231 2217.69,82.473 2226.71,73.2098 2235.73,71.6535 \n",
       "  2244.76,77.8235 2253.78,91.547 2262.8,112.464 2271.82,140.038 2280.85,173.568 2289.87,212.21 2298.89,254.994 2307.91,300.855 2316.94,348.653 2325.96,397.205 \n",
       "  \n",
       "  \"/>\n",
       "<path clip-path=\"url(#clip870)\" d=\"\n",
       "M1909.14 173.266 L2321.2 173.266 L2321.2 69.5856 L1909.14 69.5856  Z\n",
       "  \" fill=\"#ffffff\" fill-rule=\"evenodd\" fill-opacity=\"1\"/>\n",
       "<polyline clip-path=\"url(#clip870)\" style=\"stroke:#000000; stroke-linecap:butt; stroke-linejoin:round; stroke-width:4; stroke-opacity:1; fill:none\" points=\"\n",
       "  1909.14,173.266 2321.2,173.266 2321.2,69.5856 1909.14,69.5856 1909.14,173.266 \n",
       "  \"/>\n",
       "<polyline clip-path=\"url(#clip870)\" style=\"stroke:#009af9; stroke-linecap:butt; stroke-linejoin:round; stroke-width:4; stroke-opacity:1; fill:none\" points=\"\n",
       "  1945.14,121.426 2161.14,121.426 \n",
       "  \"/>\n",
       "<path clip-path=\"url(#clip870)\" d=\"M2210.98 141.113 Q2209.17 145.743 2207.46 147.155 Q2205.75 148.567 2202.88 148.567 L2199.47 148.567 L2199.47 145.002 L2201.97 145.002 Q2203.73 145.002 2204.7 144.168 Q2205.68 143.335 2206.86 140.233 L2207.62 138.289 L2197.14 112.78 L2201.65 112.78 L2209.75 133.057 L2217.85 112.78 L2222.37 112.78 L2210.98 141.113 Z\" fill=\"#000000\" fill-rule=\"evenodd\" fill-opacity=\"1\" /><path clip-path=\"url(#clip870)\" d=\"M2232.88 134.77 L2249.2 134.77 L2249.2 138.706 L2227.25 138.706 L2227.25 134.77 Q2229.91 132.016 2234.5 127.386 Q2239.1 122.733 2240.28 121.391 Q2242.53 118.868 2243.41 117.132 Q2244.31 115.372 2244.31 113.683 Q2244.31 110.928 2242.37 109.192 Q2240.45 107.456 2237.34 107.456 Q2235.14 107.456 2232.69 108.22 Q2230.26 108.983 2227.48 110.534 L2227.48 105.812 Q2230.31 104.678 2232.76 104.099 Q2235.21 103.521 2237.25 103.521 Q2242.62 103.521 2245.82 106.206 Q2249.01 108.891 2249.01 113.382 Q2249.01 115.511 2248.2 117.433 Q2247.41 119.331 2245.31 121.923 Q2244.73 122.595 2241.63 125.812 Q2238.52 129.007 2232.88 134.77 Z\" fill=\"#000000\" fill-rule=\"evenodd\" fill-opacity=\"1\" /><path clip-path=\"url(#clip870)\" d=\"\n",
       "M2605.94 717.488 L3552.76 717.488 L3552.76 47.2441 L2605.94 47.2441  Z\n",
       "  \" fill=\"#ffffff\" fill-rule=\"evenodd\" fill-opacity=\"1\"/>\n",
       "<defs>\n",
       "  <clipPath id=\"clip874\">\n",
       "    <rect x=\"2605\" y=\"47\" width=\"948\" height=\"671\"/>\n",
       "  </clipPath>\n",
       "</defs>\n",
       "<polyline clip-path=\"url(#clip874)\" style=\"stroke:#000000; stroke-linecap:butt; stroke-linejoin:round; stroke-width:2; stroke-opacity:0.1; fill:none\" points=\"\n",
       "  2623.71,717.488 2623.71,47.2441 \n",
       "  \"/>\n",
       "<polyline clip-path=\"url(#clip874)\" style=\"stroke:#000000; stroke-linecap:butt; stroke-linejoin:round; stroke-width:2; stroke-opacity:0.1; fill:none\" points=\"\n",
       "  2849.27,717.488 2849.27,47.2441 \n",
       "  \"/>\n",
       "<polyline clip-path=\"url(#clip874)\" style=\"stroke:#000000; stroke-linecap:butt; stroke-linejoin:round; stroke-width:2; stroke-opacity:0.1; fill:none\" points=\"\n",
       "  3074.83,717.488 3074.83,47.2441 \n",
       "  \"/>\n",
       "<polyline clip-path=\"url(#clip874)\" style=\"stroke:#000000; stroke-linecap:butt; stroke-linejoin:round; stroke-width:2; stroke-opacity:0.1; fill:none\" points=\"\n",
       "  3300.4,717.488 3300.4,47.2441 \n",
       "  \"/>\n",
       "<polyline clip-path=\"url(#clip874)\" style=\"stroke:#000000; stroke-linecap:butt; stroke-linejoin:round; stroke-width:2; stroke-opacity:0.1; fill:none\" points=\"\n",
       "  3525.96,717.488 3525.96,47.2441 \n",
       "  \"/>\n",
       "<polyline clip-path=\"url(#clip870)\" style=\"stroke:#000000; stroke-linecap:butt; stroke-linejoin:round; stroke-width:4; stroke-opacity:1; fill:none\" points=\"\n",
       "  2605.94,717.488 3552.76,717.488 \n",
       "  \"/>\n",
       "<polyline clip-path=\"url(#clip870)\" style=\"stroke:#000000; stroke-linecap:butt; stroke-linejoin:round; stroke-width:4; stroke-opacity:1; fill:none\" points=\"\n",
       "  2623.71,717.488 2623.71,698.59 \n",
       "  \"/>\n",
       "<polyline clip-path=\"url(#clip870)\" style=\"stroke:#000000; stroke-linecap:butt; stroke-linejoin:round; stroke-width:4; stroke-opacity:1; fill:none\" points=\"\n",
       "  2849.27,717.488 2849.27,698.59 \n",
       "  \"/>\n",
       "<polyline clip-path=\"url(#clip870)\" style=\"stroke:#000000; stroke-linecap:butt; stroke-linejoin:round; stroke-width:4; stroke-opacity:1; fill:none\" points=\"\n",
       "  3074.83,717.488 3074.83,698.59 \n",
       "  \"/>\n",
       "<polyline clip-path=\"url(#clip870)\" style=\"stroke:#000000; stroke-linecap:butt; stroke-linejoin:round; stroke-width:4; stroke-opacity:1; fill:none\" points=\"\n",
       "  3300.4,717.488 3300.4,698.59 \n",
       "  \"/>\n",
       "<polyline clip-path=\"url(#clip870)\" style=\"stroke:#000000; stroke-linecap:butt; stroke-linejoin:round; stroke-width:4; stroke-opacity:1; fill:none\" points=\"\n",
       "  3525.96,717.488 3525.96,698.59 \n",
       "  \"/>\n",
       "<path clip-path=\"url(#clip870)\" d=\"M2623.71 758.007 Q2620.1 758.007 2618.27 761.571 Q2616.46 765.113 2616.46 772.243 Q2616.46 779.349 2618.27 782.914 Q2620.1 786.455 2623.71 786.455 Q2627.34 786.455 2629.15 782.914 Q2630.98 779.349 2630.98 772.243 Q2630.98 765.113 2629.15 761.571 Q2627.34 758.007 2623.71 758.007 M2623.71 754.303 Q2629.52 754.303 2632.58 758.909 Q2635.65 763.493 2635.65 772.243 Q2635.65 780.969 2632.58 785.576 Q2629.52 790.159 2623.71 790.159 Q2617.9 790.159 2614.82 785.576 Q2611.77 780.969 2611.77 772.243 Q2611.77 763.493 2614.82 758.909 Q2617.9 754.303 2623.71 754.303 Z\" fill=\"#000000\" fill-rule=\"evenodd\" fill-opacity=\"1\" /><path clip-path=\"url(#clip870)\" d=\"M2828.54 785.553 L2844.86 785.553 L2844.86 789.488 L2822.92 789.488 L2822.92 785.553 Q2825.58 782.798 2830.16 778.168 Q2834.77 773.516 2835.95 772.173 Q2838.2 769.65 2839.08 767.914 Q2839.98 766.155 2839.98 764.465 Q2839.98 761.71 2838.03 759.974 Q2836.11 758.238 2833.01 758.238 Q2830.81 758.238 2828.36 759.002 Q2825.93 759.766 2823.15 761.317 L2823.15 756.595 Q2825.97 755.46 2828.43 754.882 Q2830.88 754.303 2832.92 754.303 Q2838.29 754.303 2841.48 756.988 Q2844.68 759.673 2844.68 764.164 Q2844.68 766.294 2843.87 768.215 Q2843.08 770.113 2840.97 772.706 Q2840.4 773.377 2837.29 776.594 Q2834.19 779.789 2828.54 785.553 Z\" fill=\"#000000\" fill-rule=\"evenodd\" fill-opacity=\"1\" /><path clip-path=\"url(#clip870)\" d=\"M2854.72 754.928 L2873.08 754.928 L2873.08 758.863 L2859.01 758.863 L2859.01 767.335 Q2860.02 766.988 2861.04 766.826 Q2862.06 766.641 2863.08 766.641 Q2868.87 766.641 2872.25 769.812 Q2875.63 772.983 2875.63 778.4 Q2875.63 783.979 2872.15 787.08 Q2868.68 790.159 2862.36 790.159 Q2860.19 790.159 2857.92 789.789 Q2855.67 789.418 2853.27 788.678 L2853.27 783.979 Q2855.35 785.113 2857.57 785.668 Q2859.79 786.224 2862.27 786.224 Q2866.27 786.224 2868.61 784.118 Q2870.95 782.011 2870.95 778.4 Q2870.95 774.789 2868.61 772.682 Q2866.27 770.576 2862.27 770.576 Q2860.4 770.576 2858.52 770.993 Q2856.67 771.409 2854.72 772.289 L2854.72 754.928 Z\" fill=\"#000000\" fill-rule=\"evenodd\" fill-opacity=\"1\" /><path clip-path=\"url(#clip870)\" d=\"M3049.53 754.928 L3067.89 754.928 L3067.89 758.863 L3053.82 758.863 L3053.82 767.335 Q3054.83 766.988 3055.85 766.826 Q3056.87 766.641 3057.89 766.641 Q3063.68 766.641 3067.06 769.812 Q3070.44 772.983 3070.44 778.4 Q3070.44 783.979 3066.96 787.08 Q3063.49 790.159 3057.17 790.159 Q3055 790.159 3052.73 789.789 Q3050.48 789.418 3048.08 788.678 L3048.08 783.979 Q3050.16 785.113 3052.38 785.668 Q3054.6 786.224 3057.08 786.224 Q3061.08 786.224 3063.42 784.118 Q3065.76 782.011 3065.76 778.4 Q3065.76 774.789 3063.42 772.682 Q3061.08 770.576 3057.08 770.576 Q3055.21 770.576 3053.33 770.993 Q3051.48 771.409 3049.53 772.289 L3049.53 754.928 Z\" fill=\"#000000\" fill-rule=\"evenodd\" fill-opacity=\"1\" /><path clip-path=\"url(#clip870)\" d=\"M3089.65 758.007 Q3086.04 758.007 3084.21 761.571 Q3082.4 765.113 3082.4 772.243 Q3082.4 779.349 3084.21 782.914 Q3086.04 786.455 3089.65 786.455 Q3093.28 786.455 3095.09 782.914 Q3096.92 779.349 3096.92 772.243 Q3096.92 765.113 3095.09 761.571 Q3093.28 758.007 3089.65 758.007 M3089.65 754.303 Q3095.46 754.303 3098.52 758.909 Q3101.59 763.493 3101.59 772.243 Q3101.59 780.969 3098.52 785.576 Q3095.46 790.159 3089.65 790.159 Q3083.84 790.159 3080.76 785.576 Q3077.71 780.969 3077.71 772.243 Q3077.71 763.493 3080.76 758.909 Q3083.84 754.303 3089.65 754.303 Z\" fill=\"#000000\" fill-rule=\"evenodd\" fill-opacity=\"1\" /><path clip-path=\"url(#clip870)\" d=\"M3274.25 754.928 L3296.47 754.928 L3296.47 756.919 L3283.93 789.488 L3279.04 789.488 L3290.85 758.863 L3274.25 758.863 L3274.25 754.928 Z\" fill=\"#000000\" fill-rule=\"evenodd\" fill-opacity=\"1\" /><path clip-path=\"url(#clip870)\" d=\"M3305.64 754.928 L3324 754.928 L3324 758.863 L3309.92 758.863 L3309.92 767.335 Q3310.94 766.988 3311.96 766.826 Q3312.98 766.641 3314 766.641 Q3319.78 766.641 3323.16 769.812 Q3326.54 772.983 3326.54 778.4 Q3326.54 783.979 3323.07 787.08 Q3319.6 790.159 3313.28 790.159 Q3311.1 790.159 3308.83 789.789 Q3306.59 789.418 3304.18 788.678 L3304.18 783.979 Q3306.26 785.113 3308.49 785.668 Q3310.71 786.224 3313.19 786.224 Q3317.19 786.224 3319.53 784.118 Q3321.87 782.011 3321.87 778.4 Q3321.87 774.789 3319.53 772.682 Q3317.19 770.576 3313.19 770.576 Q3311.31 770.576 3309.44 770.993 Q3307.58 771.409 3305.64 772.289 L3305.64 754.928 Z\" fill=\"#000000\" fill-rule=\"evenodd\" fill-opacity=\"1\" /><path clip-path=\"url(#clip870)\" d=\"M3485.57 785.553 L3493.2 785.553 L3493.2 759.187 L3484.89 760.854 L3484.89 756.595 L3493.16 754.928 L3497.83 754.928 L3497.83 785.553 L3505.47 785.553 L3505.47 789.488 L3485.57 789.488 L3485.57 785.553 Z\" fill=\"#000000\" fill-rule=\"evenodd\" fill-opacity=\"1\" /><path clip-path=\"url(#clip870)\" d=\"M3524.92 758.007 Q3521.31 758.007 3519.48 761.571 Q3517.67 765.113 3517.67 772.243 Q3517.67 779.349 3519.48 782.914 Q3521.31 786.455 3524.92 786.455 Q3528.55 786.455 3530.36 782.914 Q3532.19 779.349 3532.19 772.243 Q3532.19 765.113 3530.36 761.571 Q3528.55 758.007 3524.92 758.007 M3524.92 754.303 Q3530.73 754.303 3533.78 758.909 Q3536.86 763.493 3536.86 772.243 Q3536.86 780.969 3533.78 785.576 Q3530.73 790.159 3524.92 790.159 Q3519.11 790.159 3516.03 785.576 Q3512.97 780.969 3512.97 772.243 Q3512.97 763.493 3516.03 758.909 Q3519.11 754.303 3524.92 754.303 Z\" fill=\"#000000\" fill-rule=\"evenodd\" fill-opacity=\"1\" /><path clip-path=\"url(#clip870)\" d=\"M3555.08 758.007 Q3551.47 758.007 3549.64 761.571 Q3547.83 765.113 3547.83 772.243 Q3547.83 779.349 3549.64 782.914 Q3551.47 786.455 3555.08 786.455 Q3558.71 786.455 3560.52 782.914 Q3562.35 779.349 3562.35 772.243 Q3562.35 765.113 3560.52 761.571 Q3558.71 758.007 3555.08 758.007 M3555.08 754.303 Q3560.89 754.303 3563.95 758.909 Q3567.02 763.493 3567.02 772.243 Q3567.02 780.969 3563.95 785.576 Q3560.89 790.159 3555.08 790.159 Q3549.27 790.159 3546.19 785.576 Q3543.13 780.969 3543.13 772.243 Q3543.13 763.493 3546.19 758.909 Q3549.27 754.303 3555.08 754.303 Z\" fill=\"#000000\" fill-rule=\"evenodd\" fill-opacity=\"1\" /><polyline clip-path=\"url(#clip874)\" style=\"stroke:#000000; stroke-linecap:butt; stroke-linejoin:round; stroke-width:2; stroke-opacity:0.1; fill:none\" points=\"\n",
       "  2605.94,701.828 3552.76,701.828 \n",
       "  \"/>\n",
       "<polyline clip-path=\"url(#clip874)\" style=\"stroke:#000000; stroke-linecap:butt; stroke-linejoin:round; stroke-width:2; stroke-opacity:0.1; fill:none\" points=\"\n",
       "  2605.94,541.71 3552.76,541.71 \n",
       "  \"/>\n",
       "<polyline clip-path=\"url(#clip874)\" style=\"stroke:#000000; stroke-linecap:butt; stroke-linejoin:round; stroke-width:2; stroke-opacity:0.1; fill:none\" points=\"\n",
       "  2605.94,381.591 3552.76,381.591 \n",
       "  \"/>\n",
       "<polyline clip-path=\"url(#clip874)\" style=\"stroke:#000000; stroke-linecap:butt; stroke-linejoin:round; stroke-width:2; stroke-opacity:0.1; fill:none\" points=\"\n",
       "  2605.94,221.473 3552.76,221.473 \n",
       "  \"/>\n",
       "<polyline clip-path=\"url(#clip874)\" style=\"stroke:#000000; stroke-linecap:butt; stroke-linejoin:round; stroke-width:2; stroke-opacity:0.1; fill:none\" points=\"\n",
       "  2605.94,61.3541 3552.76,61.3541 \n",
       "  \"/>\n",
       "<polyline clip-path=\"url(#clip870)\" style=\"stroke:#000000; stroke-linecap:butt; stroke-linejoin:round; stroke-width:4; stroke-opacity:1; fill:none\" points=\"\n",
       "  2605.94,717.488 2605.94,47.2441 \n",
       "  \"/>\n",
       "<polyline clip-path=\"url(#clip870)\" style=\"stroke:#000000; stroke-linecap:butt; stroke-linejoin:round; stroke-width:4; stroke-opacity:1; fill:none\" points=\"\n",
       "  2605.94,701.828 2624.83,701.828 \n",
       "  \"/>\n",
       "<polyline clip-path=\"url(#clip870)\" style=\"stroke:#000000; stroke-linecap:butt; stroke-linejoin:round; stroke-width:4; stroke-opacity:1; fill:none\" points=\"\n",
       "  2605.94,541.71 2624.83,541.71 \n",
       "  \"/>\n",
       "<polyline clip-path=\"url(#clip870)\" style=\"stroke:#000000; stroke-linecap:butt; stroke-linejoin:round; stroke-width:4; stroke-opacity:1; fill:none\" points=\"\n",
       "  2605.94,381.591 2624.83,381.591 \n",
       "  \"/>\n",
       "<polyline clip-path=\"url(#clip870)\" style=\"stroke:#000000; stroke-linecap:butt; stroke-linejoin:round; stroke-width:4; stroke-opacity:1; fill:none\" points=\"\n",
       "  2605.94,221.473 2624.83,221.473 \n",
       "  \"/>\n",
       "<polyline clip-path=\"url(#clip870)\" style=\"stroke:#000000; stroke-linecap:butt; stroke-linejoin:round; stroke-width:4; stroke-opacity:1; fill:none\" points=\"\n",
       "  2605.94,61.3541 2624.83,61.3541 \n",
       "  \"/>\n",
       "<path clip-path=\"url(#clip870)\" d=\"M2444.99 702.28 L2474.67 702.28 L2474.67 706.215 L2444.99 706.215 L2444.99 702.28 Z\" fill=\"#000000\" fill-rule=\"evenodd\" fill-opacity=\"1\" /><path clip-path=\"url(#clip870)\" d=\"M2485.57 715.173 L2493.21 715.173 L2493.21 688.808 L2484.9 690.474 L2484.9 686.215 L2493.16 684.548 L2497.84 684.548 L2497.84 715.173 L2505.48 715.173 L2505.48 719.108 L2485.57 719.108 L2485.57 715.173 Z\" fill=\"#000000\" fill-rule=\"evenodd\" fill-opacity=\"1\" /><path clip-path=\"url(#clip870)\" d=\"M2514.92 713.229 L2519.81 713.229 L2519.81 719.108 L2514.92 719.108 L2514.92 713.229 Z\" fill=\"#000000\" fill-rule=\"evenodd\" fill-opacity=\"1\" /><path clip-path=\"url(#clip870)\" d=\"M2539.99 687.627 Q2536.38 687.627 2534.55 691.192 Q2532.75 694.734 2532.75 701.863 Q2532.75 708.97 2534.55 712.534 Q2536.38 716.076 2539.99 716.076 Q2543.63 716.076 2545.43 712.534 Q2547.26 708.97 2547.26 701.863 Q2547.26 694.734 2545.43 691.192 Q2543.63 687.627 2539.99 687.627 M2539.99 683.923 Q2545.8 683.923 2548.86 688.53 Q2551.94 693.113 2551.94 701.863 Q2551.94 710.59 2548.86 715.196 Q2545.8 719.78 2539.99 719.78 Q2534.18 719.78 2531.1 715.196 Q2528.05 710.59 2528.05 701.863 Q2528.05 693.113 2531.1 688.53 Q2534.18 683.923 2539.99 683.923 Z\" fill=\"#000000\" fill-rule=\"evenodd\" fill-opacity=\"1\" /><path clip-path=\"url(#clip870)\" d=\"M2445.99 542.161 L2475.66 542.161 L2475.66 546.096 L2445.99 546.096 L2445.99 542.161 Z\" fill=\"#000000\" fill-rule=\"evenodd\" fill-opacity=\"1\" /><path clip-path=\"url(#clip870)\" d=\"M2495.76 527.508 Q2492.14 527.508 2490.32 531.073 Q2488.51 534.615 2488.51 541.745 Q2488.51 548.851 2490.32 552.416 Q2492.14 555.957 2495.76 555.957 Q2499.39 555.957 2501.2 552.416 Q2503.02 548.851 2503.02 541.745 Q2503.02 534.615 2501.2 531.073 Q2499.39 527.508 2495.76 527.508 M2495.76 523.805 Q2501.57 523.805 2504.62 528.411 Q2507.7 532.995 2507.7 541.745 Q2507.7 550.471 2504.62 555.078 Q2501.57 559.661 2495.76 559.661 Q2489.95 559.661 2486.87 555.078 Q2483.81 550.471 2483.81 541.745 Q2483.81 532.995 2486.87 528.411 Q2489.95 523.805 2495.76 523.805 Z\" fill=\"#000000\" fill-rule=\"evenodd\" fill-opacity=\"1\" /><path clip-path=\"url(#clip870)\" d=\"M2515.92 553.11 L2520.8 553.11 L2520.8 558.99 L2515.92 558.99 L2515.92 553.11 Z\" fill=\"#000000\" fill-rule=\"evenodd\" fill-opacity=\"1\" /><path clip-path=\"url(#clip870)\" d=\"M2531.03 524.43 L2549.39 524.43 L2549.39 528.365 L2535.32 528.365 L2535.32 536.837 Q2536.33 536.49 2537.35 536.328 Q2538.37 536.143 2539.39 536.143 Q2545.18 536.143 2548.56 539.314 Q2551.94 542.485 2551.94 547.902 Q2551.94 553.481 2548.46 556.582 Q2544.99 559.661 2538.67 559.661 Q2536.5 559.661 2534.23 559.291 Q2531.98 558.92 2529.58 558.18 L2529.58 553.481 Q2531.66 554.615 2533.88 555.17 Q2536.1 555.726 2538.58 555.726 Q2542.58 555.726 2544.92 553.619 Q2547.26 551.513 2547.26 547.902 Q2547.26 544.291 2544.92 542.184 Q2542.58 540.078 2538.58 540.078 Q2536.7 540.078 2534.83 540.495 Q2532.98 540.911 2531.03 541.791 L2531.03 524.43 Z\" fill=\"#000000\" fill-rule=\"evenodd\" fill-opacity=\"1\" /><path clip-path=\"url(#clip870)\" d=\"M2494.76 367.39 Q2491.15 367.39 2489.32 370.955 Q2487.52 374.496 2487.52 381.626 Q2487.52 388.732 2489.32 392.297 Q2491.15 395.839 2494.76 395.839 Q2498.39 395.839 2500.2 392.297 Q2502.03 388.732 2502.03 381.626 Q2502.03 374.496 2500.2 370.955 Q2498.39 367.39 2494.76 367.39 M2494.76 363.686 Q2500.57 363.686 2503.63 368.293 Q2506.7 372.876 2506.7 381.626 Q2506.7 390.353 2503.63 394.959 Q2500.57 399.543 2494.76 399.543 Q2488.95 399.543 2485.87 394.959 Q2482.82 390.353 2482.82 381.626 Q2482.82 372.876 2485.87 368.293 Q2488.95 363.686 2494.76 363.686 Z\" fill=\"#000000\" fill-rule=\"evenodd\" fill-opacity=\"1\" /><path clip-path=\"url(#clip870)\" d=\"M2514.92 392.992 L2519.81 392.992 L2519.81 398.871 L2514.92 398.871 L2514.92 392.992 Z\" fill=\"#000000\" fill-rule=\"evenodd\" fill-opacity=\"1\" /><path clip-path=\"url(#clip870)\" d=\"M2539.99 367.39 Q2536.38 367.39 2534.55 370.955 Q2532.75 374.496 2532.75 381.626 Q2532.75 388.732 2534.55 392.297 Q2536.38 395.839 2539.99 395.839 Q2543.63 395.839 2545.43 392.297 Q2547.26 388.732 2547.26 381.626 Q2547.26 374.496 2545.43 370.955 Q2543.63 367.39 2539.99 367.39 M2539.99 363.686 Q2545.8 363.686 2548.86 368.293 Q2551.94 372.876 2551.94 381.626 Q2551.94 390.353 2548.86 394.959 Q2545.8 399.543 2539.99 399.543 Q2534.18 399.543 2531.1 394.959 Q2528.05 390.353 2528.05 381.626 Q2528.05 372.876 2531.1 368.293 Q2534.18 363.686 2539.99 363.686 Z\" fill=\"#000000\" fill-rule=\"evenodd\" fill-opacity=\"1\" /><path clip-path=\"url(#clip870)\" d=\"M2495.76 207.271 Q2492.14 207.271 2490.32 210.836 Q2488.51 214.378 2488.51 221.507 Q2488.51 228.614 2490.32 232.179 Q2492.14 235.72 2495.76 235.72 Q2499.39 235.72 2501.2 232.179 Q2503.02 228.614 2503.02 221.507 Q2503.02 214.378 2501.2 210.836 Q2499.39 207.271 2495.76 207.271 M2495.76 203.568 Q2501.57 203.568 2504.62 208.174 Q2507.7 212.757 2507.7 221.507 Q2507.7 230.234 2504.62 234.841 Q2501.57 239.424 2495.76 239.424 Q2489.95 239.424 2486.87 234.841 Q2483.81 230.234 2483.81 221.507 Q2483.81 212.757 2486.87 208.174 Q2489.95 203.568 2495.76 203.568 Z\" fill=\"#000000\" fill-rule=\"evenodd\" fill-opacity=\"1\" /><path clip-path=\"url(#clip870)\" d=\"M2515.92 232.873 L2520.8 232.873 L2520.8 238.753 L2515.92 238.753 L2515.92 232.873 Z\" fill=\"#000000\" fill-rule=\"evenodd\" fill-opacity=\"1\" /><path clip-path=\"url(#clip870)\" d=\"M2531.03 204.193 L2549.39 204.193 L2549.39 208.128 L2535.32 208.128 L2535.32 216.6 Q2536.33 216.253 2537.35 216.091 Q2538.37 215.906 2539.39 215.906 Q2545.18 215.906 2548.56 219.077 Q2551.94 222.248 2551.94 227.665 Q2551.94 233.243 2548.46 236.345 Q2544.99 239.424 2538.67 239.424 Q2536.5 239.424 2534.23 239.054 Q2531.98 238.683 2529.58 237.942 L2529.58 233.243 Q2531.66 234.378 2533.88 234.933 Q2536.1 235.489 2538.58 235.489 Q2542.58 235.489 2544.92 233.382 Q2547.26 231.276 2547.26 227.665 Q2547.26 224.054 2544.92 221.947 Q2542.58 219.841 2538.58 219.841 Q2536.7 219.841 2534.83 220.257 Q2532.98 220.674 2531.03 221.554 L2531.03 204.193 Z\" fill=\"#000000\" fill-rule=\"evenodd\" fill-opacity=\"1\" /><path clip-path=\"url(#clip870)\" d=\"M2485.57 74.6989 L2493.21 74.6989 L2493.21 48.3333 L2484.9 50 L2484.9 45.7407 L2493.16 44.0741 L2497.84 44.0741 L2497.84 74.6989 L2505.48 74.6989 L2505.48 78.6341 L2485.57 78.6341 L2485.57 74.6989 Z\" fill=\"#000000\" fill-rule=\"evenodd\" fill-opacity=\"1\" /><path clip-path=\"url(#clip870)\" d=\"M2514.92 72.7545 L2519.81 72.7545 L2519.81 78.6341 L2514.92 78.6341 L2514.92 72.7545 Z\" fill=\"#000000\" fill-rule=\"evenodd\" fill-opacity=\"1\" /><path clip-path=\"url(#clip870)\" d=\"M2539.99 47.1527 Q2536.38 47.1527 2534.55 50.7175 Q2532.75 54.2592 2532.75 61.3888 Q2532.75 68.4952 2534.55 72.06 Q2536.38 75.6017 2539.99 75.6017 Q2543.63 75.6017 2545.43 72.06 Q2547.26 68.4952 2547.26 61.3888 Q2547.26 54.2592 2545.43 50.7175 Q2543.63 47.1527 2539.99 47.1527 M2539.99 43.4491 Q2545.8 43.4491 2548.86 48.0555 Q2551.94 52.6388 2551.94 61.3888 Q2551.94 70.1156 2548.86 74.722 Q2545.8 79.3054 2539.99 79.3054 Q2534.18 79.3054 2531.1 74.722 Q2528.05 70.1156 2528.05 61.3888 Q2528.05 52.6388 2531.1 48.0555 Q2534.18 43.4491 2539.99 43.4491 Z\" fill=\"#000000\" fill-rule=\"evenodd\" fill-opacity=\"1\" /><polyline clip-path=\"url(#clip874)\" style=\"stroke:#009af9; stroke-linecap:butt; stroke-linejoin:round; stroke-width:4; stroke-opacity:1; fill:none\" points=\"\n",
       "  2632.73,71.1689 2641.76,86.9916 2650.78,111.573 2659.8,144.169 2668.82,183.8 2677.85,229.28 2686.87,279.252 2695.89,332.229 2704.91,386.639 2713.94,440.87 \n",
       "  2722.96,493.32 2731.98,542.444 2741,586.797 2750.03,625.081 2759.05,656.177 2768.07,679.181 2777.09,693.43 2786.12,698.519 2795.14,694.312 2804.16,680.947 \n",
       "  2813.18,658.829 2822.21,628.619 2831.23,591.212 2840.25,547.712 2849.27,499.397 2858.29,447.682 2867.32,394.078 2876.34,340.148 2885.36,287.459 2894.38,237.538 \n",
       "  2903.41,191.83 2912.43,151.651 2921.45,118.156 2930.47,92.3029 2939.5,74.825 2948.52,66.2133 2957.54,66.7011 2966.56,76.2589 2975.59,94.5962 2984.61,121.17 \n",
       "  2993.63,155.204 3002.65,195.706 3011.68,241.505 3020.7,291.278 3029.72,343.594 3038.74,396.953 3047.77,449.828 3056.79,500.71 3065.81,548.152 3074.83,590.809 \n",
       "  3083.86,627.476 3092.88,657.121 3101.9,678.915 3110.92,692.254 3119.95,696.775 3128.97,692.368 3137.99,679.174 3147.01,657.583 3156.04,628.221 3165.06,591.93 \n",
       "  3174.08,549.749 3183.1,502.875 3192.13,452.638 3201.15,400.455 3210.17,347.797 3219.19,296.14 3228.22,246.931 3237.24,201.543 3246.26,161.236 3255.28,127.128 \n",
       "  3264.31,100.157 3273.33,81.0603 3282.35,70.3541 3291.37,68.3187 3300.4,74.9922 3309.42,90.1708 3318.44,113.415 3327.46,144.064 3336.49,181.252 3345.51,223.937 \n",
       "  3354.53,270.927 3363.55,320.915 3372.58,372.515 3381.6,424.303 3390.62,474.853 3399.64,522.777 3408.67,566.764 3417.69,605.617 3426.71,638.282 3435.73,663.879 \n",
       "  3444.76,681.724 3453.78,691.347 3462.8,692.504 3471.82,685.184 3480.85,669.605 3489.87,646.212 3498.89,615.659 3507.91,578.793 3516.94,536.628 3525.96,490.322 \n",
       "  \n",
       "  \"/>\n",
       "<path clip-path=\"url(#clip870)\" d=\"\n",
       "M3108.19 173.266 L3521.2 173.266 L3521.2 69.5856 L3108.19 69.5856  Z\n",
       "  \" fill=\"#ffffff\" fill-rule=\"evenodd\" fill-opacity=\"1\"/>\n",
       "<polyline clip-path=\"url(#clip870)\" style=\"stroke:#000000; stroke-linecap:butt; stroke-linejoin:round; stroke-width:4; stroke-opacity:1; fill:none\" points=\"\n",
       "  3108.19,173.266 3521.2,173.266 3521.2,69.5856 3108.19,69.5856 3108.19,173.266 \n",
       "  \"/>\n",
       "<polyline clip-path=\"url(#clip870)\" style=\"stroke:#009af9; stroke-linecap:butt; stroke-linejoin:round; stroke-width:4; stroke-opacity:1; fill:none\" points=\"\n",
       "  3144.19,121.426 3360.19,121.426 \n",
       "  \"/>\n",
       "<path clip-path=\"url(#clip870)\" d=\"M3410.03 141.113 Q3408.22 145.743 3406.51 147.155 Q3404.8 148.567 3401.93 148.567 L3398.52 148.567 L3398.52 145.002 L3401.02 145.002 Q3402.78 145.002 3403.76 144.168 Q3404.73 143.335 3405.91 140.233 L3406.67 138.289 L3396.19 112.78 L3400.7 112.78 L3408.8 133.057 L3416.9 112.78 L3421.42 112.78 L3410.03 141.113 Z\" fill=\"#000000\" fill-rule=\"evenodd\" fill-opacity=\"1\" /><path clip-path=\"url(#clip870)\" d=\"M3442.07 120.071 Q3445.42 120.789 3447.3 123.057 Q3449.2 125.326 3449.2 128.659 Q3449.2 133.775 3445.68 136.576 Q3442.16 139.377 3435.68 139.377 Q3433.5 139.377 3431.19 138.937 Q3428.89 138.52 3426.44 137.664 L3426.44 133.15 Q3428.39 134.284 3430.7 134.863 Q3433.01 135.442 3435.54 135.442 Q3439.94 135.442 3442.23 133.706 Q3444.54 131.969 3444.54 128.659 Q3444.54 125.604 3442.39 123.891 Q3440.26 122.155 3436.44 122.155 L3432.41 122.155 L3432.41 118.312 L3436.63 118.312 Q3440.07 118.312 3441.9 116.946 Q3443.73 115.558 3443.73 112.965 Q3443.73 110.303 3441.83 108.891 Q3439.96 107.456 3436.44 107.456 Q3434.52 107.456 3432.32 107.872 Q3430.12 108.289 3427.48 109.169 L3427.48 105.002 Q3430.14 104.261 3432.46 103.891 Q3434.8 103.521 3436.86 103.521 Q3442.18 103.521 3445.28 105.951 Q3448.39 108.358 3448.39 112.479 Q3448.39 115.349 3446.74 117.34 Q3445.1 119.308 3442.07 120.071 Z\" fill=\"#000000\" fill-rule=\"evenodd\" fill-opacity=\"1\" /></svg>\n"
      ]
     },
     "execution_count": 8,
     "metadata": {},
     "output_type": "execute_result"
    }
   ],
   "source": [
    "plot([evalslice(slice1),evalslice(slice2),evalslice(slice3)],layout = (1,3))\n",
    "plot!(size=(900,200))"
   ]
  },
  {
   "cell_type": "markdown",
   "metadata": {},
   "source": [
    "# Slice1"
   ]
  },
  {
   "cell_type": "code",
   "execution_count": 9,
   "metadata": {},
   "outputs": [
    {
     "data": {
      "image/svg+xml": [
       "<?xml version=\"1.0\" encoding=\"utf-8\"?>\n",
       "<svg xmlns=\"http://www.w3.org/2000/svg\" xmlns:xlink=\"http://www.w3.org/1999/xlink\" width=\"900\" height=\"300\" viewBox=\"0 0 3600 1200\">\n",
       "<defs>\n",
       "  <clipPath id=\"clip910\">\n",
       "    <rect x=\"0\" y=\"0\" width=\"3600\" height=\"1200\"/>\n",
       "  </clipPath>\n",
       "</defs>\n",
       "<path clip-path=\"url(#clip910)\" d=\"\n",
       "M0 1200 L3600 1200 L3600 0 L0 0  Z\n",
       "  \" fill=\"#ffffff\" fill-rule=\"evenodd\" fill-opacity=\"1\"/>\n",
       "<defs>\n",
       "  <clipPath id=\"clip911\">\n",
       "    <rect x=\"720\" y=\"0\" width=\"2521\" height=\"1200\"/>\n",
       "  </clipPath>\n",
       "</defs>\n",
       "<path clip-path=\"url(#clip910)\" d=\"\n",
       "M236.098 1107.73 L3552.76 1107.73 L3552.76 47.2441 L236.098 47.2441  Z\n",
       "  \" fill=\"#ffffff\" fill-rule=\"evenodd\" fill-opacity=\"1\"/>\n",
       "<defs>\n",
       "  <clipPath id=\"clip912\">\n",
       "    <rect x=\"236\" y=\"47\" width=\"3318\" height=\"1061\"/>\n",
       "  </clipPath>\n",
       "</defs>\n",
       "<polyline clip-path=\"url(#clip912)\" style=\"stroke:#000000; stroke-linecap:butt; stroke-linejoin:round; stroke-width:2; stroke-opacity:0.1; fill:none\" points=\"\n",
       "  298.36,1107.73 298.36,47.2441 \n",
       "  \"/>\n",
       "<polyline clip-path=\"url(#clip912)\" style=\"stroke:#000000; stroke-linecap:butt; stroke-linejoin:round; stroke-width:2; stroke-opacity:0.1; fill:none\" points=\"\n",
       "  1088.49,1107.73 1088.49,47.2441 \n",
       "  \"/>\n",
       "<polyline clip-path=\"url(#clip912)\" style=\"stroke:#000000; stroke-linecap:butt; stroke-linejoin:round; stroke-width:2; stroke-opacity:0.1; fill:none\" points=\"\n",
       "  1878.62,1107.73 1878.62,47.2441 \n",
       "  \"/>\n",
       "<polyline clip-path=\"url(#clip912)\" style=\"stroke:#000000; stroke-linecap:butt; stroke-linejoin:round; stroke-width:2; stroke-opacity:0.1; fill:none\" points=\"\n",
       "  2668.76,1107.73 2668.76,47.2441 \n",
       "  \"/>\n",
       "<polyline clip-path=\"url(#clip912)\" style=\"stroke:#000000; stroke-linecap:butt; stroke-linejoin:round; stroke-width:2; stroke-opacity:0.1; fill:none\" points=\"\n",
       "  3458.89,1107.73 3458.89,47.2441 \n",
       "  \"/>\n",
       "<polyline clip-path=\"url(#clip910)\" style=\"stroke:#000000; stroke-linecap:butt; stroke-linejoin:round; stroke-width:4; stroke-opacity:1; fill:none\" points=\"\n",
       "  236.098,1107.73 3552.76,1107.73 \n",
       "  \"/>\n",
       "<polyline clip-path=\"url(#clip910)\" style=\"stroke:#000000; stroke-linecap:butt; stroke-linejoin:round; stroke-width:4; stroke-opacity:1; fill:none\" points=\"\n",
       "  298.36,1107.73 298.36,1088.83 \n",
       "  \"/>\n",
       "<polyline clip-path=\"url(#clip910)\" style=\"stroke:#000000; stroke-linecap:butt; stroke-linejoin:round; stroke-width:4; stroke-opacity:1; fill:none\" points=\"\n",
       "  1088.49,1107.73 1088.49,1088.83 \n",
       "  \"/>\n",
       "<polyline clip-path=\"url(#clip910)\" style=\"stroke:#000000; stroke-linecap:butt; stroke-linejoin:round; stroke-width:4; stroke-opacity:1; fill:none\" points=\"\n",
       "  1878.62,1107.73 1878.62,1088.83 \n",
       "  \"/>\n",
       "<polyline clip-path=\"url(#clip910)\" style=\"stroke:#000000; stroke-linecap:butt; stroke-linejoin:round; stroke-width:4; stroke-opacity:1; fill:none\" points=\"\n",
       "  2668.76,1107.73 2668.76,1088.83 \n",
       "  \"/>\n",
       "<polyline clip-path=\"url(#clip910)\" style=\"stroke:#000000; stroke-linecap:butt; stroke-linejoin:round; stroke-width:4; stroke-opacity:1; fill:none\" points=\"\n",
       "  3458.89,1107.73 3458.89,1088.83 \n",
       "  \"/>\n",
       "<path clip-path=\"url(#clip910)\" d=\"M298.36 1148.25 Q294.749 1148.25 292.92 1151.81 Q291.115 1155.35 291.115 1162.48 Q291.115 1169.59 292.92 1173.15 Q294.749 1176.7 298.36 1176.7 Q301.995 1176.7 303.8 1173.15 Q305.629 1169.59 305.629 1162.48 Q305.629 1155.35 303.8 1151.81 Q301.995 1148.25 298.36 1148.25 M298.36 1144.54 Q304.17 1144.54 307.226 1149.15 Q310.305 1153.73 310.305 1162.48 Q310.305 1171.21 307.226 1175.82 Q304.17 1180.4 298.36 1180.4 Q292.55 1180.4 289.471 1175.82 Q286.416 1171.21 286.416 1162.48 Q286.416 1153.73 289.471 1149.15 Q292.55 1144.54 298.36 1144.54 Z\" fill=\"#000000\" fill-rule=\"evenodd\" fill-opacity=\"1\" /><path clip-path=\"url(#clip910)\" d=\"M1067.76 1175.79 L1084.08 1175.79 L1084.08 1179.73 L1062.14 1179.73 L1062.14 1175.79 Q1064.8 1173.04 1069.38 1168.41 Q1073.99 1163.76 1075.17 1162.41 Q1077.42 1159.89 1078.3 1158.15 Q1079.2 1156.39 1079.2 1154.7 Q1079.2 1151.95 1077.25 1150.21 Q1075.33 1148.48 1072.23 1148.48 Q1070.03 1148.48 1067.58 1149.24 Q1065.15 1150.01 1062.37 1151.56 L1062.37 1146.83 Q1065.19 1145.7 1067.65 1145.12 Q1070.1 1144.54 1072.14 1144.54 Q1077.51 1144.54 1080.7 1147.23 Q1083.9 1149.91 1083.9 1154.4 Q1083.9 1156.53 1083.09 1158.45 Q1082.3 1160.35 1080.19 1162.95 Q1079.61 1163.62 1076.51 1166.83 Q1073.41 1170.03 1067.76 1175.79 Z\" fill=\"#000000\" fill-rule=\"evenodd\" fill-opacity=\"1\" /><path clip-path=\"url(#clip910)\" d=\"M1093.94 1145.17 L1112.3 1145.17 L1112.3 1149.1 L1098.23 1149.1 L1098.23 1157.58 Q1099.24 1157.23 1100.26 1157.07 Q1101.28 1156.88 1102.3 1156.88 Q1108.09 1156.88 1111.47 1160.05 Q1114.85 1163.22 1114.85 1168.64 Q1114.85 1174.22 1111.37 1177.32 Q1107.9 1180.4 1101.58 1180.4 Q1099.41 1180.4 1097.14 1180.03 Q1094.89 1179.66 1092.49 1178.92 L1092.49 1174.22 Q1094.57 1175.35 1096.79 1175.91 Q1099.01 1176.46 1101.49 1176.46 Q1105.49 1176.46 1107.83 1174.36 Q1110.17 1172.25 1110.17 1168.64 Q1110.17 1165.03 1107.83 1162.92 Q1105.49 1160.82 1101.49 1160.82 Q1099.61 1160.82 1097.74 1161.23 Q1095.89 1161.65 1093.94 1162.53 L1093.94 1145.17 Z\" fill=\"#000000\" fill-rule=\"evenodd\" fill-opacity=\"1\" /><path clip-path=\"url(#clip910)\" d=\"M1853.32 1145.17 L1871.68 1145.17 L1871.68 1149.1 L1857.61 1149.1 L1857.61 1157.58 Q1858.62 1157.23 1859.64 1157.07 Q1860.66 1156.88 1861.68 1156.88 Q1867.47 1156.88 1870.85 1160.05 Q1874.23 1163.22 1874.23 1168.64 Q1874.23 1174.22 1870.75 1177.32 Q1867.28 1180.4 1860.96 1180.4 Q1858.79 1180.4 1856.52 1180.03 Q1854.27 1179.66 1851.87 1178.92 L1851.87 1174.22 Q1853.95 1175.35 1856.17 1175.91 Q1858.39 1176.46 1860.87 1176.46 Q1864.87 1176.46 1867.21 1174.36 Q1869.55 1172.25 1869.55 1168.64 Q1869.55 1165.03 1867.21 1162.92 Q1864.87 1160.82 1860.87 1160.82 Q1858.99 1160.82 1857.12 1161.23 Q1855.27 1161.65 1853.32 1162.53 L1853.32 1145.17 Z\" fill=\"#000000\" fill-rule=\"evenodd\" fill-opacity=\"1\" /><path clip-path=\"url(#clip910)\" d=\"M1893.44 1148.25 Q1889.83 1148.25 1888 1151.81 Q1886.19 1155.35 1886.19 1162.48 Q1886.19 1169.59 1888 1173.15 Q1889.83 1176.7 1893.44 1176.7 Q1897.07 1176.7 1898.88 1173.15 Q1900.71 1169.59 1900.71 1162.48 Q1900.71 1155.35 1898.88 1151.81 Q1897.07 1148.25 1893.44 1148.25 M1893.44 1144.54 Q1899.25 1144.54 1902.3 1149.15 Q1905.38 1153.73 1905.38 1162.48 Q1905.38 1171.21 1902.3 1175.82 Q1899.25 1180.4 1893.44 1180.4 Q1887.63 1180.4 1884.55 1175.82 Q1881.49 1171.21 1881.49 1162.48 Q1881.49 1153.73 1884.55 1149.15 Q1887.63 1144.54 1893.44 1144.54 Z\" fill=\"#000000\" fill-rule=\"evenodd\" fill-opacity=\"1\" /><path clip-path=\"url(#clip910)\" d=\"M2642.61 1145.17 L2664.83 1145.17 L2664.83 1147.16 L2652.29 1179.73 L2647.4 1179.73 L2659.21 1149.1 L2642.61 1149.1 L2642.61 1145.17 Z\" fill=\"#000000\" fill-rule=\"evenodd\" fill-opacity=\"1\" /><path clip-path=\"url(#clip910)\" d=\"M2674 1145.17 L2692.36 1145.17 L2692.36 1149.1 L2678.28 1149.1 L2678.28 1157.58 Q2679.3 1157.23 2680.32 1157.07 Q2681.34 1156.88 2682.36 1156.88 Q2688.14 1156.88 2691.52 1160.05 Q2694.9 1163.22 2694.9 1168.64 Q2694.9 1174.22 2691.43 1177.32 Q2687.96 1180.4 2681.64 1180.4 Q2679.46 1180.4 2677.19 1180.03 Q2674.95 1179.66 2672.54 1178.92 L2672.54 1174.22 Q2674.62 1175.35 2676.85 1175.91 Q2679.07 1176.46 2681.55 1176.46 Q2685.55 1176.46 2687.89 1174.36 Q2690.23 1172.25 2690.23 1168.64 Q2690.23 1165.03 2687.89 1162.92 Q2685.55 1160.82 2681.55 1160.82 Q2679.67 1160.82 2677.8 1161.23 Q2675.94 1161.65 2674 1162.53 L2674 1145.17 Z\" fill=\"#000000\" fill-rule=\"evenodd\" fill-opacity=\"1\" /><path clip-path=\"url(#clip910)\" d=\"M3418.49 1175.79 L3426.13 1175.79 L3426.13 1149.43 L3417.82 1151.09 L3417.82 1146.83 L3426.09 1145.17 L3430.76 1145.17 L3430.76 1175.79 L3438.4 1175.79 L3438.4 1179.73 L3418.49 1179.73 L3418.49 1175.79 Z\" fill=\"#000000\" fill-rule=\"evenodd\" fill-opacity=\"1\" /><path clip-path=\"url(#clip910)\" d=\"M3457.85 1148.25 Q3454.24 1148.25 3452.41 1151.81 Q3450.6 1155.35 3450.6 1162.48 Q3450.6 1169.59 3452.41 1173.15 Q3454.24 1176.7 3457.85 1176.7 Q3461.48 1176.7 3463.29 1173.15 Q3465.12 1169.59 3465.12 1162.48 Q3465.12 1155.35 3463.29 1151.81 Q3461.48 1148.25 3457.85 1148.25 M3457.85 1144.54 Q3463.66 1144.54 3466.71 1149.15 Q3469.79 1153.73 3469.79 1162.48 Q3469.79 1171.21 3466.71 1175.82 Q3463.66 1180.4 3457.85 1180.4 Q3452.04 1180.4 3448.96 1175.82 Q3445.9 1171.21 3445.9 1162.48 Q3445.9 1153.73 3448.96 1149.15 Q3452.04 1144.54 3457.85 1144.54 Z\" fill=\"#000000\" fill-rule=\"evenodd\" fill-opacity=\"1\" /><path clip-path=\"url(#clip910)\" d=\"M3488.01 1148.25 Q3484.4 1148.25 3482.57 1151.81 Q3480.76 1155.35 3480.76 1162.48 Q3480.76 1169.59 3482.57 1173.15 Q3484.4 1176.7 3488.01 1176.7 Q3491.64 1176.7 3493.45 1173.15 Q3495.28 1169.59 3495.28 1162.48 Q3495.28 1155.35 3493.45 1151.81 Q3491.64 1148.25 3488.01 1148.25 M3488.01 1144.54 Q3493.82 1144.54 3496.87 1149.15 Q3499.95 1153.73 3499.95 1162.48 Q3499.95 1171.21 3496.87 1175.82 Q3493.82 1180.4 3488.01 1180.4 Q3482.2 1180.4 3479.12 1175.82 Q3476.06 1171.21 3476.06 1162.48 Q3476.06 1153.73 3479.12 1149.15 Q3482.2 1144.54 3488.01 1144.54 Z\" fill=\"#000000\" fill-rule=\"evenodd\" fill-opacity=\"1\" /><polyline clip-path=\"url(#clip912)\" style=\"stroke:#000000; stroke-linecap:butt; stroke-linejoin:round; stroke-width:2; stroke-opacity:0.1; fill:none\" points=\"\n",
       "  236.098,928.625 3552.76,928.625 \n",
       "  \"/>\n",
       "<polyline clip-path=\"url(#clip912)\" style=\"stroke:#000000; stroke-linecap:butt; stroke-linejoin:round; stroke-width:2; stroke-opacity:0.1; fill:none\" points=\"\n",
       "  236.098,736.176 3552.76,736.176 \n",
       "  \"/>\n",
       "<polyline clip-path=\"url(#clip912)\" style=\"stroke:#000000; stroke-linecap:butt; stroke-linejoin:round; stroke-width:2; stroke-opacity:0.1; fill:none\" points=\"\n",
       "  236.098,543.727 3552.76,543.727 \n",
       "  \"/>\n",
       "<polyline clip-path=\"url(#clip912)\" style=\"stroke:#000000; stroke-linecap:butt; stroke-linejoin:round; stroke-width:2; stroke-opacity:0.1; fill:none\" points=\"\n",
       "  236.098,351.278 3552.76,351.278 \n",
       "  \"/>\n",
       "<polyline clip-path=\"url(#clip912)\" style=\"stroke:#000000; stroke-linecap:butt; stroke-linejoin:round; stroke-width:2; stroke-opacity:0.1; fill:none\" points=\"\n",
       "  236.098,158.829 3552.76,158.829 \n",
       "  \"/>\n",
       "<polyline clip-path=\"url(#clip910)\" style=\"stroke:#000000; stroke-linecap:butt; stroke-linejoin:round; stroke-width:4; stroke-opacity:1; fill:none\" points=\"\n",
       "  236.098,1107.73 236.098,47.2441 \n",
       "  \"/>\n",
       "<polyline clip-path=\"url(#clip910)\" style=\"stroke:#000000; stroke-linecap:butt; stroke-linejoin:round; stroke-width:4; stroke-opacity:1; fill:none\" points=\"\n",
       "  236.098,928.625 254.996,928.625 \n",
       "  \"/>\n",
       "<polyline clip-path=\"url(#clip910)\" style=\"stroke:#000000; stroke-linecap:butt; stroke-linejoin:round; stroke-width:4; stroke-opacity:1; fill:none\" points=\"\n",
       "  236.098,736.176 254.996,736.176 \n",
       "  \"/>\n",
       "<polyline clip-path=\"url(#clip910)\" style=\"stroke:#000000; stroke-linecap:butt; stroke-linejoin:round; stroke-width:4; stroke-opacity:1; fill:none\" points=\"\n",
       "  236.098,543.727 254.996,543.727 \n",
       "  \"/>\n",
       "<polyline clip-path=\"url(#clip910)\" style=\"stroke:#000000; stroke-linecap:butt; stroke-linejoin:round; stroke-width:4; stroke-opacity:1; fill:none\" points=\"\n",
       "  236.098,351.278 254.996,351.278 \n",
       "  \"/>\n",
       "<polyline clip-path=\"url(#clip910)\" style=\"stroke:#000000; stroke-linecap:butt; stroke-linejoin:round; stroke-width:4; stroke-opacity:1; fill:none\" points=\"\n",
       "  236.098,158.829 254.996,158.829 \n",
       "  \"/>\n",
       "<path clip-path=\"url(#clip910)\" d=\"M44.9921 929.077 L74.6679 929.077 L74.6679 933.012 L44.9921 933.012 L44.9921 929.077 Z\" fill=\"#000000\" fill-rule=\"evenodd\" fill-opacity=\"1\" /><path clip-path=\"url(#clip910)\" d=\"M94.7604 914.424 Q91.1493 914.424 89.3206 917.989 Q87.515 921.531 87.515 928.66 Q87.515 935.767 89.3206 939.331 Q91.1493 942.873 94.7604 942.873 Q98.3946 942.873 100.2 939.331 Q102.029 935.767 102.029 928.66 Q102.029 921.531 100.2 917.989 Q98.3946 914.424 94.7604 914.424 M94.7604 910.72 Q100.571 910.72 103.626 915.327 Q106.705 919.91 106.705 928.66 Q106.705 937.387 103.626 941.993 Q100.571 946.577 94.7604 946.577 Q88.9502 946.577 85.8715 941.993 Q82.816 937.387 82.816 928.66 Q82.816 919.91 85.8715 915.327 Q88.9502 910.72 94.7604 910.72 Z\" fill=\"#000000\" fill-rule=\"evenodd\" fill-opacity=\"1\" /><path clip-path=\"url(#clip910)\" d=\"M114.922 940.026 L119.807 940.026 L119.807 945.905 L114.922 945.905 L114.922 940.026 Z\" fill=\"#000000\" fill-rule=\"evenodd\" fill-opacity=\"1\" /><path clip-path=\"url(#clip910)\" d=\"M130.038 911.345 L148.394 911.345 L148.394 915.281 L134.32 915.281 L134.32 923.753 Q135.339 923.406 136.357 923.243 Q137.376 923.058 138.394 923.058 Q144.181 923.058 147.561 926.23 Q150.941 929.401 150.941 934.817 Q150.941 940.396 147.468 943.498 Q143.996 946.577 137.677 946.577 Q135.501 946.577 133.232 946.206 Q130.987 945.836 128.58 945.095 L128.58 940.396 Q130.663 941.53 132.885 942.086 Q135.107 942.642 137.584 942.642 Q141.589 942.642 143.927 940.535 Q146.265 938.429 146.265 934.817 Q146.265 931.206 143.927 929.1 Q141.589 926.993 137.584 926.993 Q135.709 926.993 133.834 927.41 Q131.982 927.827 130.038 928.706 L130.038 911.345 Z\" fill=\"#000000\" fill-rule=\"evenodd\" fill-opacity=\"1\" /><path clip-path=\"url(#clip910)\" d=\"M170.153 914.424 Q166.542 914.424 164.714 917.989 Q162.908 921.531 162.908 928.66 Q162.908 935.767 164.714 939.331 Q166.542 942.873 170.153 942.873 Q173.788 942.873 175.593 939.331 Q177.422 935.767 177.422 928.66 Q177.422 921.531 175.593 917.989 Q173.788 914.424 170.153 914.424 M170.153 910.72 Q175.964 910.72 179.019 915.327 Q182.098 919.91 182.098 928.66 Q182.098 937.387 179.019 941.993 Q175.964 946.577 170.153 946.577 Q164.343 946.577 161.265 941.993 Q158.209 937.387 158.209 928.66 Q158.209 919.91 161.265 915.327 Q164.343 910.72 170.153 910.72 Z\" fill=\"#000000\" fill-rule=\"evenodd\" fill-opacity=\"1\" /><path clip-path=\"url(#clip910)\" d=\"M45.9875 736.628 L75.6633 736.628 L75.6633 740.563 L45.9875 740.563 L45.9875 736.628 Z\" fill=\"#000000\" fill-rule=\"evenodd\" fill-opacity=\"1\" /><path clip-path=\"url(#clip910)\" d=\"M95.7557 721.975 Q92.1447 721.975 90.316 725.54 Q88.5104 729.081 88.5104 736.211 Q88.5104 743.317 90.316 746.882 Q92.1447 750.424 95.7557 750.424 Q99.39 750.424 101.196 746.882 Q103.024 743.317 103.024 736.211 Q103.024 729.081 101.196 725.54 Q99.39 721.975 95.7557 721.975 M95.7557 718.271 Q101.566 718.271 104.621 722.878 Q107.7 727.461 107.7 736.211 Q107.7 744.938 104.621 749.544 Q101.566 754.128 95.7557 754.128 Q89.9456 754.128 86.8669 749.544 Q83.8114 744.938 83.8114 736.211 Q83.8114 727.461 86.8669 722.878 Q89.9456 718.271 95.7557 718.271 Z\" fill=\"#000000\" fill-rule=\"evenodd\" fill-opacity=\"1\" /><path clip-path=\"url(#clip910)\" d=\"M115.918 747.577 L120.802 747.577 L120.802 753.456 L115.918 753.456 L115.918 747.577 Z\" fill=\"#000000\" fill-rule=\"evenodd\" fill-opacity=\"1\" /><path clip-path=\"url(#clip910)\" d=\"M135.015 749.521 L151.334 749.521 L151.334 753.456 L129.39 753.456 L129.39 749.521 Q132.052 746.767 136.635 742.137 Q141.242 737.484 142.422 736.142 Q144.668 733.618 145.547 731.882 Q146.45 730.123 146.45 728.433 Q146.45 725.679 144.505 723.943 Q142.584 722.206 139.482 722.206 Q137.283 722.206 134.83 722.97 Q132.399 723.734 129.621 725.285 L129.621 720.563 Q132.445 719.429 134.899 718.85 Q137.353 718.271 139.39 718.271 Q144.76 718.271 147.955 720.956 Q151.149 723.642 151.149 728.132 Q151.149 730.262 150.339 732.183 Q149.552 734.081 147.445 736.674 Q146.867 737.345 143.765 740.563 Q140.663 743.757 135.015 749.521 Z\" fill=\"#000000\" fill-rule=\"evenodd\" fill-opacity=\"1\" /><path clip-path=\"url(#clip910)\" d=\"M161.195 718.896 L179.552 718.896 L179.552 722.831 L165.478 722.831 L165.478 731.304 Q166.496 730.956 167.515 730.794 Q168.533 730.609 169.552 730.609 Q175.339 730.609 178.718 733.78 Q182.098 736.952 182.098 742.368 Q182.098 747.947 178.626 751.049 Q175.153 754.128 168.834 754.128 Q166.658 754.128 164.39 753.757 Q162.144 753.387 159.737 752.646 L159.737 747.947 Q161.82 749.081 164.042 749.637 Q166.265 750.192 168.741 750.192 Q172.746 750.192 175.084 748.086 Q177.422 745.98 177.422 742.368 Q177.422 738.757 175.084 736.651 Q172.746 734.544 168.741 734.544 Q166.866 734.544 164.991 734.961 Q163.14 735.378 161.195 736.257 L161.195 718.896 Z\" fill=\"#000000\" fill-rule=\"evenodd\" fill-opacity=\"1\" /><path clip-path=\"url(#clip910)\" d=\"M94.7604 529.526 Q91.1493 529.526 89.3206 533.091 Q87.515 536.632 87.515 543.762 Q87.515 550.868 89.3206 554.433 Q91.1493 557.975 94.7604 557.975 Q98.3946 557.975 100.2 554.433 Q102.029 550.868 102.029 543.762 Q102.029 536.632 100.2 533.091 Q98.3946 529.526 94.7604 529.526 M94.7604 525.822 Q100.571 525.822 103.626 530.429 Q106.705 535.012 106.705 543.762 Q106.705 552.489 103.626 557.095 Q100.571 561.679 94.7604 561.679 Q88.9502 561.679 85.8715 557.095 Q82.816 552.489 82.816 543.762 Q82.816 535.012 85.8715 530.429 Q88.9502 525.822 94.7604 525.822 Z\" fill=\"#000000\" fill-rule=\"evenodd\" fill-opacity=\"1\" /><path clip-path=\"url(#clip910)\" d=\"M114.922 555.128 L119.807 555.128 L119.807 561.007 L114.922 561.007 L114.922 555.128 Z\" fill=\"#000000\" fill-rule=\"evenodd\" fill-opacity=\"1\" /><path clip-path=\"url(#clip910)\" d=\"M139.992 529.526 Q136.381 529.526 134.552 533.091 Q132.746 536.632 132.746 543.762 Q132.746 550.868 134.552 554.433 Q136.381 557.975 139.992 557.975 Q143.626 557.975 145.431 554.433 Q147.26 550.868 147.26 543.762 Q147.26 536.632 145.431 533.091 Q143.626 529.526 139.992 529.526 M139.992 525.822 Q145.802 525.822 148.857 530.429 Q151.936 535.012 151.936 543.762 Q151.936 552.489 148.857 557.095 Q145.802 561.679 139.992 561.679 Q134.181 561.679 131.103 557.095 Q128.047 552.489 128.047 543.762 Q128.047 535.012 131.103 530.429 Q134.181 525.822 139.992 525.822 Z\" fill=\"#000000\" fill-rule=\"evenodd\" fill-opacity=\"1\" /><path clip-path=\"url(#clip910)\" d=\"M170.153 529.526 Q166.542 529.526 164.714 533.091 Q162.908 536.632 162.908 543.762 Q162.908 550.868 164.714 554.433 Q166.542 557.975 170.153 557.975 Q173.788 557.975 175.593 554.433 Q177.422 550.868 177.422 543.762 Q177.422 536.632 175.593 533.091 Q173.788 529.526 170.153 529.526 M170.153 525.822 Q175.964 525.822 179.019 530.429 Q182.098 535.012 182.098 543.762 Q182.098 552.489 179.019 557.095 Q175.964 561.679 170.153 561.679 Q164.343 561.679 161.265 557.095 Q158.209 552.489 158.209 543.762 Q158.209 535.012 161.265 530.429 Q164.343 525.822 170.153 525.822 Z\" fill=\"#000000\" fill-rule=\"evenodd\" fill-opacity=\"1\" /><path clip-path=\"url(#clip910)\" d=\"M95.7557 337.077 Q92.1447 337.077 90.316 340.642 Q88.5104 344.183 88.5104 351.313 Q88.5104 358.419 90.316 361.984 Q92.1447 365.526 95.7557 365.526 Q99.39 365.526 101.196 361.984 Q103.024 358.419 103.024 351.313 Q103.024 344.183 101.196 340.642 Q99.39 337.077 95.7557 337.077 M95.7557 333.373 Q101.566 333.373 104.621 337.98 Q107.7 342.563 107.7 351.313 Q107.7 360.04 104.621 364.646 Q101.566 369.229 95.7557 369.229 Q89.9456 369.229 86.8669 364.646 Q83.8114 360.04 83.8114 351.313 Q83.8114 342.563 86.8669 337.98 Q89.9456 333.373 95.7557 333.373 Z\" fill=\"#000000\" fill-rule=\"evenodd\" fill-opacity=\"1\" /><path clip-path=\"url(#clip910)\" d=\"M115.918 362.679 L120.802 362.679 L120.802 368.558 L115.918 368.558 L115.918 362.679 Z\" fill=\"#000000\" fill-rule=\"evenodd\" fill-opacity=\"1\" /><path clip-path=\"url(#clip910)\" d=\"M135.015 364.623 L151.334 364.623 L151.334 368.558 L129.39 368.558 L129.39 364.623 Q132.052 361.868 136.635 357.239 Q141.242 352.586 142.422 351.243 Q144.668 348.72 145.547 346.984 Q146.45 345.225 146.45 343.535 Q146.45 340.781 144.505 339.044 Q142.584 337.308 139.482 337.308 Q137.283 337.308 134.83 338.072 Q132.399 338.836 129.621 340.387 L129.621 335.665 Q132.445 334.531 134.899 333.952 Q137.353 333.373 139.39 333.373 Q144.76 333.373 147.955 336.058 Q151.149 338.744 151.149 343.234 Q151.149 345.364 150.339 347.285 Q149.552 349.183 147.445 351.776 Q146.867 352.447 143.765 355.665 Q140.663 358.859 135.015 364.623 Z\" fill=\"#000000\" fill-rule=\"evenodd\" fill-opacity=\"1\" /><path clip-path=\"url(#clip910)\" d=\"M161.195 333.998 L179.552 333.998 L179.552 337.933 L165.478 337.933 L165.478 346.405 Q166.496 346.058 167.515 345.896 Q168.533 345.711 169.552 345.711 Q175.339 345.711 178.718 348.882 Q182.098 352.054 182.098 357.47 Q182.098 363.049 178.626 366.151 Q175.153 369.229 168.834 369.229 Q166.658 369.229 164.39 368.859 Q162.144 368.489 159.737 367.748 L159.737 363.049 Q161.82 364.183 164.042 364.739 Q166.265 365.294 168.741 365.294 Q172.746 365.294 175.084 363.188 Q177.422 361.081 177.422 357.47 Q177.422 353.859 175.084 351.753 Q172.746 349.646 168.741 349.646 Q166.866 349.646 164.991 350.063 Q163.14 350.48 161.195 351.359 L161.195 333.998 Z\" fill=\"#000000\" fill-rule=\"evenodd\" fill-opacity=\"1\" /><path clip-path=\"url(#clip910)\" d=\"M94.7604 144.628 Q91.1493 144.628 89.3206 148.193 Q87.515 151.734 87.515 158.864 Q87.515 165.97 89.3206 169.535 Q91.1493 173.077 94.7604 173.077 Q98.3946 173.077 100.2 169.535 Q102.029 165.97 102.029 158.864 Q102.029 151.734 100.2 148.193 Q98.3946 144.628 94.7604 144.628 M94.7604 140.924 Q100.571 140.924 103.626 145.531 Q106.705 150.114 106.705 158.864 Q106.705 167.591 103.626 172.197 Q100.571 176.78 94.7604 176.78 Q88.9502 176.78 85.8715 172.197 Q82.816 167.591 82.816 158.864 Q82.816 150.114 85.8715 145.531 Q88.9502 140.924 94.7604 140.924 Z\" fill=\"#000000\" fill-rule=\"evenodd\" fill-opacity=\"1\" /><path clip-path=\"url(#clip910)\" d=\"M114.922 170.229 L119.807 170.229 L119.807 176.109 L114.922 176.109 L114.922 170.229 Z\" fill=\"#000000\" fill-rule=\"evenodd\" fill-opacity=\"1\" /><path clip-path=\"url(#clip910)\" d=\"M130.038 141.549 L148.394 141.549 L148.394 145.484 L134.32 145.484 L134.32 153.956 Q135.339 153.609 136.357 153.447 Q137.376 153.262 138.394 153.262 Q144.181 153.262 147.561 156.433 Q150.941 159.605 150.941 165.021 Q150.941 170.6 147.468 173.702 Q143.996 176.78 137.677 176.78 Q135.501 176.78 133.232 176.41 Q130.987 176.04 128.58 175.299 L128.58 170.6 Q130.663 171.734 132.885 172.29 Q135.107 172.845 137.584 172.845 Q141.589 172.845 143.927 170.739 Q146.265 168.632 146.265 165.021 Q146.265 161.41 143.927 159.304 Q141.589 157.197 137.584 157.197 Q135.709 157.197 133.834 157.614 Q131.982 158.03 130.038 158.91 L130.038 141.549 Z\" fill=\"#000000\" fill-rule=\"evenodd\" fill-opacity=\"1\" /><path clip-path=\"url(#clip910)\" d=\"M170.153 144.628 Q166.542 144.628 164.714 148.193 Q162.908 151.734 162.908 158.864 Q162.908 165.97 164.714 169.535 Q166.542 173.077 170.153 173.077 Q173.788 173.077 175.593 169.535 Q177.422 165.97 177.422 158.864 Q177.422 151.734 175.593 148.193 Q173.788 144.628 170.153 144.628 M170.153 140.924 Q175.964 140.924 179.019 145.531 Q182.098 150.114 182.098 158.864 Q182.098 167.591 179.019 172.197 Q175.964 176.78 170.153 176.78 Q164.343 176.78 161.265 172.197 Q158.209 167.591 158.209 158.864 Q158.209 150.114 161.265 145.531 Q164.343 140.924 170.153 140.924 Z\" fill=\"#000000\" fill-rule=\"evenodd\" fill-opacity=\"1\" /><polyline clip-path=\"url(#clip912)\" style=\"stroke:#009af9; stroke-linecap:butt; stroke-linejoin:round; stroke-width:4; stroke-opacity:1; fill:none\" points=\"\n",
       "  329.966,538.332 361.571,542.549 393.176,546.926 424.781,551.378 456.387,555.812 487.992,560.136 519.597,564.255 551.203,568.076 582.808,571.51 614.413,574.472 \n",
       "  646.018,576.884 677.624,578.679 709.229,579.799 740.834,580.199 772.439,579.847 804.045,578.726 835.65,576.836 867.255,574.19 898.861,570.821 930.466,566.775 \n",
       "  962.071,562.116 993.676,556.921 1025.28,551.282 1056.89,545.303 1088.49,539.099 1120.1,532.792 1151.7,526.512 1183.31,520.39 1214.91,514.56 1246.52,509.154 \n",
       "  1278.12,504.299 1309.73,500.115 1341.33,496.71 1372.94,494.181 1404.55,492.609 1436.15,492.059 1467.76,492.574 1499.36,494.179 1530.97,496.873 1562.57,500.637 \n",
       "  1594.18,505.426 1625.78,511.171 1657.39,517.785 1688.99,525.155 1720.6,533.151 1752.2,541.627 1783.81,550.42 1815.41,559.355 1847.02,568.251 1878.62,576.918 \n",
       "  1910.23,585.169 1941.83,592.817 1973.44,599.681 2005.05,605.594 2036.65,610.399 2068.26,613.962 2099.86,616.167 2131.47,616.924 2163.07,616.17 2194.68,613.874 \n",
       "  2226.28,610.033 2257.89,604.678 2289.49,597.873 2321.1,589.713 2352.7,580.327 2384.31,569.871 2415.91,558.531 2447.52,546.515 2479.12,534.053 2510.73,521.394 \n",
       "  2542.34,508.795 2573.94,496.523 2605.55,484.845 2637.15,474.026 2668.76,464.32 2700.36,455.967 2731.97,449.185 2763.57,444.166 2795.18,441.073 2826.78,440.033 \n",
       "  2858.39,441.134 2889.99,444.42 2921.6,449.895 2953.2,457.514 2984.81,467.185 3016.41,478.772 3048.02,492.094 3079.62,506.928 3111.23,523.01 3142.84,540.045 \n",
       "  3174.44,557.705 3206.05,575.641 3237.65,593.485 3269.26,610.86 3300.86,627.388 3332.47,642.693 3364.07,656.416 3395.68,668.218 3427.28,677.79 3458.89,684.86 \n",
       "  \n",
       "  \"/>\n",
       "<polyline clip-path=\"url(#clip912)\" style=\"stroke:#e26f46; stroke-linecap:butt; stroke-linejoin:round; stroke-width:4; stroke-opacity:1; fill:none\" points=\"\n",
       "  329.966,548.914 361.571,593.515 393.176,637.537 424.781,679.943 456.387,719.72 487.992,755.906 519.597,787.607 551.203,814.024 582.808,834.471 614.413,848.392 \n",
       "  646.018,855.377 677.624,855.17 709.229,847.684 740.834,832.997 772.439,811.359 804.045,783.185 835.65,749.047 867.255,709.664 898.861,665.889 930.466,618.687 \n",
       "  962.071,569.116 993.676,518.304 1025.28,467.42 1056.89,417.654 1088.49,370.183 1120.1,326.146 1151.7,286.616 1183.31,252.578 1214.91,224.897 1246.52,204.304 \n",
       "  1278.12,191.372 1309.73,186.505 1341.33,189.92 1372.94,201.648 1404.55,221.522 1436.15,249.185 1467.76,284.092 1499.36,325.522 1530.97,372.593 1562.57,424.278 \n",
       "  1594.18,479.431 1625.78,536.807 1657.39,595.096 1688.99,652.947 1720.6,709.003 1752.2,761.93 1783.81,810.451 1815.41,853.375 1847.02,889.624 1878.62,918.266 \n",
       "  1910.23,938.531 1941.83,949.836 1973.44,951.799 2005.05,944.253 2036.65,927.25 2068.26,901.063 2099.86,866.183 2131.47,823.313 2163.07,773.349 2194.68,717.366 \n",
       "  2226.28,656.593 2257.89,592.389 2289.49,526.207 2321.1,459.569 2352.7,394.025 2384.31,331.122 2415.91,272.364 2447.52,219.178 2479.12,172.88 2510.73,134.641 \n",
       "  2542.34,105.461 2573.94,86.1397 2605.55,77.2578 2637.15,79.1592 2668.76,91.9408 2700.36,115.446 2731.97,149.266 2763.57,192.746 2795.18,244.995 2826.78,304.908 \n",
       "  2858.39,371.185 2889.99,442.361 2921.6,516.837 2953.2,592.915 2984.81,668.839 3016.41,742.833 3048.02,813.143 3079.62,878.077 3111.23,936.048 3142.84,985.61 \n",
       "  3174.44,1025.5 3206.05,1054.65 3237.65,1072.24 3269.26,1077.71 3300.86,1070.78 3332.47,1051.45 3364.07,1019.99 3395.68,976.998 3427.28,923.318 3458.89,860.067 \n",
       "  \n",
       "  \"/>\n",
       "<polyline clip-path=\"url(#clip912)\" style=\"stroke:#3da44d; stroke-linecap:butt; stroke-linejoin:round; stroke-width:4; stroke-opacity:1; fill:none\" points=\"\n",
       "  329.966,545.125 361.571,545.345 393.176,545.504 424.781,545.601 456.387,545.635 487.992,545.608 519.597,545.521 551.203,545.382 582.808,545.195 614.413,544.969 \n",
       "  646.018,544.712 677.624,544.434 709.229,544.144 740.834,543.853 772.439,543.568 804.045,543.3 835.65,543.056 867.255,542.842 898.861,542.665 930.466,542.528 \n",
       "  962.071,542.434 993.676,542.385 1025.28,542.381 1056.89,542.419 1088.49,542.498 1120.1,542.612 1151.7,542.757 1183.31,542.927 1214.91,543.116 1246.52,543.318 \n",
       "  1278.12,543.524 1309.73,543.729 1341.33,543.925 1372.94,544.108 1404.55,544.272 1436.15,544.412 1467.76,544.525 1499.36,544.609 1530.97,544.661 1562.57,544.682 \n",
       "  1594.18,544.671 1625.78,544.631 1657.39,544.564 1688.99,544.473 1720.6,544.362 1752.2,544.235 1783.81,544.097 1815.41,543.953 1847.02,543.807 1878.62,543.664 \n",
       "  1910.23,543.528 1941.83,543.404 1973.44,543.296 2005.05,543.205 2036.65,543.134 2068.26,543.085 2099.86,543.058 2131.47,543.053 2163.07,543.07 2194.68,543.107 \n",
       "  2226.28,543.162 2257.89,543.233 2289.49,543.317 2321.1,543.41 2352.7,543.511 2384.31,543.614 2415.91,543.716 2447.52,543.815 2479.12,543.908 2510.73,543.991 \n",
       "  2542.34,544.063 2573.94,544.121 2605.55,544.164 2637.15,544.192 2668.76,544.204 2700.36,544.201 2731.97,544.182 2763.57,544.15 2795.18,544.106 2826.78,544.052 \n",
       "  2858.39,543.989 2889.99,543.92 2921.6,543.848 2953.2,543.775 2984.81,543.703 3016.41,543.635 3048.02,543.572 3079.62,543.517 3111.23,543.471 3142.84,543.434 \n",
       "  3174.44,543.408 3206.05,543.393 3237.65,543.39 3269.26,543.397 3300.86,543.414 3332.47,543.441 3364.07,543.475 3395.68,543.517 3427.28,543.563 3458.89,543.613 \n",
       "  \n",
       "  \"/>\n",
       "<polyline clip-path=\"url(#clip912)\" style=\"stroke:#c271d2; stroke-linecap:butt; stroke-linejoin:round; stroke-width:4; stroke-opacity:1; fill:none\" points=\"\n",
       "  329.966,579.934 361.571,591.414 393.176,601.3 424.781,609.344 456.387,615.356 487.992,619.206 519.597,620.828 551.203,620.222 582.808,617.452 614.413,612.64 \n",
       "  646.018,605.965 677.624,597.656 709.229,587.983 740.834,577.25 772.439,565.782 804.045,553.922 835.65,542.016 867.255,530.403 898.861,519.408 930.466,509.331 \n",
       "  962.071,500.44 993.676,492.963 1025.28,487.085 1056.89,482.94 1088.49,480.611 1120.1,480.125 1151.7,481.46 1183.31,484.539 1214.91,489.24 1246.52,495.396 \n",
       "  1278.12,502.8 1309.73,511.217 1341.33,520.387 1372.94,530.032 1404.55,539.869 1436.15,549.614 1467.76,558.991 1499.36,567.741 1530.97,575.628 1562.57,582.445 \n",
       "  1594.18,588.02 1625.78,592.219 1657.39,594.953 1688.99,596.172 1720.6,595.873 1752.2,594.096 1783.81,590.922 1815.41,586.47 1847.02,580.893 1878.62,574.373 \n",
       "  1910.23,567.114 1941.83,559.339 1973.44,551.279 2005.05,543.17 2036.65,535.243 2068.26,527.721 2099.86,520.809 2131.47,514.691 2163.07,509.525 2194.68,505.439 \n",
       "  2226.28,502.526 2257.89,500.846 2289.49,500.421 2321.1,501.237 2352.7,503.246 2384.31,506.366 2415.91,510.485 2447.52,515.466 2479.12,521.148 2510.73,527.357 \n",
       "  2542.34,533.904 2573.94,540.596 2605.55,547.24 2637.15,553.647 2668.76,559.64 2700.36,565.058 2731.97,569.757 2763.57,573.618 2795.18,576.549 2826.78,578.486 \n",
       "  2858.39,579.394 2889.99,579.268 2921.6,578.134 2953.2,576.043 2984.81,573.075 3016.41,569.333 3048.02,564.939 3079.62,560.032 3111.23,554.761 3142.84,549.284 \n",
       "  3174.44,543.762 3206.05,538.353 3237.65,533.207 3269.26,528.467 3300.86,524.258 3332.47,520.69 3364.07,517.851 3395.68,515.806 3427.28,514.599 3458.89,514.245 \n",
       "  \n",
       "  \"/>\n",
       "<polyline clip-path=\"url(#clip912)\" style=\"stroke:#ac8d18; stroke-linecap:butt; stroke-linejoin:round; stroke-width:4; stroke-opacity:1; fill:none\" points=\"\n",
       "  329.966,626.558 361.571,683.422 393.176,736.462 424.781,784.325 456.387,825.797 487.992,859.833 519.597,885.583 551.203,902.416 582.808,909.932 614.413,907.974 \n",
       "  646.018,896.628 677.624,876.223 709.229,847.321 740.834,810.701 772.439,767.336 804.045,718.372 835.65,665.092 867.255,608.889 898.861,551.223 930.466,493.587 \n",
       "  962.071,437.468 993.676,384.307 1025.28,335.464 1056.89,292.182 1088.49,255.556 1120.1,226.504 1151.7,205.748 1183.31,193.789 1214.91,190.903 1246.52,197.129 \n",
       "  1278.12,212.27 1309.73,235.902 1341.33,267.383 1372.94,305.869 1404.55,350.341 1436.15,399.629 1467.76,452.443 1499.36,507.406 1530.97,563.094 1562.57,618.066 \n",
       "  1594.18,670.907 1625.78,720.264 1657.39,764.876 1688.99,803.61 1720.6,835.492 1752.2,859.724 1783.81,875.712 1815.41,883.075 1847.02,881.656 1878.62,871.527 \n",
       "  1910.23,852.981 1941.83,826.531 1973.44,792.889 2005.05,752.951 2036.65,707.771 2068.26,658.535 2099.86,606.528 2131.47,553.103 2163.07,499.643 2194.68,447.528 \n",
       "  2226.28,398.095 2257.89,352.611 2289.49,312.232 2321.1,277.981 2352.7,250.717 2384.31,231.116 2415.91,219.655 2447.52,216.597 2479.12,221.988 2510.73,235.658 \n",
       "  2542.34,257.22 2573.94,286.089 2605.55,321.491 2637.15,362.489 2668.76,408.002 2700.36,456.84 2731.97,507.729 2763.57,559.35 2795.18,610.368 2826.78,659.469 \n",
       "  2858.39,705.395 2889.99,746.973 2921.6,783.147 2953.2,813.005 2984.81,835.803 3016.41,850.978 3048.02,858.17 3079.62,857.223 3111.23,848.194 3142.84,831.346 \n",
       "  3174.44,807.146 3206.05,776.244 3237.65,739.465 3269.26,697.78 3300.86,652.283 3332.47,604.162 3364.07,554.668 3395.68,505.085 3427.28,456.69 3458.89,410.727 \n",
       "  \n",
       "  \"/>\n",
       "<path clip-path=\"url(#clip910)\" d=\"\n",
       "M3028.06 393.634 L3442.2 393.634 L3442.2 82.5936 L3028.06 82.5936  Z\n",
       "  \" fill=\"#ffffff\" fill-rule=\"evenodd\" fill-opacity=\"1\"/>\n",
       "<polyline clip-path=\"url(#clip910)\" style=\"stroke:#000000; stroke-linecap:butt; stroke-linejoin:round; stroke-width:4; stroke-opacity:1; fill:none\" points=\"\n",
       "  3028.06,393.634 3442.2,393.634 3442.2,82.5936 3028.06,82.5936 3028.06,393.634 \n",
       "  \"/>\n",
       "<polyline clip-path=\"url(#clip910)\" style=\"stroke:#009af9; stroke-linecap:butt; stroke-linejoin:round; stroke-width:4; stroke-opacity:1; fill:none\" points=\"\n",
       "  3064.06,134.434 3280.06,134.434 \n",
       "  \"/>\n",
       "<path clip-path=\"url(#clip910)\" d=\"M3329.9 154.121 Q3328.09 158.751 3326.38 160.163 Q3324.67 161.575 3321.8 161.575 L3318.4 161.575 L3318.4 158.01 L3320.9 158.01 Q3322.65 158.01 3323.63 157.176 Q3324.6 156.343 3325.78 153.241 L3326.54 151.297 L3316.06 125.788 L3320.57 125.788 L3328.67 146.065 L3336.77 125.788 L3341.29 125.788 L3329.9 154.121 Z\" fill=\"#000000\" fill-rule=\"evenodd\" fill-opacity=\"1\" /><path clip-path=\"url(#clip910)\" d=\"M3348.58 147.778 L3356.22 147.778 L3356.22 121.413 L3347.91 123.079 L3347.91 118.82 L3356.17 117.154 L3360.85 117.154 L3360.85 147.778 L3368.49 147.778 L3368.49 151.714 L3348.58 151.714 L3348.58 147.778 Z\" fill=\"#000000\" fill-rule=\"evenodd\" fill-opacity=\"1\" /><polyline clip-path=\"url(#clip910)\" style=\"stroke:#e26f46; stroke-linecap:butt; stroke-linejoin:round; stroke-width:4; stroke-opacity:1; fill:none\" points=\"\n",
       "  3064.06,186.274 3280.06,186.274 \n",
       "  \"/>\n",
       "<path clip-path=\"url(#clip910)\" d=\"M3329.9 205.961 Q3328.09 210.591 3326.38 212.003 Q3324.67 213.415 3321.8 213.415 L3318.4 213.415 L3318.4 209.85 L3320.9 209.85 Q3322.65 209.85 3323.63 209.016 Q3324.6 208.183 3325.78 205.081 L3326.54 203.137 L3316.06 177.628 L3320.57 177.628 L3328.67 197.905 L3336.77 177.628 L3341.29 177.628 L3329.9 205.961 Z\" fill=\"#000000\" fill-rule=\"evenodd\" fill-opacity=\"1\" /><path clip-path=\"url(#clip910)\" d=\"M3351.8 199.618 L3368.12 199.618 L3368.12 203.554 L3346.17 203.554 L3346.17 199.618 Q3348.84 196.864 3353.42 192.234 Q3358.02 187.581 3359.21 186.239 Q3361.45 183.716 3362.33 181.98 Q3363.23 180.22 3363.23 178.531 Q3363.23 175.776 3361.29 174.04 Q3359.37 172.304 3356.27 172.304 Q3354.07 172.304 3351.61 173.068 Q3349.18 173.831 3346.4 175.382 L3346.4 170.66 Q3349.23 169.526 3351.68 168.947 Q3354.14 168.369 3356.17 168.369 Q3361.54 168.369 3364.74 171.054 Q3367.93 173.739 3367.93 178.23 Q3367.93 180.359 3367.12 182.281 Q3366.33 184.179 3364.23 186.771 Q3363.65 187.443 3360.55 190.66 Q3357.45 193.855 3351.8 199.618 Z\" fill=\"#000000\" fill-rule=\"evenodd\" fill-opacity=\"1\" /><polyline clip-path=\"url(#clip910)\" style=\"stroke:#3da44d; stroke-linecap:butt; stroke-linejoin:round; stroke-width:4; stroke-opacity:1; fill:none\" points=\"\n",
       "  3064.06,238.114 3280.06,238.114 \n",
       "  \"/>\n",
       "<path clip-path=\"url(#clip910)\" d=\"M3329.9 257.801 Q3328.09 262.431 3326.38 263.843 Q3324.67 265.255 3321.8 265.255 L3318.4 265.255 L3318.4 261.69 L3320.9 261.69 Q3322.65 261.69 3323.63 260.856 Q3324.6 260.023 3325.78 256.921 L3326.54 254.977 L3316.06 229.468 L3320.57 229.468 L3328.67 249.745 L3336.77 229.468 L3341.29 229.468 L3329.9 257.801 Z\" fill=\"#000000\" fill-rule=\"evenodd\" fill-opacity=\"1\" /><path clip-path=\"url(#clip910)\" d=\"M3361.94 236.759 Q3365.29 237.477 3367.17 239.745 Q3369.07 242.014 3369.07 245.347 Q3369.07 250.463 3365.55 253.264 Q3362.03 256.065 3355.55 256.065 Q3353.37 256.065 3351.06 255.625 Q3348.77 255.208 3346.31 254.352 L3346.31 249.838 Q3348.26 250.972 3350.57 251.551 Q3352.89 252.13 3355.41 252.13 Q3359.81 252.13 3362.1 250.394 Q3364.41 248.657 3364.41 245.347 Q3364.41 242.292 3362.26 240.579 Q3360.13 238.843 3356.31 238.843 L3352.28 238.843 L3352.28 235 L3356.5 235 Q3359.95 235 3361.77 233.634 Q3363.6 232.246 3363.6 229.653 Q3363.6 226.991 3361.71 225.579 Q3359.83 224.144 3356.31 224.144 Q3354.39 224.144 3352.19 224.56 Q3349.99 224.977 3347.35 225.857 L3347.35 221.69 Q3350.02 220.949 3352.33 220.579 Q3354.67 220.209 3356.73 220.209 Q3362.05 220.209 3365.15 222.639 Q3368.26 225.046 3368.26 229.167 Q3368.26 232.037 3366.61 234.028 Q3364.97 235.996 3361.94 236.759 Z\" fill=\"#000000\" fill-rule=\"evenodd\" fill-opacity=\"1\" /><polyline clip-path=\"url(#clip910)\" style=\"stroke:#c271d2; stroke-linecap:butt; stroke-linejoin:round; stroke-width:4; stroke-opacity:1; fill:none\" points=\"\n",
       "  3064.06,289.954 3280.06,289.954 \n",
       "  \"/>\n",
       "<path clip-path=\"url(#clip910)\" d=\"M3329.9 309.641 Q3328.09 314.271 3326.38 315.683 Q3324.67 317.095 3321.8 317.095 L3318.4 317.095 L3318.4 313.53 L3320.9 313.53 Q3322.65 313.53 3323.63 312.696 Q3324.6 311.863 3325.78 308.761 L3326.54 306.817 L3316.06 281.308 L3320.57 281.308 L3328.67 301.585 L3336.77 281.308 L3341.29 281.308 L3329.9 309.641 Z\" fill=\"#000000\" fill-rule=\"evenodd\" fill-opacity=\"1\" /><path clip-path=\"url(#clip910)\" d=\"M3360.62 276.748 L3348.81 295.197 L3360.62 295.197 L3360.62 276.748 M3359.39 272.674 L3365.27 272.674 L3365.27 295.197 L3370.2 295.197 L3370.2 299.085 L3365.27 299.085 L3365.27 307.234 L3360.62 307.234 L3360.62 299.085 L3345.02 299.085 L3345.02 294.572 L3359.39 272.674 Z\" fill=\"#000000\" fill-rule=\"evenodd\" fill-opacity=\"1\" /><polyline clip-path=\"url(#clip910)\" style=\"stroke:#ac8d18; stroke-linecap:butt; stroke-linejoin:round; stroke-width:4; stroke-opacity:1; fill:none\" points=\"\n",
       "  3064.06,341.794 3280.06,341.794 \n",
       "  \"/>\n",
       "<path clip-path=\"url(#clip910)\" d=\"M3329.9 361.481 Q3328.09 366.111 3326.38 367.523 Q3324.67 368.935 3321.8 368.935 L3318.4 368.935 L3318.4 365.37 L3320.9 365.37 Q3322.65 365.37 3323.63 364.536 Q3324.6 363.703 3325.78 360.601 L3326.54 358.657 L3316.06 333.148 L3320.57 333.148 L3328.67 353.425 L3336.77 333.148 L3341.29 333.148 L3329.9 361.481 Z\" fill=\"#000000\" fill-rule=\"evenodd\" fill-opacity=\"1\" /><path clip-path=\"url(#clip910)\" d=\"M3347.82 324.514 L3366.17 324.514 L3366.17 328.449 L3352.1 328.449 L3352.1 336.921 Q3353.12 336.574 3354.14 336.412 Q3355.15 336.226 3356.17 336.226 Q3361.96 336.226 3365.34 339.398 Q3368.72 342.569 3368.72 347.986 Q3368.72 353.564 3365.25 356.666 Q3361.77 359.745 3355.46 359.745 Q3353.28 359.745 3351.01 359.374 Q3348.77 359.004 3346.36 358.263 L3346.36 353.564 Q3348.44 354.699 3350.66 355.254 Q3352.89 355.81 3355.36 355.81 Q3359.37 355.81 3361.71 353.703 Q3364.04 351.597 3364.04 347.986 Q3364.04 344.375 3361.71 342.268 Q3359.37 340.162 3355.36 340.162 Q3353.49 340.162 3351.61 340.578 Q3349.76 340.995 3347.82 341.875 L3347.82 324.514 Z\" fill=\"#000000\" fill-rule=\"evenodd\" fill-opacity=\"1\" /></svg>\n"
      ]
     },
     "execution_count": 9,
     "metadata": {},
     "output_type": "execute_result"
    }
   ],
   "source": [
    "plot(evalrespair(getrespair(1,slice1)))\n",
    "plot!(evalrespair(getrespair(2,slice1)))\n",
    "plot!(evalrespair(getrespair(3,slice1)))\n",
    "plot!(evalrespair(getrespair(4,slice1)))\n",
    "plot!(evalrespair(getrespair(5,slice1)))\n",
    "plot!(size=(900,300))"
   ]
  },
  {
   "cell_type": "code",
   "execution_count": 10,
   "metadata": {},
   "outputs": [
    {
     "data": {
      "text/plain": [
       "5-element Vector{Float64}:\n",
       " -0.18333731847312126\n",
       " -0.4109392026125728\n",
       "  0.0001483768689431992\n",
       "  0.03829860693215664\n",
       "  0.17277268186916553"
      ]
     },
     "execution_count": 10,
     "metadata": {},
     "output_type": "execute_result"
    }
   ],
   "source": [
    "# Slice1 values at t = 100\n",
    "S1end = [evalrespair(getrespair(i,slice1),100) for i in 1:R]"
   ]
  },
  {
   "cell_type": "markdown",
   "metadata": {},
   "source": [
    "# Slice2"
   ]
  },
  {
   "cell_type": "code",
   "execution_count": 11,
   "metadata": {},
   "outputs": [
    {
     "data": {
      "image/svg+xml": [
       "<?xml version=\"1.0\" encoding=\"utf-8\"?>\n",
       "<svg xmlns=\"http://www.w3.org/2000/svg\" xmlns:xlink=\"http://www.w3.org/1999/xlink\" width=\"900\" height=\"300\" viewBox=\"0 0 3600 1200\">\n",
       "<defs>\n",
       "  <clipPath id=\"clip950\">\n",
       "    <rect x=\"0\" y=\"0\" width=\"3600\" height=\"1200\"/>\n",
       "  </clipPath>\n",
       "</defs>\n",
       "<path clip-path=\"url(#clip950)\" d=\"\n",
       "M0 1200 L3600 1200 L3600 0 L0 0  Z\n",
       "  \" fill=\"#ffffff\" fill-rule=\"evenodd\" fill-opacity=\"1\"/>\n",
       "<defs>\n",
       "  <clipPath id=\"clip951\">\n",
       "    <rect x=\"720\" y=\"0\" width=\"2521\" height=\"1200\"/>\n",
       "  </clipPath>\n",
       "</defs>\n",
       "<path clip-path=\"url(#clip950)\" d=\"\n",
       "M236.098 1107.73 L3552.76 1107.73 L3552.76 47.2441 L236.098 47.2441  Z\n",
       "  \" fill=\"#ffffff\" fill-rule=\"evenodd\" fill-opacity=\"1\"/>\n",
       "<defs>\n",
       "  <clipPath id=\"clip952\">\n",
       "    <rect x=\"236\" y=\"47\" width=\"3318\" height=\"1061\"/>\n",
       "  </clipPath>\n",
       "</defs>\n",
       "<polyline clip-path=\"url(#clip952)\" style=\"stroke:#000000; stroke-linecap:butt; stroke-linejoin:round; stroke-width:2; stroke-opacity:0.1; fill:none\" points=\"\n",
       "  298.36,1107.73 298.36,47.2441 \n",
       "  \"/>\n",
       "<polyline clip-path=\"url(#clip952)\" style=\"stroke:#000000; stroke-linecap:butt; stroke-linejoin:round; stroke-width:2; stroke-opacity:0.1; fill:none\" points=\"\n",
       "  1088.49,1107.73 1088.49,47.2441 \n",
       "  \"/>\n",
       "<polyline clip-path=\"url(#clip952)\" style=\"stroke:#000000; stroke-linecap:butt; stroke-linejoin:round; stroke-width:2; stroke-opacity:0.1; fill:none\" points=\"\n",
       "  1878.62,1107.73 1878.62,47.2441 \n",
       "  \"/>\n",
       "<polyline clip-path=\"url(#clip952)\" style=\"stroke:#000000; stroke-linecap:butt; stroke-linejoin:round; stroke-width:2; stroke-opacity:0.1; fill:none\" points=\"\n",
       "  2668.76,1107.73 2668.76,47.2441 \n",
       "  \"/>\n",
       "<polyline clip-path=\"url(#clip952)\" style=\"stroke:#000000; stroke-linecap:butt; stroke-linejoin:round; stroke-width:2; stroke-opacity:0.1; fill:none\" points=\"\n",
       "  3458.89,1107.73 3458.89,47.2441 \n",
       "  \"/>\n",
       "<polyline clip-path=\"url(#clip950)\" style=\"stroke:#000000; stroke-linecap:butt; stroke-linejoin:round; stroke-width:4; stroke-opacity:1; fill:none\" points=\"\n",
       "  236.098,1107.73 3552.76,1107.73 \n",
       "  \"/>\n",
       "<polyline clip-path=\"url(#clip950)\" style=\"stroke:#000000; stroke-linecap:butt; stroke-linejoin:round; stroke-width:4; stroke-opacity:1; fill:none\" points=\"\n",
       "  298.36,1107.73 298.36,1088.83 \n",
       "  \"/>\n",
       "<polyline clip-path=\"url(#clip950)\" style=\"stroke:#000000; stroke-linecap:butt; stroke-linejoin:round; stroke-width:4; stroke-opacity:1; fill:none\" points=\"\n",
       "  1088.49,1107.73 1088.49,1088.83 \n",
       "  \"/>\n",
       "<polyline clip-path=\"url(#clip950)\" style=\"stroke:#000000; stroke-linecap:butt; stroke-linejoin:round; stroke-width:4; stroke-opacity:1; fill:none\" points=\"\n",
       "  1878.62,1107.73 1878.62,1088.83 \n",
       "  \"/>\n",
       "<polyline clip-path=\"url(#clip950)\" style=\"stroke:#000000; stroke-linecap:butt; stroke-linejoin:round; stroke-width:4; stroke-opacity:1; fill:none\" points=\"\n",
       "  2668.76,1107.73 2668.76,1088.83 \n",
       "  \"/>\n",
       "<polyline clip-path=\"url(#clip950)\" style=\"stroke:#000000; stroke-linecap:butt; stroke-linejoin:round; stroke-width:4; stroke-opacity:1; fill:none\" points=\"\n",
       "  3458.89,1107.73 3458.89,1088.83 \n",
       "  \"/>\n",
       "<path clip-path=\"url(#clip950)\" d=\"M298.36 1148.25 Q294.749 1148.25 292.92 1151.81 Q291.115 1155.35 291.115 1162.48 Q291.115 1169.59 292.92 1173.15 Q294.749 1176.7 298.36 1176.7 Q301.995 1176.7 303.8 1173.15 Q305.629 1169.59 305.629 1162.48 Q305.629 1155.35 303.8 1151.81 Q301.995 1148.25 298.36 1148.25 M298.36 1144.54 Q304.17 1144.54 307.226 1149.15 Q310.305 1153.73 310.305 1162.48 Q310.305 1171.21 307.226 1175.82 Q304.17 1180.4 298.36 1180.4 Q292.55 1180.4 289.471 1175.82 Q286.416 1171.21 286.416 1162.48 Q286.416 1153.73 289.471 1149.15 Q292.55 1144.54 298.36 1144.54 Z\" fill=\"#000000\" fill-rule=\"evenodd\" fill-opacity=\"1\" /><path clip-path=\"url(#clip950)\" d=\"M1067.76 1175.79 L1084.08 1175.79 L1084.08 1179.73 L1062.14 1179.73 L1062.14 1175.79 Q1064.8 1173.04 1069.38 1168.41 Q1073.99 1163.76 1075.17 1162.41 Q1077.42 1159.89 1078.3 1158.15 Q1079.2 1156.39 1079.2 1154.7 Q1079.2 1151.95 1077.25 1150.21 Q1075.33 1148.48 1072.23 1148.48 Q1070.03 1148.48 1067.58 1149.24 Q1065.15 1150.01 1062.37 1151.56 L1062.37 1146.83 Q1065.19 1145.7 1067.65 1145.12 Q1070.1 1144.54 1072.14 1144.54 Q1077.51 1144.54 1080.7 1147.23 Q1083.9 1149.91 1083.9 1154.4 Q1083.9 1156.53 1083.09 1158.45 Q1082.3 1160.35 1080.19 1162.95 Q1079.61 1163.62 1076.51 1166.83 Q1073.41 1170.03 1067.76 1175.79 Z\" fill=\"#000000\" fill-rule=\"evenodd\" fill-opacity=\"1\" /><path clip-path=\"url(#clip950)\" d=\"M1093.94 1145.17 L1112.3 1145.17 L1112.3 1149.1 L1098.23 1149.1 L1098.23 1157.58 Q1099.24 1157.23 1100.26 1157.07 Q1101.28 1156.88 1102.3 1156.88 Q1108.09 1156.88 1111.47 1160.05 Q1114.85 1163.22 1114.85 1168.64 Q1114.85 1174.22 1111.37 1177.32 Q1107.9 1180.4 1101.58 1180.4 Q1099.41 1180.4 1097.14 1180.03 Q1094.89 1179.66 1092.49 1178.92 L1092.49 1174.22 Q1094.57 1175.35 1096.79 1175.91 Q1099.01 1176.46 1101.49 1176.46 Q1105.49 1176.46 1107.83 1174.36 Q1110.17 1172.25 1110.17 1168.64 Q1110.17 1165.03 1107.83 1162.92 Q1105.49 1160.82 1101.49 1160.82 Q1099.61 1160.82 1097.74 1161.23 Q1095.89 1161.65 1093.94 1162.53 L1093.94 1145.17 Z\" fill=\"#000000\" fill-rule=\"evenodd\" fill-opacity=\"1\" /><path clip-path=\"url(#clip950)\" d=\"M1853.32 1145.17 L1871.68 1145.17 L1871.68 1149.1 L1857.61 1149.1 L1857.61 1157.58 Q1858.62 1157.23 1859.64 1157.07 Q1860.66 1156.88 1861.68 1156.88 Q1867.47 1156.88 1870.85 1160.05 Q1874.23 1163.22 1874.23 1168.64 Q1874.23 1174.22 1870.75 1177.32 Q1867.28 1180.4 1860.96 1180.4 Q1858.79 1180.4 1856.52 1180.03 Q1854.27 1179.66 1851.87 1178.92 L1851.87 1174.22 Q1853.95 1175.35 1856.17 1175.91 Q1858.39 1176.46 1860.87 1176.46 Q1864.87 1176.46 1867.21 1174.36 Q1869.55 1172.25 1869.55 1168.64 Q1869.55 1165.03 1867.21 1162.92 Q1864.87 1160.82 1860.87 1160.82 Q1858.99 1160.82 1857.12 1161.23 Q1855.27 1161.65 1853.32 1162.53 L1853.32 1145.17 Z\" fill=\"#000000\" fill-rule=\"evenodd\" fill-opacity=\"1\" /><path clip-path=\"url(#clip950)\" d=\"M1893.44 1148.25 Q1889.83 1148.25 1888 1151.81 Q1886.19 1155.35 1886.19 1162.48 Q1886.19 1169.59 1888 1173.15 Q1889.83 1176.7 1893.44 1176.7 Q1897.07 1176.7 1898.88 1173.15 Q1900.71 1169.59 1900.71 1162.48 Q1900.71 1155.35 1898.88 1151.81 Q1897.07 1148.25 1893.44 1148.25 M1893.44 1144.54 Q1899.25 1144.54 1902.3 1149.15 Q1905.38 1153.73 1905.38 1162.48 Q1905.38 1171.21 1902.3 1175.82 Q1899.25 1180.4 1893.44 1180.4 Q1887.63 1180.4 1884.55 1175.82 Q1881.49 1171.21 1881.49 1162.48 Q1881.49 1153.73 1884.55 1149.15 Q1887.63 1144.54 1893.44 1144.54 Z\" fill=\"#000000\" fill-rule=\"evenodd\" fill-opacity=\"1\" /><path clip-path=\"url(#clip950)\" d=\"M2642.61 1145.17 L2664.83 1145.17 L2664.83 1147.16 L2652.29 1179.73 L2647.4 1179.73 L2659.21 1149.1 L2642.61 1149.1 L2642.61 1145.17 Z\" fill=\"#000000\" fill-rule=\"evenodd\" fill-opacity=\"1\" /><path clip-path=\"url(#clip950)\" d=\"M2674 1145.17 L2692.36 1145.17 L2692.36 1149.1 L2678.28 1149.1 L2678.28 1157.58 Q2679.3 1157.23 2680.32 1157.07 Q2681.34 1156.88 2682.36 1156.88 Q2688.14 1156.88 2691.52 1160.05 Q2694.9 1163.22 2694.9 1168.64 Q2694.9 1174.22 2691.43 1177.32 Q2687.96 1180.4 2681.64 1180.4 Q2679.46 1180.4 2677.19 1180.03 Q2674.95 1179.66 2672.54 1178.92 L2672.54 1174.22 Q2674.62 1175.35 2676.85 1175.91 Q2679.07 1176.46 2681.55 1176.46 Q2685.55 1176.46 2687.89 1174.36 Q2690.23 1172.25 2690.23 1168.64 Q2690.23 1165.03 2687.89 1162.92 Q2685.55 1160.82 2681.55 1160.82 Q2679.67 1160.82 2677.8 1161.23 Q2675.94 1161.65 2674 1162.53 L2674 1145.17 Z\" fill=\"#000000\" fill-rule=\"evenodd\" fill-opacity=\"1\" /><path clip-path=\"url(#clip950)\" d=\"M3418.49 1175.79 L3426.13 1175.79 L3426.13 1149.43 L3417.82 1151.09 L3417.82 1146.83 L3426.09 1145.17 L3430.76 1145.17 L3430.76 1175.79 L3438.4 1175.79 L3438.4 1179.73 L3418.49 1179.73 L3418.49 1175.79 Z\" fill=\"#000000\" fill-rule=\"evenodd\" fill-opacity=\"1\" /><path clip-path=\"url(#clip950)\" d=\"M3457.85 1148.25 Q3454.24 1148.25 3452.41 1151.81 Q3450.6 1155.35 3450.6 1162.48 Q3450.6 1169.59 3452.41 1173.15 Q3454.24 1176.7 3457.85 1176.7 Q3461.48 1176.7 3463.29 1173.15 Q3465.12 1169.59 3465.12 1162.48 Q3465.12 1155.35 3463.29 1151.81 Q3461.48 1148.25 3457.85 1148.25 M3457.85 1144.54 Q3463.66 1144.54 3466.71 1149.15 Q3469.79 1153.73 3469.79 1162.48 Q3469.79 1171.21 3466.71 1175.82 Q3463.66 1180.4 3457.85 1180.4 Q3452.04 1180.4 3448.96 1175.82 Q3445.9 1171.21 3445.9 1162.48 Q3445.9 1153.73 3448.96 1149.15 Q3452.04 1144.54 3457.85 1144.54 Z\" fill=\"#000000\" fill-rule=\"evenodd\" fill-opacity=\"1\" /><path clip-path=\"url(#clip950)\" d=\"M3488.01 1148.25 Q3484.4 1148.25 3482.57 1151.81 Q3480.76 1155.35 3480.76 1162.48 Q3480.76 1169.59 3482.57 1173.15 Q3484.4 1176.7 3488.01 1176.7 Q3491.64 1176.7 3493.45 1173.15 Q3495.28 1169.59 3495.28 1162.48 Q3495.28 1155.35 3493.45 1151.81 Q3491.64 1148.25 3488.01 1148.25 M3488.01 1144.54 Q3493.82 1144.54 3496.87 1149.15 Q3499.95 1153.73 3499.95 1162.48 Q3499.95 1171.21 3496.87 1175.82 Q3493.82 1180.4 3488.01 1180.4 Q3482.2 1180.4 3479.12 1175.82 Q3476.06 1171.21 3476.06 1162.48 Q3476.06 1153.73 3479.12 1149.15 Q3482.2 1144.54 3488.01 1144.54 Z\" fill=\"#000000\" fill-rule=\"evenodd\" fill-opacity=\"1\" /><polyline clip-path=\"url(#clip952)\" style=\"stroke:#000000; stroke-linecap:butt; stroke-linejoin:round; stroke-width:2; stroke-opacity:0.1; fill:none\" points=\"\n",
       "  236.098,1009.38 3552.76,1009.38 \n",
       "  \"/>\n",
       "<polyline clip-path=\"url(#clip952)\" style=\"stroke:#000000; stroke-linecap:butt; stroke-linejoin:round; stroke-width:2; stroke-opacity:0.1; fill:none\" points=\"\n",
       "  236.098,809.595 3552.76,809.595 \n",
       "  \"/>\n",
       "<polyline clip-path=\"url(#clip952)\" style=\"stroke:#000000; stroke-linecap:butt; stroke-linejoin:round; stroke-width:2; stroke-opacity:0.1; fill:none\" points=\"\n",
       "  236.098,609.809 3552.76,609.809 \n",
       "  \"/>\n",
       "<polyline clip-path=\"url(#clip952)\" style=\"stroke:#000000; stroke-linecap:butt; stroke-linejoin:round; stroke-width:2; stroke-opacity:0.1; fill:none\" points=\"\n",
       "  236.098,410.023 3552.76,410.023 \n",
       "  \"/>\n",
       "<polyline clip-path=\"url(#clip952)\" style=\"stroke:#000000; stroke-linecap:butt; stroke-linejoin:round; stroke-width:2; stroke-opacity:0.1; fill:none\" points=\"\n",
       "  236.098,210.236 3552.76,210.236 \n",
       "  \"/>\n",
       "<polyline clip-path=\"url(#clip950)\" style=\"stroke:#000000; stroke-linecap:butt; stroke-linejoin:round; stroke-width:4; stroke-opacity:1; fill:none\" points=\"\n",
       "  236.098,1107.73 236.098,47.2441 \n",
       "  \"/>\n",
       "<polyline clip-path=\"url(#clip950)\" style=\"stroke:#000000; stroke-linecap:butt; stroke-linejoin:round; stroke-width:4; stroke-opacity:1; fill:none\" points=\"\n",
       "  236.098,1009.38 254.996,1009.38 \n",
       "  \"/>\n",
       "<polyline clip-path=\"url(#clip950)\" style=\"stroke:#000000; stroke-linecap:butt; stroke-linejoin:round; stroke-width:4; stroke-opacity:1; fill:none\" points=\"\n",
       "  236.098,809.595 254.996,809.595 \n",
       "  \"/>\n",
       "<polyline clip-path=\"url(#clip950)\" style=\"stroke:#000000; stroke-linecap:butt; stroke-linejoin:round; stroke-width:4; stroke-opacity:1; fill:none\" points=\"\n",
       "  236.098,609.809 254.996,609.809 \n",
       "  \"/>\n",
       "<polyline clip-path=\"url(#clip950)\" style=\"stroke:#000000; stroke-linecap:butt; stroke-linejoin:round; stroke-width:4; stroke-opacity:1; fill:none\" points=\"\n",
       "  236.098,410.023 254.996,410.023 \n",
       "  \"/>\n",
       "<polyline clip-path=\"url(#clip950)\" style=\"stroke:#000000; stroke-linecap:butt; stroke-linejoin:round; stroke-width:4; stroke-opacity:1; fill:none\" points=\"\n",
       "  236.098,210.236 254.996,210.236 \n",
       "  \"/>\n",
       "<path clip-path=\"url(#clip950)\" d=\"M44.9921 1009.83 L74.6679 1009.83 L74.6679 1013.77 L44.9921 1013.77 L44.9921 1009.83 Z\" fill=\"#000000\" fill-rule=\"evenodd\" fill-opacity=\"1\" /><path clip-path=\"url(#clip950)\" d=\"M94.7604 995.18 Q91.1493 995.18 89.3206 998.745 Q87.515 1002.29 87.515 1009.42 Q87.515 1016.52 89.3206 1020.09 Q91.1493 1023.63 94.7604 1023.63 Q98.3946 1023.63 100.2 1020.09 Q102.029 1016.52 102.029 1009.42 Q102.029 1002.29 100.2 998.745 Q98.3946 995.18 94.7604 995.18 M94.7604 991.476 Q100.571 991.476 103.626 996.083 Q106.705 1000.67 106.705 1009.42 Q106.705 1018.14 103.626 1022.75 Q100.571 1027.33 94.7604 1027.33 Q88.9502 1027.33 85.8715 1022.75 Q82.816 1018.14 82.816 1009.42 Q82.816 1000.67 85.8715 996.083 Q88.9502 991.476 94.7604 991.476 Z\" fill=\"#000000\" fill-rule=\"evenodd\" fill-opacity=\"1\" /><path clip-path=\"url(#clip950)\" d=\"M114.922 1020.78 L119.807 1020.78 L119.807 1026.66 L114.922 1026.66 L114.922 1020.78 Z\" fill=\"#000000\" fill-rule=\"evenodd\" fill-opacity=\"1\" /><path clip-path=\"url(#clip950)\" d=\"M130.038 992.101 L148.394 992.101 L148.394 996.037 L134.32 996.037 L134.32 1004.51 Q135.339 1004.16 136.357 1004 Q137.376 1003.81 138.394 1003.81 Q144.181 1003.81 147.561 1006.99 Q150.941 1010.16 150.941 1015.57 Q150.941 1021.15 147.468 1024.25 Q143.996 1027.33 137.677 1027.33 Q135.501 1027.33 133.232 1026.96 Q130.987 1026.59 128.58 1025.85 L128.58 1021.15 Q130.663 1022.29 132.885 1022.84 Q135.107 1023.4 137.584 1023.4 Q141.589 1023.4 143.927 1021.29 Q146.265 1019.18 146.265 1015.57 Q146.265 1011.96 143.927 1009.86 Q141.589 1007.75 137.584 1007.75 Q135.709 1007.75 133.834 1008.17 Q131.982 1008.58 130.038 1009.46 L130.038 992.101 Z\" fill=\"#000000\" fill-rule=\"evenodd\" fill-opacity=\"1\" /><path clip-path=\"url(#clip950)\" d=\"M170.153 995.18 Q166.542 995.18 164.714 998.745 Q162.908 1002.29 162.908 1009.42 Q162.908 1016.52 164.714 1020.09 Q166.542 1023.63 170.153 1023.63 Q173.788 1023.63 175.593 1020.09 Q177.422 1016.52 177.422 1009.42 Q177.422 1002.29 175.593 998.745 Q173.788 995.18 170.153 995.18 M170.153 991.476 Q175.964 991.476 179.019 996.083 Q182.098 1000.67 182.098 1009.42 Q182.098 1018.14 179.019 1022.75 Q175.964 1027.33 170.153 1027.33 Q164.343 1027.33 161.265 1022.75 Q158.209 1018.14 158.209 1009.42 Q158.209 1000.67 161.265 996.083 Q164.343 991.476 170.153 991.476 Z\" fill=\"#000000\" fill-rule=\"evenodd\" fill-opacity=\"1\" /><path clip-path=\"url(#clip950)\" d=\"M45.9875 810.047 L75.6633 810.047 L75.6633 813.982 L45.9875 813.982 L45.9875 810.047 Z\" fill=\"#000000\" fill-rule=\"evenodd\" fill-opacity=\"1\" /><path clip-path=\"url(#clip950)\" d=\"M95.7557 795.394 Q92.1447 795.394 90.316 798.959 Q88.5104 802.5 88.5104 809.63 Q88.5104 816.736 90.316 820.301 Q92.1447 823.843 95.7557 823.843 Q99.39 823.843 101.196 820.301 Q103.024 816.736 103.024 809.63 Q103.024 802.5 101.196 798.959 Q99.39 795.394 95.7557 795.394 M95.7557 791.69 Q101.566 791.69 104.621 796.297 Q107.7 800.88 107.7 809.63 Q107.7 818.357 104.621 822.963 Q101.566 827.546 95.7557 827.546 Q89.9456 827.546 86.8669 822.963 Q83.8114 818.357 83.8114 809.63 Q83.8114 800.88 86.8669 796.297 Q89.9456 791.69 95.7557 791.69 Z\" fill=\"#000000\" fill-rule=\"evenodd\" fill-opacity=\"1\" /><path clip-path=\"url(#clip950)\" d=\"M115.918 820.996 L120.802 820.996 L120.802 826.875 L115.918 826.875 L115.918 820.996 Z\" fill=\"#000000\" fill-rule=\"evenodd\" fill-opacity=\"1\" /><path clip-path=\"url(#clip950)\" d=\"M135.015 822.94 L151.334 822.94 L151.334 826.875 L129.39 826.875 L129.39 822.94 Q132.052 820.185 136.635 815.556 Q141.242 810.903 142.422 809.56 Q144.668 807.037 145.547 805.301 Q146.45 803.542 146.45 801.852 Q146.45 799.098 144.505 797.361 Q142.584 795.625 139.482 795.625 Q137.283 795.625 134.83 796.389 Q132.399 797.153 129.621 798.704 L129.621 793.982 Q132.445 792.848 134.899 792.269 Q137.353 791.69 139.39 791.69 Q144.76 791.69 147.955 794.375 Q151.149 797.061 151.149 801.551 Q151.149 803.681 150.339 805.602 Q149.552 807.5 147.445 810.093 Q146.867 810.764 143.765 813.982 Q140.663 817.176 135.015 822.94 Z\" fill=\"#000000\" fill-rule=\"evenodd\" fill-opacity=\"1\" /><path clip-path=\"url(#clip950)\" d=\"M161.195 792.315 L179.552 792.315 L179.552 796.25 L165.478 796.25 L165.478 804.723 Q166.496 804.375 167.515 804.213 Q168.533 804.028 169.552 804.028 Q175.339 804.028 178.718 807.199 Q182.098 810.371 182.098 815.787 Q182.098 821.366 178.626 824.468 Q175.153 827.546 168.834 827.546 Q166.658 827.546 164.39 827.176 Q162.144 826.806 159.737 826.065 L159.737 821.366 Q161.82 822.5 164.042 823.056 Q166.265 823.611 168.741 823.611 Q172.746 823.611 175.084 821.505 Q177.422 819.398 177.422 815.787 Q177.422 812.176 175.084 810.07 Q172.746 807.963 168.741 807.963 Q166.866 807.963 164.991 808.38 Q163.14 808.797 161.195 809.676 L161.195 792.315 Z\" fill=\"#000000\" fill-rule=\"evenodd\" fill-opacity=\"1\" /><path clip-path=\"url(#clip950)\" d=\"M94.7604 595.608 Q91.1493 595.608 89.3206 599.172 Q87.515 602.714 87.515 609.844 Q87.515 616.95 89.3206 620.515 Q91.1493 624.057 94.7604 624.057 Q98.3946 624.057 100.2 620.515 Q102.029 616.95 102.029 609.844 Q102.029 602.714 100.2 599.172 Q98.3946 595.608 94.7604 595.608 M94.7604 591.904 Q100.571 591.904 103.626 596.51 Q106.705 601.094 106.705 609.844 Q106.705 618.57 103.626 623.177 Q100.571 627.76 94.7604 627.76 Q88.9502 627.76 85.8715 623.177 Q82.816 618.57 82.816 609.844 Q82.816 601.094 85.8715 596.51 Q88.9502 591.904 94.7604 591.904 Z\" fill=\"#000000\" fill-rule=\"evenodd\" fill-opacity=\"1\" /><path clip-path=\"url(#clip950)\" d=\"M114.922 621.209 L119.807 621.209 L119.807 627.089 L114.922 627.089 L114.922 621.209 Z\" fill=\"#000000\" fill-rule=\"evenodd\" fill-opacity=\"1\" /><path clip-path=\"url(#clip950)\" d=\"M139.992 595.608 Q136.381 595.608 134.552 599.172 Q132.746 602.714 132.746 609.844 Q132.746 616.95 134.552 620.515 Q136.381 624.057 139.992 624.057 Q143.626 624.057 145.431 620.515 Q147.26 616.95 147.26 609.844 Q147.26 602.714 145.431 599.172 Q143.626 595.608 139.992 595.608 M139.992 591.904 Q145.802 591.904 148.857 596.51 Q151.936 601.094 151.936 609.844 Q151.936 618.57 148.857 623.177 Q145.802 627.76 139.992 627.76 Q134.181 627.76 131.103 623.177 Q128.047 618.57 128.047 609.844 Q128.047 601.094 131.103 596.51 Q134.181 591.904 139.992 591.904 Z\" fill=\"#000000\" fill-rule=\"evenodd\" fill-opacity=\"1\" /><path clip-path=\"url(#clip950)\" d=\"M170.153 595.608 Q166.542 595.608 164.714 599.172 Q162.908 602.714 162.908 609.844 Q162.908 616.95 164.714 620.515 Q166.542 624.057 170.153 624.057 Q173.788 624.057 175.593 620.515 Q177.422 616.95 177.422 609.844 Q177.422 602.714 175.593 599.172 Q173.788 595.608 170.153 595.608 M170.153 591.904 Q175.964 591.904 179.019 596.51 Q182.098 601.094 182.098 609.844 Q182.098 618.57 179.019 623.177 Q175.964 627.76 170.153 627.76 Q164.343 627.76 161.265 623.177 Q158.209 618.57 158.209 609.844 Q158.209 601.094 161.265 596.51 Q164.343 591.904 170.153 591.904 Z\" fill=\"#000000\" fill-rule=\"evenodd\" fill-opacity=\"1\" /><path clip-path=\"url(#clip950)\" d=\"M95.7557 395.821 Q92.1447 395.821 90.316 399.386 Q88.5104 402.928 88.5104 410.057 Q88.5104 417.164 90.316 420.729 Q92.1447 424.27 95.7557 424.27 Q99.39 424.27 101.196 420.729 Q103.024 417.164 103.024 410.057 Q103.024 402.928 101.196 399.386 Q99.39 395.821 95.7557 395.821 M95.7557 392.118 Q101.566 392.118 104.621 396.724 Q107.7 401.307 107.7 410.057 Q107.7 418.784 104.621 423.391 Q101.566 427.974 95.7557 427.974 Q89.9456 427.974 86.8669 423.391 Q83.8114 418.784 83.8114 410.057 Q83.8114 401.307 86.8669 396.724 Q89.9456 392.118 95.7557 392.118 Z\" fill=\"#000000\" fill-rule=\"evenodd\" fill-opacity=\"1\" /><path clip-path=\"url(#clip950)\" d=\"M115.918 421.423 L120.802 421.423 L120.802 427.303 L115.918 427.303 L115.918 421.423 Z\" fill=\"#000000\" fill-rule=\"evenodd\" fill-opacity=\"1\" /><path clip-path=\"url(#clip950)\" d=\"M135.015 423.368 L151.334 423.368 L151.334 427.303 L129.39 427.303 L129.39 423.368 Q132.052 420.613 136.635 415.983 Q141.242 411.331 142.422 409.988 Q144.668 407.465 145.547 405.729 Q146.45 403.969 146.45 402.28 Q146.45 399.525 144.505 397.789 Q142.584 396.053 139.482 396.053 Q137.283 396.053 134.83 396.817 Q132.399 397.581 129.621 399.132 L129.621 394.409 Q132.445 393.275 134.899 392.696 Q137.353 392.118 139.39 392.118 Q144.76 392.118 147.955 394.803 Q151.149 397.488 151.149 401.979 Q151.149 404.108 150.339 406.03 Q149.552 407.928 147.445 410.52 Q146.867 411.192 143.765 414.409 Q140.663 417.604 135.015 423.368 Z\" fill=\"#000000\" fill-rule=\"evenodd\" fill-opacity=\"1\" /><path clip-path=\"url(#clip950)\" d=\"M161.195 392.743 L179.552 392.743 L179.552 396.678 L165.478 396.678 L165.478 405.15 Q166.496 404.803 167.515 404.641 Q168.533 404.456 169.552 404.456 Q175.339 404.456 178.718 407.627 Q182.098 410.798 182.098 416.215 Q182.098 421.793 178.626 424.895 Q175.153 427.974 168.834 427.974 Q166.658 427.974 164.39 427.604 Q162.144 427.233 159.737 426.492 L159.737 421.793 Q161.82 422.928 164.042 423.483 Q166.265 424.039 168.741 424.039 Q172.746 424.039 175.084 421.932 Q177.422 419.826 177.422 416.215 Q177.422 412.604 175.084 410.497 Q172.746 408.391 168.741 408.391 Q166.866 408.391 164.991 408.807 Q163.14 409.224 161.195 410.104 L161.195 392.743 Z\" fill=\"#000000\" fill-rule=\"evenodd\" fill-opacity=\"1\" /><path clip-path=\"url(#clip950)\" d=\"M94.7604 196.035 Q91.1493 196.035 89.3206 199.6 Q87.515 203.142 87.515 210.271 Q87.515 217.378 89.3206 220.942 Q91.1493 224.484 94.7604 224.484 Q98.3946 224.484 100.2 220.942 Q102.029 217.378 102.029 210.271 Q102.029 203.142 100.2 199.6 Q98.3946 196.035 94.7604 196.035 M94.7604 192.331 Q100.571 192.331 103.626 196.938 Q106.705 201.521 106.705 210.271 Q106.705 218.998 103.626 223.604 Q100.571 228.188 94.7604 228.188 Q88.9502 228.188 85.8715 223.604 Q82.816 218.998 82.816 210.271 Q82.816 201.521 85.8715 196.938 Q88.9502 192.331 94.7604 192.331 Z\" fill=\"#000000\" fill-rule=\"evenodd\" fill-opacity=\"1\" /><path clip-path=\"url(#clip950)\" d=\"M114.922 221.637 L119.807 221.637 L119.807 227.516 L114.922 227.516 L114.922 221.637 Z\" fill=\"#000000\" fill-rule=\"evenodd\" fill-opacity=\"1\" /><path clip-path=\"url(#clip950)\" d=\"M130.038 192.956 L148.394 192.956 L148.394 196.892 L134.32 196.892 L134.32 205.364 Q135.339 205.017 136.357 204.855 Q137.376 204.669 138.394 204.669 Q144.181 204.669 147.561 207.841 Q150.941 211.012 150.941 216.429 Q150.941 222.007 147.468 225.109 Q143.996 228.188 137.677 228.188 Q135.501 228.188 133.232 227.817 Q130.987 227.447 128.58 226.706 L128.58 222.007 Q130.663 223.141 132.885 223.697 Q135.107 224.253 137.584 224.253 Q141.589 224.253 143.927 222.146 Q146.265 220.04 146.265 216.429 Q146.265 212.817 143.927 210.711 Q141.589 208.604 137.584 208.604 Q135.709 208.604 133.834 209.021 Q131.982 209.438 130.038 210.317 L130.038 192.956 Z\" fill=\"#000000\" fill-rule=\"evenodd\" fill-opacity=\"1\" /><path clip-path=\"url(#clip950)\" d=\"M170.153 196.035 Q166.542 196.035 164.714 199.6 Q162.908 203.142 162.908 210.271 Q162.908 217.378 164.714 220.942 Q166.542 224.484 170.153 224.484 Q173.788 224.484 175.593 220.942 Q177.422 217.378 177.422 210.271 Q177.422 203.142 175.593 199.6 Q173.788 196.035 170.153 196.035 M170.153 192.331 Q175.964 192.331 179.019 196.938 Q182.098 201.521 182.098 210.271 Q182.098 218.998 179.019 223.604 Q175.964 228.188 170.153 228.188 Q164.343 228.188 161.265 223.604 Q158.209 218.998 158.209 210.271 Q158.209 201.521 161.265 196.938 Q164.343 192.331 170.153 192.331 Z\" fill=\"#000000\" fill-rule=\"evenodd\" fill-opacity=\"1\" /><polyline clip-path=\"url(#clip952)\" style=\"stroke:#009af9; stroke-linecap:butt; stroke-linejoin:round; stroke-width:4; stroke-opacity:1; fill:none\" points=\"\n",
       "  329.966,623.977 361.571,620.266 393.176,616.193 424.781,611.839 456.387,607.298 487.992,602.668 519.597,598.055 551.203,593.564 582.808,589.305 614.413,585.385 \n",
       "  646.018,581.904 677.624,578.958 709.229,576.632 740.834,575.001 772.439,574.125 804.045,574.049 835.65,574.799 867.255,576.387 898.861,578.801 930.466,582.012 \n",
       "  962.071,585.972 993.676,590.614 1025.28,595.851 1056.89,601.581 1088.49,607.687 1120.1,614.041 1151.7,620.501 1183.31,626.922 1214.91,633.154 1246.52,639.046 \n",
       "  1278.12,644.45 1309.73,649.225 1341.33,653.24 1372.94,656.377 1404.55,658.535 1436.15,659.633 1467.76,659.61 1499.36,658.431 1530.97,656.085 1562.57,652.59 \n",
       "  1594.18,647.989 1625.78,642.354 1657.39,635.782 1688.99,628.394 1720.6,620.336 1752.2,611.773 1783.81,602.888 1815.41,593.875 1847.02,584.942 1878.62,576.296 \n",
       "  1910.23,568.148 1941.83,560.703 1973.44,554.157 2005.05,548.69 2036.65,544.464 2068.26,541.618 2099.86,540.262 2131.47,540.476 2163.07,542.305 2194.68,545.76 \n",
       "  2226.28,550.812 2257.89,557.397 2289.49,565.41 2321.1,574.713 2352.7,585.131 2384.31,596.459 2415.91,608.462 2447.52,620.886 2479.12,633.454 2510.73,645.879 \n",
       "  2542.34,657.87 2573.94,669.134 2605.55,679.385 2637.15,688.354 2668.76,695.79 2700.36,701.472 2731.97,705.211 2763.57,706.858 2795.18,706.306 2826.78,703.497 \n",
       "  2858.39,698.424 2889.99,691.131 2921.6,681.715 2953.2,670.326 2984.81,657.165 3016.41,642.479 3048.02,626.56 3079.62,609.738 3111.23,592.374 3142.84,574.852 \n",
       "  3174.44,557.575 3206.05,540.951 3237.65,525.386 3269.26,511.278 3300.86,498.998 3332.47,488.893 3364.07,481.267 3395.68,476.376 3427.28,474.423 3458.89,475.547 \n",
       "  \n",
       "  \"/>\n",
       "<polyline clip-path=\"url(#clip952)\" style=\"stroke:#e26f46; stroke-linecap:butt; stroke-linejoin:round; stroke-width:4; stroke-opacity:1; fill:none\" points=\"\n",
       "  329.966,710.729 361.571,665.914 393.176,619.064 424.781,571.357 456.387,524.008 487.992,478.241 519.597,435.252 551.203,396.185 582.808,362.096 614.413,333.928 \n",
       "  646.018,312.483 677.624,298.401 709.229,292.143 740.834,293.973 772.439,303.949 804.045,321.924 835.65,347.541 867.255,380.242 898.861,419.279 930.466,463.733 \n",
       "  962.071,512.53 993.676,564.475 1025.28,618.272 1056.89,672.562 1088.49,725.956 1120.1,777.068 1151.7,824.554 1183.31,867.144 1214.91,903.678 1246.52,933.137 \n",
       "  1278.12,954.669 1309.73,967.617 1341.33,971.532 1372.94,966.196 1404.55,951.624 1436.15,928.067 1467.76,896.014 1499.36,856.176 1530.97,809.476 1562.57,757.022 \n",
       "  1594.18,700.09 1625.78,640.083 1657.39,578.505 1688.99,516.917 1720.6,456.906 1752.2,400.033 1783.81,347.805 1815.41,301.625 1847.02,262.761 1878.62,232.31 \n",
       "  1910.23,211.165 1941.83,199.993 1973.44,199.215 2005.05,208.986 2036.65,229.195 2068.26,259.461 2099.86,299.137 2131.47,347.328 2163.07,402.907 2194.68,464.542 \n",
       "  2226.28,530.727 2257.89,599.821 2289.49,670.084 2321.1,739.726 2352.7,806.947 2384.31,869.986 2415.91,927.166 2447.52,976.94 2479.12,1017.93 2510.73,1048.96 \n",
       "  2542.34,1069.11 2573.94,1077.71 2605.55,1074.4 2637.15,1059.08 2668.76,1032.02 2700.36,993.731 2731.97,945.066 2763.57,887.135 2795.18,821.305 2826.78,749.166 \n",
       "  2858.39,672.49 2889.99,593.188 2921.6,513.266 2953.2,434.771 2984.81,359.74 3016.41,290.15 3048.02,227.861 3079.62,174.573 3111.23,131.775 3142.84,100.705 \n",
       "  3174.44,82.3197 3206.05,77.2578 3237.65,85.8259 3269.26,107.984 3300.86,143.341 3332.47,191.163 3364.07,250.385 3395.68,319.633 3427.28,397.259 3458.89,481.378 \n",
       "  \n",
       "  \"/>\n",
       "<polyline clip-path=\"url(#clip952)\" style=\"stroke:#3da44d; stroke-linecap:butt; stroke-linejoin:round; stroke-width:4; stroke-opacity:1; fill:none\" points=\"\n",
       "  329.966,608.564 361.571,608.245 393.176,607.991 424.781,607.81 456.387,607.705 487.992,607.676 519.597,607.723 551.203,607.839 582.808,608.02 614.413,608.255 \n",
       "  646.018,608.536 677.624,608.85 709.229,609.185 740.834,609.529 772.439,609.87 804.045,610.196 835.65,610.496 867.255,610.761 898.861,610.984 930.466,611.157 \n",
       "  962.071,611.277 993.676,611.342 1025.28,611.351 1056.89,611.307 1088.49,611.213 1120.1,611.073 1151.7,610.895 1183.31,610.687 1214.91,610.455 1246.52,610.21 \n",
       "  1278.12,609.961 1309.73,609.715 1341.33,609.483 1372.94,609.27 1404.55,609.083 1436.15,608.929 1467.76,608.811 1499.36,608.732 1530.97,608.694 1562.57,608.695 \n",
       "  1594.18,608.735 1625.78,608.81 1657.39,608.917 1688.99,609.051 1720.6,609.206 1752.2,609.376 1783.81,609.555 1815.41,609.736 1847.02,609.912 1878.62,610.078 \n",
       "  1910.23,610.229 1941.83,610.359 1973.44,610.466 2005.05,610.546 2036.65,610.597 2068.26,610.619 2099.86,610.612 2131.47,610.578 2163.07,610.518 2194.68,610.437 \n",
       "  2226.28,610.336 2257.89,610.221 2289.49,610.096 2321.1,609.966 2352.7,609.836 2384.31,609.709 2415.91,609.591 2447.52,609.484 2479.12,609.393 2510.73,609.32 \n",
       "  2542.34,609.266 2573.94,609.233 2605.55,609.221 2637.15,609.23 2668.76,609.259 2700.36,609.306 2731.97,609.368 2763.57,609.443 2795.18,609.528 2826.78,609.62 \n",
       "  2858.39,609.714 2889.99,609.809 2921.6,609.899 2953.2,609.984 2984.81,610.059 3016.41,610.122 3048.02,610.173 3079.62,610.208 3111.23,610.229 3142.84,610.234 \n",
       "  3174.44,610.225 3206.05,610.201 3237.65,610.165 3269.26,610.118 3300.86,610.062 3332.47,609.999 3364.07,609.932 3395.68,609.863 3427.28,609.795 3458.89,609.73 \n",
       "  \n",
       "  \"/>\n",
       "<polyline clip-path=\"url(#clip952)\" style=\"stroke:#c271d2; stroke-linecap:butt; stroke-linejoin:round; stroke-width:4; stroke-opacity:1; fill:none\" points=\"\n",
       "  329.966,593.2 361.571,578.073 393.176,564.232 424.781,552.085 456.387,541.978 487.992,534.186 519.597,528.909 551.203,526.263 582.808,526.277 614.413,528.902 \n",
       "  646.018,534.003 677.624,541.373 709.229,550.738 740.834,561.766 772.439,574.081 804.045,587.272 835.65,600.91 867.255,614.561 898.861,627.798 930.466,640.216 \n",
       "  962.071,651.441 993.676,661.147 1025.28,669.061 1056.89,674.969 1088.49,678.727 1120.1,680.258 1151.7,679.558 1183.31,676.693 1214.91,671.794 1246.52,665.053 \n",
       "  1278.12,656.718 1309.73,647.079 1341.33,636.464 1372.94,625.223 1404.55,613.718 1436.15,602.316 1467.76,591.369 1499.36,581.212 1530.97,572.146 1562.57,564.433 \n",
       "  1594.18,558.287 1625.78,553.872 1657.39,551.289 1688.99,550.586 1720.6,551.746 1752.2,554.698 1783.81,559.314 1815.41,565.418 1847.02,572.79 1878.62,581.175 \n",
       "  1910.23,590.291 1941.83,599.84 1973.44,609.515 2005.05,619.01 2036.65,628.033 2068.26,636.311 2099.86,643.6 2131.47,649.692 2163.07,654.419 2194.68,657.66 \n",
       "  2226.28,659.342 2257.89,659.445 2289.49,657.995 2321.1,655.067 2352.7,650.783 2384.31,645.302 2415.91,638.818 2447.52,631.555 2479.12,623.753 2510.73,615.668 \n",
       "  2542.34,607.557 2573.94,599.674 2605.55,592.261 2637.15,585.541 2668.76,579.709 2700.36,574.932 2731.97,571.337 2763.57,569.015 2795.18,568.011 2826.78,568.334 \n",
       "  2858.39,569.946 2889.99,572.772 2921.6,576.7 2953.2,581.586 2984.81,587.259 3016.41,593.526 3048.02,600.179 3079.62,607.004 3111.23,613.784 3142.84,620.308 \n",
       "  3174.44,626.376 3206.05,631.809 3237.65,636.449 3269.26,640.166 3300.86,642.863 3332.47,644.474 3364.07,644.971 3395.68,644.359 3427.28,642.68 3458.89,640.007 \n",
       "  \n",
       "  \"/>\n",
       "<polyline clip-path=\"url(#clip952)\" style=\"stroke:#ac8d18; stroke-linecap:butt; stroke-linejoin:round; stroke-width:4; stroke-opacity:1; fill:none\" points=\"\n",
       "  329.966,662.154 361.571,595.363 393.176,529.167 424.781,465.448 456.387,406.014 487.992,352.546 519.597,306.55 551.203,269.315 582.808,241.876 614.413,224.989 \n",
       "  646.018,219.105 677.624,224.362 709.229,240.579 740.834,267.266 772.439,303.632 804.045,348.616 835.65,400.914 867.255,459.017 898.861,521.254 930.466,585.841 \n",
       "  962.071,650.934 993.676,714.678 1025.28,775.261 1056.89,830.967 1088.49,880.223 1120.1,921.645 1151.7,954.074 1183.31,976.612 1214.91,988.644 1246.52,989.856 \n",
       "  1278.12,980.244 1309.73,960.111 1341.33,930.059 1372.94,890.971 1404.55,843.984 1436.15,790.458 1467.76,731.936 1499.36,670.096 1530.97,606.71 1562.57,543.585 \n",
       "  1594.18,482.52 1625.78,425.245 1657.39,373.383 1688.99,328.395 1720.6,291.543 1752.2,263.854 1783.81,246.092 1815.41,238.734 1847.02,241.962 1878.62,255.655 \n",
       "  1910.23,279.394 1941.83,312.476 1973.44,353.934 2005.05,402.563 2036.65,456.96 2068.26,515.56 2099.86,576.683 2131.47,638.582 2163.07,699.492 2194.68,757.681 \n",
       "  2226.28,811.5 2257.89,859.429 2289.49,900.119 2321.1,932.432 2352.7,955.469 2384.31,968.602 2415.91,971.483 2447.52,964.057 2479.12,946.566 2510.73,919.534 \n",
       "  2542.34,883.757 2573.94,840.278 2605.55,790.356 2637.15,735.431 2668.76,677.078 2700.36,616.971 2731.97,556.824 2763.57,498.351 2795.18,443.212 2826.78,392.967 \n",
       "  2858.39,349.035 2889.99,312.647 2921.6,284.821 2953.2,266.324 2984.81,257.659 3016.41,259.043 3048.02,270.412 3079.62,291.413 3111.23,321.422 3142.84,359.56 \n",
       "  3174.44,404.719 3206.05,455.594 3237.65,510.72 3269.26,568.516 3300.86,627.33 3332.47,685.484 3364.07,741.324 3395.68,793.265 3427.28,839.841 3458.89,879.74 \n",
       "  \n",
       "  \"/>\n",
       "<path clip-path=\"url(#clip950)\" d=\"\n",
       "M3028.06 393.634 L3442.2 393.634 L3442.2 82.5936 L3028.06 82.5936  Z\n",
       "  \" fill=\"#ffffff\" fill-rule=\"evenodd\" fill-opacity=\"1\"/>\n",
       "<polyline clip-path=\"url(#clip950)\" style=\"stroke:#000000; stroke-linecap:butt; stroke-linejoin:round; stroke-width:4; stroke-opacity:1; fill:none\" points=\"\n",
       "  3028.06,393.634 3442.2,393.634 3442.2,82.5936 3028.06,82.5936 3028.06,393.634 \n",
       "  \"/>\n",
       "<polyline clip-path=\"url(#clip950)\" style=\"stroke:#009af9; stroke-linecap:butt; stroke-linejoin:round; stroke-width:4; stroke-opacity:1; fill:none\" points=\"\n",
       "  3064.06,134.434 3280.06,134.434 \n",
       "  \"/>\n",
       "<path clip-path=\"url(#clip950)\" d=\"M3329.9 154.121 Q3328.09 158.751 3326.38 160.163 Q3324.67 161.575 3321.8 161.575 L3318.4 161.575 L3318.4 158.01 L3320.9 158.01 Q3322.65 158.01 3323.63 157.176 Q3324.6 156.343 3325.78 153.241 L3326.54 151.297 L3316.06 125.788 L3320.57 125.788 L3328.67 146.065 L3336.77 125.788 L3341.29 125.788 L3329.9 154.121 Z\" fill=\"#000000\" fill-rule=\"evenodd\" fill-opacity=\"1\" /><path clip-path=\"url(#clip950)\" d=\"M3348.58 147.778 L3356.22 147.778 L3356.22 121.413 L3347.91 123.079 L3347.91 118.82 L3356.17 117.154 L3360.85 117.154 L3360.85 147.778 L3368.49 147.778 L3368.49 151.714 L3348.58 151.714 L3348.58 147.778 Z\" fill=\"#000000\" fill-rule=\"evenodd\" fill-opacity=\"1\" /><polyline clip-path=\"url(#clip950)\" style=\"stroke:#e26f46; stroke-linecap:butt; stroke-linejoin:round; stroke-width:4; stroke-opacity:1; fill:none\" points=\"\n",
       "  3064.06,186.274 3280.06,186.274 \n",
       "  \"/>\n",
       "<path clip-path=\"url(#clip950)\" d=\"M3329.9 205.961 Q3328.09 210.591 3326.38 212.003 Q3324.67 213.415 3321.8 213.415 L3318.4 213.415 L3318.4 209.85 L3320.9 209.85 Q3322.65 209.85 3323.63 209.016 Q3324.6 208.183 3325.78 205.081 L3326.54 203.137 L3316.06 177.628 L3320.57 177.628 L3328.67 197.905 L3336.77 177.628 L3341.29 177.628 L3329.9 205.961 Z\" fill=\"#000000\" fill-rule=\"evenodd\" fill-opacity=\"1\" /><path clip-path=\"url(#clip950)\" d=\"M3351.8 199.618 L3368.12 199.618 L3368.12 203.554 L3346.17 203.554 L3346.17 199.618 Q3348.84 196.864 3353.42 192.234 Q3358.02 187.581 3359.21 186.239 Q3361.45 183.716 3362.33 181.98 Q3363.23 180.22 3363.23 178.531 Q3363.23 175.776 3361.29 174.04 Q3359.37 172.304 3356.27 172.304 Q3354.07 172.304 3351.61 173.068 Q3349.18 173.831 3346.4 175.382 L3346.4 170.66 Q3349.23 169.526 3351.68 168.947 Q3354.14 168.369 3356.17 168.369 Q3361.54 168.369 3364.74 171.054 Q3367.93 173.739 3367.93 178.23 Q3367.93 180.359 3367.12 182.281 Q3366.33 184.179 3364.23 186.771 Q3363.65 187.443 3360.55 190.66 Q3357.45 193.855 3351.8 199.618 Z\" fill=\"#000000\" fill-rule=\"evenodd\" fill-opacity=\"1\" /><polyline clip-path=\"url(#clip950)\" style=\"stroke:#3da44d; stroke-linecap:butt; stroke-linejoin:round; stroke-width:4; stroke-opacity:1; fill:none\" points=\"\n",
       "  3064.06,238.114 3280.06,238.114 \n",
       "  \"/>\n",
       "<path clip-path=\"url(#clip950)\" d=\"M3329.9 257.801 Q3328.09 262.431 3326.38 263.843 Q3324.67 265.255 3321.8 265.255 L3318.4 265.255 L3318.4 261.69 L3320.9 261.69 Q3322.65 261.69 3323.63 260.856 Q3324.6 260.023 3325.78 256.921 L3326.54 254.977 L3316.06 229.468 L3320.57 229.468 L3328.67 249.745 L3336.77 229.468 L3341.29 229.468 L3329.9 257.801 Z\" fill=\"#000000\" fill-rule=\"evenodd\" fill-opacity=\"1\" /><path clip-path=\"url(#clip950)\" d=\"M3361.94 236.759 Q3365.29 237.477 3367.17 239.745 Q3369.07 242.014 3369.07 245.347 Q3369.07 250.463 3365.55 253.264 Q3362.03 256.065 3355.55 256.065 Q3353.37 256.065 3351.06 255.625 Q3348.77 255.208 3346.31 254.352 L3346.31 249.838 Q3348.26 250.972 3350.57 251.551 Q3352.89 252.13 3355.41 252.13 Q3359.81 252.13 3362.1 250.394 Q3364.41 248.657 3364.41 245.347 Q3364.41 242.292 3362.26 240.579 Q3360.13 238.843 3356.31 238.843 L3352.28 238.843 L3352.28 235 L3356.5 235 Q3359.95 235 3361.77 233.634 Q3363.6 232.246 3363.6 229.653 Q3363.6 226.991 3361.71 225.579 Q3359.83 224.144 3356.31 224.144 Q3354.39 224.144 3352.19 224.56 Q3349.99 224.977 3347.35 225.857 L3347.35 221.69 Q3350.02 220.949 3352.33 220.579 Q3354.67 220.209 3356.73 220.209 Q3362.05 220.209 3365.15 222.639 Q3368.26 225.046 3368.26 229.167 Q3368.26 232.037 3366.61 234.028 Q3364.97 235.996 3361.94 236.759 Z\" fill=\"#000000\" fill-rule=\"evenodd\" fill-opacity=\"1\" /><polyline clip-path=\"url(#clip950)\" style=\"stroke:#c271d2; stroke-linecap:butt; stroke-linejoin:round; stroke-width:4; stroke-opacity:1; fill:none\" points=\"\n",
       "  3064.06,289.954 3280.06,289.954 \n",
       "  \"/>\n",
       "<path clip-path=\"url(#clip950)\" d=\"M3329.9 309.641 Q3328.09 314.271 3326.38 315.683 Q3324.67 317.095 3321.8 317.095 L3318.4 317.095 L3318.4 313.53 L3320.9 313.53 Q3322.65 313.53 3323.63 312.696 Q3324.6 311.863 3325.78 308.761 L3326.54 306.817 L3316.06 281.308 L3320.57 281.308 L3328.67 301.585 L3336.77 281.308 L3341.29 281.308 L3329.9 309.641 Z\" fill=\"#000000\" fill-rule=\"evenodd\" fill-opacity=\"1\" /><path clip-path=\"url(#clip950)\" d=\"M3360.62 276.748 L3348.81 295.197 L3360.62 295.197 L3360.62 276.748 M3359.39 272.674 L3365.27 272.674 L3365.27 295.197 L3370.2 295.197 L3370.2 299.085 L3365.27 299.085 L3365.27 307.234 L3360.62 307.234 L3360.62 299.085 L3345.02 299.085 L3345.02 294.572 L3359.39 272.674 Z\" fill=\"#000000\" fill-rule=\"evenodd\" fill-opacity=\"1\" /><polyline clip-path=\"url(#clip950)\" style=\"stroke:#ac8d18; stroke-linecap:butt; stroke-linejoin:round; stroke-width:4; stroke-opacity:1; fill:none\" points=\"\n",
       "  3064.06,341.794 3280.06,341.794 \n",
       "  \"/>\n",
       "<path clip-path=\"url(#clip950)\" d=\"M3329.9 361.481 Q3328.09 366.111 3326.38 367.523 Q3324.67 368.935 3321.8 368.935 L3318.4 368.935 L3318.4 365.37 L3320.9 365.37 Q3322.65 365.37 3323.63 364.536 Q3324.6 363.703 3325.78 360.601 L3326.54 358.657 L3316.06 333.148 L3320.57 333.148 L3328.67 353.425 L3336.77 333.148 L3341.29 333.148 L3329.9 361.481 Z\" fill=\"#000000\" fill-rule=\"evenodd\" fill-opacity=\"1\" /><path clip-path=\"url(#clip950)\" d=\"M3347.82 324.514 L3366.17 324.514 L3366.17 328.449 L3352.1 328.449 L3352.1 336.921 Q3353.12 336.574 3354.14 336.412 Q3355.15 336.226 3356.17 336.226 Q3361.96 336.226 3365.34 339.398 Q3368.72 342.569 3368.72 347.986 Q3368.72 353.564 3365.25 356.666 Q3361.77 359.745 3355.46 359.745 Q3353.28 359.745 3351.01 359.374 Q3348.77 359.004 3346.36 358.263 L3346.36 353.564 Q3348.44 354.699 3350.66 355.254 Q3352.89 355.81 3355.36 355.81 Q3359.37 355.81 3361.71 353.703 Q3364.04 351.597 3364.04 347.986 Q3364.04 344.375 3361.71 342.268 Q3359.37 340.162 3355.36 340.162 Q3353.49 340.162 3351.61 340.578 Q3349.76 340.995 3347.82 341.875 L3347.82 324.514 Z\" fill=\"#000000\" fill-rule=\"evenodd\" fill-opacity=\"1\" /></svg>\n"
      ]
     },
     "execution_count": 11,
     "metadata": {},
     "output_type": "execute_result"
    }
   ],
   "source": [
    "plot(evalrespair(getrespair(1,slice2)))\n",
    "plot!(evalrespair(getrespair(2,slice2)))\n",
    "plot!(evalrespair(getrespair(3,slice2)))\n",
    "plot!(evalrespair(getrespair(4,slice2)))\n",
    "plot!(evalrespair(getrespair(5,slice2)))\n",
    "plot!(size=(900,300))"
   ]
  },
  {
   "cell_type": "code",
   "execution_count": 12,
   "metadata": {},
   "outputs": [
    {
     "data": {
      "text/plain": [
       "5-element Vector{Float64}:\n",
       " -0.0218285890975828\n",
       " -0.1784259709235206\n",
       "  0.001085693430441164\n",
       "  0.000817612751867972\n",
       " -0.1474383412923132"
      ]
     },
     "execution_count": 12,
     "metadata": {},
     "output_type": "execute_result"
    }
   ],
   "source": [
    "# Slice2 values at t = 0\n",
    "S2start = [evalrespair(getrespair(i,slice2),0) for i in 1:R]"
   ]
  },
  {
   "cell_type": "code",
   "execution_count": 13,
   "metadata": {},
   "outputs": [
    {
     "data": {
      "text/plain": [
       "5-element Vector{Float64}:\n",
       "  0.16800651961204457\n",
       "  0.1607104637209577\n",
       "  9.816521991903207e-5\n",
       " -0.03778820826134632\n",
       " -0.33777469019516426"
      ]
     },
     "execution_count": 13,
     "metadata": {},
     "output_type": "execute_result"
    }
   ],
   "source": [
    "# Slice2 values at t = 100\n",
    "S2end = [evalrespair(getrespair(i,slice2),100) for i in 1:R]"
   ]
  },
  {
   "cell_type": "markdown",
   "metadata": {},
   "source": [
    "# Slice3"
   ]
  },
  {
   "cell_type": "code",
   "execution_count": 14,
   "metadata": {},
   "outputs": [
    {
     "data": {
      "image/svg+xml": [
       "<?xml version=\"1.0\" encoding=\"utf-8\"?>\n",
       "<svg xmlns=\"http://www.w3.org/2000/svg\" xmlns:xlink=\"http://www.w3.org/1999/xlink\" width=\"900\" height=\"300\" viewBox=\"0 0 3600 1200\">\n",
       "<defs>\n",
       "  <clipPath id=\"clip990\">\n",
       "    <rect x=\"0\" y=\"0\" width=\"3600\" height=\"1200\"/>\n",
       "  </clipPath>\n",
       "</defs>\n",
       "<path clip-path=\"url(#clip990)\" d=\"\n",
       "M0 1200 L3600 1200 L3600 0 L0 0  Z\n",
       "  \" fill=\"#ffffff\" fill-rule=\"evenodd\" fill-opacity=\"1\"/>\n",
       "<defs>\n",
       "  <clipPath id=\"clip991\">\n",
       "    <rect x=\"720\" y=\"0\" width=\"2521\" height=\"1200\"/>\n",
       "  </clipPath>\n",
       "</defs>\n",
       "<path clip-path=\"url(#clip990)\" d=\"\n",
       "M236.098 1107.73 L3552.76 1107.73 L3552.76 47.2441 L236.098 47.2441  Z\n",
       "  \" fill=\"#ffffff\" fill-rule=\"evenodd\" fill-opacity=\"1\"/>\n",
       "<defs>\n",
       "  <clipPath id=\"clip992\">\n",
       "    <rect x=\"236\" y=\"47\" width=\"3318\" height=\"1061\"/>\n",
       "  </clipPath>\n",
       "</defs>\n",
       "<polyline clip-path=\"url(#clip992)\" style=\"stroke:#000000; stroke-linecap:butt; stroke-linejoin:round; stroke-width:2; stroke-opacity:0.1; fill:none\" points=\"\n",
       "  298.36,1107.73 298.36,47.2441 \n",
       "  \"/>\n",
       "<polyline clip-path=\"url(#clip992)\" style=\"stroke:#000000; stroke-linecap:butt; stroke-linejoin:round; stroke-width:2; stroke-opacity:0.1; fill:none\" points=\"\n",
       "  1088.49,1107.73 1088.49,47.2441 \n",
       "  \"/>\n",
       "<polyline clip-path=\"url(#clip992)\" style=\"stroke:#000000; stroke-linecap:butt; stroke-linejoin:round; stroke-width:2; stroke-opacity:0.1; fill:none\" points=\"\n",
       "  1878.62,1107.73 1878.62,47.2441 \n",
       "  \"/>\n",
       "<polyline clip-path=\"url(#clip992)\" style=\"stroke:#000000; stroke-linecap:butt; stroke-linejoin:round; stroke-width:2; stroke-opacity:0.1; fill:none\" points=\"\n",
       "  2668.76,1107.73 2668.76,47.2441 \n",
       "  \"/>\n",
       "<polyline clip-path=\"url(#clip992)\" style=\"stroke:#000000; stroke-linecap:butt; stroke-linejoin:round; stroke-width:2; stroke-opacity:0.1; fill:none\" points=\"\n",
       "  3458.89,1107.73 3458.89,47.2441 \n",
       "  \"/>\n",
       "<polyline clip-path=\"url(#clip990)\" style=\"stroke:#000000; stroke-linecap:butt; stroke-linejoin:round; stroke-width:4; stroke-opacity:1; fill:none\" points=\"\n",
       "  236.098,1107.73 3552.76,1107.73 \n",
       "  \"/>\n",
       "<polyline clip-path=\"url(#clip990)\" style=\"stroke:#000000; stroke-linecap:butt; stroke-linejoin:round; stroke-width:4; stroke-opacity:1; fill:none\" points=\"\n",
       "  298.36,1107.73 298.36,1088.83 \n",
       "  \"/>\n",
       "<polyline clip-path=\"url(#clip990)\" style=\"stroke:#000000; stroke-linecap:butt; stroke-linejoin:round; stroke-width:4; stroke-opacity:1; fill:none\" points=\"\n",
       "  1088.49,1107.73 1088.49,1088.83 \n",
       "  \"/>\n",
       "<polyline clip-path=\"url(#clip990)\" style=\"stroke:#000000; stroke-linecap:butt; stroke-linejoin:round; stroke-width:4; stroke-opacity:1; fill:none\" points=\"\n",
       "  1878.62,1107.73 1878.62,1088.83 \n",
       "  \"/>\n",
       "<polyline clip-path=\"url(#clip990)\" style=\"stroke:#000000; stroke-linecap:butt; stroke-linejoin:round; stroke-width:4; stroke-opacity:1; fill:none\" points=\"\n",
       "  2668.76,1107.73 2668.76,1088.83 \n",
       "  \"/>\n",
       "<polyline clip-path=\"url(#clip990)\" style=\"stroke:#000000; stroke-linecap:butt; stroke-linejoin:round; stroke-width:4; stroke-opacity:1; fill:none\" points=\"\n",
       "  3458.89,1107.73 3458.89,1088.83 \n",
       "  \"/>\n",
       "<path clip-path=\"url(#clip990)\" d=\"M298.36 1148.25 Q294.749 1148.25 292.92 1151.81 Q291.115 1155.35 291.115 1162.48 Q291.115 1169.59 292.92 1173.15 Q294.749 1176.7 298.36 1176.7 Q301.995 1176.7 303.8 1173.15 Q305.629 1169.59 305.629 1162.48 Q305.629 1155.35 303.8 1151.81 Q301.995 1148.25 298.36 1148.25 M298.36 1144.54 Q304.17 1144.54 307.226 1149.15 Q310.305 1153.73 310.305 1162.48 Q310.305 1171.21 307.226 1175.82 Q304.17 1180.4 298.36 1180.4 Q292.55 1180.4 289.471 1175.82 Q286.416 1171.21 286.416 1162.48 Q286.416 1153.73 289.471 1149.15 Q292.55 1144.54 298.36 1144.54 Z\" fill=\"#000000\" fill-rule=\"evenodd\" fill-opacity=\"1\" /><path clip-path=\"url(#clip990)\" d=\"M1067.76 1175.79 L1084.08 1175.79 L1084.08 1179.73 L1062.14 1179.73 L1062.14 1175.79 Q1064.8 1173.04 1069.38 1168.41 Q1073.99 1163.76 1075.17 1162.41 Q1077.42 1159.89 1078.3 1158.15 Q1079.2 1156.39 1079.2 1154.7 Q1079.2 1151.95 1077.25 1150.21 Q1075.33 1148.48 1072.23 1148.48 Q1070.03 1148.48 1067.58 1149.24 Q1065.15 1150.01 1062.37 1151.56 L1062.37 1146.83 Q1065.19 1145.7 1067.65 1145.12 Q1070.1 1144.54 1072.14 1144.54 Q1077.51 1144.54 1080.7 1147.23 Q1083.9 1149.91 1083.9 1154.4 Q1083.9 1156.53 1083.09 1158.45 Q1082.3 1160.35 1080.19 1162.95 Q1079.61 1163.62 1076.51 1166.83 Q1073.41 1170.03 1067.76 1175.79 Z\" fill=\"#000000\" fill-rule=\"evenodd\" fill-opacity=\"1\" /><path clip-path=\"url(#clip990)\" d=\"M1093.94 1145.17 L1112.3 1145.17 L1112.3 1149.1 L1098.23 1149.1 L1098.23 1157.58 Q1099.24 1157.23 1100.26 1157.07 Q1101.28 1156.88 1102.3 1156.88 Q1108.09 1156.88 1111.47 1160.05 Q1114.85 1163.22 1114.85 1168.64 Q1114.85 1174.22 1111.37 1177.32 Q1107.9 1180.4 1101.58 1180.4 Q1099.41 1180.4 1097.14 1180.03 Q1094.89 1179.66 1092.49 1178.92 L1092.49 1174.22 Q1094.57 1175.35 1096.79 1175.91 Q1099.01 1176.46 1101.49 1176.46 Q1105.49 1176.46 1107.83 1174.36 Q1110.17 1172.25 1110.17 1168.64 Q1110.17 1165.03 1107.83 1162.92 Q1105.49 1160.82 1101.49 1160.82 Q1099.61 1160.82 1097.74 1161.23 Q1095.89 1161.65 1093.94 1162.53 L1093.94 1145.17 Z\" fill=\"#000000\" fill-rule=\"evenodd\" fill-opacity=\"1\" /><path clip-path=\"url(#clip990)\" d=\"M1853.32 1145.17 L1871.68 1145.17 L1871.68 1149.1 L1857.61 1149.1 L1857.61 1157.58 Q1858.62 1157.23 1859.64 1157.07 Q1860.66 1156.88 1861.68 1156.88 Q1867.47 1156.88 1870.85 1160.05 Q1874.23 1163.22 1874.23 1168.64 Q1874.23 1174.22 1870.75 1177.32 Q1867.28 1180.4 1860.96 1180.4 Q1858.79 1180.4 1856.52 1180.03 Q1854.27 1179.66 1851.87 1178.92 L1851.87 1174.22 Q1853.95 1175.35 1856.17 1175.91 Q1858.39 1176.46 1860.87 1176.46 Q1864.87 1176.46 1867.21 1174.36 Q1869.55 1172.25 1869.55 1168.64 Q1869.55 1165.03 1867.21 1162.92 Q1864.87 1160.82 1860.87 1160.82 Q1858.99 1160.82 1857.12 1161.23 Q1855.27 1161.65 1853.32 1162.53 L1853.32 1145.17 Z\" fill=\"#000000\" fill-rule=\"evenodd\" fill-opacity=\"1\" /><path clip-path=\"url(#clip990)\" d=\"M1893.44 1148.25 Q1889.83 1148.25 1888 1151.81 Q1886.19 1155.35 1886.19 1162.48 Q1886.19 1169.59 1888 1173.15 Q1889.83 1176.7 1893.44 1176.7 Q1897.07 1176.7 1898.88 1173.15 Q1900.71 1169.59 1900.71 1162.48 Q1900.71 1155.35 1898.88 1151.81 Q1897.07 1148.25 1893.44 1148.25 M1893.44 1144.54 Q1899.25 1144.54 1902.3 1149.15 Q1905.38 1153.73 1905.38 1162.48 Q1905.38 1171.21 1902.3 1175.82 Q1899.25 1180.4 1893.44 1180.4 Q1887.63 1180.4 1884.55 1175.82 Q1881.49 1171.21 1881.49 1162.48 Q1881.49 1153.73 1884.55 1149.15 Q1887.63 1144.54 1893.44 1144.54 Z\" fill=\"#000000\" fill-rule=\"evenodd\" fill-opacity=\"1\" /><path clip-path=\"url(#clip990)\" d=\"M2642.61 1145.17 L2664.83 1145.17 L2664.83 1147.16 L2652.29 1179.73 L2647.4 1179.73 L2659.21 1149.1 L2642.61 1149.1 L2642.61 1145.17 Z\" fill=\"#000000\" fill-rule=\"evenodd\" fill-opacity=\"1\" /><path clip-path=\"url(#clip990)\" d=\"M2674 1145.17 L2692.36 1145.17 L2692.36 1149.1 L2678.28 1149.1 L2678.28 1157.58 Q2679.3 1157.23 2680.32 1157.07 Q2681.34 1156.88 2682.36 1156.88 Q2688.14 1156.88 2691.52 1160.05 Q2694.9 1163.22 2694.9 1168.64 Q2694.9 1174.22 2691.43 1177.32 Q2687.96 1180.4 2681.64 1180.4 Q2679.46 1180.4 2677.19 1180.03 Q2674.95 1179.66 2672.54 1178.92 L2672.54 1174.22 Q2674.62 1175.35 2676.85 1175.91 Q2679.07 1176.46 2681.55 1176.46 Q2685.55 1176.46 2687.89 1174.36 Q2690.23 1172.25 2690.23 1168.64 Q2690.23 1165.03 2687.89 1162.92 Q2685.55 1160.82 2681.55 1160.82 Q2679.67 1160.82 2677.8 1161.23 Q2675.94 1161.65 2674 1162.53 L2674 1145.17 Z\" fill=\"#000000\" fill-rule=\"evenodd\" fill-opacity=\"1\" /><path clip-path=\"url(#clip990)\" d=\"M3418.49 1175.79 L3426.13 1175.79 L3426.13 1149.43 L3417.82 1151.09 L3417.82 1146.83 L3426.09 1145.17 L3430.76 1145.17 L3430.76 1175.79 L3438.4 1175.79 L3438.4 1179.73 L3418.49 1179.73 L3418.49 1175.79 Z\" fill=\"#000000\" fill-rule=\"evenodd\" fill-opacity=\"1\" /><path clip-path=\"url(#clip990)\" d=\"M3457.85 1148.25 Q3454.24 1148.25 3452.41 1151.81 Q3450.6 1155.35 3450.6 1162.48 Q3450.6 1169.59 3452.41 1173.15 Q3454.24 1176.7 3457.85 1176.7 Q3461.48 1176.7 3463.29 1173.15 Q3465.12 1169.59 3465.12 1162.48 Q3465.12 1155.35 3463.29 1151.81 Q3461.48 1148.25 3457.85 1148.25 M3457.85 1144.54 Q3463.66 1144.54 3466.71 1149.15 Q3469.79 1153.73 3469.79 1162.48 Q3469.79 1171.21 3466.71 1175.82 Q3463.66 1180.4 3457.85 1180.4 Q3452.04 1180.4 3448.96 1175.82 Q3445.9 1171.21 3445.9 1162.48 Q3445.9 1153.73 3448.96 1149.15 Q3452.04 1144.54 3457.85 1144.54 Z\" fill=\"#000000\" fill-rule=\"evenodd\" fill-opacity=\"1\" /><path clip-path=\"url(#clip990)\" d=\"M3488.01 1148.25 Q3484.4 1148.25 3482.57 1151.81 Q3480.76 1155.35 3480.76 1162.48 Q3480.76 1169.59 3482.57 1173.15 Q3484.4 1176.7 3488.01 1176.7 Q3491.64 1176.7 3493.45 1173.15 Q3495.28 1169.59 3495.28 1162.48 Q3495.28 1155.35 3493.45 1151.81 Q3491.64 1148.25 3488.01 1148.25 M3488.01 1144.54 Q3493.82 1144.54 3496.87 1149.15 Q3499.95 1153.73 3499.95 1162.48 Q3499.95 1171.21 3496.87 1175.82 Q3493.82 1180.4 3488.01 1180.4 Q3482.2 1180.4 3479.12 1175.82 Q3476.06 1171.21 3476.06 1162.48 Q3476.06 1153.73 3479.12 1149.15 Q3482.2 1144.54 3488.01 1144.54 Z\" fill=\"#000000\" fill-rule=\"evenodd\" fill-opacity=\"1\" /><polyline clip-path=\"url(#clip992)\" style=\"stroke:#000000; stroke-linecap:butt; stroke-linejoin:round; stroke-width:2; stroke-opacity:0.1; fill:none\" points=\"\n",
       "  236.098,940.52 3552.76,940.52 \n",
       "  \"/>\n",
       "<polyline clip-path=\"url(#clip992)\" style=\"stroke:#000000; stroke-linecap:butt; stroke-linejoin:round; stroke-width:2; stroke-opacity:0.1; fill:none\" points=\"\n",
       "  236.098,744.399 3552.76,744.399 \n",
       "  \"/>\n",
       "<polyline clip-path=\"url(#clip992)\" style=\"stroke:#000000; stroke-linecap:butt; stroke-linejoin:round; stroke-width:2; stroke-opacity:0.1; fill:none\" points=\"\n",
       "  236.098,548.278 3552.76,548.278 \n",
       "  \"/>\n",
       "<polyline clip-path=\"url(#clip992)\" style=\"stroke:#000000; stroke-linecap:butt; stroke-linejoin:round; stroke-width:2; stroke-opacity:0.1; fill:none\" points=\"\n",
       "  236.098,352.157 3552.76,352.157 \n",
       "  \"/>\n",
       "<polyline clip-path=\"url(#clip992)\" style=\"stroke:#000000; stroke-linecap:butt; stroke-linejoin:round; stroke-width:2; stroke-opacity:0.1; fill:none\" points=\"\n",
       "  236.098,156.036 3552.76,156.036 \n",
       "  \"/>\n",
       "<polyline clip-path=\"url(#clip990)\" style=\"stroke:#000000; stroke-linecap:butt; stroke-linejoin:round; stroke-width:4; stroke-opacity:1; fill:none\" points=\"\n",
       "  236.098,1107.73 236.098,47.2441 \n",
       "  \"/>\n",
       "<polyline clip-path=\"url(#clip990)\" style=\"stroke:#000000; stroke-linecap:butt; stroke-linejoin:round; stroke-width:4; stroke-opacity:1; fill:none\" points=\"\n",
       "  236.098,940.52 254.996,940.52 \n",
       "  \"/>\n",
       "<polyline clip-path=\"url(#clip990)\" style=\"stroke:#000000; stroke-linecap:butt; stroke-linejoin:round; stroke-width:4; stroke-opacity:1; fill:none\" points=\"\n",
       "  236.098,744.399 254.996,744.399 \n",
       "  \"/>\n",
       "<polyline clip-path=\"url(#clip990)\" style=\"stroke:#000000; stroke-linecap:butt; stroke-linejoin:round; stroke-width:4; stroke-opacity:1; fill:none\" points=\"\n",
       "  236.098,548.278 254.996,548.278 \n",
       "  \"/>\n",
       "<polyline clip-path=\"url(#clip990)\" style=\"stroke:#000000; stroke-linecap:butt; stroke-linejoin:round; stroke-width:4; stroke-opacity:1; fill:none\" points=\"\n",
       "  236.098,352.157 254.996,352.157 \n",
       "  \"/>\n",
       "<polyline clip-path=\"url(#clip990)\" style=\"stroke:#000000; stroke-linecap:butt; stroke-linejoin:round; stroke-width:4; stroke-opacity:1; fill:none\" points=\"\n",
       "  236.098,156.036 254.996,156.036 \n",
       "  \"/>\n",
       "<path clip-path=\"url(#clip990)\" d=\"M44.9921 940.971 L74.6679 940.971 L74.6679 944.906 L44.9921 944.906 L44.9921 940.971 Z\" fill=\"#000000\" fill-rule=\"evenodd\" fill-opacity=\"1\" /><path clip-path=\"url(#clip990)\" d=\"M94.7604 926.318 Q91.1493 926.318 89.3206 929.883 Q87.515 933.425 87.515 940.555 Q87.515 947.661 89.3206 951.226 Q91.1493 954.767 94.7604 954.767 Q98.3946 954.767 100.2 951.226 Q102.029 947.661 102.029 940.555 Q102.029 933.425 100.2 929.883 Q98.3946 926.318 94.7604 926.318 M94.7604 922.615 Q100.571 922.615 103.626 927.221 Q106.705 931.805 106.705 940.555 Q106.705 949.281 103.626 953.888 Q100.571 958.471 94.7604 958.471 Q88.9502 958.471 85.8715 953.888 Q82.816 949.281 82.816 940.555 Q82.816 931.805 85.8715 927.221 Q88.9502 922.615 94.7604 922.615 Z\" fill=\"#000000\" fill-rule=\"evenodd\" fill-opacity=\"1\" /><path clip-path=\"url(#clip990)\" d=\"M114.922 951.92 L119.807 951.92 L119.807 957.8 L114.922 957.8 L114.922 951.92 Z\" fill=\"#000000\" fill-rule=\"evenodd\" fill-opacity=\"1\" /><path clip-path=\"url(#clip990)\" d=\"M130.038 923.24 L148.394 923.24 L148.394 927.175 L134.32 927.175 L134.32 935.647 Q135.339 935.3 136.357 935.138 Q137.376 934.953 138.394 934.953 Q144.181 934.953 147.561 938.124 Q150.941 941.295 150.941 946.712 Q150.941 952.291 147.468 955.392 Q143.996 958.471 137.677 958.471 Q135.501 958.471 133.232 958.101 Q130.987 957.73 128.58 956.99 L128.58 952.291 Q130.663 953.425 132.885 953.98 Q135.107 954.536 137.584 954.536 Q141.589 954.536 143.927 952.429 Q146.265 950.323 146.265 946.712 Q146.265 943.101 143.927 940.994 Q141.589 938.888 137.584 938.888 Q135.709 938.888 133.834 939.305 Q131.982 939.721 130.038 940.601 L130.038 923.24 Z\" fill=\"#000000\" fill-rule=\"evenodd\" fill-opacity=\"1\" /><path clip-path=\"url(#clip990)\" d=\"M170.153 926.318 Q166.542 926.318 164.714 929.883 Q162.908 933.425 162.908 940.555 Q162.908 947.661 164.714 951.226 Q166.542 954.767 170.153 954.767 Q173.788 954.767 175.593 951.226 Q177.422 947.661 177.422 940.555 Q177.422 933.425 175.593 929.883 Q173.788 926.318 170.153 926.318 M170.153 922.615 Q175.964 922.615 179.019 927.221 Q182.098 931.805 182.098 940.555 Q182.098 949.281 179.019 953.888 Q175.964 958.471 170.153 958.471 Q164.343 958.471 161.265 953.888 Q158.209 949.281 158.209 940.555 Q158.209 931.805 161.265 927.221 Q164.343 922.615 170.153 922.615 Z\" fill=\"#000000\" fill-rule=\"evenodd\" fill-opacity=\"1\" /><path clip-path=\"url(#clip990)\" d=\"M45.9875 744.85 L75.6633 744.85 L75.6633 748.785 L45.9875 748.785 L45.9875 744.85 Z\" fill=\"#000000\" fill-rule=\"evenodd\" fill-opacity=\"1\" /><path clip-path=\"url(#clip990)\" d=\"M95.7557 730.197 Q92.1447 730.197 90.316 733.762 Q88.5104 737.304 88.5104 744.433 Q88.5104 751.54 90.316 755.105 Q92.1447 758.646 95.7557 758.646 Q99.39 758.646 101.196 755.105 Q103.024 751.54 103.024 744.433 Q103.024 737.304 101.196 733.762 Q99.39 730.197 95.7557 730.197 M95.7557 726.494 Q101.566 726.494 104.621 731.1 Q107.7 735.684 107.7 744.433 Q107.7 753.16 104.621 757.767 Q101.566 762.35 95.7557 762.35 Q89.9456 762.35 86.8669 757.767 Q83.8114 753.16 83.8114 744.433 Q83.8114 735.684 86.8669 731.1 Q89.9456 726.494 95.7557 726.494 Z\" fill=\"#000000\" fill-rule=\"evenodd\" fill-opacity=\"1\" /><path clip-path=\"url(#clip990)\" d=\"M115.918 755.799 L120.802 755.799 L120.802 761.679 L115.918 761.679 L115.918 755.799 Z\" fill=\"#000000\" fill-rule=\"evenodd\" fill-opacity=\"1\" /><path clip-path=\"url(#clip990)\" d=\"M135.015 757.744 L151.334 757.744 L151.334 761.679 L129.39 761.679 L129.39 757.744 Q132.052 754.989 136.635 750.359 Q141.242 745.707 142.422 744.364 Q144.668 741.841 145.547 740.105 Q146.45 738.346 146.45 736.656 Q146.45 733.901 144.505 732.165 Q142.584 730.429 139.482 730.429 Q137.283 730.429 134.83 731.193 Q132.399 731.957 129.621 733.508 L129.621 728.785 Q132.445 727.651 134.899 727.072 Q137.353 726.494 139.39 726.494 Q144.76 726.494 147.955 729.179 Q151.149 731.864 151.149 736.355 Q151.149 738.484 150.339 740.406 Q149.552 742.304 147.445 744.896 Q146.867 745.568 143.765 748.785 Q140.663 751.98 135.015 757.744 Z\" fill=\"#000000\" fill-rule=\"evenodd\" fill-opacity=\"1\" /><path clip-path=\"url(#clip990)\" d=\"M161.195 727.119 L179.552 727.119 L179.552 731.054 L165.478 731.054 L165.478 739.526 Q166.496 739.179 167.515 739.017 Q168.533 738.832 169.552 738.832 Q175.339 738.832 178.718 742.003 Q182.098 745.174 182.098 750.591 Q182.098 756.17 178.626 759.271 Q175.153 762.35 168.834 762.35 Q166.658 762.35 164.39 761.98 Q162.144 761.609 159.737 760.869 L159.737 756.17 Q161.82 757.304 164.042 757.859 Q166.265 758.415 168.741 758.415 Q172.746 758.415 175.084 756.308 Q177.422 754.202 177.422 750.591 Q177.422 746.98 175.084 744.873 Q172.746 742.767 168.741 742.767 Q166.866 742.767 164.991 743.184 Q163.14 743.6 161.195 744.48 L161.195 727.119 Z\" fill=\"#000000\" fill-rule=\"evenodd\" fill-opacity=\"1\" /><path clip-path=\"url(#clip990)\" d=\"M94.7604 534.076 Q91.1493 534.076 89.3206 537.641 Q87.515 541.183 87.515 548.312 Q87.515 555.419 89.3206 558.984 Q91.1493 562.525 94.7604 562.525 Q98.3946 562.525 100.2 558.984 Q102.029 555.419 102.029 548.312 Q102.029 541.183 100.2 537.641 Q98.3946 534.076 94.7604 534.076 M94.7604 530.373 Q100.571 530.373 103.626 534.979 Q106.705 539.563 106.705 548.312 Q106.705 557.039 103.626 561.646 Q100.571 566.229 94.7604 566.229 Q88.9502 566.229 85.8715 561.646 Q82.816 557.039 82.816 548.312 Q82.816 539.563 85.8715 534.979 Q88.9502 530.373 94.7604 530.373 Z\" fill=\"#000000\" fill-rule=\"evenodd\" fill-opacity=\"1\" /><path clip-path=\"url(#clip990)\" d=\"M114.922 559.678 L119.807 559.678 L119.807 565.558 L114.922 565.558 L114.922 559.678 Z\" fill=\"#000000\" fill-rule=\"evenodd\" fill-opacity=\"1\" /><path clip-path=\"url(#clip990)\" d=\"M139.992 534.076 Q136.381 534.076 134.552 537.641 Q132.746 541.183 132.746 548.312 Q132.746 555.419 134.552 558.984 Q136.381 562.525 139.992 562.525 Q143.626 562.525 145.431 558.984 Q147.26 555.419 147.26 548.312 Q147.26 541.183 145.431 537.641 Q143.626 534.076 139.992 534.076 M139.992 530.373 Q145.802 530.373 148.857 534.979 Q151.936 539.563 151.936 548.312 Q151.936 557.039 148.857 561.646 Q145.802 566.229 139.992 566.229 Q134.181 566.229 131.103 561.646 Q128.047 557.039 128.047 548.312 Q128.047 539.563 131.103 534.979 Q134.181 530.373 139.992 530.373 Z\" fill=\"#000000\" fill-rule=\"evenodd\" fill-opacity=\"1\" /><path clip-path=\"url(#clip990)\" d=\"M170.153 534.076 Q166.542 534.076 164.714 537.641 Q162.908 541.183 162.908 548.312 Q162.908 555.419 164.714 558.984 Q166.542 562.525 170.153 562.525 Q173.788 562.525 175.593 558.984 Q177.422 555.419 177.422 548.312 Q177.422 541.183 175.593 537.641 Q173.788 534.076 170.153 534.076 M170.153 530.373 Q175.964 530.373 179.019 534.979 Q182.098 539.563 182.098 548.312 Q182.098 557.039 179.019 561.646 Q175.964 566.229 170.153 566.229 Q164.343 566.229 161.265 561.646 Q158.209 557.039 158.209 548.312 Q158.209 539.563 161.265 534.979 Q164.343 530.373 170.153 530.373 Z\" fill=\"#000000\" fill-rule=\"evenodd\" fill-opacity=\"1\" /><path clip-path=\"url(#clip990)\" d=\"M95.7557 337.955 Q92.1447 337.955 90.316 341.52 Q88.5104 345.062 88.5104 352.191 Q88.5104 359.298 90.316 362.863 Q92.1447 366.404 95.7557 366.404 Q99.39 366.404 101.196 362.863 Q103.024 359.298 103.024 352.191 Q103.024 345.062 101.196 341.52 Q99.39 337.955 95.7557 337.955 M95.7557 334.252 Q101.566 334.252 104.621 338.858 Q107.7 343.442 107.7 352.191 Q107.7 360.918 104.621 365.525 Q101.566 370.108 95.7557 370.108 Q89.9456 370.108 86.8669 365.525 Q83.8114 360.918 83.8114 352.191 Q83.8114 343.442 86.8669 338.858 Q89.9456 334.252 95.7557 334.252 Z\" fill=\"#000000\" fill-rule=\"evenodd\" fill-opacity=\"1\" /><path clip-path=\"url(#clip990)\" d=\"M115.918 363.557 L120.802 363.557 L120.802 369.437 L115.918 369.437 L115.918 363.557 Z\" fill=\"#000000\" fill-rule=\"evenodd\" fill-opacity=\"1\" /><path clip-path=\"url(#clip990)\" d=\"M135.015 365.502 L151.334 365.502 L151.334 369.437 L129.39 369.437 L129.39 365.502 Q132.052 362.747 136.635 358.117 Q141.242 353.465 142.422 352.122 Q144.668 349.599 145.547 347.863 Q146.45 346.104 146.45 344.414 Q146.45 341.659 144.505 339.923 Q142.584 338.187 139.482 338.187 Q137.283 338.187 134.83 338.951 Q132.399 339.715 129.621 341.266 L129.621 336.543 Q132.445 335.409 134.899 334.83 Q137.353 334.252 139.39 334.252 Q144.76 334.252 147.955 336.937 Q151.149 339.622 151.149 344.113 Q151.149 346.242 150.339 348.164 Q149.552 350.062 147.445 352.654 Q146.867 353.326 143.765 356.543 Q140.663 359.738 135.015 365.502 Z\" fill=\"#000000\" fill-rule=\"evenodd\" fill-opacity=\"1\" /><path clip-path=\"url(#clip990)\" d=\"M161.195 334.877 L179.552 334.877 L179.552 338.812 L165.478 338.812 L165.478 347.284 Q166.496 346.937 167.515 346.775 Q168.533 346.59 169.552 346.59 Q175.339 346.59 178.718 349.761 Q182.098 352.932 182.098 358.349 Q182.098 363.928 178.626 367.029 Q175.153 370.108 168.834 370.108 Q166.658 370.108 164.39 369.738 Q162.144 369.367 159.737 368.627 L159.737 363.928 Q161.82 365.062 164.042 365.617 Q166.265 366.173 168.741 366.173 Q172.746 366.173 175.084 364.066 Q177.422 361.96 177.422 358.349 Q177.422 354.738 175.084 352.631 Q172.746 350.525 168.741 350.525 Q166.866 350.525 164.991 350.941 Q163.14 351.358 161.195 352.238 L161.195 334.877 Z\" fill=\"#000000\" fill-rule=\"evenodd\" fill-opacity=\"1\" /><path clip-path=\"url(#clip990)\" d=\"M94.7604 141.834 Q91.1493 141.834 89.3206 145.399 Q87.515 148.941 87.515 156.07 Q87.515 163.177 89.3206 166.742 Q91.1493 170.283 94.7604 170.283 Q98.3946 170.283 100.2 166.742 Q102.029 163.177 102.029 156.07 Q102.029 148.941 100.2 145.399 Q98.3946 141.834 94.7604 141.834 M94.7604 138.131 Q100.571 138.131 103.626 142.737 Q106.705 147.32 106.705 156.07 Q106.705 164.797 103.626 169.404 Q100.571 173.987 94.7604 173.987 Q88.9502 173.987 85.8715 169.404 Q82.816 164.797 82.816 156.07 Q82.816 147.32 85.8715 142.737 Q88.9502 138.131 94.7604 138.131 Z\" fill=\"#000000\" fill-rule=\"evenodd\" fill-opacity=\"1\" /><path clip-path=\"url(#clip990)\" d=\"M114.922 167.436 L119.807 167.436 L119.807 173.316 L114.922 173.316 L114.922 167.436 Z\" fill=\"#000000\" fill-rule=\"evenodd\" fill-opacity=\"1\" /><path clip-path=\"url(#clip990)\" d=\"M130.038 138.756 L148.394 138.756 L148.394 142.691 L134.32 142.691 L134.32 151.163 Q135.339 150.816 136.357 150.654 Q137.376 150.469 138.394 150.469 Q144.181 150.469 147.561 153.64 Q150.941 156.811 150.941 162.228 Q150.941 167.806 147.468 170.908 Q143.996 173.987 137.677 173.987 Q135.501 173.987 133.232 173.617 Q130.987 173.246 128.58 172.506 L128.58 167.806 Q130.663 168.941 132.885 169.496 Q135.107 170.052 137.584 170.052 Q141.589 170.052 143.927 167.945 Q146.265 165.839 146.265 162.228 Q146.265 158.617 143.927 156.51 Q141.589 154.404 137.584 154.404 Q135.709 154.404 133.834 154.82 Q131.982 155.237 130.038 156.117 L130.038 138.756 Z\" fill=\"#000000\" fill-rule=\"evenodd\" fill-opacity=\"1\" /><path clip-path=\"url(#clip990)\" d=\"M170.153 141.834 Q166.542 141.834 164.714 145.399 Q162.908 148.941 162.908 156.07 Q162.908 163.177 164.714 166.742 Q166.542 170.283 170.153 170.283 Q173.788 170.283 175.593 166.742 Q177.422 163.177 177.422 156.07 Q177.422 148.941 175.593 145.399 Q173.788 141.834 170.153 141.834 M170.153 138.131 Q175.964 138.131 179.019 142.737 Q182.098 147.32 182.098 156.07 Q182.098 164.797 179.019 169.404 Q175.964 173.987 170.153 173.987 Q164.343 173.987 161.265 169.404 Q158.209 164.797 158.209 156.07 Q158.209 147.32 161.265 142.737 Q164.343 138.131 170.153 138.131 Z\" fill=\"#000000\" fill-rule=\"evenodd\" fill-opacity=\"1\" /><polyline clip-path=\"url(#clip992)\" style=\"stroke:#009af9; stroke-linecap:butt; stroke-linejoin:round; stroke-width:4; stroke-opacity:1; fill:none\" points=\"\n",
       "  329.966,519.002 361.571,518.501 393.176,518.747 424.781,519.759 456.387,521.536 487.992,524.055 519.597,527.276 551.203,531.138 582.808,535.564 614.413,540.457 \n",
       "  646.018,545.707 677.624,551.191 709.229,556.775 740.834,562.319 772.439,567.679 804.045,572.713 835.65,577.281 867.255,581.25 898.861,584.5 930.466,586.925 \n",
       "  962.071,588.435 993.676,588.962 1025.28,588.463 1056.89,586.917 1088.49,584.33 1120.1,580.735 1151.7,576.193 1183.31,570.79 1214.91,564.636 1246.52,557.867 \n",
       "  1278.12,550.635 1309.73,543.112 1341.33,535.482 1372.94,527.936 1404.55,520.671 1436.15,513.883 1467.76,507.761 1499.36,502.482 1530.97,498.211 1562.57,495.088 \n",
       "  1594.18,493.229 1625.78,492.724 1657.39,493.629 1688.99,495.964 1720.6,499.716 1752.2,504.834 1783.81,511.23 1815.41,518.781 1847.02,527.329 1878.62,536.688 \n",
       "  1910.23,546.643 1941.83,556.958 1973.44,567.379 2005.05,577.642 2036.65,587.48 2068.26,596.626 2099.86,604.823 2131.47,611.831 2163.07,617.432 2194.68,621.438 \n",
       "  2226.28,623.694 2257.89,624.087 2289.49,622.547 2321.1,619.053 2352.7,613.631 2384.31,606.359 2415.91,597.365 2447.52,586.824 2479.12,574.958 2510.73,562.028 \n",
       "  2542.34,548.334 2573.94,534.2 2605.55,519.977 2637.15,506.026 2668.76,492.713 2700.36,480.402 2731.97,469.439 2763.57,460.149 2795.18,452.824 2826.78,447.714 \n",
       "  2858.39,445.022 2889.99,444.892 2921.6,447.412 2953.2,452.6 2984.81,460.408 3016.41,470.721 3048.02,483.352 3079.62,498.053 3111.23,514.511 3142.84,532.361 \n",
       "  3174.44,551.189 3206.05,570.544 3237.65,589.944 3269.26,608.895 3300.86,626.896 3332.47,643.454 3364.07,658.098 3395.68,670.391 3427.28,679.944 3458.89,686.424 \n",
       "  \n",
       "  \"/>\n",
       "<polyline clip-path=\"url(#clip992)\" style=\"stroke:#e26f46; stroke-linecap:butt; stroke-linejoin:round; stroke-width:4; stroke-opacity:1; fill:none\" points=\"\n",
       "  329.966,255.898 361.571,261.129 393.176,274.555 424.781,295.903 456.387,324.669 487.992,360.135 519.597,401.382 551.203,447.317 582.808,496.699 614.413,548.175 \n",
       "  646.018,600.314 677.624,651.65 709.229,700.717 740.834,746.099 772.439,786.463 804.045,820.602 835.65,847.469 867.255,866.212 898.861,876.195 930.466,877.022 \n",
       "  962.071,868.554 993.676,850.91 1025.28,824.472 1056.89,789.877 1088.49,747.998 1120.1,699.927 1151.7,646.947 1183.31,590.494 1214.91,532.121 1246.52,473.457 \n",
       "  1278.12,416.158 1309.73,361.864 1341.33,312.15 1372.94,268.484 1404.55,232.178 1436.15,204.354 1467.76,185.91 1499.36,177.488 1530.97,179.454 1562.57,191.886 \n",
       "  1594.18,214.568 1625.78,246.987 1657.39,288.352 1688.99,337.606 1720.6,393.456 1752.2,454.405 1783.81,518.794 1815.41,584.844 1847.02,650.706 1878.62,714.513 \n",
       "  1910.23,774.433 1941.83,828.72 1973.44,875.764 2005.05,914.141 2036.65,942.653 2068.26,960.367 2099.86,966.641 2131.47,961.153 2163.07,943.906 2194.68,915.238 \n",
       "  2226.28,875.813 2257.89,826.61 2289.49,768.897 2321.1,704.198 2352.7,634.254 2384.31,560.979 2415.91,486.404 2447.52,412.624 2479.12,341.737 2510.73,275.788 \n",
       "  2542.34,216.707 2573.94,166.254 2605.55,125.969 2637.15,97.1218 2668.76,80.6766 2700.36,77.2578 2731.97,87.1294 2763.57,110.182 2795.18,145.933 2826.78,193.533 \n",
       "  2858.39,251.786 2889.99,319.18 2921.6,393.925 2953.2,473.998 2984.81,557.201 3016.41,641.22 3048.02,723.685 3079.62,802.243 3111.23,874.619 3142.84,938.685 \n",
       "  3174.44,992.521 3206.05,1034.47 3237.65,1063.2 3269.26,1077.71 3300.86,1077.43 3332.47,1062.16 3364.07,1032.15 3395.68,988.054 3427.28,930.943 3458.89,862.266 \n",
       "  \n",
       "  \"/>\n",
       "<polyline clip-path=\"url(#clip992)\" style=\"stroke:#3da44d; stroke-linecap:butt; stroke-linejoin:round; stroke-width:4; stroke-opacity:1; fill:none\" points=\"\n",
       "  329.966,547.001 361.571,547.352 393.176,547.725 424.781,548.104 456.387,548.475 487.992,548.824 519.597,549.139 551.203,549.41 582.808,549.628 614.413,549.787 \n",
       "  646.018,549.884 677.624,549.916 709.229,549.885 740.834,549.796 772.439,549.652 804.045,549.463 835.65,549.237 867.255,548.983 898.861,548.712 930.466,548.435 \n",
       "  962.071,548.164 993.676,547.906 1025.28,547.673 1056.89,547.471 1088.49,547.308 1120.1,547.187 1151.7,547.111 1183.31,547.083 1214.91,547.1 1246.52,547.161 \n",
       "  1278.12,547.261 1309.73,547.396 1341.33,547.558 1372.94,547.742 1404.55,547.938 1436.15,548.14 1467.76,548.339 1499.36,548.529 1530.97,548.701 1562.57,548.851 \n",
       "  1594.18,548.974 1625.78,549.066 1657.39,549.125 1688.99,549.149 1720.6,549.14 1752.2,549.1 1783.81,549.029 1815.41,548.934 1847.02,548.817 1878.62,548.684 \n",
       "  1910.23,548.542 1941.83,548.395 1973.44,548.249 2005.05,548.11 2036.65,547.982 2068.26,547.871 2099.86,547.779 2131.47,547.709 2163.07,547.663 2194.68,547.642 \n",
       "  2226.28,547.646 2257.89,547.674 2289.49,547.723 2321.1,547.791 2352.7,547.874 2384.31,547.97 2415.91,548.073 2447.52,548.18 2479.12,548.287 2510.73,548.39 \n",
       "  2542.34,548.484 2573.94,548.567 2605.55,548.635 2637.15,548.688 2668.76,548.723 2700.36,548.741 2731.97,548.74 2763.57,548.722 2795.18,548.688 2826.78,548.639 \n",
       "  2858.39,548.58 2889.99,548.511 2921.6,548.436 2953.2,548.358 2984.81,548.279 3016.41,548.204 3048.02,548.135 3079.62,548.073 3111.23,548.022 3142.84,547.982 \n",
       "  3174.44,547.955 3206.05,547.941 3237.65,547.94 3269.26,547.952 3300.86,547.975 3332.47,548.009 3364.07,548.052 3395.68,548.102 3427.28,548.156 3458.89,548.213 \n",
       "  \n",
       "  \"/>\n",
       "<polyline clip-path=\"url(#clip992)\" style=\"stroke:#c271d2; stroke-linecap:butt; stroke-linejoin:round; stroke-width:4; stroke-opacity:1; fill:none\" points=\"\n",
       "  329.966,477.923 361.571,487.758 393.176,499.457 424.781,512.584 456.387,526.662 487.992,541.193 519.597,555.672 551.203,569.607 582.808,582.534 614.413,594.032 \n",
       "  646.018,603.74 677.624,611.361 709.229,616.679 740.834,619.558 772.439,619.951 804.045,617.893 835.65,613.504 867.255,606.98 898.861,598.588 930.466,588.651 \n",
       "  962.071,577.538 993.676,565.653 1025.28,553.415 1056.89,541.249 1088.49,529.568 1120.1,518.76 1151.7,509.177 1183.31,501.119 1214.91,494.831 1246.52,490.491 \n",
       "  1278.12,488.208 1309.73,488.018 1341.33,489.886 1372.94,493.706 1404.55,499.308 1436.15,506.467 1467.76,514.905 1499.36,524.311 1530.97,534.344 1562.57,544.649 \n",
       "  1594.18,554.869 1625.78,564.659 1657.39,573.694 1688.99,581.679 1720.6,588.366 1752.2,593.551 1783.81,597.089 1815.41,598.892 1847.02,598.933 1878.62,597.248 \n",
       "  1910.23,593.928 1941.83,589.119 1973.44,583.015 2005.05,575.851 2036.65,567.892 2068.26,559.424 2099.86,550.748 2131.47,542.163 2163.07,533.959 2194.68,526.409 \n",
       "  2226.28,519.756 2257.89,514.21 2289.49,509.936 2321.1,507.056 2352.7,505.638 2384.31,505.702 2415.91,507.216 2447.52,510.098 2479.12,514.223 2510.73,519.426 \n",
       "  2542.34,525.507 2573.94,532.241 2605.55,539.386 2637.15,546.689 2668.76,553.9 2700.36,560.773 2731.97,567.082 2763.57,572.623 2795.18,577.222 2826.78,580.742 \n",
       "  2858.39,583.085 2889.99,584.194 2921.6,584.057 2953.2,582.703 2984.81,580.204 3016.41,576.667 3048.02,572.234 3079.62,567.074 3111.23,561.377 3142.84,555.349 \n",
       "  3174.44,549.202 3206.05,543.147 3237.65,537.389 3269.26,532.119 3300.86,527.506 3332.47,523.693 3364.07,520.795 3395.68,518.893 3427.28,518.03 3458.89,518.215 \n",
       "  \n",
       "  \"/>\n",
       "<polyline clip-path=\"url(#clip992)\" style=\"stroke:#ac8d18; stroke-linecap:butt; stroke-linejoin:round; stroke-width:4; stroke-opacity:1; fill:none\" points=\"\n",
       "  329.966,181.124 361.571,204.969 393.176,239.44 424.781,283.425 456.387,335.518 487.992,394.066 519.597,457.22 551.203,522.995 582.808,589.328 614.413,654.151 \n",
       "  646.018,715.445 677.624,771.311 709.229,820.025 740.834,860.093 772.439,890.295 804.045,909.723 835.65,917.809 867.255,914.34 898.861,899.465 930.466,873.686 \n",
       "  962.071,837.848 993.676,793.101 1025.28,740.874 1056.89,682.821 1088.49,620.774 1120.1,556.681 1151.7,492.55 1183.31,430.38 1214.91,372.105 1246.52,319.528 \n",
       "  1278.12,274.269 1309.73,237.716 1341.33,210.977 1372.94,194.853 1404.55,189.809 1436.15,195.964 1467.76,213.088 1499.36,240.608 1530.97,277.629 1562.57,322.963 \n",
       "  1594.18,375.167 1625.78,432.589 1657.39,493.42 1688.99,555.75 1720.6,617.63 1752.2,677.131 1783.81,732.405 1815.41,781.744 1847.02,823.627 1878.62,856.776 \n",
       "  1910.23,880.187 1941.83,893.162 1973.44,895.335 2005.05,886.674 2036.65,867.488 2068.26,838.411 2099.86,800.386 2131.47,754.629 2163.07,702.595 2194.68,645.929 \n",
       "  2226.28,586.414 2257.89,525.917 2289.49,466.328 2321.1,409.504 2352.7,357.205 2384.31,311.05 2415.91,272.455 2447.52,242.598 2479.12,222.38 2510.73,212.398 \n",
       "  2542.34,212.928 2573.94,223.917 2605.55,244.985 2637.15,275.441 2668.76,314.301 2700.36,360.324 2731.97,412.049 2763.57,467.844 2795.18,525.953 2826.78,584.556 \n",
       "  2858.39,641.823 2889.99,695.972 2921.6,745.326 2953.2,788.362 2984.81,823.758 3016.41,850.439 3048.02,867.601 3079.62,874.742 3111.23,871.675 3142.84,858.532 \n",
       "  3174.44,835.756 3206.05,804.092 3237.65,764.56 3269.26,718.418 3300.86,667.13 3332.47,612.314 3364.07,555.69 3395.68,499.034 3427.28,444.11 3458.89,392.627 \n",
       "  \n",
       "  \"/>\n",
       "<path clip-path=\"url(#clip990)\" d=\"\n",
       "M3028.06 393.634 L3442.2 393.634 L3442.2 82.5936 L3028.06 82.5936  Z\n",
       "  \" fill=\"#ffffff\" fill-rule=\"evenodd\" fill-opacity=\"1\"/>\n",
       "<polyline clip-path=\"url(#clip990)\" style=\"stroke:#000000; stroke-linecap:butt; stroke-linejoin:round; stroke-width:4; stroke-opacity:1; fill:none\" points=\"\n",
       "  3028.06,393.634 3442.2,393.634 3442.2,82.5936 3028.06,82.5936 3028.06,393.634 \n",
       "  \"/>\n",
       "<polyline clip-path=\"url(#clip990)\" style=\"stroke:#009af9; stroke-linecap:butt; stroke-linejoin:round; stroke-width:4; stroke-opacity:1; fill:none\" points=\"\n",
       "  3064.06,134.434 3280.06,134.434 \n",
       "  \"/>\n",
       "<path clip-path=\"url(#clip990)\" d=\"M3329.9 154.121 Q3328.09 158.751 3326.38 160.163 Q3324.67 161.575 3321.8 161.575 L3318.4 161.575 L3318.4 158.01 L3320.9 158.01 Q3322.65 158.01 3323.63 157.176 Q3324.6 156.343 3325.78 153.241 L3326.54 151.297 L3316.06 125.788 L3320.57 125.788 L3328.67 146.065 L3336.77 125.788 L3341.29 125.788 L3329.9 154.121 Z\" fill=\"#000000\" fill-rule=\"evenodd\" fill-opacity=\"1\" /><path clip-path=\"url(#clip990)\" d=\"M3348.58 147.778 L3356.22 147.778 L3356.22 121.413 L3347.91 123.079 L3347.91 118.82 L3356.17 117.154 L3360.85 117.154 L3360.85 147.778 L3368.49 147.778 L3368.49 151.714 L3348.58 151.714 L3348.58 147.778 Z\" fill=\"#000000\" fill-rule=\"evenodd\" fill-opacity=\"1\" /><polyline clip-path=\"url(#clip990)\" style=\"stroke:#e26f46; stroke-linecap:butt; stroke-linejoin:round; stroke-width:4; stroke-opacity:1; fill:none\" points=\"\n",
       "  3064.06,186.274 3280.06,186.274 \n",
       "  \"/>\n",
       "<path clip-path=\"url(#clip990)\" d=\"M3329.9 205.961 Q3328.09 210.591 3326.38 212.003 Q3324.67 213.415 3321.8 213.415 L3318.4 213.415 L3318.4 209.85 L3320.9 209.85 Q3322.65 209.85 3323.63 209.016 Q3324.6 208.183 3325.78 205.081 L3326.54 203.137 L3316.06 177.628 L3320.57 177.628 L3328.67 197.905 L3336.77 177.628 L3341.29 177.628 L3329.9 205.961 Z\" fill=\"#000000\" fill-rule=\"evenodd\" fill-opacity=\"1\" /><path clip-path=\"url(#clip990)\" d=\"M3351.8 199.618 L3368.12 199.618 L3368.12 203.554 L3346.17 203.554 L3346.17 199.618 Q3348.84 196.864 3353.42 192.234 Q3358.02 187.581 3359.21 186.239 Q3361.45 183.716 3362.33 181.98 Q3363.23 180.22 3363.23 178.531 Q3363.23 175.776 3361.29 174.04 Q3359.37 172.304 3356.27 172.304 Q3354.07 172.304 3351.61 173.068 Q3349.18 173.831 3346.4 175.382 L3346.4 170.66 Q3349.23 169.526 3351.68 168.947 Q3354.14 168.369 3356.17 168.369 Q3361.54 168.369 3364.74 171.054 Q3367.93 173.739 3367.93 178.23 Q3367.93 180.359 3367.12 182.281 Q3366.33 184.179 3364.23 186.771 Q3363.65 187.443 3360.55 190.66 Q3357.45 193.855 3351.8 199.618 Z\" fill=\"#000000\" fill-rule=\"evenodd\" fill-opacity=\"1\" /><polyline clip-path=\"url(#clip990)\" style=\"stroke:#3da44d; stroke-linecap:butt; stroke-linejoin:round; stroke-width:4; stroke-opacity:1; fill:none\" points=\"\n",
       "  3064.06,238.114 3280.06,238.114 \n",
       "  \"/>\n",
       "<path clip-path=\"url(#clip990)\" d=\"M3329.9 257.801 Q3328.09 262.431 3326.38 263.843 Q3324.67 265.255 3321.8 265.255 L3318.4 265.255 L3318.4 261.69 L3320.9 261.69 Q3322.65 261.69 3323.63 260.856 Q3324.6 260.023 3325.78 256.921 L3326.54 254.977 L3316.06 229.468 L3320.57 229.468 L3328.67 249.745 L3336.77 229.468 L3341.29 229.468 L3329.9 257.801 Z\" fill=\"#000000\" fill-rule=\"evenodd\" fill-opacity=\"1\" /><path clip-path=\"url(#clip990)\" d=\"M3361.94 236.759 Q3365.29 237.477 3367.17 239.745 Q3369.07 242.014 3369.07 245.347 Q3369.07 250.463 3365.55 253.264 Q3362.03 256.065 3355.55 256.065 Q3353.37 256.065 3351.06 255.625 Q3348.77 255.208 3346.31 254.352 L3346.31 249.838 Q3348.26 250.972 3350.57 251.551 Q3352.89 252.13 3355.41 252.13 Q3359.81 252.13 3362.1 250.394 Q3364.41 248.657 3364.41 245.347 Q3364.41 242.292 3362.26 240.579 Q3360.13 238.843 3356.31 238.843 L3352.28 238.843 L3352.28 235 L3356.5 235 Q3359.95 235 3361.77 233.634 Q3363.6 232.246 3363.6 229.653 Q3363.6 226.991 3361.71 225.579 Q3359.83 224.144 3356.31 224.144 Q3354.39 224.144 3352.19 224.56 Q3349.99 224.977 3347.35 225.857 L3347.35 221.69 Q3350.02 220.949 3352.33 220.579 Q3354.67 220.209 3356.73 220.209 Q3362.05 220.209 3365.15 222.639 Q3368.26 225.046 3368.26 229.167 Q3368.26 232.037 3366.61 234.028 Q3364.97 235.996 3361.94 236.759 Z\" fill=\"#000000\" fill-rule=\"evenodd\" fill-opacity=\"1\" /><polyline clip-path=\"url(#clip990)\" style=\"stroke:#c271d2; stroke-linecap:butt; stroke-linejoin:round; stroke-width:4; stroke-opacity:1; fill:none\" points=\"\n",
       "  3064.06,289.954 3280.06,289.954 \n",
       "  \"/>\n",
       "<path clip-path=\"url(#clip990)\" d=\"M3329.9 309.641 Q3328.09 314.271 3326.38 315.683 Q3324.67 317.095 3321.8 317.095 L3318.4 317.095 L3318.4 313.53 L3320.9 313.53 Q3322.65 313.53 3323.63 312.696 Q3324.6 311.863 3325.78 308.761 L3326.54 306.817 L3316.06 281.308 L3320.57 281.308 L3328.67 301.585 L3336.77 281.308 L3341.29 281.308 L3329.9 309.641 Z\" fill=\"#000000\" fill-rule=\"evenodd\" fill-opacity=\"1\" /><path clip-path=\"url(#clip990)\" d=\"M3360.62 276.748 L3348.81 295.197 L3360.62 295.197 L3360.62 276.748 M3359.39 272.674 L3365.27 272.674 L3365.27 295.197 L3370.2 295.197 L3370.2 299.085 L3365.27 299.085 L3365.27 307.234 L3360.62 307.234 L3360.62 299.085 L3345.02 299.085 L3345.02 294.572 L3359.39 272.674 Z\" fill=\"#000000\" fill-rule=\"evenodd\" fill-opacity=\"1\" /><polyline clip-path=\"url(#clip990)\" style=\"stroke:#ac8d18; stroke-linecap:butt; stroke-linejoin:round; stroke-width:4; stroke-opacity:1; fill:none\" points=\"\n",
       "  3064.06,341.794 3280.06,341.794 \n",
       "  \"/>\n",
       "<path clip-path=\"url(#clip990)\" d=\"M3329.9 361.481 Q3328.09 366.111 3326.38 367.523 Q3324.67 368.935 3321.8 368.935 L3318.4 368.935 L3318.4 365.37 L3320.9 365.37 Q3322.65 365.37 3323.63 364.536 Q3324.6 363.703 3325.78 360.601 L3326.54 358.657 L3316.06 333.148 L3320.57 333.148 L3328.67 353.425 L3336.77 333.148 L3341.29 333.148 L3329.9 361.481 Z\" fill=\"#000000\" fill-rule=\"evenodd\" fill-opacity=\"1\" /><path clip-path=\"url(#clip990)\" d=\"M3347.82 324.514 L3366.17 324.514 L3366.17 328.449 L3352.1 328.449 L3352.1 336.921 Q3353.12 336.574 3354.14 336.412 Q3355.15 336.226 3356.17 336.226 Q3361.96 336.226 3365.34 339.398 Q3368.72 342.569 3368.72 347.986 Q3368.72 353.564 3365.25 356.666 Q3361.77 359.745 3355.46 359.745 Q3353.28 359.745 3351.01 359.374 Q3348.77 359.004 3346.36 358.263 L3346.36 353.564 Q3348.44 354.699 3350.66 355.254 Q3352.89 355.81 3355.36 355.81 Q3359.37 355.81 3361.71 353.703 Q3364.04 351.597 3364.04 347.986 Q3364.04 344.375 3361.71 342.268 Q3359.37 340.162 3355.36 340.162 Q3353.49 340.162 3351.61 340.578 Q3349.76 340.995 3347.82 341.875 L3347.82 324.514 Z\" fill=\"#000000\" fill-rule=\"evenodd\" fill-opacity=\"1\" /></svg>\n"
      ]
     },
     "execution_count": 14,
     "metadata": {},
     "output_type": "execute_result"
    }
   ],
   "source": [
    "plot(evalrespair(getrespair(1,slice3)))\n",
    "plot!(evalrespair(getrespair(2,slice3)))\n",
    "plot!(evalrespair(getrespair(3,slice3)))\n",
    "plot!(evalrespair(getrespair(4,slice3)))\n",
    "plot!(evalrespair(getrespair(5,slice3)))\n",
    "plot!(size=(900,300))"
   ]
  },
  {
   "cell_type": "code",
   "execution_count": 15,
   "metadata": {},
   "outputs": [
    {
     "data": {
      "text/plain": [
       "5-element Vector{Float64}:\n",
       " 0.0357711358662696\n",
       " 0.368869109008196\n",
       " 0.00202908385691768\n",
       " 0.0993587737733972\n",
       " 0.483872318643438"
      ]
     },
     "execution_count": 15,
     "metadata": {},
     "output_type": "execute_result"
    }
   ],
   "source": [
    "S3start = [evalrespair(getrespair(i,slice3),0) for i in 1:R]"
   ]
  },
  {
   "cell_type": "markdown",
   "metadata": {},
   "source": [
    "# T"
   ]
  },
  {
   "cell_type": "code",
   "execution_count": 16,
   "metadata": {},
   "outputs": [
    {
     "data": {
      "text/plain": [
       "5×5 Matrix{Float64}:\n",
       " 1.0  1.0  1.0  1.0  1.0\n",
       " 1.0  1.0  1.0  1.0  1.0\n",
       " 1.0  1.0  1.0  1.0  1.0\n",
       " 1.0  1.0  1.0  1.0  1.0\n",
       " 1.0  1.0  1.0  1.0  1.0"
      ]
     },
     "execution_count": 16,
     "metadata": {},
     "output_type": "execute_result"
    }
   ],
   "source": [
    "T = ones((R,R))"
   ]
  },
  {
   "cell_type": "markdown",
   "metadata": {},
   "source": [
    "# Delta\n",
    "How should we initialise this? "
   ]
  },
  {
   "cell_type": "code",
   "execution_count": 17,
   "metadata": {},
   "outputs": [
    {
     "data": {
      "text/plain": [
       "5×5 Matrix{Float64}:\n",
       " 0.0  0.0  0.0  0.0  0.0\n",
       " 0.0  0.0  0.0  0.0  0.0\n",
       " 0.0  0.0  0.0  0.0  0.0\n",
       " 0.0  0.0  0.0  0.0  0.0\n",
       " 0.0  0.0  0.0  0.0  0.0"
      ]
     },
     "execution_count": 17,
     "metadata": {},
     "output_type": "execute_result"
    }
   ],
   "source": [
    "delta = zeros((R,R))"
   ]
  },
  {
   "cell_type": "markdown",
   "metadata": {},
   "source": [
    "# The Algorithm"
   ]
  },
  {
   "cell_type": "code",
   "execution_count": 18,
   "metadata": {},
   "outputs": [
    {
     "data": {
      "text/plain": [
       "5×5 Matrix{Float64}:\n",
       " 1.0  1.0  1.0  1.0  1.0\n",
       " 1.0  1.0  1.0  1.0  1.0\n",
       " 1.0  1.0  1.0  1.0  1.0\n",
       " 1.0  1.0  1.0  1.0  1.0\n",
       " 1.0  1.0  1.0  1.0  1.0"
      ]
     },
     "metadata": {},
     "output_type": "display_data"
    },
    {
     "data": {
      "text/plain": [
       "5×5 Matrix{Float64}:\n",
       "  0.589633     1.42056   -0.0802331   -0.219511   -0.710447\n",
       " -0.00964763  -0.456738   0.350783     0.425724    0.689879\n",
       "  0.474723     1.06059    0.00241275  -0.0957898  -0.441939\n",
       "  0.475674     1.06357    0.00172864  -0.0968139  -0.444162\n",
       " -0.101371    -0.744069   0.416753     0.524481    0.904206"
      ]
     },
     "metadata": {},
     "output_type": "display_data"
    },
    {
     "data": {
      "text/plain": [
       "5×5 Matrix{Float64}:\n",
       "  0.0650397    1.02062   0.00223802   0.00376689   -0.091668\n",
       " -0.00955873  -0.919445  0.34424      0.455827      1.12894\n",
       "  0.0889007    0.984793  5.565e-6    -0.000967822  -0.0727313\n",
       "  0.0885792    0.985218  2.989e-6    -0.000926847  -0.0728734\n",
       " -0.240908    -4.827     0.879914     1.2577        3.93029"
      ]
     },
     "metadata": {},
     "output_type": "display_data"
    },
    {
     "data": {
      "text/plain": [
       "5×5 Matrix{Float64}:\n",
       " -0.00158837   1.00056   -0.00012046  -0.000204087   0.00135411\n",
       " -0.0291007   -8.64183    1.03811      1.50868       7.12414\n",
       "  0.00386222   0.998622   1.50988e-8  -2.71552e-6   -0.00248129\n",
       "  0.00377528   0.998668   6.10627e-9  -1.97567e-6   -0.00244141\n",
       "  0.00688072   1.53336   -0.0193557   -0.0366721    -0.48421"
      ]
     },
     "metadata": {},
     "output_type": "display_data"
    },
    {
     "data": {
      "text/plain": [
       "5×5 Matrix{Float64}:\n",
       "  9.01878e-5   0.999968   6.74966e-6    1.14314e-5  -7.66873e-5\n",
       "  0.000246944  1.4884    -0.00856086   -0.0164562   -0.463629\n",
       "  1.68607e-5   0.999992   3.9895e-11   -7.17581e-9  -9.14504e-6\n",
       "  1.38794e-5   0.999993   1.21573e-11  -3.93383e-9  -7.3684e-6\n",
       " -0.00129247   0.951059   0.00366705    0.00688171   0.0396849"
      ]
     },
     "metadata": {},
     "output_type": "display_data"
    },
    {
     "data": {
      "text/plain": [
       "5×5 Matrix{Float64}:\n",
       " -5.05592e-6   1.0       -3.78672e-7   -6.41343e-7    4.29973e-6\n",
       " -6.34002e-5   0.928043   0.00219845    0.00421111    0.0656104\n",
       "  4.45556e-8   1.0        1.05126e-13  -1.89087e-11  -2.41328e-8\n",
       "  2.76461e-8   1.0        2.41406e-14  -7.8114e-12   -1.46542e-8\n",
       "  0.000852123  1.03344   -0.00241382   -0.00453793   -0.0273371"
      ]
     },
     "metadata": {},
     "output_type": "display_data"
    },
    {
     "data": {
      "text/plain": [
       "5×5 Matrix{Float64}:\n",
       "  2.83642e-7   1.0        2.12429e-8    3.59783e-8   -2.41217e-7\n",
       "  6.47355e-5   1.07773   -0.00224461   -0.00430341   -0.0712437\n",
       "  1.17406e-10  1.0        2.77008e-16  -4.98247e-14  -6.35906e-11\n",
       "  5.48963e-11  1.0        4.79353e-17  -1.55108e-14  -2.90984e-11\n",
       " -0.000430819  0.983523   0.00122168    0.00229403    0.0133926"
      ]
     },
     "metadata": {},
     "output_type": "display_data"
    },
    {
     "data": {
      "text/plain": [
       "5×5 Matrix{Float64}:\n",
       " -1.59119e-8   1.0       -1.1917e-9    -2.01834e-9    1.35319e-8\n",
       " -3.87574e-5   0.956407   0.00134395    0.00257426    0.039714\n",
       "  3.09366e-13  1.0        7.29922e-19  -1.31289e-16  -1.67563e-13\n",
       "  1.09006e-13  1.0        9.51837e-20  -3.07994e-17  -5.77798e-14\n",
       "  0.000254174  1.00984   -0.000720377  -0.00135351   -0.00802104"
      ]
     },
     "metadata": {},
     "output_type": "display_data"
    },
    {
     "data": {
      "text/plain": [
       "5×5 Matrix{Float64}:\n",
       "  8.92636e-10  1.0        6.68528e-11   1.13226e-10  -7.59122e-10\n",
       "  3.50702e-5   1.04083   -0.00121604   -0.00233055   -0.0373163\n",
       "  8.15186e-16  1.0        1.92336e-21  -3.45949e-19  -4.4153e-16\n",
       "  2.16449e-16  1.0        1.89003e-22  -6.11574e-20  -1.14732e-16\n",
       " -0.000137926  0.994699   0.000391032   0.000734447   0.00431303"
      ]
     },
     "metadata": {},
     "output_type": "display_data"
    },
    {
     "data": {
      "text/plain": [
       "5×5 Matrix{Float64}:\n",
       " -5.00757e-11  1.0      -3.75035e-12  -6.35183e-12   4.25857e-11\n",
       " -2.34781e-5   0.97357   0.00081412    0.00155949    0.0240799\n",
       "  2.14803e-18  1.0       5.06809e-24  -9.11583e-22  -1.16344e-18\n",
       "  4.29797e-19  1.0       3.75298e-25  -1.21438e-22  -2.27819e-19\n",
       "  7.84829e-5   1.00303  -0.000222468  -0.000417924  -0.00246619"
      ]
     },
     "metadata": {},
     "output_type": "display_data"
    },
    {
     "data": {
      "text/plain": [
       "5×5 Matrix{Float64}:\n",
       "  2.80918e-12  1.0        2.1039e-13    3.56329e-13  -2.389e-12\n",
       "  1.98561e-5   1.02283   -0.00068851   -0.00131931   -0.0208395\n",
       "  5.6601e-21   1.0        1.33545e-26  -2.40204e-24  -3.06569e-21\n",
       "  8.53435e-22  1.0        7.45218e-28  -2.41137e-25  -4.52373e-22\n",
       " -4.34985e-5   0.998326   0.000123313   0.000231628   0.00136305"
      ]
     },
     "metadata": {},
     "output_type": "display_data"
    },
    {
     "data": {
      "text/plain": [
       "5×5 Matrix{Float64}:\n",
       " -1.57591e-13  1.0       -1.18026e-14  -1.99896e-14   1.3402e-13\n",
       " -1.40914e-5   0.984098   0.000488629   0.00093604    0.0144911\n",
       "  1.49145e-23  1.0        3.51894e-29  -6.32942e-27  -8.07815e-24\n",
       "  1.69464e-24  1.0        1.47976e-30  -4.78817e-28  -8.98263e-25\n",
       "  2.4468e-5    1.00094   -6.93601e-5   -0.000130292  -0.000767901"
      ]
     },
     "metadata": {},
     "output_type": "display_data"
    },
    {
     "data": {
      "text/plain": [
       "5×5 Matrix{Float64}:\n",
       "  8.84066e-15  1.0        6.6211e-16    1.12139e-15  -7.51834e-15\n",
       "  1.14541e-5   1.01309   -0.000397173  -0.000760996  -0.0119441\n",
       "  3.92999e-26  1.0        9.27247e-32  -1.66781e-29  -2.12861e-26\n",
       "  3.36499e-27  1.0        2.93831e-33  -9.50773e-31  -1.78365e-27\n",
       " -1.36502e-5   0.999474   3.86957e-5    7.2687e-5     0.000428023"
      ]
     },
     "metadata": {},
     "output_type": "display_data"
    },
    {
     "data": {
      "text/plain": [
       "5×5 Matrix{Float64}:\n",
       " -4.95949e-16  1.0       -3.71435e-17  -6.29084e-17   4.21769e-16\n",
       " -8.39925e-6   0.990502   0.000291248   0.00055795    0.00865738\n",
       "  1.03556e-28  1.0        2.44331e-34  -4.39472e-32  -5.60892e-29\n",
       "  6.68176e-30  1.0        5.8345e-36   -1.88792e-33  -3.54175e-30\n",
       "  7.65044e-6   1.00029   -2.16872e-5   -4.07386e-5   -0.000240008"
      ]
     },
     "metadata": {},
     "output_type": "display_data"
    },
    {
     "data": {
      "text/plain": [
       "5×5 Matrix{Float64}:\n",
       "  2.78221e-17  1.0        2.0837e-18    3.52908e-18  -2.36607e-17\n",
       "  6.66867e-6   1.0076    -0.000231238  -0.000443039  -0.00693118\n",
       "  2.72872e-31  1.0        6.43817e-37  -1.15802e-34  -1.47796e-31\n",
       "  1.32678e-32  1.0        1.15854e-38  -3.74878e-36  -7.03273e-33\n",
       " -4.27673e-6   0.999835   1.21236e-5    2.27736e-5    0.000134132"
      ]
     },
     "metadata": {},
     "output_type": "display_data"
    },
    {
     "data": {
      "text/plain": [
       "5×5 Matrix{Float64}:\n",
       " -1.56078e-18  1.0       -1.16893e-19  -1.97977e-19   1.32733e-18\n",
       " -4.98319e-6   0.994357   0.000172794   0.000331033   0.00514462\n",
       "  7.19023e-34  1.0        1.69647e-39  -3.0514e-37   -3.89446e-34\n",
       "  2.63454e-35  1.0        2.30047e-41  -7.44385e-39  -1.39647e-35\n",
       "  2.39423e-6   1.00009   -6.7871e-6    -1.27493e-5   -7.51022e-5"
      ]
     },
     "metadata": {},
     "output_type": "display_data"
    },
    {
     "data": {
      "text/plain": [
       "5×5 Matrix{Float64}:\n",
       "  8.75578e-20  1.0        6.55753e-21   1.11062e-20  -7.44616e-20\n",
       "  3.90171e-6   1.00444   -0.000135293  -0.000259208  -0.00404815\n",
       "  1.89464e-36  1.0        4.47023e-42  -8.04049e-40  -1.0262e-36\n",
       "  5.23132e-38  1.0        4.56798e-44  -1.4781e-41   -2.77292e-38\n",
       " -1.33927e-6   0.999948   3.79654e-6    7.1316e-6     4.20066e-5"
      ]
     },
     "metadata": {},
     "output_type": "display_data"
    },
    {
     "data": {
      "text/plain": [
       "5×5 Matrix{Float64}:\n",
       " -4.91188e-21  1.0       -3.67869e-22  -6.23045e-22   4.1772e-21\n",
       " -2.94776e-6   0.996658   0.000102215   0.000195823   0.00304643\n",
       "  4.99241e-39  1.0        1.17792e-44  -2.11868e-42  -2.70405e-39\n",
       "  1.03877e-40  1.0        9.0705e-47   -2.93502e-44  -5.50611e-41\n",
       "  7.49491e-7   1.00003   -2.12464e-6   -3.99104e-6   -2.35092e-5"
      ]
     },
     "metadata": {},
     "output_type": "display_data"
    },
    {
     "data": {
      "text/plain": [
       "5×5 Matrix{Float64}:\n",
       "  2.7555e-22   1.0        2.06369e-23   3.4952e-23   -2.34335e-22\n",
       "  2.28907e-6   1.0026    -7.93742e-5   -0.000152071  -0.00237266\n",
       "  1.31551e-41  1.0        3.10383e-47  -5.58277e-45  -7.12522e-42\n",
       "  2.06265e-43  1.0        1.8011e-49   -5.82798e-47  -1.09333e-43\n",
       " -4.1933e-7    0.999984   1.18871e-6    2.23293e-6    1.31527e-5"
      ]
     },
     "metadata": {},
     "output_type": "display_data"
    },
    {
     "data": {
      "text/plain": [
       "5×5 Matrix{Float64}:\n",
       " -1.5458e-23   1.0       -1.15771e-24  -1.96076e-24   1.31459e-23\n",
       " -1.74056e-6   0.998026   6.03546e-5    0.000115628   0.00179998\n",
       "  3.46639e-44  1.0        8.17865e-50  -1.47107e-47  -1.87751e-44\n",
       "  4.09574e-46  1.0        3.57639e-52  -1.15724e-49  -2.17099e-46\n",
       "  2.34642e-7   1.00001   -6.65159e-7   -1.24947e-6   -7.35989e-6"
      ]
     },
     "metadata": {},
     "output_type": "display_data"
    },
    {
     "data": {
      "text/plain": [
       "5×5 Matrix{Float64}:\n",
       "  8.67172e-25  1.0        6.49457e-26   1.09996e-25  -7.37467e-25\n",
       "  1.34505e-6   1.00153   -4.66402e-5   -8.93561e-5   -0.00139339\n",
       "  9.13401e-47  1.0        2.15509e-52  -3.8763e-50   -4.94727e-47\n",
       "  8.13278e-49  1.0        7.10153e-55  -2.2979e-52   -4.31087e-49\n",
       " -1.31287e-7   0.999995   3.7217e-7     6.99104e-7    4.11798e-6"
      ]
     },
     "metadata": {},
     "output_type": "display_data"
    },
    {
     "data": {
      "text/plain": [
       "5×5 Matrix{Float64}:\n",
       " -4.86472e-26  1.0       -3.64337e-27  -6.17063e-27   4.13709e-26\n",
       " -1.02662e-6   0.998835   3.55984e-5    6.82002e-5    0.00106208\n",
       "  2.40683e-49  1.0        5.6787e-55   -1.02141e-52  -1.30362e-49\n",
       "  1.6149e-51   1.0        1.41013e-57  -4.56287e-55  -8.55997e-52\n",
       "  7.34611e-8   1.0       -2.08246e-7   -3.9118e-7    -2.30421e-6"
      ]
     },
     "metadata": {},
     "output_type": "display_data"
    },
    {
     "data": {
      "text/plain": [
       "5×5 Matrix{Float64}:\n",
       "  2.72904e-27  1.0        2.04388e-28   3.46164e-28  -2.32085e-27\n",
       "  7.91063e-7   1.0009    -2.74304e-5   -5.25525e-5   -0.000819228\n",
       "  6.34204e-52  1.0        1.49635e-57  -2.69144e-55  -3.43505e-52\n",
       "  3.20666e-54  1.0        2.80005e-60  -9.06036e-58  -1.69973e-54\n",
       " -4.11038e-8   0.999998   1.1652e-7     2.18878e-7    1.28927e-6"
      ]
     },
     "metadata": {},
     "output_type": "display_data"
    },
    {
     "data": {
      "text/plain": [
       "5×5 Matrix{Float64}:\n",
       " -1.53096e-28  1.0       -1.14659e-29  -1.94194e-29   1.30197e-28\n",
       " -6.05123e-7   0.999313   2.09829e-5    4.01996e-5    0.000626171\n",
       "  1.67114e-54  1.0        3.94291e-60  -7.092e-58    -9.05142e-55\n",
       "  6.36736e-57  1.0        5.55997e-63  -1.79909e-60  -3.37509e-57\n",
       "  2.29992e-8   1.0       -6.51976e-8   -1.22471e-7   -7.214e-7"
      ]
     },
     "metadata": {},
     "output_type": "display_data"
    },
    {
     "data": {
      "text/plain": [
       "5×5 Matrix{Float64}:\n",
       "  8.58847e-30  1.0       6.43222e-31   1.0894e-30   -7.30387e-30\n",
       "  4.65489e-7   1.00053  -1.6141e-5    -3.09237e-5   -0.000481972\n",
       "  4.40349e-57  1.0       1.03896e-62  -1.86876e-60  -2.38507e-57\n",
       "  1.26435e-59  1.0       1.10403e-65  -3.57239e-63  -6.70182e-60\n",
       " -1.28688e-8   1.0       3.64804e-8    6.85266e-8    4.03648e-7"
      ]
     },
     "metadata": {},
     "output_type": "display_data"
    },
    {
     "data": {
      "text/plain": [
       "5×5 Matrix{Float64}:\n",
       " -4.81802e-31  1.0       -3.60839e-32  -6.11139e-32   4.09737e-31\n",
       " -3.56541e-7   0.999595   1.23632e-5    2.36858e-5    0.000368994\n",
       "  1.16033e-59  1.0        2.73769e-65  -4.92421e-63  -6.2847e-60\n",
       "  2.51057e-62  1.0        2.19223e-68  -7.09359e-66  -1.33076e-62\n",
       "  7.2006e-9    1.0       -2.04121e-8   -3.83432e-8   -2.25856e-7"
      ]
     },
     "metadata": {},
     "output_type": "display_data"
    },
    {
     "data": {
      "text/plain": [
       "5×5 Matrix{Float64}:\n",
       "  2.70284e-32  1.0       2.02426e-33   3.42841e-33  -2.29857e-32\n",
       "  2.73994e-7   1.00031  -9.50084e-6   -1.82021e-5   -0.000283665\n",
       "  3.05748e-62  1.0       7.21386e-68  -1.29754e-65  -1.65603e-62\n",
       "  4.98517e-65  1.0       4.35304e-71  -1.40855e-68  -2.64245e-65\n",
       " -4.029e-9     1.0       1.14213e-8    2.14544e-8    1.26375e-7"
      ]
     },
     "metadata": {},
     "output_type": "display_data"
    },
    {
     "data": {
      "text/plain": [
       "5×5 Matrix{Float64}:\n",
       " -1.51626e-33  1.0       -1.13558e-34  -1.92329e-34   1.28947e-33\n",
       " -2.10027e-7   0.999762   7.28275e-6    1.39525e-5    0.00021738\n",
       "  8.05653e-65  1.0        1.90087e-70  -3.41904e-68  -4.36367e-65\n",
       "  9.8989e-68   1.0        8.6437e-74   -2.79692e-71  -5.24703e-68\n",
       "  2.25437e-9   1.0       -6.39065e-9   -1.20045e-8   -7.07113e-8"
      ]
     },
     "metadata": {},
     "output_type": "display_data"
    },
    {
     "data": {
      "text/plain": [
       "5×5 Matrix{Float64}:\n",
       "  8.50601e-35  1.0       6.37047e-36   1.07894e-35  -7.23375e-35\n",
       "  1.61306e-7   1.00018  -5.59335e-6   -1.0716e-5    -0.000166989\n",
       "  2.12291e-67  1.0       5.00882e-73  -9.00923e-71  -1.14984e-67\n",
       "  1.96559e-70  1.0       1.71635e-76  -5.55375e-74  -1.04189e-70\n",
       " -1.2614e-9    1.0       3.5758e-9     6.71697e-9    3.95655e-8"
      ]
     },
     "metadata": {},
     "output_type": "display_data"
    },
    {
     "data": {
      "text/plain": [
       "5×5 Matrix{Float64}:\n",
       " -4.77176e-36  1.0      -3.57375e-37  -6.05272e-37   4.05804e-36\n",
       " -1.23703e-7   0.99986   4.28944e-6    8.21787e-6    0.00012804\n",
       "  5.59391e-70  1.0       1.31983e-75  -2.37395e-73  -3.02984e-70\n",
       "  3.90302e-73  1.0       3.40811e-79  -1.10279e-76  -2.06884e-73\n",
       "  7.05801e-10  1.0      -2.00079e-9   -3.75839e-9   -2.21384e-8"
      ]
     },
     "metadata": {},
     "output_type": "display_data"
    },
    {
     "data": {
      "text/plain": [
       "5×5 Matrix{Float64}:\n",
       "  2.67689e-37  1.0       2.00483e-38   3.39549e-38  -2.27651e-37\n",
       "  9.49743e-8   1.00011  -3.29327e-6   -6.30937e-6   -9.83165e-5\n",
       "  1.47401e-72  1.0       3.47779e-78  -6.2554e-76   -7.98368e-73\n",
       "  7.7501e-76   1.0       6.76738e-82  -2.18978e-79  -4.10803e-76\n",
       " -3.94921e-10  1.0       1.11951e-9    2.10295e-9    1.23872e-8"
      ]
     },
     "metadata": {},
     "output_type": "display_data"
    },
    {
     "data": {
      "text/plain": [
       "5×5 Matrix{Float64}:\n",
       " -1.5017e-38   1.0       -1.12468e-39  -1.90483e-39   1.27709e-38\n",
       " -7.28536e-8   0.999917   2.52622e-6    4.83984e-6    7.54102e-5\n",
       "  3.88403e-75  1.0        9.16403e-81  -1.64831e-78  -2.10372e-75\n",
       "  1.53891e-78  1.0        1.34378e-84  -4.34818e-82  -8.15719e-79\n",
       "  2.20973e-10  1.0       -6.26409e-10  -1.17668e-9   -6.9311e-9"
      ]
     },
     "metadata": {},
     "output_type": "display_data"
    },
    {
     "data": {
      "text/plain": [
       "5×5 Matrix{Float64}:\n",
       "  8.42435e-40  1.0       6.30931e-41   1.06858e-40  -7.1643e-40\n",
       "  5.59227e-8   1.00006  -1.93914e-6   -3.71508e-6   -5.78894e-5\n",
       "  1.02345e-77  1.0       2.41474e-83  -4.34333e-81  -5.54333e-78\n",
       "  3.05577e-81  1.0       2.6683e-87   -8.63404e-85  -1.61975e-81\n",
       " -1.23642e-10  1.0       3.50499e-10   6.58395e-10   3.8782e-9"
      ]
     },
     "metadata": {},
     "output_type": "display_data"
    },
    {
     "data": {
      "text/plain": [
       "5×5 Matrix{Float64}:\n",
       " -4.72595e-41  1.0       -3.53944e-42  -5.99461e-42   4.01908e-41\n",
       " -4.29043e-8   0.999951   1.48772e-6    2.85024e-6    4.44107e-5\n",
       "  2.69681e-80  1.0        6.36288e-86  -1.14448e-83  -1.46068e-80\n",
       "  6.06776e-84  1.0        5.29835e-90  -1.71443e-87  -3.21629e-84\n",
       "  6.91824e-11  1.0       -1.96117e-10  -3.68396e-10  -2.17e-9"
      ]
     },
     "metadata": {},
     "output_type": "display_data"
    },
    {
     "data": {
      "text/plain": [
       "5×5 Matrix{Float64}:\n",
       "  2.65119e-42  1.0       1.98558e-43   3.3629e-43   -2.25465e-42\n",
       "  3.29296e-8   1.00004  -1.14185e-6   -2.18759e-6   -3.40872e-5\n",
       "  7.10615e-83  1.0       1.67663e-88  -3.01571e-86  -3.84891e-83\n",
       "  1.20486e-86  1.0       1.05208e-92  -3.4043e-90   -6.38648e-87\n",
       " -3.87101e-11  1.0       1.09735e-10   2.06131e-10   1.21419e-9"
      ]
     },
     "metadata": {},
     "output_type": "display_data"
    },
    {
     "data": {
      "text/plain": [
       "5×5 Matrix{Float64}:\n",
       " -1.48728e-43  1.0       -1.11388e-44  -1.88654e-44   1.26483e-43\n",
       " -2.52662e-8   0.999971   8.76114e-7    1.67849e-6    2.61535e-5\n",
       "  1.87248e-85  1.0        4.41796e-91  -7.94646e-89  -1.0142e-85\n",
       "  2.39244e-89  1.0        2.08908e-95  -6.75981e-93  -1.26814e-89\n",
       "  2.16597e-11  1.0       -6.14005e-11  -1.15338e-10  -6.79385e-10"
      ]
     },
     "metadata": {},
     "output_type": "display_data"
    },
    {
     "data": {
      "text/plain": [
       "5×5 Matrix{Float64}:\n",
       "  8.34347e-45  1.0       6.24873e-46   1.05832e-45  -7.09552e-45\n",
       "  1.93907e-8   1.00002  -6.7238e-7    -1.28817e-6   -2.00722e-5\n",
       "  4.93403e-88  1.0       1.16414e-93  -2.09391e-91  -2.67243e-88\n",
       "  4.7506e-92   1.0       4.14822e-98  -1.34227e-95  -2.51811e-92\n",
       " -1.21194e-11  1.0       3.43558e-11   6.45357e-11   3.8014e-10"
      ]
     },
     "metadata": {},
     "output_type": "display_data"
    },
    {
     "data": {
      "text/plain": [
       "5×5 Matrix{Float64}:\n",
       " -4.68058e-46  1.0       -3.50546e-47   -5.93706e-47   3.98049e-46\n",
       " -1.48789e-8   0.999983   5.15931e-7     9.8844e-7     1.54015e-5\n",
       "  1.30013e-90  1.0        3.06753e-96   -5.51749e-94  -7.04189e-91\n",
       "  9.43312e-95  1.0        8.23699e-101  -2.66531e-98  -5.00014e-95\n",
       "  6.78124e-12  1.0       -1.92233e-11   -3.61101e-11  -2.12702e-10"
      ]
     },
     "metadata": {},
     "output_type": "display_data"
    },
    {
     "data": {
      "text/plain": [
       "5×5 Matrix{Float64}:\n",
       "  2.62574e-47  1.0       1.96651e-48    3.33061e-48   -2.233e-47\n",
       "  1.14184e-8   1.00001  -3.95939e-7    -7.58554e-7    -1.18197e-5\n",
       "  3.42586e-93  1.0       8.083e-99     -1.45387e-96   -1.85555e-93\n",
       "  1.87311e-97  1.0       1.63559e-103  -5.29243e-101  -9.92862e-98\n",
       " -3.79435e-12  1.0       1.07562e-11    2.02049e-11    1.19015e-10"
      ]
     },
     "metadata": {},
     "output_type": "display_data"
    },
    {
     "data": {
      "text/plain": [
       "5×5 Matrix{Float64}:\n",
       " -1.47301e-48   1.0      -1.10319e-49   -1.86843e-49   1.25269e-48\n",
       " -8.76188e-9    0.99999   3.03821e-7     5.82073e-7    9.06969e-6\n",
       "  9.0272e-96    1.0       2.12989e-101  -3.83097e-99  -4.88942e-96\n",
       "  3.71937e-100  1.0       3.24775e-106  -1.0509e-103  -1.9715e-100\n",
       "  2.12308e-12   1.0      -6.01846e-12   -1.13054e-11  -6.65931e-11"
      ]
     },
     "metadata": {},
     "output_type": "display_data"
    },
    {
     "data": {
      "text/plain": [
       "5×5 Matrix{Float64}:\n",
       "  8.26337e-50   1.0       6.18874e-51    1.04816e-50   -7.0274e-50\n",
       "  6.72393e-9    1.00001  -2.33155e-7    -4.46687e-7    -6.9602e-6\n",
       "  2.37868e-98   1.0       5.61229e-104  -1.00947e-101  -1.28837e-98\n",
       "  7.38544e-103  1.0       6.44895e-109  -2.08674e-106  -3.91474e-103\n",
       " -1.18794e-12   1.0       3.36755e-12    6.32578e-12    3.72613e-11"
      ]
     },
     "metadata": {},
     "output_type": "display_data"
    },
    {
     "data": {
      "text/plain": [
       "5×5 Matrix{Float64}:\n",
       " -4.63564e-51   1.0       -3.4718e-52    -5.88006e-52    3.94228e-51\n",
       " -5.15967e-9    0.999994   1.78913e-7     3.42769e-7     5.34094e-6\n",
       "  6.26788e-101  1.0        1.47885e-106  -2.65997e-104  -3.39488e-101\n",
       "  1.4665e-105   1.0        1.28055e-111  -4.14358e-109  -7.77337e-106\n",
       "  6.64696e-13   1.0       -1.88427e-12   -3.5395e-12    -2.0849e-11"
      ]
     },
     "metadata": {},
     "output_type": "display_data"
    },
    {
     "data": {
      "text/plain": [
       "5×5 Matrix{Float64}:\n",
       "  2.60053e-52   1.0   1.94764e-53    3.29863e-53   -2.21157e-52\n",
       "  3.95951e-9    1.0  -1.37297e-7    -2.63039e-7    -4.09863e-6\n",
       "  1.6516e-103   1.0   3.8968e-109   -7.00906e-107  -8.94557e-104\n",
       "  2.91199e-108  1.0   2.54274e-114  -8.22778e-112  -1.54353e-108\n",
       " -3.71921e-13   1.0   1.05432e-12    1.98048e-12    1.16658e-11"
      ]
     },
     "metadata": {},
     "output_type": "display_data"
    },
    {
     "data": {
      "text/plain": [
       "5×5 Matrix{Float64}:\n",
       " -1.45886e-53   1.0       -1.0926e-54    -1.85049e-54    1.24066e-53\n",
       " -3.0384e-9     0.999997   1.05358e-7     2.01848e-7     3.14515e-6\n",
       "  4.35199e-106  1.0        1.02681e-111  -1.8469e-109   -2.35718e-106\n",
       "  5.78225e-111  1.0        5.04905e-117  -1.63376e-114  -3.06495e-111\n",
       "  2.08104e-13   1.0       -5.89928e-13   -1.10815e-12   -6.52744e-12"
      ]
     },
     "metadata": {},
     "output_type": "display_data"
    },
    {
     "data": {
      "text/plain": [
       "5×5 Matrix{Float64}:\n",
       "  8.18403e-55   1.0   6.12933e-56    1.0381e-55    -6.95993e-55\n",
       "  2.33163e-9    1.0  -8.08502e-8    -1.54896e-7    -2.41356e-6\n",
       "  1.14676e-108  1.0   2.70567e-114  -4.86662e-112  -6.2112e-109\n",
       "  1.14816e-113  1.0   1.00257e-119  -3.24412e-117  -6.08597e-114\n",
       " -1.16442e-13   1.0   3.30086e-13    6.20051e-13    3.65234e-12"
      ]
     },
     "metadata": {},
     "output_type": "display_data"
    },
    {
     "data": {
      "text/plain": [
       "5×5 Matrix{Float64}:\n",
       " -4.59113e-56   1.0       -3.43847e-57   -5.8236e-57     3.90443e-56\n",
       " -1.78923e-9    0.999998   6.20422e-8     1.18863e-7     1.85209e-6\n",
       "  3.02173e-111  1.0        7.1295e-117   -1.28236e-114  -1.63666e-111\n",
       "  2.27987e-116  1.0        1.99078e-122  -6.44174e-120  -1.20847e-116\n",
       "  6.51533e-14   1.0       -1.84695e-13   -3.46941e-13   -2.04362e-12"
      ]
     },
     "metadata": {},
     "output_type": "display_data"
    },
    {
     "data": {
      "text/plain": [
       "5×5 Matrix{Float64}:\n",
       "  2.57557e-57   1.0   1.92894e-58    3.26696e-58   -2.19033e-57\n",
       "  1.37303e-9    1.0  -4.76103e-8    -9.12137e-8    -1.42127e-6\n",
       "  7.96231e-114  1.0   1.87864e-119  -3.37905e-117  -4.31264e-114\n",
       "  4.52707e-119  1.0   3.95303e-125  -1.27912e-122  -2.39963e-119\n",
       " -3.64556e-14   1.0   1.03344e-13    1.94126e-13    1.14348e-12"
      ]
     },
     "metadata": {},
     "output_type": "display_data"
    },
    {
     "data": {
      "text/plain": [
       "5×5 Matrix{Float64}:\n",
       " -1.44486e-58   1.0       -1.08211e-59   -1.83272e-59    1.22875e-58\n",
       " -1.05363e-9    0.999999   3.6535e-8      6.99951e-8     1.09065e-6\n",
       "  2.09808e-116  1.0        4.95024e-122  -8.90387e-120  -1.13639e-116\n",
       "  8.98926e-122  1.0        7.84941e-128  -2.5399e-125   -4.76486e-122\n",
       "  2.03983e-14   1.0       -5.78246e-14   -1.08621e-13   -6.39818e-13"
      ]
     },
     "metadata": {},
     "output_type": "display_data"
    },
    {
     "data": {
      "text/plain": [
       "5×5 Matrix{Float64}:\n",
       "  8.10546e-60   1.0   6.07048e-61    1.02813e-60   -6.89311e-60\n",
       "  8.08538e-10   1.0  -2.80363e-8    -5.37131e-8    -8.36946e-7\n",
       "  5.52849e-119  1.0   1.3044e-124   -2.34619e-122  -2.99441e-119\n",
       "  1.78497e-124  1.0   1.55863e-130  -5.0434e-128   -9.46144e-125\n",
       " -1.14136e-14   1.0   3.2355e-14     6.07773e-14    3.58002e-13"
      ]
     },
     "metadata": {},
     "output_type": "display_data"
    },
    {
     "data": {
      "text/plain": [
       "5×5 Matrix{Float64}:\n",
       " -4.54706e-61   1.0       -3.40546e-62   -5.76769e-62    3.86694e-61\n",
       " -6.20454e-10   0.999999   2.15145e-8     4.12182e-8     6.42253e-7\n",
       "  1.45677e-121  1.0        3.43711e-127  -6.18225e-125  -7.89032e-122\n",
       "  3.54436e-127  1.0        3.09493e-133  -1.00145e-130  -1.87873e-127\n",
       "  6.38631e-15   1.0       -1.81038e-14   -3.40071e-14   -2.00315e-13"
      ]
     },
     "metadata": {},
     "output_type": "display_data"
    },
    {
     "data": {
      "text/plain": [
       "5×5 Matrix{Float64}:\n",
       "  2.55084e-62   1.0   1.91042e-63    3.2356e-63    -2.1693e-62\n",
       "  4.76125e-10   1.0  -1.65098e-8    -3.16301e-8    -4.92854e-7\n",
       "  3.83861e-124  1.0   9.05686e-130  -1.62903e-127  -2.07911e-124\n",
       "  7.03793e-130  1.0   6.1455e-136   -1.98855e-133  -3.73054e-130\n",
       " -3.57337e-15   1.0   1.01297e-14    1.90282e-14    1.12083e-13"
      ]
     },
     "metadata": {},
     "output_type": "display_data"
    },
    {
     "data": {
      "text/plain": [
       "5×5 Matrix{Float64}:\n",
       " -1.43099e-63   1.0  -1.07172e-64   -1.81513e-64    1.21695e-63\n",
       " -3.65368e-10   1.0   1.26693e-8     2.42723e-8     3.78205e-7\n",
       "  1.01148e-126  1.0   2.3865e-132   -4.29254e-130  -5.4785e-127\n",
       "  1.3975e-132   1.0   1.22029e-138  -3.94861e-136  -7.40761e-133\n",
       "  1.99943e-15   1.0  -5.66795e-15   -1.0647e-14    -6.27148e-14"
      ]
     },
     "metadata": {},
     "output_type": "display_data"
    },
    {
     "data": {
      "text/plain": [
       "5×5 Matrix{Float64}:\n",
       "  8.02764e-65   1.0   6.0122e-66     1.01826e-65   -6.82693e-65\n",
       "  2.80376e-10   1.0  -9.72215e-9    -1.86261e-8    -2.90228e-7\n",
       "  2.66527e-129  1.0   6.28847e-135  -1.13109e-132  -1.4436e-129\n",
       "  2.77497e-135  1.0   2.4231e-141   -7.84063e-139  -1.47091e-135\n",
       " -1.11876e-15   1.0   3.17143e-15    5.95737e-15    3.50912e-14"
      ]
     },
     "metadata": {},
     "output_type": "display_data"
    },
    {
     "data": {
      "text/plain": [
       "5×5 Matrix{Float64}:\n",
       " -4.5034e-66    1.0  -3.37276e-67   -5.71232e-67    3.82982e-66\n",
       " -2.15155e-10   1.0   7.46057e-9     1.42933e-8     2.22714e-7\n",
       "  7.02304e-132  1.0   1.65702e-137  -2.98045e-135  -3.8039e-132\n",
       "  5.51017e-138  1.0   4.81147e-144  -1.55689e-141  -2.92073e-138\n",
       "  6.25985e-16   1.0  -1.77453e-15   -3.33337e-15   -1.96348e-14"
      ]
     },
     "metadata": {},
     "output_type": "display_data"
    },
    {
     "data": {
      "text/plain": [
       "5×5 Matrix{Float64}:\n",
       "  2.52635e-67   1.0   1.89208e-68    3.20454e-68   -2.14848e-67\n",
       "  1.65106e-10   1.0  -5.7251e-9     -1.09684e-8    -1.70907e-7\n",
       "  1.85059e-134  1.0   4.36629e-140  -7.85353e-138  -1.00234e-134\n",
       "  1.09414e-140  1.0   9.55399e-147  -3.09147e-144  -5.79961e-141\n",
       " -3.50261e-16   1.0   9.92914e-16    1.86514e-15    1.09864e-14"
      ]
     },
     "metadata": {},
     "output_type": "display_data"
    },
    {
     "data": {
      "text/plain": [
       "5×5 Matrix{Float64}:\n",
       " -1.41725e-68   1.0  -1.06143e-69   -1.7977e-69     1.20527e-68\n",
       " -1.26699e-10   1.0   4.39332e-9     8.4169e-9      1.3115e-7\n",
       "  4.87633e-137  1.0   1.15053e-142  -2.06942e-140  -2.64117e-137\n",
       "  2.1726e-143   1.0   1.89711e-149  -6.13863e-147  -1.15161e-143\n",
       "  1.95984e-16   1.0  -5.55571e-16   -1.04361e-15   -6.14729e-15"
      ]
     },
     "metadata": {},
     "output_type": "display_data"
    },
    {
     "data": {
      "text/plain": [
       "5×5 Matrix{Float64}:\n",
       "  7.95057e-70   1.0   5.95448e-71    1.00849e-70   -6.76139e-70\n",
       "  9.72261e-11   1.0  -3.37135e-9    -6.45896e-9    -1.00642e-7\n",
       "  1.28492e-139  1.0   3.03166e-145  -5.45296e-143  -6.95954e-140\n",
       "  4.31406e-146  1.0   3.76703e-152  -1.21893e-149  -2.28672e-146\n",
       " -1.0966e-16    1.0   3.10862e-16    5.8394e-16     3.43963e-15"
      ]
     },
     "metadata": {},
     "output_type": "display_data"
    },
    {
     "data": {
      "text/plain": [
       "5×5 Matrix{Float64}:\n",
       " -4.46017e-71   1.0  -3.34038e-72   -5.65748e-72    3.79305e-71\n",
       " -7.46093e-11   1.0   2.5871e-9      4.95647e-9     7.72307e-8\n",
       "  3.38579e-142  1.0   7.98848e-148  -1.43687e-145  -1.83385e-142\n",
       "  8.56629e-149  1.0   7.48007e-155  -2.42039e-152  -4.54066e-149\n",
       "  6.13588e-17   1.0  -1.73939e-16   -3.26736e-16   -1.9246e-15"
      ]
     },
     "metadata": {},
     "output_type": "display_data"
    },
    {
     "data": {
      "text/plain": [
       "5×5 Matrix{Float64}:\n",
       "  2.50209e-72   1.0   1.87391e-73    3.17377e-73   -2.12785e-72\n",
       "  5.72537e-11   1.0  -1.98529e-9    -3.8035e-9     -5.92653e-8\n",
       "  8.92163e-145  1.0   2.10498e-150  -3.78617e-148  -4.83224e-145\n",
       "  1.70098e-151  1.0   1.48529e-157  -4.80609e-155  -9.01625e-152\n",
       " -3.43325e-17   1.0   9.73251e-17    1.82821e-16    1.07688e-15"
      ]
     },
     "metadata": {},
     "output_type": "display_data"
    },
    {
     "data": {
      "text/plain": [
       "5×5 Matrix{Float64}:\n",
       " -1.40364e-73   1.0  -1.05124e-74   -1.78044e-74    1.1937e-73\n",
       " -4.39353e-11   1.0   1.52347e-9     2.91873e-9     4.5479e-8\n",
       "  2.35087e-147  1.0   5.54666e-153  -9.97663e-151  -1.2733e-147\n",
       "  3.37759e-154  1.0   2.9493e-160   -9.54331e-158  -1.79033e-154\n",
       "  1.92103e-17   1.0  -5.4457e-17    -1.02295e-16   -6.02556e-16"
      ]
     },
     "metadata": {},
     "output_type": "display_data"
    },
    {
     "data": {
      "text/plain": [
       "5×5 Matrix{Float64}:\n",
       "  7.87424e-75   1.0   5.89731e-76    9.98805e-76   -6.69648e-75\n",
       "  3.37151e-11   1.0  -1.16908e-9    -2.23977e-9    -3.48997e-8\n",
       "  6.19458e-150  1.0   1.46156e-155  -2.62886e-153  -3.35518e-150\n",
       "  6.70677e-157  1.0   5.85634e-163  -1.89499e-160  -3.555e-157\n",
       " -1.07489e-17   1.0   3.04707e-17    5.72377e-17    3.37152e-16"
      ]
     },
     "metadata": {},
     "output_type": "display_data"
    },
    {
     "data": {
      "text/plain": [
       "5×5 Matrix{Float64}:\n",
       " -4.41735e-76   1.0  -3.30831e-77   -5.60316e-77    3.75663e-76\n",
       " -2.58723e-11   1.0   8.9713e-10     1.71876e-9     2.67813e-8\n",
       "  1.63228e-152  1.0   3.85123e-158  -6.9271e-156   -8.84096e-153\n",
       "  1.33174e-159  1.0   1.16287e-165  -3.76282e-163  -7.05906e-160\n",
       "  6.01438e-18   1.0  -1.70494e-17   -3.20266e-17   -1.88649e-16"
      ]
     },
     "metadata": {},
     "output_type": "display_data"
    },
    {
     "data": {
      "text/plain": [
       "5×5 Matrix{Float64}:\n",
       "  2.47807e-77  1.0   1.85592e-78    3.1433e-78    -2.10742e-77\n",
       "  1.98539e-11  1.0  -6.8844e-10    -1.31894e-9    -2.05514e-8\n",
       "  4.3011e-155  1.0   1.01481e-160  -1.8253e-158   -2.32961e-155\n",
       "  2.6444e-162  1.0   2.30908e-168  -7.47171e-166  -1.40169e-162\n",
       " -3.36526e-18  1.0   9.53979e-18    1.792e-17      1.05556e-16"
      ]
     },
     "metadata": {},
     "output_type": "display_data"
    },
    {
     "data": {
      "text/plain": [
       "5×5 Matrix{Float64}:\n",
       " -1.39017e-78   1.0  -1.04115e-79   -1.76335e-79    1.18224e-78\n",
       " -1.52355e-11   1.0   5.28295e-10    1.01213e-9     1.57708e-8\n",
       "  1.13335e-157  1.0   2.67403e-163  -4.80971e-161  -6.13857e-158\n",
       "  5.2509e-165   1.0   4.58508e-171  -1.48363e-168  -2.7833e-165\n",
       "  1.88299e-18   1.0  -5.33786e-18   -1.00269e-17   -5.90624e-17"
      ]
     },
     "metadata": {},
     "output_type": "display_data"
    },
    {
     "data": {
      "text/plain": [
       "5×5 Matrix{Float64}:\n",
       "  7.79865e-80   1.0   5.8407e-81     9.89216e-81   -6.63219e-80\n",
       "  1.16914e-11   1.0  -4.05403e-10   -7.76686e-10   -1.21022e-8\n",
       "  2.98639e-160  1.0   7.04612e-166  -1.26737e-163  -1.61752e-160\n",
       "  1.04266e-167  1.0   9.10445e-174  -2.946e-171    -5.52672e-168\n",
       " -1.0536e-18    1.0   2.98673e-18    5.61042e-18    3.30475e-17"
      ]
     },
     "metadata": {},
     "output_type": "display_data"
    },
    {
     "data": {
      "text/plain": [
       "5×5 Matrix{Float64}:\n",
       " -4.37494e-81   1.0  -3.27655e-82   -5.54937e-82    3.72057e-81\n",
       " -8.97173e-12   1.0   3.11098e-10    5.96014e-10    9.28696e-9\n",
       "  7.8692e-163   1.0   1.85667e-168  -3.33954e-166  -4.26221e-163\n",
       "  2.07037e-170  1.0   1.80784e-176  -5.84979e-174  -1.09742e-170\n",
       "  5.89528e-19   1.0  -1.67118e-18   -3.13924e-18   -1.84913e-17"
      ]
     },
     "metadata": {},
     "output_type": "display_data"
    },
    {
     "data": {
      "text/plain": [
       "5×5 Matrix{Float64}:\n",
       "  2.45428e-82   1.0   1.8381e-83     3.11312e-83   -2.08719e-82\n",
       "  6.88473e-12   1.0  -2.3873e-10    -4.57369e-10   -7.12662e-9\n",
       "  2.07355e-165  1.0   4.89235e-171  -8.79975e-169  -1.1231e-165\n",
       "  4.11107e-173  1.0   3.58978e-179  -1.16157e-176  -2.17912e-173\n",
       " -3.29862e-19   1.0   9.35087e-19    1.75652e-18    1.03466e-17"
      ]
     },
     "metadata": {},
     "output_type": "display_data"
    },
    {
     "data": {
      "text/plain": [
       "5×5 Matrix{Float64}:\n",
       " -1.37682e-83   1.0  -1.03115e-84   -1.74642e-84    1.17089e-83\n",
       " -5.2832e-12    1.0   1.83197e-10    3.50976e-10    5.46883e-9\n",
       "  5.46384e-168  1.0   1.28914e-173  -2.31875e-171  -2.95939e-168\n",
       "  8.16322e-176  1.0   7.12811e-182  -2.3065e-179   -4.32701e-176\n",
       "  1.8457e-19    1.0  -5.23216e-19   -9.82835e-19   -5.78928e-18"
      ]
     },
     "metadata": {},
     "output_type": "display_data"
    },
    {
     "data": {
      "text/plain": [
       "5×5 Matrix{Float64}:\n",
       "  7.72377e-85   1.0   5.78462e-86    9.79719e-86   -6.56851e-85\n",
       "  4.05422e-12   1.0  -1.40582e-10   -2.69332e-10   -4.19667e-9\n",
       "  1.43973e-170  1.0   3.39692e-176  -6.10995e-174  -7.79805e-171\n",
       "  1.62094e-178  1.0   1.41541e-184  -4.57995e-182  -8.59201e-179\n",
       " -1.03274e-19   1.0   2.92758e-19    5.49932e-19    3.23931e-18"
      ]
     },
     "metadata": {},
     "output_type": "display_data"
    },
    {
     "data": {
      "text/plain": [
       "5×5 Matrix{Float64}:\n",
       " -4.33293e-86   1.0  -3.2451e-87    -5.49609e-87    3.68485e-86\n",
       " -3.11113e-12   1.0   1.07879e-10    2.0668e-10     3.22044e-9\n",
       "  3.79372e-173  1.0   8.95095e-179  -1.60998e-176  -2.0548e-173\n",
       "  3.21866e-181  1.0   2.81053e-187  -9.09427e-185  -1.70609e-181\n",
       "  5.77854e-20   1.0  -1.63809e-19   -3.07707e-19   -1.81251e-18"
      ]
     },
     "metadata": {},
     "output_type": "display_data"
    },
    {
     "data": {
      "text/plain": [
       "5×5 Matrix{Float64}:\n",
       "  2.43072e-87   1.0   1.82046e-88    3.08323e-88   -2.06715e-87\n",
       "  2.38742e-12   1.0  -8.27845e-11   -1.58602e-10   -2.4713e-9\n",
       "  9.99653e-176  1.0   2.35859e-181  -4.24234e-179  -5.41444e-176\n",
       "  6.39119e-184  1.0   5.58078e-190  -1.80582e-187  -3.38773e-184\n",
       " -3.2333e-20    1.0   9.1657e-20     1.72173e-19    1.01417e-18"
      ]
     },
     "metadata": {},
     "output_type": "display_data"
    },
    {
     "data": {
      "text/plain": [
       "5×5 Matrix{Float64}:\n",
       " -1.3636e-88    1.0  -1.02125e-89   -1.72965e-89    1.15964e-88\n",
       " -1.83206e-12   1.0   6.35272e-11    1.21708e-10    1.89643e-9\n",
       "  2.6341e-178   1.0   6.21493e-184  -1.11786e-181  -1.42671e-178\n",
       "  1.26908e-186  1.0   1.10816e-192  -3.58576e-190  -6.7269e-187\n",
       "  1.80915e-20   1.0  -5.12855e-20   -9.63372e-20   -5.67464e-19"
      ]
     },
     "metadata": {},
     "output_type": "display_data"
    },
    {
     "data": {
      "text/plain": [
       "5×5 Matrix{Float64}:\n",
       "  7.64962e-90   1.0   5.72908e-91    9.70313e-91   -6.50545e-90\n",
       "  1.40588e-12   1.0  -4.87495e-11   -9.33961e-11   -1.45528e-9\n",
       "  6.94091e-181  1.0   1.63765e-186  -2.94559e-184  -3.75942e-181\n",
       "  2.51997e-189  1.0   2.20043e-195  -7.12014e-193  -1.33574e-189\n",
       " -1.01229e-20   1.0   2.86961e-20    5.39042e-20    3.17517e-19"
      ]
     },
     "metadata": {},
     "output_type": "display_data"
    },
    {
     "data": {
      "text/plain": [
       "5×5 Matrix{Float64}:\n",
       " -4.29134e-91   1.0  -3.21394e-92   -5.44333e-92    3.64947e-91\n",
       " -1.07885e-12   1.0   3.74094e-11    7.16703e-11    1.11675e-9\n",
       "  1.82894e-183  1.0   4.31523e-189  -7.76169e-187  -9.90614e-184\n",
       "  5.00383e-192  1.0   4.36934e-198  -1.41382e-195  -2.65234e-192\n",
       "  5.66411e-21   1.0  -1.60565e-20   -3.01614e-20   -1.77662e-19"
      ]
     },
     "metadata": {},
     "output_type": "display_data"
    },
    {
     "data": {
      "text/plain": [
       "5×5 Matrix{Float64}:\n",
       "  2.40738e-92   1.0   1.80298e-93    3.05363e-93   -2.04731e-92\n",
       "  8.27885e-13   1.0  -2.87072e-11   -5.49984e-11   -8.56973e-10\n",
       "  4.8193e-186   1.0   1.13707e-191  -2.04522e-189  -2.61029e-186\n",
       "  9.93595e-195  1.0   8.67605e-201  -2.80739e-198  -5.26667e-195\n",
       " -3.16928e-21   1.0   8.9842e-21     1.68764e-20    9.94084e-20"
      ]
     },
     "metadata": {},
     "output_type": "display_data"
    },
    {
     "data": {
      "text/plain": [
       "5×5 Matrix{Float64}:\n",
       " -1.35051e-93   1.0  -1.01145e-94   -1.71305e-94    1.14851e-93\n",
       " -6.35302e-13   1.0   2.20293e-11    4.22046e-11    6.57624e-10\n",
       "  1.2699e-188   1.0   2.99621e-194  -5.38919e-192  -6.87816e-189\n",
       "  1.97295e-197  1.0   1.72278e-203  -5.57454e-201  -1.04579e-197\n",
       "  1.77333e-21   1.0  -5.02699e-21   -9.44295e-21   -5.56226e-20"
      ]
     },
     "metadata": {},
     "output_type": "display_data"
    },
    {
     "data": {
      "text/plain": [
       "5×5 Matrix{Float64}:\n",
       "  7.57618e-95   1.0   5.67408e-96    9.60997e-96   -6.44299e-95\n",
       "  4.87518e-13   1.0  -1.69049e-11   -3.2387e-11    -5.04647e-10\n",
       "  3.3462e-191   1.0   7.89506e-197  -1.42006e-194  -1.81241e-191\n",
       "  3.91763e-200  1.0   3.42086e-206  -1.10692e-203  -2.07658e-200\n",
       " -9.9224e-22    1.0   2.81278e-21    5.28368e-21    3.11229e-20"
      ]
     },
     "metadata": {},
     "output_type": "display_data"
    },
    {
     "data": {
      "text/plain": [
       "5×5 Matrix{Float64}:\n",
       " -4.25014e-96   1.0  -3.18308e-97   -5.39107e-97    3.61443e-96\n",
       " -3.74111e-13   1.0   1.29724e-11    2.48531e-11    3.87256e-10\n",
       "  8.8173e-194   1.0   2.08036e-199  -3.74189e-197  -4.77573e-194\n",
       "  7.77911e-203  1.0   6.79271e-209  -2.19797e-206  -4.12341e-203\n",
       "  5.55194e-22   1.0  -1.57385e-21   -2.95641e-21   -1.74144e-20"
      ]
     },
     "metadata": {},
     "output_type": "display_data"
    },
    {
     "data": {
      "text/plain": [
       "5×5 Matrix{Float64}:\n",
       "  2.38427e-97   1.0   1.78567e-98    3.02432e-98   -2.02765e-97\n",
       "  2.87086e-13   1.0  -9.9548e-12    -1.90718e-11   -2.97172e-10\n",
       "  2.32337e-196  1.0   5.4818e-202   -9.85996e-200  -1.25841e-196\n",
       "  1.54467e-205  1.0   1.34881e-211  -4.36445e-209  -8.18773e-206\n",
       " -3.10652e-22   1.0   8.80629e-22    1.65422e-21    9.74399e-21"
      ]
     },
     "metadata": {},
     "output_type": "display_data"
    },
    {
     "data": {
      "text/plain": [
       "5×5 Matrix{Float64}:\n",
       " -1.33754e-98   1.0  -1.00174e-99   -1.6966e-99     1.13748e-98\n",
       " -2.20304e-13   1.0   7.63911e-12    1.46353e-11    2.28044e-10\n",
       "  6.12214e-199  1.0   1.44446e-204  -2.59812e-202  -3.31594e-199\n",
       "  3.06721e-208  1.0   2.67828e-214  -8.66635e-212  -1.62581e-208\n",
       "  1.73821e-22   1.0  -4.92744e-22   -9.25596e-22   -5.45212e-21"
      ]
     },
     "metadata": {},
     "output_type": "display_data"
    },
    {
     "data": {
      "text/plain": [
       "5×5 Matrix{Float64}:\n",
       "  7.50344e-100  1.0   5.61961e-101   9.51771e-101  -6.38114e-100\n",
       "  1.69057e-13   1.0  -5.8621e-12    -1.12308e-11   -1.74996e-10\n",
       "  1.61319e-201  1.0   3.80619e-207  -6.84609e-205  -8.73757e-202\n",
       "  6.09047e-211  1.0   5.31818e-217  -1.72085e-214  -3.22832e-211\n",
       " -9.72591e-23   1.0   2.75708e-22    5.17905e-22    3.05066e-21"
      ]
     },
     "metadata": {},
     "output_type": "display_data"
    },
    {
     "data": {
      "text/plain": [
       "5×5 Matrix{Float64}:\n",
       " -4.20933e-101  1.0  -3.15253e-102  -5.33931e-102   3.57973e-101\n",
       " -1.29731e-13   1.0   4.49846e-12    8.61832e-12    1.34289e-10\n",
       "  4.2508e-204   1.0   1.00294e-209  -1.80396e-207  -2.30237e-204\n",
       "  1.20936e-213  1.0   1.05602e-219  -3.41704e-217  -6.41038e-214\n",
       "  5.442e-23     1.0  -1.54269e-22   -2.89787e-22   -1.70695e-21"
      ]
     },
     "metadata": {},
     "output_type": "display_data"
    },
    {
     "data": {
      "text/plain": [
       "5×5 Matrix{Float64}:\n",
       "  2.36138e-102  1.0   1.76852e-103   2.99528e-103  -2.00818e-102\n",
       "  9.95527e-14   1.0  -3.45203e-12   -6.61352e-12   -1.03051e-10\n",
       "  1.12009e-206  1.0   2.64276e-212  -4.75346e-210  -6.06678e-207\n",
       "  2.4014e-216   1.0   2.0969e-222   -6.78511e-220  -1.27289e-216\n",
       " -3.045e-23     1.0   8.6319e-23     1.62146e-22    9.55103e-22"
      ]
     },
     "metadata": {},
     "output_type": "display_data"
    },
    {
     "data": {
      "text/plain": [
       "5×5 Matrix{Float64}:\n",
       " -1.3247e-103   1.0  -9.92119e-105  -1.68031e-104   1.12656e-103\n",
       " -7.63947e-14   1.0   2.64901e-12    5.07508e-12    7.90789e-11\n",
       "  2.95147e-209  1.0   6.96372e-215  -1.25255e-212  -1.59861e-209\n",
       "  4.76838e-219  1.0   4.16374e-225  -1.3473e-222   -2.52754e-219\n",
       "  1.70379e-23   1.0  -4.82986e-23   -9.07267e-23   -5.34415e-22"
      ]
     },
     "metadata": {},
     "output_type": "display_data"
    },
    {
     "data": {
      "text/plain": [
       "5×5 Matrix{Float64}:\n",
       "  7.43141e-105  1.0   5.56566e-106   9.42633e-106  -6.31987e-105\n",
       "  5.86238e-14   1.0  -2.0328e-12    -3.89452e-12   -6.06835e-11\n",
       "  7.77717e-212  1.0   1.83495e-217  -3.30048e-215  -4.21236e-212\n",
       "  9.46843e-222  1.0   8.26782e-228  -2.67529e-225  -5.01885e-222\n",
       " -9.53331e-24   1.0   2.70249e-23    5.07649e-23    2.99025e-22"
      ]
     },
     "metadata": {},
     "output_type": "display_data"
    },
    {
     "data": {
      "text/plain": [
       "5×5 Matrix{Float64}:\n",
       " -4.16892e-106  1.0  -3.12226e-107  -5.28805e-107   3.54537e-106\n",
       " -4.49867e-14   1.0   1.55993e-12    2.98857e-12    4.65673e-11\n",
       "  2.0493e-214   1.0   4.83514e-220  -8.69684e-218  -1.10997e-214\n",
       "  1.88012e-224  1.0   1.64171e-230  -5.31224e-228  -9.96578e-225\n",
       "  5.33424e-24   1.0  -1.51214e-23   -2.84048e-23   -1.67315e-22"
      ]
     },
     "metadata": {},
     "output_type": "display_data"
    },
    {
     "data": {
      "text/plain": [
       "5×5 Matrix{Float64}:\n",
       "  2.33871e-107  1.0   1.75155e-108   2.96652e-108  -1.9889e-107\n",
       "  3.45219e-14   1.0  -1.19706e-12   -2.29337e-12   -3.57348e-11\n",
       "  5.39994e-217  1.0   1.27407e-222  -2.29163e-220  -2.92478e-217\n",
       "  3.73329e-227  1.0   3.2599e-233   -1.05483e-230  -1.97887e-227\n",
       " -2.9847e-24    1.0   8.46097e-24    1.58935e-23    9.3619e-23"
      ]
     },
     "metadata": {},
     "output_type": "display_data"
    },
    {
     "data": {
      "text/plain": [
       "5×5 Matrix{Float64}:\n",
       " -1.31198e-108  1.0  -9.82594e-110  -1.66418e-109   1.11575e-108\n",
       " -2.64914e-14   1.0   9.18599e-13    1.75989e-12    2.74222e-11\n",
       "  1.4229e-219   1.0   3.3572e-225   -6.0385e-223   -7.70685e-220\n",
       "  7.41308e-230  1.0   6.47309e-236  -2.09455e-233  -3.92939e-230\n",
       "  1.67005e-24   1.0  -4.73422e-24   -8.89301e-24   -5.23832e-23"
      ]
     },
     "metadata": {},
     "output_type": "display_data"
    },
    {
     "data": {
      "text/plain": [
       "5×5 Matrix{Float64}:\n",
       "  7.36006e-110  1.0   5.51222e-111   9.33583e-111  -6.2592e-110\n",
       "  2.0329e-14    1.0  -7.04914e-13   -1.3505e-12    -2.10432e-11\n",
       "  3.74936e-222  1.0   8.84627e-228  -1.59116e-225  -2.03077e-222\n",
       "  1.47199e-232  1.0   1.28534e-238  -4.15909e-236  -7.80247e-233\n",
       " -9.34453e-25   1.0   2.64897e-24    4.97596e-24    2.93103e-23"
      ]
     },
     "metadata": {},
     "output_type": "display_data"
    },
    {
     "data": {
      "text/plain": [
       "5×5 Matrix{Float64}:\n",
       " -4.1289e-111   1.0  -3.09228e-112  -5.23728e-112   3.51133e-111\n",
       " -1.56e-14      1.0   5.40937e-13    1.03635e-12    1.61482e-11\n",
       "  9.87963e-225  1.0   2.33101e-230  -4.19273e-228  -5.35112e-225\n",
       "  2.92289e-235  1.0   2.55226e-241  -8.25857e-239  -1.54931e-235\n",
       "  5.22861e-25   1.0  -1.4822e-24    -2.78423e-24   -1.64002e-23"
      ]
     },
     "metadata": {},
     "output_type": "display_data"
    },
    {
     "data": {
      "text/plain": [
       "5×5 Matrix{Float64}:\n",
       "  2.31626e-112  1.0   1.73473e-113   2.93804e-113  -1.96981e-112\n",
       "  1.19712e-14   1.0  -4.15104e-13   -7.95273e-13   -1.23918e-11\n",
       "  2.6033e-227   1.0   6.14226e-233  -1.10479e-230  -1.41003e-227\n",
       "  5.80389e-238  1.0   5.06795e-244  -1.63988e-241  -3.07642e-238\n",
       " -2.9256e-25    1.0   8.29342e-25    1.55788e-24    9.17651e-24"
      ]
     },
     "metadata": {},
     "output_type": "display_data"
    },
    {
     "data": {
      "text/plain": [
       "5×5 Matrix{Float64}:\n",
       " -1.29939e-113  1.0  -9.7316e-115   -1.6482e-114    1.10504e-113\n",
       " -9.18642e-15   1.0   3.18543e-13    6.10276e-13    9.50919e-12\n",
       "  6.85975e-230  1.0   1.6185e-235   -2.91115e-233  -3.71546e-230\n",
       "  1.15246e-240  1.0   1.00633e-246  -3.25626e-244  -6.10875e-241\n",
       "  1.63698e-25   1.0  -4.64047e-25   -8.7169e-25    -5.13459e-24"
      ]
     },
     "metadata": {},
     "output_type": "display_data"
    },
    {
     "data": {
      "text/plain": [
       "5×5 Matrix{Float64}:\n",
       "  7.2894e-115   1.0   5.4593e-116    9.2462e-116   -6.19911e-115\n",
       "  7.04948e-15   1.0  -2.44443e-13   -4.68314e-13   -7.29716e-12\n",
       "  1.80756e-232  1.0   4.26477e-238  -7.67092e-236  -9.7903e-233\n",
       "  2.2884e-243   1.0   1.99823e-249  -6.46585e-247  -1.213e-243\n",
       " -9.15949e-26   1.0   2.59651e-25    4.87742e-25    2.87299e-24"
      ]
     },
     "metadata": {},
     "output_type": "display_data"
    },
    {
     "data": {
      "text/plain": [
       "5×5 Matrix{Float64}:\n",
       " -4.08926e-116  1.0  -3.0626e-117   -5.187e-117    3.47762e-116\n",
       " -5.40963e-15   1.0   1.87581e-13    3.59374e-13   5.5997e-12\n",
       "  4.76294e-235  1.0   1.12377e-240  -2.0213e-238  -2.57976e-235\n",
       "  4.54401e-246  1.0   3.96783e-252  -1.2839e-249  -2.40861e-246\n",
       "  5.12507e-26   1.0  -1.45284e-25   -2.7291e-25   -1.60754e-24"
      ]
     },
     "metadata": {},
     "output_type": "display_data"
    },
    {
     "data": {
      "text/plain": [
       "5×5 Matrix{Float64}:\n",
       "  2.29402e-117  1.0   1.71808e-118   2.90984e-118  -1.9509e-117\n",
       "  4.15124e-15   1.0  -1.43946e-13   -2.75777e-13   -4.29709e-12\n",
       "  1.25504e-237  1.0   2.96117e-243  -5.32617e-241  -6.79772e-238\n",
       "  9.02291e-249  1.0   7.87879e-255  -2.54941e-252  -4.7827e-249\n",
       " -2.86766e-26   1.0   8.12919e-26    1.52703e-25    8.99479e-25"
      ]
     },
     "metadata": {},
     "output_type": "display_data"
    },
    {
     "data": {
      "text/plain": [
       "5×5 Matrix{Float64}:\n",
       " -1.28691e-118  1.0  -9.63817e-120  -1.63238e-119   1.09443e-118\n",
       " -3.18558e-15   1.0   1.10461e-13    2.11626e-13    3.2975e-12\n",
       "  3.30707e-240  1.0   7.80273e-246  -1.40346e-243  -1.79121e-240\n",
       "  1.79165e-251  1.0   1.56447e-257  -5.06228e-255  -9.49686e-252\n",
       "  1.60456e-26   1.0  -4.54858e-26   -8.54429e-26   -5.03291e-25"
      ]
     },
     "metadata": {},
     "output_type": "display_data"
    },
    {
     "data": {
      "text/plain": [
       "5×5 Matrix{Float64}:\n",
       "  7.21942e-120  1.0   5.40689e-121   9.15743e-121  -6.13959e-120\n",
       "  2.44455e-15   1.0  -8.47656e-14   -1.62397e-13   -2.53044e-12\n",
       "  8.71418e-243  1.0   2.05603e-248  -3.69813e-246  -4.71988e-243\n",
       "  3.55763e-254  1.0   3.10651e-260  -1.0052e-257   -1.88576e-254\n",
       " -8.97811e-27   1.0   2.5451e-26     4.78084e-26    2.8161e-25"
      ]
     },
     "metadata": {},
     "output_type": "display_data"
    },
    {
     "data": {
      "text/plain": [
       "5×5 Matrix{Float64}:\n",
       " -4.05e-121     1.0  -3.03319e-122  -5.1372e-122    3.44423e-121\n",
       " -1.8759e-15    1.0   6.50474e-14    1.2462e-13     1.94181e-12\n",
       "  2.2962e-245   1.0   5.41769e-251  -9.74465e-249  -1.2437e-245\n",
       "  7.06427e-257  1.0   6.16851e-263  -1.996e-260    -3.7445e-257\n",
       "  5.02358e-27   1.0  -1.42407e-26   -2.67505e-26   -1.57571e-25"
      ]
     },
     "metadata": {},
     "output_type": "display_data"
    },
    {
     "data": {
      "text/plain": [
       "5×5 Matrix{Float64}:\n",
       "  2.27199e-122  1.0   1.70158e-123   2.8819e-123   -1.93217e-122\n",
       "  1.43953e-15   1.0  -4.99161e-14   -9.56311e-14   -1.4901e-12\n",
       "  6.05054e-248  1.0   1.42757e-253  -2.56773e-251  -3.27717e-248\n",
       "  1.40273e-259  1.0   1.22486e-265  -3.96339e-263  -7.43533e-260\n",
       " -2.81087e-27   1.0   7.96821e-27    1.49679e-26    8.81667e-26"
      ]
     },
     "metadata": {},
     "output_type": "display_data"
    },
    {
     "data": {
      "text/plain": [
       "5×5 Matrix{Float64}:\n",
       " -1.27456e-123  1.0  -9.54564e-125  -1.61671e-124   1.08392e-123\n",
       " -1.10466e-15   1.0   3.83046e-14    7.33854e-14    1.14348e-12\n",
       "  1.59433e-250  1.0   3.76168e-256  -6.76603e-254  -8.63539e-251\n",
       "  2.78536e-262  1.0   2.43217e-268  -7.86998e-266  -1.47641e-262\n",
       "  1.57279e-27   1.0  -4.45851e-27   -8.37509e-27   -4.93325e-26"
      ]
     },
     "metadata": {},
     "output_type": "display_data"
    }
   ],
   "source": [
    "for iteration in 1:100\n",
    "    \n",
    "    display(T)\n",
    "    \n",
    "    # Assign delta\n",
    "    for i in 1:R \n",
    "        # for each resonance in slice 2 ...\n",
    "        for j in 1:R\n",
    "            # for each resonance in slice 1\n",
    "            delta[i,j] = ( S2start[i] - S1end[j]*T[i,j] ) / S2start[i]  # find the difference\n",
    "        end\n",
    "    end\n",
    "    \n",
    "    # Multiply T and Delta \n",
    "    for i in 1:R # for each row\n",
    "        for j in 1:R # for each column\n",
    "            T[i,j] *= delta[i,j] # multiple the values of \n",
    "        end\n",
    "    end\n",
    "    \n",
    "    # Normalise\n",
    "    for i in 1:R # for each row \n",
    "        total = sum(T[i,:]) # find total\n",
    "        for j in 1:R\n",
    "            T[i,j] = T[i,j]/total # divide each value in row by total\n",
    "        end\n",
    "    end \n",
    "end"
   ]
  }
 ],
 "metadata": {
  "kernelspec": {
   "display_name": "Julia 1.7.0",
   "language": "julia",
   "name": "julia-1.7"
  },
  "language_info": {
   "file_extension": ".jl",
   "mimetype": "application/julia",
   "name": "julia",
   "version": "1.7.2"
  }
 },
 "nbformat": 4,
 "nbformat_minor": 4
}
