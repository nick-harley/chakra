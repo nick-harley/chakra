{
 "cells": [
  {
   "cell_type": "code",
   "execution_count": 1,
   "metadata": {},
   "outputs": [
    {
     "name": "stderr",
     "output_type": "stream",
     "text": [
      "┌ Info: Precompiling Chakra [top-level]\n",
      "└ @ Base loading.jl:1423\n",
      "┌ Info: Precompiling Viewpoints [top-level]\n",
      "└ @ Base loading.jl:1423\n",
      "┌ Info: Precompiling PPM [top-level]\n",
      "└ @ Base loading.jl:1423\n",
      "WARNING: using DataFrames.combine in module PPM conflicts with an existing identifier.\n",
      "┌ Info: Precompiling Nova [top-level]\n",
      "└ @ Base loading.jl:1423\n"
     ]
    }
   ],
   "source": [
    "push!(LOAD_PATH,\".\")\n",
    "using CSV, DataFrames, Plots\n",
    "using Chakra, Viewpoints, PPM\n",
    "using Nova"
   ]
  },
  {
   "cell_type": "code",
   "execution_count": 2,
   "metadata": {},
   "outputs": [],
   "source": [
    "melodies = map(fn->string(\"nova/\",fn,\"/track1\"),readdir(\"nova\"))\n",
    "id_seqs = [obind(find(m,data),particles) for m in melodies]\n",
    "seqs = [Chakra.sequence(s,data) for s in id_seqs]\n",
    "pitch_view = [PPM.View(seq,vp(:pitch),vp(:pitch)) for seq in seqs];"
   ]
  },
  {
   "cell_type": "markdown",
   "metadata": {},
   "source": [
    "# Parameters"
   ]
  },
  {
   "cell_type": "code",
   "execution_count": 3,
   "metadata": {},
   "outputs": [
    {
     "data": {
      "text/plain": [
       "\"./idyom-data/STMA5.csv\""
      ]
     },
     "execution_count": 3,
     "metadata": {},
     "output_type": "execute_result"
    }
   ],
   "source": [
    "a = Set([54:77...,79,81])\n",
    "b = Backoff()\n",
    "e = A()\n",
    "u = true\n",
    "o = Bounded(5)\n",
    "#o = Unbounded();\n",
    "idyom_model = \"./idyom-data/STMA5.csv\""
   ]
  },
  {
   "cell_type": "markdown",
   "metadata": {},
   "source": [
    "# Compute Models"
   ]
  },
  {
   "cell_type": "code",
   "execution_count": 4,
   "metadata": {},
   "outputs": [
    {
     "name": "stdout",
     "output_type": "stream",
     "text": [
      "  1.676746 seconds (13.47 M allocations: 1.367 GiB, 15.96% gc time, 34.97% compilation time)\n"
     ]
    },
    {
     "data": {
      "text/plain": [
       "3.1252478390427516"
      ]
     },
     "execution_count": 4,
     "metadata": {},
     "output_type": "execute_result"
    }
   ],
   "source": [
    "@time pitch_stm = PPM.ppm_stm(pitch_view,a,b,e,u,o);\n",
    "PPM.mean_infcontent(pitch_stm)"
   ]
  },
  {
   "cell_type": "code",
   "execution_count": 5,
   "metadata": {
    "scrolled": true
   },
   "outputs": [
    {
     "name": "stdout",
     "output_type": "stream",
     "text": [
      "  2.690253 seconds (17.58 M allocations: 1.706 GiB, 26.13% gc time, 26.17% compilation time)\n"
     ]
    },
    {
     "data": {
      "text/plain": [
       "3.1884859734396596"
      ]
     },
     "execution_count": 5,
     "metadata": {},
     "output_type": "execute_result"
    }
   ],
   "source": [
    "@time pitch_ltm = PPM.ppm_ltm(pitch_view,a,b,e,u,o);\n",
    "PPM.mean_infcontent(pitch_ltm)"
   ]
  },
  {
   "cell_type": "code",
   "execution_count": 6,
   "metadata": {},
   "outputs": [
    {
     "name": "stdout",
     "output_type": "stream",
     "text": [
      "  2.427866 seconds (18.06 M allocations: 1.849 GiB, 32.79% gc time, 8.67% compilation time)\n"
     ]
    },
    {
     "data": {
      "text/plain": [
       "2.9235090946412456"
      ]
     },
     "execution_count": 6,
     "metadata": {},
     "output_type": "execute_result"
    }
   ],
   "source": [
    "@time pitch_ltm_plus = PPM.ppm_ltm_plus(pitch_view,a,b,e,u,o);\n",
    "PPM.mean_infcontent(pitch_ltm_plus)"
   ]
  },
  {
   "cell_type": "code",
   "execution_count": 7,
   "metadata": {},
   "outputs": [
    {
     "name": "stdout",
     "output_type": "stream",
     "text": [
      "  3.233354 seconds (30.02 M allocations: 3.060 GiB, 19.51% gc time, 17.60% compilation time)\n"
     ]
    },
    {
     "data": {
      "text/plain": [
       "2.576812470419125"
      ]
     },
     "execution_count": 7,
     "metadata": {},
     "output_type": "execute_result"
    }
   ],
   "source": [
    "@time pitch_both = PPM.ppm_both(pitch_view,a,b,e,u,o);\n",
    "PPM.mean_infcontent(pitch_both)"
   ]
  },
  {
   "cell_type": "code",
   "execution_count": null,
   "metadata": {},
   "outputs": [],
   "source": [
    "@time pitch_both_plus = PPM.ppm_both_plus(pitch_view,a,b,e,u,o);\n",
    "PPM.mean_infcontent(pitch_both_plus)"
   ]
  },
  {
   "cell_type": "markdown",
   "metadata": {},
   "source": [
    "# Print Table "
   ]
  },
  {
   "cell_type": "code",
   "execution_count": null,
   "metadata": {},
   "outputs": [],
   "source": [
    "pitch_table = PPM.todataframe(pitch_stm)"
   ]
  },
  {
   "cell_type": "code",
   "execution_count": null,
   "metadata": {},
   "outputs": [],
   "source": [
    "plot(pitch_table.Prob[1:106])\n",
    "plot!(pitch_table.IC[1:106])\n",
    "plot!(pitch_table.H[1:106])\n",
    "plot!(size=(900,300))"
   ]
  },
  {
   "cell_type": "markdown",
   "metadata": {},
   "source": [
    "# Comparison with IDyOM"
   ]
  },
  {
   "cell_type": "code",
   "execution_count": null,
   "metadata": {
    "scrolled": true
   },
   "outputs": [],
   "source": [
    "idyom_data = CSV.File(idyom_model) |> DataFrame;\n",
    "idyom_prob = idyom_data[!,\"probability\"];\n",
    "idyom_ic = idyom_data[!,\"information.content\"]\n",
    "DataFrame(Symbol = pitch_table.Symbol, Idyom = idyom_prob, Julia = pitch_table.Prob)"
   ]
  },
  {
   "cell_type": "code",
   "execution_count": null,
   "metadata": {
    "scrolled": true
   },
   "outputs": [],
   "source": [
    "plot(idyom_ic[100:300])\n",
    "plot!(pitch_table.IC[100:300])\n",
    "phrases = findall(x->x==1,idyom_data[!,\"phrase\"][100:300]);\n",
    "vline!(phrases, lw = 2)\n",
    "plot!(size=(900,300))"
   ]
  },
  {
   "cell_type": "markdown",
   "metadata": {},
   "source": [
    "# Multiple Viewpoint Models"
   ]
  },
  {
   "cell_type": "code",
   "execution_count": null,
   "metadata": {},
   "outputs": [],
   "source": [
    "duration_view = [PPM.View(seq,vp(:duration),vp(:pitch)) for seq in seqs];\n",
    "duration_stm = PPM.ppm_stm(duration_view,a,b,e,u,o);\n",
    "pitch_duration_stm = [[PPM.combine([p1,p2],0) for (p1,p2) in zip(s,l)] for (s,l) in zip(pitch_stm,duration_stm)];\n",
    "pitch_duration_table = PPM.todataframe(pitch_duration_stm);\n",
    "plot(pitch_duration_table.Prob[1:106])\n",
    "plot!(pitch_duration_table.IC[1:106])\n",
    "plot!(pitch_duration_table.H[1:106])\n",
    "vline!(phrases, lw = 2)\n",
    "plot!(size=(900,300))"
   ]
  },
  {
   "cell_type": "code",
   "execution_count": null,
   "metadata": {},
   "outputs": [],
   "source": []
  },
  {
   "cell_type": "code",
   "execution_count": null,
   "metadata": {},
   "outputs": [],
   "source": []
  }
 ],
 "metadata": {
  "kernelspec": {
   "display_name": "Julia 1.7.0",
   "language": "julia",
   "name": "julia-1.7"
  },
  "language_info": {
   "file_extension": ".jl",
   "mimetype": "application/julia",
   "name": "julia",
   "version": "1.7.2"
  }
 },
 "nbformat": 4,
 "nbformat_minor": 4
}
