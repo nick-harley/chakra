{
 "cells": [
  {
   "cell_type": "code",
   "execution_count": 1,
   "metadata": {},
   "outputs": [
    {
     "name": "stderr",
     "output_type": "stream",
     "text": [
      "┌ Info: Precompiling PPM [top-level]\n",
      "└ @ Base loading.jl:1423\n",
      "WARNING: using DataFrames.order in module PPM conflicts with an existing identifier.\n"
     ]
    }
   ],
   "source": [
    "push!(LOAD_PATH,\".\")\n",
    "using PPM"
   ]
  },
  {
   "cell_type": "code",
   "execution_count": 2,
   "metadata": {},
   "outputs": [
    {
     "data": {
      "text/plain": [
       "(1, 2, 3, 4)\n"
      ]
     },
     "execution_count": 2,
     "metadata": {},
     "output_type": "execute_result"
    }
   ],
   "source": [
    "g = NGram([1,2,3],4)"
   ]
  },
  {
   "cell_type": "code",
   "execution_count": 3,
   "metadata": {},
   "outputs": [
    {
     "data": {
      "text/plain": [
       "(3, 4)\n"
      ]
     },
     "execution_count": 3,
     "metadata": {},
     "output_type": "execute_result"
    }
   ],
   "source": [
    "PPM.trim(g,2)"
   ]
  },
  {
   "cell_type": "code",
   "execution_count": 4,
   "metadata": {},
   "outputs": [
    {
     "data": {
      "text/plain": [
       "66-element Vector{NGram{Int64, Int64}}:\n",
       " 1\n",
       " 2\n",
       " 3\n",
       " 1\n",
       " 2\n",
       " 3\n",
       " 4\n",
       " 1\n",
       " 2\n",
       " 3\n",
       " 4\n",
       " 5\n",
       " 6\n",
       " ⋮\n",
       " (1, 2, 3, 4)\n",
       "\n",
       " (2, 3, 4, 1)\n",
       "\n",
       " (3, 4, 1, 2)\n",
       "\n",
       " (4, 1, 2, 3)\n",
       "\n",
       " (1, 2, 3, 4)\n",
       "\n",
       " (2, 3, 4, 5)\n",
       "\n",
       " (3, 4, 5, 6)\n",
       "\n",
       " (4, 5, 6, 3)\n",
       "\n",
       " (5, 6, 3, 4)\n",
       "\n",
       " (6, 3, 4, 5)\n",
       "\n",
       " (3, 4, 5, 6)\n",
       "\n",
       " (4, 5, 6, 7)\n"
      ]
     },
     "execution_count": 4,
     "metadata": {},
     "output_type": "execute_result"
    }
   ],
   "source": [
    "gs = generate_hgrams([1,2,3,1,2,3,4,1,2,3,4,5,6,3,4,5,6,7],4)"
   ]
  },
  {
   "cell_type": "code",
   "execution_count": 17,
   "metadata": {},
   "outputs": [
    {
     "data": {
      "text/plain": [
       "Dict(([], 7) => 1, ([3, 4, 1], 2) => 1, ([5, 6, 3], 4) => 1, ([], 1) => 3, ([], 5) => 2, ([2, 3, 4], 5) => 1, ([1], 2) => 3, ([], 3) => 4, ([3, 4], 5) => 2, ([2, 3, 1], 2) => 1, ([1, 2, 3], 1) => 1, ([4, 5], 6) => 2, ([5], 6) => 2, ([5, 6], 7) => 1, ([1, 2, 3], 4) => 2, ([6], 7) => 1, ([], 2) => 3, ([3], 1) => 1, ([6, 3], 4) => 1, ([2], 3) => 3, ([3, 1], 2) => 1, ([4, 1, 2], 3) => 1, ([4, 5, 6], 3) => 1, ([2, 3], 1) => 1, ([4, 1], 2) => 1, ([3, 1, 2], 3) => 1, ([6, 3, 4], 5) => 1, ([], 6) => 2, ([4], 5) => 2, ([3], 4) => 3, ([1, 2], 3) => 3, ([4, 5, 6], 7) => 1, ([4], 1) => 1, ([5, 6], 3) => 1, ([2, 3], 4) => 2, ([3, 4, 5], 6) => 2, ([3, 4], 1) => 1, ([6], 3) => 1, ([], 4) => 3, ([2, 3, 4], 1) => 1) \n"
      ]
     },
     "execution_count": 17,
     "metadata": {},
     "output_type": "execute_result"
    }
   ],
   "source": [
    "db = HGramDB(gs)"
   ]
  },
  {
   "cell_type": "code",
   "execution_count": 6,
   "metadata": {},
   "outputs": [
    {
     "data": {
      "text/plain": [
       "1.0"
      ]
     },
     "execution_count": 6,
     "metadata": {},
     "output_type": "execute_result"
    }
   ],
   "source": [
    "ml(2,[1],db)"
   ]
  },
  {
   "cell_type": "code",
   "execution_count": 7,
   "metadata": {},
   "outputs": [
    {
     "data": {
      "text/plain": [
       "0.4"
      ]
     },
     "execution_count": 7,
     "metadata": {},
     "output_type": "execute_result"
    }
   ],
   "source": [
    "#ppm(Backoff(),A(),Bounded(3),db,NGram([3,4],5))\n",
    "#ppm(Backoff(),B(),Bounded(3),db,NGram([3,4],5))\n",
    "ppm(Backoff(),C(),Bounded(3),db,NGram([3,4],5))\n",
    "#ppm(Backoff(),D(),Bounded(3),db,NGram([3,4],5))\n",
    "#ppm(Backoff(),AX(),Bounded(3),db,NGram([3,4],5))"
   ]
  },
  {
   "cell_type": "code",
   "execution_count": 8,
   "metadata": {},
   "outputs": [
    {
     "data": {
      "text/plain": [
       "0.5784"
      ]
     },
     "execution_count": 8,
     "metadata": {},
     "output_type": "execute_result"
    }
   ],
   "source": [
    "#ppm(Interpolated(),A(),Bounded(3),db,NGram([3,4],5))\n",
    "#ppm(Interpolated(),B(),Bounded(3),db,NGram([3,4],5))\n",
    "ppm(Interpolated(),C(),Bounded(3),db,NGram([3,4],5))\n",
    "#ppm(Interpolated(),D(),Bounded(3),db,NGram([3,4],5))\n",
    "#ppm(Interpolated(),AX(),Bounded(3),db,NGram([3,4],5))"
   ]
  },
  {
   "cell_type": "code",
   "execution_count": 9,
   "metadata": {},
   "outputs": [
    {
     "data": {
      "text/plain": [
       "0.5784"
      ]
     },
     "execution_count": 9,
     "metadata": {},
     "output_type": "execute_result"
    }
   ],
   "source": [
    "#ppm(Interpolated(),A(),Unbounded(),db,NGram([3,4],5))\n",
    "#ppm(Interpolated(),B(),Unbounded(),db,NGram([3,4],5))\n",
    "ppm(Interpolated(),C(),Unbounded(),db,NGram([3,4],5))\n",
    "#ppm(Interpolated(),D(),Unbounded(),db,NGram([3,4],5))\n",
    "#ppm(Interpolated(),AX(),Unbounded(),db,NGram([3,4],5))"
   ]
  },
  {
   "cell_type": "code",
   "execution_count": 10,
   "metadata": {},
   "outputs": [
    {
     "data": {
      "text/plain": [
       "(3, 4, 5)\n",
       " \n",
       "Dict(5 => 0.5784, 4 => 0.024800000000000003, 6 => 0.0184, 7 => 0.012, 2 => 0.024800000000000003, 3 => 0.031200000000000002, 1 => 0.30479999999999996) \n",
       " \n"
      ]
     },
     "execution_count": 10,
     "metadata": {},
     "output_type": "execute_result"
    }
   ],
   "source": [
    "p1 = ppm_ngram(Interpolated(),C(),Unbounded(),db,NGram([3,4],5))"
   ]
  },
  {
   "cell_type": "code",
   "execution_count": 11,
   "metadata": {},
   "outputs": [
    {
     "data": {
      "text/plain": [
       "5-element Vector{Prediction{Int64, Int64}}:\n",
       " 1 \n",
       "Dict(5 => 0.11499999999999999, 4 => 0.155, 6 => 0.11499999999999999, 7 => 0.075, 2 => 0.155, 3 => 0.19499999999999998, 1 => 0.155) \n",
       " \n",
       "\n",
       " (1, 2)\n",
       " \n",
       "Dict(5 => 0.028749999999999998, 4 => 0.03875, 6 => 0.028749999999999998, 7 => 0.01875, 2 => 0.78875, 3 => 0.048749999999999995, 1 => 0.03875) \n",
       " \n",
       "\n",
       " (1, 2, 3)\n",
       " \n",
       "Dict(5 => 0.028749999999999998, 4 => 0.03875, 6 => 0.028749999999999998, 7 => 0.01875, 2 => 0.03875, 3 => 0.79875, 1 => 0.03875) \n",
       " \n",
       "\n",
       " (1, 2, 3, 4)\n",
       " \n",
       "Dict(5 => 0.006133333333333334, 4 => 0.6482666666666667, 6 => 0.006133333333333334, 7 => 0.004000000000000001, 2 => 0.008266666666666669, 3 => 0.010400000000000001, 1 => 0.3149333333333333) \n",
       " \n",
       "\n",
       " (1, 2, 3, 4, 5)\n",
       " \n",
       "Dict(5 => 0.5392, 4 => 0.012400000000000001, 6 => 0.0092, 7 => 0.006, 2 => 0.012400000000000001, 3 => 0.015600000000000001, 1 => 0.4024) \n",
       " \n"
      ]
     },
     "execution_count": 11,
     "metadata": {},
     "output_type": "execute_result"
    }
   ],
   "source": [
    "p2 = ppm_seq(Interpolated(),C(),Unbounded(),db,[1,2,3,4,5],[1,2,3,4,5])"
   ]
  },
  {
   "cell_type": "code",
   "execution_count": 12,
   "metadata": {},
   "outputs": [
    {
     "data": {
      "text/plain": [
       "5-element Vector{Any}:\n",
       " 1 \n",
       "Dict(1 => 0.75) \n",
       " \n",
       "\n",
       " (1, 2)\n",
       " \n",
       "Dict(2 => 0.7083333333333333, 1 => 0.20833333333333331) \n",
       " \n",
       "\n",
       " (1, 2, 3)\n",
       " \n",
       "Dict(2 => 0.14583333333333331, 3 => 0.6458333333333333, 1 => 0.14583333333333331) \n",
       " \n",
       "\n",
       " (1, 2, 3, 4)\n",
       " \n",
       "Dict(4 => 0.6125, 2 => 0.1125, 3 => 0.1125, 1 => 0.1125) \n",
       " \n",
       "\n",
       " (1, 2, 3, 4, 5)\n",
       " \n",
       "Dict(5 => 0.5916666666666667, 4 => 0.09166666666666667, 2 => 0.09166666666666667, 3 => 0.09166666666666667, 1 => 0.09166666666666667) \n",
       " \n"
      ]
     },
     "execution_count": 12,
     "metadata": {},
     "output_type": "execute_result"
    }
   ],
   "source": [
    "p3 = ppm_seq_inc(Interpolated(),C(),Unbounded(),[1,2,3,4,5],[1,2,3,4,5])"
   ]
  },
  {
   "cell_type": "code",
   "execution_count": 13,
   "metadata": {},
   "outputs": [
    {
     "data": {
      "text/plain": [
       "0.9745304487234447"
      ]
     },
     "execution_count": 13,
     "metadata": {},
     "output_type": "execute_result"
    }
   ],
   "source": [
    "infcontent(p1)\n",
    "entropy(p1)\n",
    "max_entropy(p1)\n",
    "relative_entropy(p1)\n",
    "weight(p1,2)\n",
    "mean_infcontent(p2)"
   ]
  },
  {
   "cell_type": "code",
   "execution_count": 14,
   "metadata": {},
   "outputs": [
    {
     "data": {
      "text/plain": [
       "5-element Vector{Any}:\n",
       " 1 \n",
       "Dict(1 => 0.75) \n",
       " \n",
       "\n",
       " (1, 2)\n",
       " \n",
       "Dict(2 => 0.7083333333333333, 1 => 0.20833333333333331) \n",
       " \n",
       "\n",
       " (1, 2, 3)\n",
       " \n",
       "Dict(2 => 0.07291666666666666, 3 => 0.8229166666666666, 1 => 0.07291666666666666) \n",
       " \n",
       "\n",
       " (2, 3, 4)\n",
       " \n",
       "Dict(4 => 0.80625, 2 => 0.05625, 3 => 0.05625, 1 => 0.05625) \n",
       " \n",
       "\n",
       " (3, 4, 5)\n",
       " \n",
       "Dict(5 => 0.7958333333333334, 4 => 0.04583333333333334, 2 => 0.04583333333333334, 3 => 0.04583333333333334, 1 => 0.04583333333333334) \n",
       " \n"
      ]
     },
     "execution_count": 14,
     "metadata": {},
     "output_type": "execute_result"
    }
   ],
   "source": [
    "ppm_seq(Interpolated(),D(),Bounded(3),db,[1,2,3,4,5],[1,2,3,4,5])\n",
    "ppm_seq_inc(Interpolated(),D(),Bounded(3),[1,2,3,4,5],[1,2,3,4,5])"
   ]
  },
  {
   "cell_type": "code",
   "execution_count": 15,
   "metadata": {},
   "outputs": [
    {
     "data": {
      "text/html": [
       "<div class=\"data-frame\"><p>5 rows × 5 columns</p><table class=\"data-frame\"><thead><tr><th></th><th>SeqID</th><th>EventID</th><th>Sym</th><th>IC</th><th>H</th></tr><tr><th></th><th title=\"Any\">Any</th><th title=\"Int64\">Int64</th><th title=\"Any\">Any</th><th title=\"Any\">Any</th><th title=\"Any\">Any</th></tr></thead><tbody><tr><th>1</th><td>1</td><td>1</td><td>1</td><td>2.58496</td><td>2.15414</td></tr><tr><th>2</th><td>1</td><td>2</td><td>2</td><td>1.0</td><td>1.69499</td></tr><tr><th>3</th><td>1</td><td>3</td><td>3</td><td>1.0</td><td>1.26416</td></tr><tr><th>4</th><td>1</td><td>4</td><td>4</td><td>1.0</td><td>1.26416</td></tr><tr><th>5</th><td>1</td><td>5</td><td>5</td><td>1.0</td><td>1.26416</td></tr></tbody></table></div>"
      ],
      "text/latex": [
       "\\begin{tabular}{r|ccccc}\n",
       "\t& SeqID & EventID & Sym & IC & H\\\\\n",
       "\t\\hline\n",
       "\t& Any & Int64 & Any & Any & Any\\\\\n",
       "\t\\hline\n",
       "\t1 & 1 & 1 & 1 & 2.58496 & 2.15414 \\\\\n",
       "\t2 & 1 & 2 & 2 & 1.0 & 1.69499 \\\\\n",
       "\t3 & 1 & 3 & 3 & 1.0 & 1.26416 \\\\\n",
       "\t4 & 1 & 4 & 4 & 1.0 & 1.26416 \\\\\n",
       "\t5 & 1 & 5 & 5 & 1.0 & 1.26416 \\\\\n",
       "\\end{tabular}\n"
      ],
      "text/plain": [
       "\u001b[1m5×5 DataFrame\u001b[0m\n",
       "\u001b[1m Row \u001b[0m│\u001b[1m SeqID \u001b[0m\u001b[1m EventID \u001b[0m\u001b[1m Sym \u001b[0m\u001b[1m IC      \u001b[0m\u001b[1m H       \u001b[0m\n",
       "\u001b[1m     \u001b[0m│\u001b[90m Any   \u001b[0m\u001b[90m Int64   \u001b[0m\u001b[90m Any \u001b[0m\u001b[90m Any     \u001b[0m\u001b[90m Any     \u001b[0m\n",
       "─────┼───────────────────────────────────────\n",
       "   1 │ 1            1  1    2.58496  2.15414\n",
       "   2 │ 1            2  2    1.0      1.69499\n",
       "   3 │ 1            3  3    1.0      1.26416\n",
       "   4 │ 1            4  4    1.0      1.26416\n",
       "   5 │ 1            5  5    1.0      1.26416"
      ]
     },
     "execution_count": 15,
     "metadata": {},
     "output_type": "execute_result"
    }
   ],
   "source": [
    "ppm_ltm(Backoff(),A(),Bounded(3),[[1,2,3,4,5]],[[1,2,3,4,5]])"
   ]
  },
  {
   "cell_type": "code",
   "execution_count": 16,
   "metadata": {},
   "outputs": [
    {
     "data": {
      "text/html": [
       "<div class=\"data-frame\"><p>5 rows × 5 columns</p><table class=\"data-frame\"><thead><tr><th></th><th>SeqID</th><th>EventID</th><th>Sym</th><th>IC</th><th>H</th></tr><tr><th></th><th title=\"Int64\">Int64</th><th title=\"Int64\">Int64</th><th title=\"Int64\">Int64</th><th title=\"Float64\">Float64</th><th title=\"Float64\">Float64</th></tr></thead><tbody><tr><th>1</th><td>1</td><td>1</td><td>1</td><td>1.0</td><td>0.5</td></tr><tr><th>2</th><td>1</td><td>2</td><td>2</td><td>1.0</td><td>0.875</td></tr><tr><th>3</th><td>1</td><td>3</td><td>3</td><td>1.0</td><td>0.88208</td></tr><tr><th>4</th><td>1</td><td>4</td><td>4</td><td>1.0</td><td>0.96875</td></tr><tr><th>5</th><td>1</td><td>5</td><td>5</td><td>1.0</td><td>1.03219</td></tr></tbody></table></div>"
      ],
      "text/latex": [
       "\\begin{tabular}{r|ccccc}\n",
       "\t& SeqID & EventID & Sym & IC & H\\\\\n",
       "\t\\hline\n",
       "\t& Int64 & Int64 & Int64 & Float64 & Float64\\\\\n",
       "\t\\hline\n",
       "\t1 & 1 & 1 & 1 & 1.0 & 0.5 \\\\\n",
       "\t2 & 1 & 2 & 2 & 1.0 & 0.875 \\\\\n",
       "\t3 & 1 & 3 & 3 & 1.0 & 0.88208 \\\\\n",
       "\t4 & 1 & 4 & 4 & 1.0 & 0.96875 \\\\\n",
       "\t5 & 1 & 5 & 5 & 1.0 & 1.03219 \\\\\n",
       "\\end{tabular}\n"
      ],
      "text/plain": [
       "\u001b[1m5×5 DataFrame\u001b[0m\n",
       "\u001b[1m Row \u001b[0m│\u001b[1m SeqID \u001b[0m\u001b[1m EventID \u001b[0m\u001b[1m Sym   \u001b[0m\u001b[1m IC      \u001b[0m\u001b[1m H       \u001b[0m\n",
       "\u001b[1m     \u001b[0m│\u001b[90m Int64 \u001b[0m\u001b[90m Int64   \u001b[0m\u001b[90m Int64 \u001b[0m\u001b[90m Float64 \u001b[0m\u001b[90m Float64 \u001b[0m\n",
       "─────┼─────────────────────────────────────────\n",
       "   1 │     1        1      1      1.0  0.5\n",
       "   2 │     1        2      2      1.0  0.875\n",
       "   3 │     1        3      3      1.0  0.88208\n",
       "   4 │     1        4      4      1.0  0.96875\n",
       "   5 │     1        5      5      1.0  1.03219"
      ]
     },
     "execution_count": 16,
     "metadata": {},
     "output_type": "execute_result"
    }
   ],
   "source": [
    "ppm_stm(Backoff(),C(),Bounded(3),[[1,2,3,4,5]],[[1,2,3,4,5]])"
   ]
  }
 ],
 "metadata": {
  "kernelspec": {
   "display_name": "Julia 1.7.0",
   "language": "julia",
   "name": "julia-1.7"
  },
  "language_info": {
   "file_extension": ".jl",
   "mimetype": "application/julia",
   "name": "julia",
   "version": "1.7.2"
  }
 },
 "nbformat": 4,
 "nbformat_minor": 4
}
