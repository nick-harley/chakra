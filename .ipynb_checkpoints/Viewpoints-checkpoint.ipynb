{
 "cells": [
  {
   "cell_type": "code",
   "execution_count": 1,
   "metadata": {},
   "outputs": [
    {
     "data": {
      "text/plain": [
       "4-element Vector{String}:\n",
       " \"@\"\n",
       " \"@v#.#\"\n",
       " \"@stdlib\"\n",
       " \".\""
      ]
     },
     "execution_count": 1,
     "metadata": {},
     "output_type": "execute_result"
    }
   ],
   "source": [
    "push!(LOAD_PATH,\".\")"
   ]
  },
  {
   "cell_type": "markdown",
   "metadata": {},
   "source": [
    "# Import CHAKRA (and an implementation)"
   ]
  },
  {
   "cell_type": "code",
   "execution_count": 2,
   "metadata": {
    "scrolled": false
   },
   "outputs": [
    {
     "name": "stderr",
     "output_type": "stream",
     "text": [
      "WARNING: using Chakra.get in module Main conflicts with an existing identifier.\n"
     ]
    }
   ],
   "source": [
    "using Chakra, ChakraImp"
   ]
  },
  {
   "cell_type": "markdown",
   "metadata": {},
   "source": [
    "# Define an attribute type\n",
    "The following defines a type pc of pitch classes and associates it an attribute name \":pc\""
   ]
  },
  {
   "cell_type": "code",
   "execution_count": 3,
   "metadata": {},
   "outputs": [],
   "source": [
    "abstract type PC end\n",
    "struct pc <: PC\n",
    "    val::Char\n",
    "end\n",
    "Chakra.@associatedType(:pc,PC)"
   ]
  },
  {
   "cell_type": "markdown",
   "metadata": {},
   "source": [
    "# Represent choral\n",
    "The following represents the first 10 notes of a bach choral as a sequence of constituents with pitch class attributes."
   ]
  },
  {
   "cell_type": "code",
   "execution_count": 4,
   "metadata": {},
   "outputs": [
    {
     "data": {
      "text/plain": [
       "10-element Vector{ChakraImp.Obj}:\n",
       " ChakraImp.Obj(ChakraImp.Id[], Dict{Symbol, Any}(:pc => pc('A')))\n",
       " ChakraImp.Obj(ChakraImp.Id[], Dict{Symbol, Any}(:pc => pc('B')))\n",
       " ChakraImp.Obj(ChakraImp.Id[], Dict{Symbol, Any}(:pc => pc('A')))\n",
       " ChakraImp.Obj(ChakraImp.Id[], Dict{Symbol, Any}(:pc => pc('G')))\n",
       " ChakraImp.Obj(ChakraImp.Id[], Dict{Symbol, Any}(:pc => pc('G')))\n",
       " ChakraImp.Obj(ChakraImp.Id[], Dict{Symbol, Any}(:pc => pc('A')))\n",
       " ChakraImp.Obj(ChakraImp.Id[], Dict{Symbol, Any}(:pc => pc('B')))\n",
       " ChakraImp.Obj(ChakraImp.Id[], Dict{Symbol, Any}(:pc => pc('D')))\n",
       " ChakraImp.Obj(ChakraImp.Id[], Dict{Symbol, Any}(:pc => pc('G')))\n",
       " ChakraImp.Obj(ChakraImp.Id[], Dict{Symbol, Any}(:pc => pc('G')))"
      ]
     },
     "execution_count": 4,
     "metadata": {},
     "output_type": "execute_result"
    }
   ],
   "source": [
    "e1 = set(delim(),:pc,pc('G'))\n",
    "e2 = set(delim(),:pc,pc('G'))\n",
    "e3 = set(delim(),:pc,pc('D'))\n",
    "e4 = set(delim(),:pc,pc('B'))\n",
    "e5 = set(delim(),:pc,pc('A'))\n",
    "e6 = set(delim(),:pc,pc('G'))\n",
    "e7 = set(delim(),:pc,pc('G'))\n",
    "e8 = set(delim(),:pc,pc('A'))\n",
    "e9 = set(delim(),:pc,pc('B'))\n",
    "e10 = set(delim(),:pc,pc('A'))\n",
    "choral = [e10,e9,e8,e7,e6,e5,e4,e3,e2,e1]"
   ]
  },
  {
   "cell_type": "markdown",
   "metadata": {},
   "source": [
    "# Define viewpoint\n",
    "The following defines an atomic viewpoint which projects out the pitch class of the last constituent of a sequence"
   ]
  },
  {
   "cell_type": "code",
   "execution_count": 5,
   "metadata": {},
   "outputs": [
    {
     "data": {
      "text/plain": [
       "AtomicViewpoint{PC}(:pc)"
      ]
     },
     "execution_count": 5,
     "metadata": {},
     "output_type": "execute_result"
    }
   ],
   "source": [
    "using Viewpoints\n",
    "v = AtomicViewpoint(:pc)"
   ]
  },
  {
   "cell_type": "markdown",
   "metadata": {},
   "source": [
    "### vp_type gives the type of values of the viewpoint:"
   ]
  },
  {
   "cell_type": "code",
   "execution_count": 6,
   "metadata": {},
   "outputs": [
    {
     "data": {
      "text/plain": [
       "PC"
      ]
     },
     "execution_count": 6,
     "metadata": {},
     "output_type": "execute_result"
    }
   ],
   "source": [
    "vp_type(v)"
   ]
  },
  {
   "cell_type": "markdown",
   "metadata": {},
   "source": [
    "### apply the viewpoint to a sequence as follows:"
   ]
  },
  {
   "cell_type": "code",
   "execution_count": 7,
   "metadata": {},
   "outputs": [
    {
     "data": {
      "text/plain": [
       "pc('A')"
      ]
     },
     "execution_count": 7,
     "metadata": {},
     "output_type": "execute_result"
    }
   ],
   "source": [
    "v(choral)"
   ]
  },
  {
   "cell_type": "markdown",
   "metadata": {},
   "source": [
    "### vp_map turns a sequence of constituents in to a sequence of viewpoint values:"
   ]
  },
  {
   "cell_type": "code",
   "execution_count": 8,
   "metadata": {},
   "outputs": [
    {
     "data": {
      "text/plain": [
       "10-element Vector{pc}:\n",
       " pc('A')\n",
       " pc('B')\n",
       " pc('A')\n",
       " pc('G')\n",
       " pc('G')\n",
       " pc('A')\n",
       " pc('B')\n",
       " pc('D')\n",
       " pc('G')\n",
       " pc('G')"
      ]
     },
     "execution_count": 8,
     "metadata": {},
     "output_type": "execute_result"
    }
   ],
   "source": [
    "vp_map(v,choral)"
   ]
  },
  {
   "cell_type": "markdown",
   "metadata": {},
   "source": [
    "### Viewpoints can be delayed, linked and derived by composition with arbitrary functions:"
   ]
  },
  {
   "cell_type": "code",
   "execution_count": 9,
   "metadata": {},
   "outputs": [
    {
     "data": {
      "text/plain": [
       "9-element Vector{Tuple{pc, pc}}:\n",
       " (pc('B'), pc('A'))\n",
       " (pc('A'), pc('B'))\n",
       " (pc('G'), pc('A'))\n",
       " (pc('G'), pc('G'))\n",
       " (pc('A'), pc('G'))\n",
       " (pc('B'), pc('A'))\n",
       " (pc('D'), pc('B'))\n",
       " (pc('G'), pc('D'))\n",
       " (pc('G'), pc('G'))"
      ]
     },
     "execution_count": 9,
     "metadata": {},
     "output_type": "execute_result"
    }
   ],
   "source": [
    "v2 = LinkedViewpoint(DelayedViewpoint(v,1),v)\n",
    "vp_map(v2,choral)"
   ]
  }
 ],
 "metadata": {
  "kernelspec": {
   "display_name": "Julia 1.6.2",
   "language": "julia",
   "name": "julia-1.6"
  },
  "language_info": {
   "file_extension": ".jl",
   "mimetype": "application/julia",
   "name": "julia",
   "version": "1.6.3"
  }
 },
 "nbformat": 4,
 "nbformat_minor": 4
}
