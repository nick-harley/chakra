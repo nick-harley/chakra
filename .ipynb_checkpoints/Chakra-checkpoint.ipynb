{
 "cells": [
  {
   "cell_type": "code",
   "execution_count": null,
   "metadata": {},
   "outputs": [],
   "source": [
    "push!(LOAD_PATH,\".\")\n",
    "using ListType, OptionType, Chakra, Nova"
   ]
  },
  {
   "cell_type": "code",
   "execution_count": null,
   "metadata": {},
   "outputs": [],
   "source": [
    "#o = find(\"nova/nova001.mid/track1\",data)\n",
    "melodies = [\"nova/nova001.mid/track1\",\"nova/nova002.mid/track1\"]\n",
    "\n",
    "id_sequences = [obind(find(mel,data),particles) for mel in melodies]"
   ]
  },
  {
   "cell_type": "code",
   "execution_count": null,
   "metadata": {},
   "outputs": [],
   "source": [
    "object_sequences = [Chakra.sequence(ids,data) for ids in id_sequences]"
   ]
  },
  {
   "cell_type": "code",
   "execution_count": null,
   "metadata": {},
   "outputs": [],
   "source": [
    "using Viewpoints\n",
    "pitch_sequences = [vp_map(vp(:pitch),s) for s in object_sequences]\n",
    "ps = pitch_sequences[1]\n",
    "#ps = vp_map(vp(:pitch),seq)"
   ]
  },
  {
   "cell_type": "code",
   "execution_count": null,
   "metadata": {},
   "outputs": [],
   "source": [
    "using PPM\n",
    "gs = PPM.generate_hgrams(ps,3)"
   ]
  },
  {
   "cell_type": "code",
   "execution_count": null,
   "metadata": {},
   "outputs": [],
   "source": [
    "db = PPM.HGramDB(gs,Set(ps),3)"
   ]
  },
  {
   "cell_type": "code",
   "execution_count": null,
   "metadata": {},
   "outputs": [],
   "source": [
    "db.tally"
   ]
  },
  {
   "cell_type": "code",
   "execution_count": null,
   "metadata": {},
   "outputs": [],
   "source": [
    "db.domain"
   ]
  },
  {
   "cell_type": "code",
   "execution_count": null,
   "metadata": {},
   "outputs": [],
   "source": [
    "ml(69,db)"
   ]
  },
  {
   "cell_type": "code",
   "execution_count": null,
   "metadata": {},
   "outputs": [],
   "source": [
    "ml(77,db)"
   ]
  },
  {
   "cell_type": "code",
   "execution_count": null,
   "metadata": {},
   "outputs": [],
   "source": [
    "ml(65,[65],db)"
   ]
  },
  {
   "cell_type": "code",
   "execution_count": null,
   "metadata": {},
   "outputs": [],
   "source": [
    "ml(69,[65,65],db)"
   ]
  },
  {
   "cell_type": "code",
   "execution_count": null,
   "metadata": {},
   "outputs": [],
   "source": [
    "ppm(Backoff(),A(),Bounded(3),db,NGram([65],65))\n",
    "ppm(Backoff(),B(),Bounded(3),db,NGram([65],65))\n",
    "ppm(Backoff(),C(),Bounded(3),db,NGram([65],65))\n",
    "ppm(Backoff(),D(),Bounded(3),db,NGram([65],65))\n",
    "ppm(Backoff(),AX(),Bounded(3),db,NGram([65],65))"
   ]
  },
  {
   "cell_type": "code",
   "execution_count": null,
   "metadata": {},
   "outputs": [],
   "source": [
    "ppm(Interpolated(),A(),Bounded(3),db,NGram([65],65))\n",
    "ppm(Interpolated(),B(),Bounded(3),db,NGram([65],65))\n",
    "ppm(Interpolated(),C(),Bounded(3),db,NGram([65],65))\n",
    "ppm(Interpolated(),D(),Bounded(3),db,NGram([65],65))\n",
    "ppm(Interpolated(),AX(),Bounded(3),db,NGram([65],65))"
   ]
  },
  {
   "cell_type": "code",
   "execution_count": null,
   "metadata": {},
   "outputs": [],
   "source": [
    "ppm(Interpolated(),A(),Unbounded(),db,NGram([65],65))\n",
    "ppm(Backoff(),B(),Unbounded(),db,NGram([65],65))"
   ]
  },
  {
   "cell_type": "code",
   "execution_count": null,
   "metadata": {},
   "outputs": [],
   "source": [
    "p1 = ppm_ngram(Interpolated(),C(),Unbounded(),db,NGram([65],65))\n",
    "sum(values(p1.dist.values))"
   ]
  },
  {
   "cell_type": "code",
   "execution_count": null,
   "metadata": {},
   "outputs": [],
   "source": [
    "p2 = ppm_seq(Interpolated(),C(),Unbounded(),db,ps,ps)\n",
    "#sum(values(p2[1].dist.values))"
   ]
  },
  {
   "cell_type": "code",
   "execution_count": null,
   "metadata": {},
   "outputs": [],
   "source": [
    "p3 = ppm_seq_inc(Interpolated(),C(),Unbounded(),ps,ps,Set(ps))\n",
    "#sum(values(p3[1].dist.values))\n",
    "#sum(values(p3[1].dist.values))"
   ]
  },
  {
   "cell_type": "code",
   "execution_count": null,
   "metadata": {},
   "outputs": [],
   "source": [
    "infcontent(p1)"
   ]
  },
  {
   "cell_type": "code",
   "execution_count": null,
   "metadata": {},
   "outputs": [],
   "source": [
    "entropy(p1)"
   ]
  },
  {
   "cell_type": "code",
   "execution_count": null,
   "metadata": {},
   "outputs": [],
   "source": [
    "max_entropy(p1)"
   ]
  },
  {
   "cell_type": "code",
   "execution_count": null,
   "metadata": {},
   "outputs": [],
   "source": [
    "relative_entropy(p1)"
   ]
  },
  {
   "cell_type": "code",
   "execution_count": null,
   "metadata": {},
   "outputs": [],
   "source": [
    "weight(p1,2)"
   ]
  },
  {
   "cell_type": "code",
   "execution_count": null,
   "metadata": {},
   "outputs": [],
   "source": [
    "mean_infcontent(p2)"
   ]
  },
  {
   "cell_type": "code",
   "execution_count": null,
   "metadata": {},
   "outputs": [],
   "source": [
    "ppm_seq(Interpolated(),D(),Bounded(3),db,ps,ps)"
   ]
  },
  {
   "cell_type": "code",
   "execution_count": null,
   "metadata": {},
   "outputs": [],
   "source": [
    "#ppm_ltm(Backoff(),A(),Bounded(3),[ps],[ps])"
   ]
  },
  {
   "cell_type": "code",
   "execution_count": null,
   "metadata": {},
   "outputs": [],
   "source": [
    "ppm_stm(Backoff(),C(),Bounded(2),[ps],[ps],Set([54:81...]))"
   ]
  },
  {
   "cell_type": "code",
   "execution_count": null,
   "metadata": {},
   "outputs": [],
   "source": [
    "using CSV, DataFrames\n",
    "df = CSV.File(\"/Users/nick/Dropbox/data.csv\") |> DataFrame"
   ]
  },
  {
   "cell_type": "code",
   "execution_count": null,
   "metadata": {},
   "outputs": [],
   "source": [
    "smth = Backoff()\n",
    "esc = C()\n",
    "ob = Bounded(2)\n",
    "domain = Set([54:79...,81])\n",
    "emptydb = HGramDB{Int,Int,2}(domain)"
   ]
  },
  {
   "cell_type": "code",
   "execution_count": null,
   "metadata": {},
   "outputs": [],
   "source": [
    "gs = hgram_sequence(ps,3)"
   ]
  },
  {
   "cell_type": "code",
   "execution_count": null,
   "metadata": {},
   "outputs": [],
   "source": [
    "#predictions = [Prediction(smth,esc,ob,emptydb,g) for g in gs]\n",
    "#predictions = ppm_seq_inc(smth,esc,ob,ps,ps,domain)[1].dist.values\n",
    "#print([(e,ppm(smth,esc,ob,emptydb,NGram(Int[],e))) for e in domain])\n",
    "new_gs = [[trim(g,l) for l in 1:length(g)] for g in gs]\n",
    "seen = Vector{NGram{Int,Int,n} where n}[vcat(new_gs[1:i]...) for i in 1:length(gs)]\n",
    "dbs = [HGramDB{Int,Int,3}(domain),[HGramDB(seen[i],domain,3) for (i,s) in enumerate(seen)]...][1:end-1]\n",
    "#predictions = [Prediction(smth,esc,ob,dbs[i],gs[i]) for i in 1:length(gs)]"
   ]
  },
  {
   "cell_type": "code",
   "execution_count": null,
   "metadata": {},
   "outputs": [],
   "source": [
    "infcontent(predictions[2])"
   ]
  },
  {
   "cell_type": "code",
   "execution_count": null,
   "metadata": {},
   "outputs": [],
   "source": []
  }
 ],
 "metadata": {
  "kernelspec": {
   "display_name": "Julia 1.7.0",
   "language": "julia",
   "name": "julia-1.7"
  },
  "language_info": {
   "file_extension": ".jl",
   "mimetype": "application/julia",
   "name": "julia",
   "version": "1.7.2"
  }
 },
 "nbformat": 4,
 "nbformat_minor": 4
}
