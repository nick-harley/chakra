{
 "cells": [
  {
   "cell_type": "code",
   "execution_count": 1,
   "metadata": {},
   "outputs": [
    {
     "data": {
      "text/plain": [
       "4-element Vector{String}:\n",
       " \"@\"\n",
       " \"@v#.#\"\n",
       " \"@stdlib\"\n",
       " \".\""
      ]
     },
     "execution_count": 1,
     "metadata": {},
     "output_type": "execute_result"
    }
   ],
   "source": [
    "push!(LOAD_PATH,\".\")"
   ]
  },
  {
   "cell_type": "markdown",
   "metadata": {},
   "source": [
    "# Import CHAKRA (and an implementation)"
   ]
  },
  {
   "cell_type": "code",
   "execution_count": 2,
   "metadata": {
    "scrolled": false
   },
   "outputs": [
    {
     "name": "stderr",
     "output_type": "stream",
     "text": [
      "WARNING: using Chakra.get in module Main conflicts with an existing identifier.\n",
      "┌ Info: Precompiling Predictors [top-level]\n",
      "└ @ Base loading.jl:1342\n"
     ]
    }
   ],
   "source": [
    "using Chakra, Viewpoints, Predictors, ChakraImp"
   ]
  },
  {
   "cell_type": "markdown",
   "metadata": {},
   "source": [
    "# Define a sequence"
   ]
  },
  {
   "cell_type": "code",
   "execution_count": 3,
   "metadata": {},
   "outputs": [
    {
     "data": {
      "text/plain": [
       "10-element Vector{pc}:\n",
       " pc('A')\n",
       " pc('B')\n",
       " pc('A')\n",
       " pc('G')\n",
       " pc('G')\n",
       " pc('A')\n",
       " pc('B')\n",
       " pc('D')\n",
       " pc('G')\n",
       " pc('G')"
      ]
     },
     "execution_count": 3,
     "metadata": {},
     "output_type": "execute_result"
    }
   ],
   "source": [
    "abstract type PC end\n",
    "\n",
    "struct pc <: PC\n",
    "    val::Char\n",
    "end\n",
    "Chakra.@associatedType(:pc,PC)\n",
    "\n",
    "v = AtomicViewpoint(:pc)\n",
    "\n",
    "e1 = set(delim(),:pc,pc('G'))\n",
    "e2 = set(delim(),:pc,pc('G'))\n",
    "e3 = set(delim(),:pc,pc('D'))\n",
    "e4 = set(delim(),:pc,pc('B'))\n",
    "e5 = set(delim(),:pc,pc('A'))\n",
    "e6 = set(delim(),:pc,pc('G'))\n",
    "e7 = set(delim(),:pc,pc('G'))\n",
    "e8 = set(delim(),:pc,pc('A'))\n",
    "e9 = set(delim(),:pc,pc('B'))\n",
    "e10 = set(delim(),:pc,pc('A'))\n",
    "\n",
    "choral = [e10,e9,e8,e7,e6,e5,e4,e3,e2,e1]\n",
    "\n",
    "s = vp_map(v,choral)"
   ]
  },
  {
   "cell_type": "markdown",
   "metadata": {},
   "source": [
    "# Create Model \n",
    "The following creates an HGramModel of the choral using the pitch class viewpoint. "
   ]
  },
  {
   "cell_type": "code",
   "execution_count": 4,
   "metadata": {},
   "outputs": [
    {
     "data": {
      "text/plain": [
       "HGramPredictor{pc, pc, 5}(Dict{Tuple{pc, Vector{pc}}, Int64}((pc('A'), []) => 3, (pc('B'), [pc('A')]) => 1, (pc('D'), []) => 1, (pc('G'), [pc('G'), pc('A'), pc('B'), pc('D')]) => 1, (pc('A'), [pc('B')]) => 2, (pc('G'), []) => 3, (pc('D'), [pc('G')]) => 1, (pc('B'), [pc('A'), pc('G'), pc('G'), pc('A')]) => 1, (pc('A'), [pc('B'), pc('A')]) => 1, (pc('G'), [pc('A')]) => 1…), Set(pc[pc('B'), pc('G'), pc('A'), pc('D')]))"
      ]
     },
     "execution_count": 4,
     "metadata": {},
     "output_type": "execute_result"
    }
   ],
   "source": [
    "m = HGramPredictor(vp_map(v,choral),5)"
   ]
  },
  {
   "cell_type": "markdown",
   "metadata": {},
   "source": [
    "### The model elements is a set containing the pitch classes encountered: "
   ]
  },
  {
   "cell_type": "code",
   "execution_count": 5,
   "metadata": {},
   "outputs": [
    {
     "data": {
      "text/plain": [
       "Set{pc} with 4 elements:\n",
       "  pc('B')\n",
       "  pc('G')\n",
       "  pc('A')\n",
       "  pc('D')"
      ]
     },
     "execution_count": 5,
     "metadata": {},
     "output_type": "execute_result"
    }
   ],
   "source": [
    "m.elems"
   ]
  },
  {
   "cell_type": "markdown",
   "metadata": {},
   "source": [
    "### The model database maps sequences to their number of occurences:"
   ]
  },
  {
   "cell_type": "code",
   "execution_count": 6,
   "metadata": {},
   "outputs": [
    {
     "data": {
      "text/plain": [
       "Dict{Tuple{pc, Vector{pc}}, Int64} with 29 entries:\n",
       "  (pc('A'), [])                                   => 3\n",
       "  (pc('B'), [pc('A')])                            => 1\n",
       "  (pc('D'), [])                                   => 1\n",
       "  (pc('G'), [pc('G'), pc('A'), pc('B'), pc('D')]) => 1\n",
       "  (pc('A'), [pc('B')])                            => 2\n",
       "  (pc('G'), [])                                   => 3\n",
       "  (pc('D'), [pc('G')])                            => 1\n",
       "  (pc('B'), [pc('A'), pc('G'), pc('G'), pc('A')]) => 1\n",
       "  (pc('A'), [pc('B'), pc('A')])                   => 1\n",
       "  (pc('G'), [pc('A')])                            => 1\n",
       "  (pc('B'), [pc('D'), pc('G')])                   => 1\n",
       "  (pc('G'), [pc('G'), pc('A'), pc('B')])          => 1\n",
       "  (pc('G'), [pc('A'), pc('B'), pc('D'), pc('G')]) => 1\n",
       "  (pc('A'), [pc('B'), pc('D'), pc('G')])          => 1\n",
       "  (pc('A'), [pc('G'), pc('G')])                   => 1\n",
       "  (pc('G'), [pc('G'), pc('A')])                   => 1\n",
       "  (pc('G'), [pc('A'), pc('B'), pc('D')])          => 1\n",
       "  (pc('B'), [pc('D')])                            => 1\n",
       "  (pc('A'), [pc('G')])                            => 1\n",
       "  (pc('A'), [pc('G'), pc('G'), pc('A')])          => 1\n",
       "  (pc('B'), [])                                   => 2\n",
       "  (pc('A'), [pc('B'), pc('A'), pc('G'), pc('G')]) => 1\n",
       "  (pc('G'), [pc('A'), pc('B')])                   => 1\n",
       "  (pc('A'), [pc('B'), pc('D')])                   => 1\n",
       "  (pc('A'), [pc('G'), pc('G'), pc('A'), pc('B')]) => 1\n",
       "  ⋮                                               => ⋮"
      ]
     },
     "execution_count": 6,
     "metadata": {},
     "output_type": "execute_result"
    }
   ],
   "source": [
    "m.db"
   ]
  },
  {
   "cell_type": "markdown",
   "metadata": {},
   "source": [
    "# Maximum likelihood\n",
    "The function ml computes the maximum likelihood of an element occuring in a given contexts from the model."
   ]
  },
  {
   "cell_type": "code",
   "execution_count": 7,
   "metadata": {},
   "outputs": [
    {
     "data": {
      "text/plain": [
       "0.3333333333333333"
      ]
     },
     "execution_count": 7,
     "metadata": {},
     "output_type": "execute_result"
    }
   ],
   "source": [
    "ml(pc('G'),m)"
   ]
  },
  {
   "cell_type": "code",
   "execution_count": 8,
   "metadata": {},
   "outputs": [
    {
     "data": {
      "text/plain": [
       "0.0"
      ]
     },
     "execution_count": 8,
     "metadata": {},
     "output_type": "execute_result"
    }
   ],
   "source": [
    "ml(pc('E'),m)"
   ]
  },
  {
   "cell_type": "code",
   "execution_count": 9,
   "metadata": {},
   "outputs": [
    {
     "data": {
      "text/plain": [
       "0.3333333333333333"
      ]
     },
     "execution_count": 9,
     "metadata": {},
     "output_type": "execute_result"
    }
   ],
   "source": [
    "ml(pc('G'),[pc('G')],m)"
   ]
  },
  {
   "cell_type": "code",
   "execution_count": 10,
   "metadata": {},
   "outputs": [
    {
     "data": {
      "text/plain": [
       "0.0"
      ]
     },
     "execution_count": 10,
     "metadata": {},
     "output_type": "execute_result"
    }
   ],
   "source": [
    "ml(pc('D'),[pc('B'),pc('A')],m)"
   ]
  },
  {
   "cell_type": "markdown",
   "metadata": {},
   "source": [
    "# Smoothed Prediction\n",
    "\n",
    "The ppm function gives the probability of the symbol in a context from a given model and alphabet. The first two arguments specify the type of blending (backoff or interpolated) and the escape method (A, B, C, D or AX). \n",
    "\n",
    "## Backoff Smoothing"
   ]
  },
  {
   "cell_type": "code",
   "execution_count": 11,
   "metadata": {},
   "outputs": [
    {
     "data": {
      "text/plain": [
       "0.05"
      ]
     },
     "execution_count": 11,
     "metadata": {},
     "output_type": "execute_result"
    }
   ],
   "source": [
    "ppm(Backoff(),A(),pc('E'),[pc('E')],m,m.elems)"
   ]
  },
  {
   "cell_type": "code",
   "execution_count": 12,
   "metadata": {},
   "outputs": [
    {
     "data": {
      "text/plain": [
       "0.2"
      ]
     },
     "execution_count": 12,
     "metadata": {},
     "output_type": "execute_result"
    }
   ],
   "source": [
    "ppm(Backoff(),B(),pc('E'),[pc('E')],m,m.elems)"
   ]
  },
  {
   "cell_type": "code",
   "execution_count": 13,
   "metadata": {},
   "outputs": [
    {
     "data": {
      "text/plain": [
       "0.2"
      ]
     },
     "execution_count": 13,
     "metadata": {},
     "output_type": "execute_result"
    }
   ],
   "source": [
    "ppm(Backoff(),C(),pc('E'),[pc('E')],m,m.elems)"
   ]
  },
  {
   "cell_type": "code",
   "execution_count": 14,
   "metadata": {},
   "outputs": [
    {
     "data": {
      "text/plain": [
       "0.2"
      ]
     },
     "execution_count": 14,
     "metadata": {},
     "output_type": "execute_result"
    }
   ],
   "source": [
    "ppm(Backoff(),D(),pc('E'),m,m.elems)"
   ]
  },
  {
   "cell_type": "code",
   "execution_count": 15,
   "metadata": {},
   "outputs": [
    {
     "data": {
      "text/plain": [
       "0.2"
      ]
     },
     "execution_count": 15,
     "metadata": {},
     "output_type": "execute_result"
    }
   ],
   "source": [
    "ppm(Backoff(),AX(),pc('E'),m,m.elems)"
   ]
  },
  {
   "cell_type": "markdown",
   "metadata": {},
   "source": [
    "## Interpolated Smoothing"
   ]
  },
  {
   "cell_type": "code",
   "execution_count": 16,
   "metadata": {
    "scrolled": false
   },
   "outputs": [
    {
     "data": {
      "text/plain": [
       "0.35"
      ]
     },
     "execution_count": 16,
     "metadata": {},
     "output_type": "execute_result"
    }
   ],
   "source": [
    "ppm(Interpolated(),A(),pc('G'),[pc('G')],m,m.elems)"
   ]
  },
  {
   "cell_type": "code",
   "execution_count": 17,
   "metadata": {
    "scrolled": true
   },
   "outputs": [
    {
     "data": {
      "text/plain": [
       "0.6666666666666666"
      ]
     },
     "execution_count": 17,
     "metadata": {},
     "output_type": "execute_result"
    }
   ],
   "source": [
    "ppm(Interpolated(),B(),pc('A'),[pc('G')],m,m.elems)"
   ]
  },
  {
   "cell_type": "code",
   "execution_count": 18,
   "metadata": {
    "scrolled": true
   },
   "outputs": [
    {
     "data": {
      "text/plain": [
       "0.358974358974359"
      ]
     },
     "execution_count": 18,
     "metadata": {},
     "output_type": "execute_result"
    }
   ],
   "source": [
    "ppm(Interpolated(),C(),pc('D'),[pc('G')],m,m.elems)"
   ]
  },
  {
   "cell_type": "code",
   "execution_count": 19,
   "metadata": {
    "scrolled": true
   },
   "outputs": [
    {
     "data": {
      "text/plain": [
       "0.19444444444444442"
      ]
     },
     "execution_count": 19,
     "metadata": {},
     "output_type": "execute_result"
    }
   ],
   "source": [
    "ppm(Interpolated(),D(),pc('B'),[pc('G')],m,m.elems)"
   ]
  },
  {
   "cell_type": "code",
   "execution_count": 20,
   "metadata": {
    "scrolled": true
   },
   "outputs": [
    {
     "data": {
      "text/plain": [
       "0.04999999999999999"
      ]
     },
     "execution_count": 20,
     "metadata": {},
     "output_type": "execute_result"
    }
   ],
   "source": [
    "ppm(Interpolated(),AX(),pc('E'),[pc('G')],m,m.elems)"
   ]
  },
  {
   "cell_type": "markdown",
   "metadata": {},
   "source": [
    "# Entropy"
   ]
  },
  {
   "cell_type": "markdown",
   "metadata": {},
   "source": [
    "A distribution contains a predictor and a context sequence. A distribution can be applied to an argument to obtain the probability. "
   ]
  },
  {
   "cell_type": "code",
   "execution_count": 21,
   "metadata": {},
   "outputs": [
    {
     "data": {
      "text/plain": [
       "0.4666666666666667"
      ]
     },
     "execution_count": 21,
     "metadata": {},
     "output_type": "execute_result"
    }
   ],
   "source": [
    "m2 = PPMPredictor(Interpolated(),A(),m)\n",
    "d = Distribution(m2,pc[pc('A')])\n",
    "d(pc('G'))"
   ]
  },
  {
   "cell_type": "code",
   "execution_count": 22,
   "metadata": {},
   "outputs": [
    {
     "data": {
      "text/plain": [
       "Set{pc} with 4 elements:\n",
       "  pc('B')\n",
       "  pc('G')\n",
       "  pc('A')\n",
       "  pc('D')"
      ]
     },
     "execution_count": 22,
     "metadata": {},
     "output_type": "execute_result"
    }
   ],
   "source": [
    "alphabet(d)"
   ]
  },
  {
   "cell_type": "code",
   "execution_count": 23,
   "metadata": {},
   "outputs": [
    {
     "name": "stdout",
     "output_type": "stream",
     "text": [
      "[0.4333333333333333, 0.4666666666666667, 0.13333333333333333, 0.06666666666666667][1.2064508774674265, 1.0995356735509143, 2.9068905956085187, 3.9068905956085187]"
     ]
    },
    {
     "data": {
      "text/plain": [
       "1.6839568136813485"
      ]
     },
     "execution_count": 23,
     "metadata": {},
     "output_type": "execute_result"
    }
   ],
   "source": [
    "entropy(d)\n",
    "#information_content(pc('G'),[pc('A')],m)"
   ]
  },
  {
   "cell_type": "code",
   "execution_count": 24,
   "metadata": {},
   "outputs": [
    {
     "data": {
      "text/plain": [
       "2.0"
      ]
     },
     "execution_count": 24,
     "metadata": {},
     "output_type": "execute_result"
    }
   ],
   "source": [
    "max_entropy(d)"
   ]
  },
  {
   "cell_type": "code",
   "execution_count": 25,
   "metadata": {},
   "outputs": [
    {
     "data": {
      "text/plain": [
       "1.5849625007211563"
      ]
     },
     "execution_count": 25,
     "metadata": {},
     "output_type": "execute_result"
    }
   ],
   "source": [
    "information_content(pc('G'),[pc('G')],m)"
   ]
  },
  {
   "cell_type": "code",
   "execution_count": 26,
   "metadata": {},
   "outputs": [
    {
     "data": {
      "text/plain": [
       "1.5849625007211563"
      ]
     },
     "execution_count": 26,
     "metadata": {},
     "output_type": "execute_result"
    }
   ],
   "source": [
    "mean_information_content([pc('G'),pc('G')],m)"
   ]
  }
 ],
 "metadata": {
  "kernelspec": {
   "display_name": "Julia 1.6.2",
   "language": "julia",
   "name": "julia-1.6"
  },
  "language_info": {
   "file_extension": ".jl",
   "mimetype": "application/julia",
   "name": "julia",
   "version": "1.6.3"
  }
 },
 "nbformat": 4,
 "nbformat_minor": 4
}
